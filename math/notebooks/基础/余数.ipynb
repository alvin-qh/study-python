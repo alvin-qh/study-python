{
 "cells": [
  {
   "cell_type": "markdown",
   "id": "18ebef7f",
   "metadata": {},
   "source": [
    "# 余数\n",
    "\n",
    "通过计算两个数相除的余数, 在某些情况下可以快速的解决问题, 而无需陷入复杂的计算过程中"
   ]
  },
  {
   "cell_type": "markdown",
   "id": "b4213f9d",
   "metadata": {},
   "source": [
    "## 1. 计算星期数\n",
    "\n",
    "假设今天是星期天, 则 100 天以后是星期几?"
   ]
  },
  {
   "cell_type": "markdown",
   "id": "8aa63a0b",
   "metadata": {},
   "source": [
    "如果今天是星期天 (即星期 `0`), 则 `n` 天以后的星期数为 `n % 7`, 即 `n` 除以 `7` 的余数\n",
    "\n",
    "如果 `n` 是 `100`, 则 $100 \\% 7 = 2$ 表示 `100` 天以后是星期 `2`\n",
    "\n",
    "如果今天是星期 `w` ($0 \\leq w \\leq 6$), 则 `n` 天以后的星期数是 `(w + n) % 7`, 故可以编写如下星期计算函数:"
   ]
  },
  {
   "cell_type": "code",
   "execution_count": 29,
   "id": "1e204f10",
   "metadata": {
    "notebookRunGroups": {
     "groupValue": "2"
    }
   },
   "outputs": [],
   "source": [
    "def next_weekday_from_sunday(days: int, weekday_today: int = 0) -> int:\n",
    "    \"\"\"计算 `days` 天之后是星期几\n",
    "\n",
    "    Args:\n",
    "        `days` (`int`): 天数\n",
    "        `weekday_today` (`int`, optional): 今天是星期几. 默认为 `0`, 表示星期天\n",
    "\n",
    "    Returns:\n",
    "        `int`: 返回 `days` 天之后是星期几\n",
    "    \"\"\"\n",
    "    return (days + weekday_today) % 7"
   ]
  },
  {
   "cell_type": "markdown",
   "id": "cfbbda60",
   "metadata": {},
   "source": [
    "整个函数的计算如下图所示:\n",
    "\n",
    "![X](./.assets/weekday.png)\n",
    "\n",
    "对于 \"今天是星期天, 100 天以后是星期几\" 的计算, 按上图可表示为: 表盘旋转 $100 \\div 7$ 圈后, 指针指向刻度 `2` (余数 `2`)"
   ]
  },
  {
   "cell_type": "code",
   "execution_count": 30,
   "id": "9f2d3702",
   "metadata": {},
   "outputs": [
    {
     "name": "stdout",
     "output_type": "stream",
     "text": [
      "如果当天为星期 0, 则 100 天后为星期 2\n",
      "如果当天为星期 1, 则 100 天后为星期 3\n",
      "如果当天为星期 2, 则 100 天后为星期 4\n",
      "如果当天为星期 3, 则 100 天后为星期 5\n",
      "如果当天为星期 4, 则 100 天后为星期 6\n",
      "如果当天为星期 5, 则 100 天后为星期 0\n",
      "如果当天为星期 6, 则 100 天后为星期 1\n"
     ]
    }
   ],
   "source": [
    "for weekday in [0, 1, 2, 3, 4, 5, 6]:\n",
    "    next_weekday = next_weekday_from_sunday(100, weekday)\n",
    "    print(f\"如果当天为星期 {weekday}, 则 100 天后为星期 {next_weekday}\")"
   ]
  },
  {
   "cell_type": "code",
   "execution_count": 31,
   "id": "3d7770ce",
   "metadata": {},
   "outputs": [
    {
     "name": "stdout",
     "output_type": "stream",
     "text": [
      "如果当天为星期 0, 则 1000 天后为星期 6\n",
      "如果当天为星期 1, 则 1000 天后为星期 0\n",
      "如果当天为星期 2, 则 1000 天后为星期 1\n",
      "如果当天为星期 3, 则 1000 天后为星期 2\n",
      "如果当天为星期 4, 则 1000 天后为星期 3\n",
      "如果当天为星期 5, 则 1000 天后为星期 4\n",
      "如果当天为星期 6, 则 1000 天后为星期 5\n"
     ]
    }
   ],
   "source": [
    "for weekday in [0, 1, 2, 3, 4, 5, 6]:\n",
    "    next_weekday = next_weekday_from_sunday(1000, weekday)\n",
    "    print(f\"如果当天为星期 {weekday}, 则 1000 天后为星期 {next_weekday}\")"
   ]
  },
  {
   "cell_type": "markdown",
   "id": "523cf359",
   "metadata": {},
   "source": [
    "如果要计算一个非常大天数 (例如: $10^{100}$ 天) 后的星期数, 用乘方的形式显然是不行的, 会造成内存溢出\n",
    "\n",
    "$10^{100}$ 数值为 `1` 后面 `100` 个零, 可以从 `1`, `10`, `100`, `1000` 开始计算, 查看规律"
   ]
  },
  {
   "cell_type": "code",
   "execution_count": 32,
   "id": "f6bda4c0",
   "metadata": {},
   "outputs": [
    {
     "name": "stdout",
     "output_type": "stream",
     "text": [
      " 0\t            1 天后的星期数\t            1 % 7 = 1\n",
      " 1\t           10 天后的星期数\t           10 % 7 = 3\n",
      " 2\t          100 天后的星期数\t          100 % 7 = 2\n",
      " 3\t         1000 天后的星期数\t         1000 % 7 = 6\n",
      " 4\t        10000 天后的星期数\t        10000 % 7 = 4\n",
      " 5\t       100000 天后的星期数\t       100000 % 7 = 5\n",
      " 6\t      1000000 天后的星期数\t      1000000 % 7 = 1\n",
      " 7\t     10000000 天后的星期数\t     10000000 % 7 = 3\n",
      " 8\t    100000000 天后的星期数\t    100000000 % 7 = 2\n",
      " 9\t   1000000000 天后的星期数\t   1000000000 % 7 = 6\n",
      "10\t  10000000000 天后的星期数\t  10000000000 % 7 = 4\n",
      "11\t 100000000000 天后的星期数\t 100000000000 % 7 = 5\n",
      "12\t1000000000000 天后的星期数\t1000000000000 % 7 = 1\n"
     ]
    }
   ],
   "source": [
    "base = 1\n",
    "z_count = 0\n",
    "\n",
    "while base <= 1000000000000:\n",
    "    next_weekday = next_weekday_from_sunday(base)\n",
    "    print(f\"{z_count:>2}\\t{base:>13} 天后的星期数\\t{base:>13} % 7 = {next_weekday}\")\n",
    "\n",
    "    base *= 10\n",
    "    z_count += 1"
   ]
  },
  {
   "cell_type": "markdown",
   "id": "99ef9dbd",
   "metadata": {},
   "source": [
    "从中可发现规律, 随着天数中 `0` 的增加, 余数代笔的星期数会以 `1`, `3`, `2`, `6`, `4` 的顺序循环, 注意没有星期天, 即这类 $10^n$ 表示的天数不会产生星期天\n",
    "\n",
    "即天数每增加 `6` 个 `0`, 星期数就开始一轮新的循环, 即周期为 `6`, 故可以编写如下星期计算函数"
   ]
  },
  {
   "cell_type": "code",
   "execution_count": 33,
   "id": "879cc272",
   "metadata": {},
   "outputs": [],
   "source": [
    "weekdays_map = {\n",
    "    0: 1,\n",
    "    1: 3,\n",
    "    2: 2,\n",
    "    3: 6,\n",
    "    4: 4,\n",
    "    5: 5,\n",
    "}\n",
    "\n",
    "\n",
    "def next_weekday_after_big_days(days: str, weekday_today: int = 0) -> int:\n",
    "    z_count = len(days) - len(days.rstrip(\"0\"))\n",
    "    return weekdays_map[z_count % 6]"
   ]
  },
  {
   "cell_type": "markdown",
   "id": "e04d2c10",
   "metadata": {},
   "source": [
    "通过此函数计算 $10^{100}$ 天后的星期数, 即 `1` 后面共有 `100` 个 `0`, 结果为:"
   ]
  },
  {
   "cell_type": "code",
   "execution_count": 34,
   "id": "185903de",
   "metadata": {},
   "outputs": [
    {
     "name": "stdout",
     "output_type": "stream",
     "text": [
      "如果当前是星期天, 则 10 ** 100 天后是星期 4\n"
     ]
    }
   ],
   "source": [
    "next_weekday = next_weekday_after_big_days(f\"1{\"0\" * 100}\")\n",
    "print(f\"如果当前是星期天, 则 10 ** 100 天后是星期 {next_weekday}\")"
   ]
  },
  {
   "cell_type": "markdown",
   "id": "bf7e1501",
   "metadata": {},
   "source": [
    "## 2. 乘方\n",
    "\n",
    "尝试计算 $1234567 ^ {987654321}$ 结果的个位数\n",
    "\n",
    "观察算式可以发现由于位数过多, 整个计算过程并不容易, 例如:"
   ]
  },
  {
   "cell_type": "code",
   "execution_count": 35,
   "id": "3bd328ed",
   "metadata": {},
   "outputs": [
    {
     "name": "stdout",
     "output_type": "stream",
     "text": [
      "1234567 ^ 1 = 1234567\n",
      "1234567 ^ 2 = 1524155677489\n",
      "1234567 ^ 3 = 1881672302290562263\n",
      "1234567 ^ 4 = 2323050529221952581345121\n",
      "1234567 ^ 5 = 2867961522709958332493501997607\n",
      "1234567 ^ 6 = 3540690653207465128671505280679681169\n"
     ]
    }
   ],
   "source": [
    "N = 1234567\n",
    "\n",
    "print(f\"{N} ^ 1 = {N ** 1}\")\n",
    "print(f\"{N} ^ 2 = {N ** 2}\")\n",
    "print(f\"{N} ^ 3 = {N ** 3}\")\n",
    "print(f\"{N} ^ 4 = {N ** 4}\")\n",
    "print(f\"{N} ^ 5 = {N ** 5}\")\n",
    "print(f\"{N} ^ 6 = {N ** 6}\")"
   ]
  },
  {
   "cell_type": "markdown",
   "id": "8a18df58",
   "metadata": {},
   "source": [
    "可以看到, 当指数达到 `6` 的时候, 结果数值已经非常大, 如果要计算 `987654321` 次方几乎无法完成\n",
    "\n",
    "但如果只需要计算 $1234567 ^ {987654321}$ 结果的个位数, 则可以通过寻找如下规律"
   ]
  },
  {
   "cell_type": "code",
   "execution_count": 36,
   "id": "35d68fe3",
   "metadata": {},
   "outputs": [
    {
     "name": "stdout",
     "output_type": "stream",
     "text": [
      "1234567 ^  0 的个位数为 1\n",
      "1234567 ^  1 的个位数为 7\n",
      "1234567 ^  2 的个位数为 9\n",
      "1234567 ^  3 的个位数为 3\n",
      "1234567 ^  4 的个位数为 1\n",
      "1234567 ^  5 的个位数为 7\n",
      "1234567 ^  6 的个位数为 9\n",
      "1234567 ^  7 的个位数为 3\n",
      "1234567 ^  8 的个位数为 1\n",
      "1234567 ^  9 的个位数为 7\n",
      "1234567 ^ 10 的个位数为 9\n",
      "1234567 ^ 11 的个位数为 3\n"
     ]
    }
   ],
   "source": [
    "N = 1234567\n",
    "\n",
    "for n in range(0, 12):\n",
    "    print(f\"{N} ^ {n:>2} 的个位数为 {N ** n % 10}\")"
   ]
  },
  {
   "cell_type": "markdown",
   "id": "802b5927",
   "metadata": {},
   "source": [
    "可以发现规律为 `1`, `7`, `9`, `3` 的循环, 周期为 `4`, 故可通过指数 $7654321 \\% 4 = 1$, 对应周期为数值为 `7` 推断, $1234567 ^ {7654321}$ 结果的个位数为 `7`"
   ]
  },
  {
   "cell_type": "code",
   "execution_count": 37,
   "id": "aefd8891",
   "metadata": {},
   "outputs": [
    {
     "name": "stdout",
     "output_type": "stream",
     "text": [
      "1234567 ^ 7654321 的结果的个位数是: 7\n"
     ]
    }
   ],
   "source": [
    "P = 7654321\n",
    "M = {0: 1, 1: 7, 2: 9, 3: 3}  # 定义周期和计算结果的映射关系\n",
    "\n",
    "print(f\"{N} ^ {P} 的结果的个位数是: {M[P % 4]}\")"
   ]
  },
  {
   "cell_type": "markdown",
   "id": "41c0b262",
   "metadata": {},
   "source": [
    "也就是说, 对于具备周期性规律的数值计算, 均可以通过求余数的方式进行求解"
   ]
  },
  {
   "cell_type": "markdown",
   "id": "220c20f9",
   "metadata": {},
   "source": [
    "## 3. 奇偶校验\n",
    "\n",
    "魔术师和他的徒弟在台上表演, 下面有 3 位观众, 魔术师双眼被蒙住\n",
    "\n",
    "(1) 桌上随机排列着 7 枚黑白棋的棋子 (即一面为 \"黑色\", 一面为 \"白色\"), 魔术师蒙着眼睛, 看不到棋子\n",
    "\n",
    "![X](./.assets/chess-bw-1.png)\n",
    "\n",
    "(2) 魔术师的徒弟在看完这 7 枚棋子后, 右往右面添加了 1 枚棋子, 与其它棋子并列. 这时共有 8 枚棋子, 魔术师依然蒙着眼睛\n",
    "\n",
    "![X](./.assets/chess-bw-2.png)\n",
    "\n",
    "(3) 此时观众可将其中 1 枚棋子翻转, 或不翻转任何棋子, 此间观众和徒弟不发一言, 魔术师仍蒙着眼睛, 并不知道观众是否翻转了棋子\n",
    "\n",
    "![X](./.assets/chess-bw-3.png)\n",
    "\n",
    "(4) 魔术师摘下眼罩, 观察全部 8 枚棋子, 然后马上就能说出 \"观众翻转了棋子\" 或 \"没有翻转棋子\", 识破观众的行为\n",
    "\n",
    "\n",
    "那么魔术师是如何识破观众行为的呢?\n",
    "\n",
    "魔术师识别观众行为的关键在于 \"助手放入的第 8 枚棋子\", 其摆放规则为:\n",
    "\n",
    "1. 如果前 7 枚棋子中 \"黑色\" 棋子的个数是奇数, 则第 8 枚棋子添加 \"黑棋\"\n",
    "2. 如果前 7 枚棋子中 \"黑色\" 棋子的个数是偶数, 则第 8 枚棋子添加 \"白棋\"\n",
    "\n",
    "如此以来, 整个 8 枚棋子中, \"黑色\" 棋子必为 \"偶数\" 个\n",
    "\n",
    "而观众则会进行如下行为:\n",
    "\n",
    "1. 翻转一枚 \"白色\" 棋子, 将其变为 \"黑色\", 此时整个 8 枚棋子中, \"黑色\" 棋子增加 1 枚, 变为 \"奇数\" 个\n",
    "2. 翻转一枚 \"黑色\" 棋子, 将其变为 \"白色\", 此时整个 8 枚棋子中, \"黑色\" 棋子减少 1 枚, 变为 \"偶数\" 个\n",
    "3. 不进行翻转, 则整个 8 枚棋子中, \"黑色\" 棋子不变, 仍然为 \"偶数\" 个\n",
    "\n",
    "所以, 魔术师和徒弟通过第 8 枚棋子完成了交流, 使魔术师可以识别观众的行为, 该枚棋子用于对前 7 枚棋子的摆放情况进行 \"校验\"\n",
    "\n",
    "\n",
    "对黑白棋魔术进行引申, 即可得到通用的奇偶校验逻辑:\n",
    "\n",
    "1. 对一个字节的所有二进制位值为 `1` 的位数进行统计\n",
    "2. 如果所有二进制位 `1` 的位数为偶数个, 则校验位为 `0`\n",
    "3. 如果所有二进制位 `1` 的位数为奇数个, 则校验位为 `1`\n",
    "\n",
    "由此可得到如下奇偶校验函数"
   ]
  },
  {
   "cell_type": "code",
   "execution_count": 38,
   "id": "ccf551db",
   "metadata": {},
   "outputs": [],
   "source": [
    "def parity_check_encode(byte: int) -> int:\n",
    "    \"\"\"计算一个字节的奇偶校验位\n",
    "\n",
    "    Args:\n",
    "        `byte` (`int`): 长度为 1 字节的整数\n",
    "\n",
    "    Returns:\n",
    "        `int`: 奇偶校验位, `1` 表示偶数, `0` 表示奇数\n",
    "    \"\"\"\n",
    "    count = 0\n",
    "\n",
    "    while byte != 0:\n",
    "        count += byte & 0x1\n",
    "        byte >>= 1\n",
    "\n",
    "    return 0 if count % 2 == 0 else 1"
   ]
  },
  {
   "cell_type": "markdown",
   "id": "03c07f38",
   "metadata": {},
   "source": [
    "利用上述函数, 即可对任意字节进行奇偶校验计算, 得出校验位 (即魔术中由助手放置的最后一枚棋子)\n",
    "\n",
    "通过对现有数据计算奇偶校验位, 可以用来检验数据是否被修改, 即数据的某个二进制位因为某些原因出现错误, 则可通过其奇偶校验位进行检查"
   ]
  },
  {
   "cell_type": "code",
   "execution_count": 39,
   "id": "b78d8cfe",
   "metadata": {},
   "outputs": [
    {
     "name": "stdout",
     "output_type": "stream",
     "text": [
      "原始字节 0x7A(1111010) 的校验位为: 1\n",
      "修改后字节 0x7B(1111011) 的校验位为: 0, 表示有一个二进制位被改动\n",
      "修改后字节 0x7A(1111010) 的校验位为: 1, 表示没有数据被改动\n"
     ]
    }
   ],
   "source": [
    "N1 = 0x7A  # 待校验字节\n",
    "\n",
    "c1 = parity_check_encode(N1)  # 计算奇偶校验位\n",
    "print(f\"原始字节 0x{N1:X}({N1:b}) 的校验位为: {c1}\")\n",
    "\n",
    "N2 = N1 | 0x1\n",
    "\n",
    "c2 = parity_check_encode(N2)  # 计算奇偶校验位\n",
    "print(f\"修改后字节 0x{N2:X}({N2:b}) 的校验位为: {c2}, 表示有一个二进制位被改动\")\n",
    "\n",
    "N3 = N1 | 0x2\n",
    "\n",
    "c3 = parity_check_encode(N3)  # 计算奇偶校验位\n",
    "print(f\"修改后字节 0x{N3:X}({N3:b}) 的校验位为: {c3}, 表示没有数据被改动\")"
   ]
  },
  {
   "cell_type": "markdown",
   "id": "730c75d9",
   "metadata": {},
   "source": [
    "借助一个字节的奇偶校验函数 (`parity_check_encode`), 可以对任意数据进行二进制校验"
   ]
  },
  {
   "cell_type": "code",
   "execution_count": 40,
   "id": "c732b466",
   "metadata": {},
   "outputs": [],
   "source": [
    "def parity_check_encode_bytes(data: bytes) -> int:\n",
    "    \"\"\"对字节数据进行奇偶校验\n",
    "\n",
    "    Args:\n",
    "        `data` (`bytes`): 要进行奇偶校验的字节数据\n",
    "\n",
    "    Returns:\n",
    "        `int`: 奇偶校验位, `1` 表示偶数, `0` 表示奇数\n",
    "    \"\"\"\n",
    "    return 1 if all((parity_check_encode(n) for n in data)) else 0"
   ]
  },
  {
   "cell_type": "markdown",
   "id": "36d37076",
   "metadata": {},
   "source": [
    "通过 `parity_check_encode_bytes` 函数, 即可对任意数据进行奇偶校验计算"
   ]
  },
  {
   "cell_type": "code",
   "execution_count": 41,
   "id": "19583660",
   "metadata": {},
   "outputs": [
    {
     "name": "stdout",
     "output_type": "stream",
     "text": [
      "b'Hello World' 的奇偶校验码为: 0\n",
      "b'\\x07[\\xcd\\x15' 的奇偶校验码为: 1\n"
     ]
    }
   ],
   "source": [
    "data = b\"Hello World\"\n",
    "c = parity_check_encode_bytes(data)\n",
    "print(f\"{data} 的奇偶校验码为: {c}\")\n",
    "\n",
    "data = int.to_bytes(123456789, 4)\n",
    "c = parity_check_encode_bytes(data)\n",
    "print(f\"{data} 的奇偶校验码为: {c}\")"
   ]
  }
 ],
 "metadata": {
  "kernelspec": {
   "display_name": ".venv",
   "language": "python",
   "name": "python3"
  },
  "language_info": {
   "codemirror_mode": {
    "name": "ipython",
    "version": 3
   },
   "file_extension": ".py",
   "mimetype": "text/x-python",
   "name": "python",
   "nbconvert_exporter": "python",
   "pygments_lexer": "ipython3",
   "version": "3.13.5"
  }
 },
 "nbformat": 4,
 "nbformat_minor": 5
}
