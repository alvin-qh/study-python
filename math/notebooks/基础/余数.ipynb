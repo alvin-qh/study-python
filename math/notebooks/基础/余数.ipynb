{
 "cells": [
  {
   "cell_type": "markdown",
   "id": "18ebef7f",
   "metadata": {},
   "source": [
    "# 余数"
   ]
  },
  {
   "cell_type": "markdown",
   "id": "b4213f9d",
   "metadata": {},
   "source": [
    "## 1. 计算星期数\n",
    "\n",
    "假设今天是星期天, 则 100 天以后是星期几?"
   ]
  },
  {
   "cell_type": "markdown",
   "id": "8aa63a0b",
   "metadata": {},
   "source": [
    "如果今天是星期天 (即星期 `0`), 则 `n` 天以后的星期数为 `n % 7`, 即 `n` 除以 `7` 的余数\n",
    "\n",
    "如果 `n` 是 `100`, 则 $100 \\% 7 = 2$ 表示 `100` 天以后是星期 `2`\n",
    "\n",
    "如果今天是星期 `w` ($0 \\leq w \\leq 6$), 则 `n` 天以后的星期数是 `(w + n) % 7`, 故可以编写如下星期计算函数:"
   ]
  },
  {
   "cell_type": "code",
   "execution_count": 98,
   "id": "1e204f10",
   "metadata": {},
   "outputs": [],
   "source": [
    "def next_weekday_from_sunday(days: int, weekday_today: int = 0) -> int:\n",
    "    return (days + weekday_today) % 7"
   ]
  },
  {
   "cell_type": "markdown",
   "id": "cfbbda60",
   "metadata": {},
   "source": [
    "整个函数的计算如下图所示:\n",
    "\n",
    "![X](./.assets/weekday.png)\n",
    "\n",
    "对于 \"今天是星期天, 100 天以后是星期几\" 的计算, 按上图可表示为: 表盘旋转 $100 \\div 7$ 圈后, 指针指向刻度 `2` (余数 `2`)"
   ]
  },
  {
   "cell_type": "code",
   "execution_count": 99,
   "id": "9f2d3702",
   "metadata": {},
   "outputs": [
    {
     "name": "stdout",
     "output_type": "stream",
     "text": [
      "如果当天为星期 0, 则 100 天后为星期 2\n",
      "如果当天为星期 1, 则 100 天后为星期 3\n",
      "如果当天为星期 2, 则 100 天后为星期 4\n",
      "如果当天为星期 3, 则 100 天后为星期 5\n",
      "如果当天为星期 4, 则 100 天后为星期 6\n",
      "如果当天为星期 5, 则 100 天后为星期 0\n",
      "如果当天为星期 6, 则 100 天后为星期 1\n"
     ]
    }
   ],
   "source": [
    "for weekday in [0, 1, 2, 3, 4, 5, 6]:\n",
    "    print(\n",
    "        f\"如果当天为星期 {weekday}, 则 100 天后为星期 {next_weekday_from_sunday(100, weekday)}\"\n",
    "    )"
   ]
  },
  {
   "cell_type": "code",
   "execution_count": 100,
   "id": "3d7770ce",
   "metadata": {},
   "outputs": [
    {
     "name": "stdout",
     "output_type": "stream",
     "text": [
      "如果当天为星期 0, 则 1000 天后为星期 6\n",
      "如果当天为星期 1, 则 1000 天后为星期 0\n",
      "如果当天为星期 2, 则 1000 天后为星期 1\n",
      "如果当天为星期 3, 则 1000 天后为星期 2\n",
      "如果当天为星期 4, 则 1000 天后为星期 3\n",
      "如果当天为星期 5, 则 1000 天后为星期 4\n",
      "如果当天为星期 6, 则 1000 天后为星期 5\n"
     ]
    }
   ],
   "source": [
    "for weekday in [0, 1, 2, 3, 4, 5, 6]:\n",
    "    print(\n",
    "        f\"如果当天为星期 {weekday}, 则 1000 天后为星期 {next_weekday_from_sunday(1000, weekday)}\"\n",
    "    )"
   ]
  },
  {
   "cell_type": "markdown",
   "id": "523cf359",
   "metadata": {},
   "source": [
    "如果要计算一个非常大天数 (例如: $10^{100}$ 天) 后的星期数, 用乘方的形式显然是不行的, 会造成内存溢出\n",
    "\n",
    "$10^{100}$ 数值为 `1` 后面 `100` 个零, 可以从 `1`, `10`, `100`, `1000` 开始计算, 查看规律"
   ]
  },
  {
   "cell_type": "code",
   "execution_count": 101,
   "id": "f6bda4c0",
   "metadata": {},
   "outputs": [
    {
     "name": "stdout",
     "output_type": "stream",
     "text": [
      " 0\t            1 天后的星期数\t            1 % 7 = 1\n",
      " 1\t           10 天后的星期数\t           10 % 7 = 3\n",
      " 2\t          100 天后的星期数\t          100 % 7 = 2\n",
      " 3\t         1000 天后的星期数\t         1000 % 7 = 6\n",
      " 4\t        10000 天后的星期数\t        10000 % 7 = 4\n",
      " 5\t       100000 天后的星期数\t       100000 % 7 = 5\n",
      " 6\t      1000000 天后的星期数\t      1000000 % 7 = 1\n",
      " 7\t     10000000 天后的星期数\t     10000000 % 7 = 3\n",
      " 8\t    100000000 天后的星期数\t    100000000 % 7 = 2\n",
      " 9\t   1000000000 天后的星期数\t   1000000000 % 7 = 6\n",
      "10\t  10000000000 天后的星期数\t  10000000000 % 7 = 4\n",
      "11\t 100000000000 天后的星期数\t 100000000000 % 7 = 5\n",
      "12\t1000000000000 天后的星期数\t1000000000000 % 7 = 1\n"
     ]
    }
   ],
   "source": [
    "base = 1\n",
    "z_count = 0\n",
    "\n",
    "while base <= 1000000000000:\n",
    "    print(\n",
    "        f\"{z_count:>2}\\t{base:>13} 天后的星期数\\t{base:>13} % 7 = {next_weekday_from_sunday(base)}\"\n",
    "    )\n",
    "    base *= 10\n",
    "    z_count += 1"
   ]
  },
  {
   "cell_type": "markdown",
   "id": "99ef9dbd",
   "metadata": {},
   "source": [
    "从中可发现规律, 随着天数中 `0` 的增加, 余数代笔的星期数会以 `1`, `3`, `2`, `6`, `4` 的顺序循环, 注意没有星期天, 即这类 $10^n$ 表示的天数不会产生星期天\n",
    "\n",
    "即天数每增加 `6` 个 `0`, 星期数就开始一轮新的循环, 即周期为 `6`, 故可以编写如下星期计算函数"
   ]
  },
  {
   "cell_type": "code",
   "execution_count": 102,
   "id": "879cc272",
   "metadata": {},
   "outputs": [],
   "source": [
    "weekdays_map = {\n",
    "    0: 1,\n",
    "    1: 3,\n",
    "    2: 2,\n",
    "    3: 6,\n",
    "    4: 4,\n",
    "    5: 5,\n",
    "}\n",
    "\n",
    "\n",
    "def next_weekday_after_big_days(days: str, weekday_today: int = 0) -> int:\n",
    "    z_count = len(days) - len(days.rstrip(\"0\"))\n",
    "    return weekdays_map[z_count % 6]"
   ]
  },
  {
   "cell_type": "markdown",
   "id": "e04d2c10",
   "metadata": {},
   "source": [
    "通过此函数计算 $10^{100}$ 天后的星期数, 即 `1` 后面共有 `100` 个 `0`, 结果为:"
   ]
  },
  {
   "cell_type": "code",
   "execution_count": 103,
   "id": "185903de",
   "metadata": {},
   "outputs": [
    {
     "name": "stdout",
     "output_type": "stream",
     "text": [
      "如果当前是星期天, 则 10 ** 100 天后是星期 4\n"
     ]
    }
   ],
   "source": [
    "print(f\"如果当前是星期天, 则 10 ** 100 天后是星期 {next_weekday_after_big_days(f\"1{\"0\" * 100}\")}\")"
   ]
  }
 ],
 "metadata": {
  "kernelspec": {
   "display_name": ".venv",
   "language": "python",
   "name": "python3"
  },
  "language_info": {
   "codemirror_mode": {
    "name": "ipython",
    "version": 3
   },
   "file_extension": ".py",
   "mimetype": "text/x-python",
   "name": "python",
   "nbconvert_exporter": "python",
   "pygments_lexer": "ipython3",
   "version": "3.13.5"
  }
 },
 "nbformat": 4,
 "nbformat_minor": 5
}
