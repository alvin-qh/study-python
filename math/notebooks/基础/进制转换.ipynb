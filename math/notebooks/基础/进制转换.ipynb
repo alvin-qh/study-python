{
 "cells": [
  {
   "cell_type": "markdown",
   "id": "5097a695",
   "metadata": {},
   "source": [
    "# 进制转换"
   ]
  },
  {
   "cell_type": "markdown",
   "id": "bae06525",
   "metadata": {},
   "source": [
    "# 1. 进制间转换"
   ]
  },
  {
   "cell_type": "markdown",
   "id": "a4f6643d",
   "metadata": {},
   "source": [
    "**进制**, 也称为 **进位计数制**, 英文表示为 **Number System**\n",
    "\n",
    "进制表示一个数字的每一位可以使用的符号总数, 称为 **基数** (或 **底数**), 英文表示为 **Radix** (或 **Base**), 例如:\n",
    "\n",
    "- 16 进制: 0-9, A-F\n",
    "- 10 进制: 0-9\n",
    "- 8 进制: 0-7\n",
    "- 2 进制: 0-1\n",
    "\n",
    "理论上, 一个数值可以用任意进制表示, 并可在不同进制之间相互转换, 进制转换只是改变了一个数值的表示方式, 并不改变其值\n",
    "\n",
    "计算机通过 2 进制存储数值, 这是因为计算机只能通过 `0` 或 `1` 两个符号存储数值, 但大部分编程语言都支持多种进制的字面量值 (例如: 0b1001, 0xF, 0o17, 100 等), 这是由于该语言本身的编译器 (或解释器) 可以自动将这些字面量值转换为 2 进制表示\n",
    "\n",
    "进制的转换包括如下计算方法:"
   ]
  },
  {
   "cell_type": "markdown",
   "id": "c67d3a49",
   "metadata": {},
   "source": [
    "## 1.1. N 进制转换为 10 进制"
   ]
  },
  {
   "cell_type": "code",
   "execution_count": null,
   "id": "094f5126",
   "metadata": {},
   "outputs": [
    {
     "name": "stdout",
     "output_type": "stream",
     "text": [
      "Convert 127 in base 10 to base 2 is 1111111\n",
      "Convert 1111111 in base 2 to base 10 is 127\n",
      "Convert 127 in base 10 to base 3 is 11201\n",
      "Convert 11201 in base 3 to base 10 is 127\n",
      "Convert 127 in base 10 to base 8 is 177\n",
      "Convert 177 in base 8 to base 10 is 127\n",
      "Convert 127 in base 10 to base 12 is A7\n",
      "Convert A7 in base 12 to base 10 is 127\n",
      "Convert 127 in base 10 to base 16 is 7F\n",
      "Convert 7F in base 16 to base 10 is 127\n"
     ]
    }
   ],
   "source": [
    "NUM_SYSTEM = [\n",
    "    \"0\",\n",
    "    \"1\",\n",
    "    \"2\",\n",
    "    \"3\",\n",
    "    \"4\",\n",
    "    \"5\",\n",
    "    \"6\",\n",
    "    \"7\",\n",
    "    \"8\",\n",
    "    \"9\",\n",
    "    \"A\",\n",
    "    \"B\",\n",
    "    \"C\",\n",
    "    \"D\",\n",
    "    \"E\",\n",
    "    \"F\",\n",
    "]\n",
    "\n",
    "NUM_MAP = {\n",
    "    \"0\": 0,\n",
    "    \"1\": 1,\n",
    "    \"2\": 2,\n",
    "    \"3\": 3,\n",
    "    \"4\": 4,\n",
    "    \"5\": 5,\n",
    "    \"6\": 6,\n",
    "    \"7\": 7,\n",
    "    \"8\": 8,\n",
    "    \"9\": 9,\n",
    "    \"A\": 10,\n",
    "    \"B\": 11,\n",
    "    \"C\": 12,\n",
    "    \"D\": 13,\n",
    "    \"E\": 14,\n",
    "    \"F\": 15,\n",
    "}\n",
    "\n",
    "\n",
    "def num_system_conversion(num: str, from_base: int, to_base: int) -> str:\n",
    "    \"\"\"_summary_\n",
    "\n",
    "    Returns:\n",
    "        _type_: _description_\n",
    "    \"\"\"\n",
    "    if from_base == to_base:\n",
    "        return num\n",
    "\n",
    "    # 将所给字符串表示的数值按其进制转为 10 进制\n",
    "    num_val = sum(int(NUM_MAP[c]) * (from_base**i) for i, c in enumerate(num[::-1]))\n",
    "\n",
    "    # 将 10 进制的数值转为目标进制数值\n",
    "    result: list[str] = []\n",
    "    while num_val:\n",
    "        result.append(NUM_SYSTEM[num_val % to_base])\n",
    "        num_val //= to_base\n",
    "\n",
    "    return \"\".join(result[::-1])\n",
    "\n",
    "\n",
    "N = [\n",
    "    (\"127\", 10, 2),\n",
    "    (\"1111111\", 2, 10),\n",
    "    (\"127\", 10, 3),\n",
    "    (\"11201\", 3, 10),\n",
    "    (\"127\", 10, 8),\n",
    "    (\"177\", 8, 10),\n",
    "    (\"127\", 10, 12),\n",
    "    (\"A7\", 12, 10),\n",
    "    (\"127\", 10, 16),\n",
    "    (\"7F\", 16, 10),\n",
    "]\n",
    "\n",
    "for args in N:\n",
    "    print(\n",
    "        f\"Convert {args[0]} in base {args[1]} to base {args[2]} is {num_system_conversion(*args)}\"\n",
    "    )"
   ]
  }
 ],
 "metadata": {
  "kernelspec": {
   "display_name": ".venv",
   "language": "python",
   "name": "python3"
  },
  "language_info": {
   "codemirror_mode": {
    "name": "ipython",
    "version": 3
   },
   "file_extension": ".py",
   "mimetype": "text/x-python",
   "name": "python",
   "nbconvert_exporter": "python",
   "pygments_lexer": "ipython3",
   "version": "3.13.5"
  }
 },
 "nbformat": 4,
 "nbformat_minor": 5
}
