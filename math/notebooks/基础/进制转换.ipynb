{
 "cells": [
  {
   "cell_type": "markdown",
   "id": "5097a695",
   "metadata": {},
   "source": [
    "# 进制转换"
   ]
  },
  {
   "cell_type": "markdown",
   "id": "bae06525",
   "metadata": {},
   "source": [
    "# 1. 进制间转换"
   ]
  },
  {
   "cell_type": "markdown",
   "id": "a4f6643d",
   "metadata": {},
   "source": [
    "**进制**, 也称为 **进位计数制**, 英文表示为 **Number System**\n",
    "\n",
    "进制表示一个数字的每一位可以使用的符号总数, 称为 **基数** (或 **底数**), 英文表示为 **Radix** (或 **Base**), 例如:\n",
    "\n",
    "- 16 进制: 0-9, A-F\n",
    "- 10 进制: 0-9\n",
    "- 8 进制: 0-7\n",
    "- 2 进制: 0-1\n",
    "\n",
    "理论上, 一个数值可以用任意进制表示, 并可在不同进制之间相互转换, 进制转换只是改变了一个数值的表示方式, 并不改变其值\n",
    "\n",
    "计算机通过 2 进制存储数值, 这是因为计算机只能通过 `0` 或 `1` 两个符号存储数值, 但大部分编程语言都支持多种进制的字面量值 (例如: `0b1001`, `0xF`, `0o17`, `100` 等), 这是由于该语言本身的编译器 (或解释器) 可以自动将这些字面量值转换为 2 进制表示\n",
    "\n",
    "进制的转换包括如下计算方法:"
   ]
  },
  {
   "cell_type": "markdown",
   "id": "c67d3a49",
   "metadata": {},
   "source": [
    "## 1.1. N 进制转换为 10 进制\n",
    "\n",
    "`N` 进制数字转 10 进制数字的方法称为按位乘方法, 方法如下:\n",
    "\n",
    "1. 假设 `N` 进制数字 `d` 共有 `n` 位数;\n",
    "2. 自左向右, 对于每个数字位数 `i`, 将数字 `d` 的每一位数乘以 `N` 的 `i - 1` 次方, 并将每位的计算结果求和;\n",
    "\n",
    "该算法的计算公式可描述为:\n",
    "\n",
    "$$\\sum_{i=n-1}^{0} d_{i}N^i$$\n",
    "\n",
    "例如:\n",
    "\n",
    "- 16 进制数字 `7AF` 转换为 10 进制数字为: $7\\times16^2+15\\times16^1+10\\times16^0=7\\times4096+15\\times256+16=16383$\n",
    "- 8 进制数字 `123` 转换为 10 进制数字为: $1\\times8^2+2\\times8^1+3\\times8^0=8+16+24=39$\n",
    "- 2 进制数字 `1010` 转换为 10 进制数字为: $1\\times2^3+0\\times2^2+1\\times2^1+0\\times2^0=8+2=10$\n",
    "\n",
    "## 1.2. 10 进制转换为 N 进制\n",
    "\n",
    "将 10 进制数字转为 `N` 进制 (`N` 为任意进制) 的方法称为按位除法方法, 方法如下:\n",
    "1. 假设 10 进制数字 `d` 为 `n` 位数;\n",
    "2. 计算数字 `d` 除以 `N` 的余数;\n",
    "3. 令数字 `d` 为其整除 `N` 的结果;\n",
    "4. 不断重复上述 2, 3 步骤, 直到 `d` 的值为 0;\n",
    "5. 将所得的所有余数按计算顺序的相反顺序组合, 即为所需的 `N` 进制数字;\n",
    "\n",
    "例如:\n",
    "\n",
    "- 10 进制数字 `127` 转换为 16 进制数字的过程如下:\n",
    "  - $127 | 16 = 7 \\text{ 余 } 15 {(F)}$\n",
    "  - $7 | 16 = 0 \\text{ 余 } 7$\n",
    "  - 整除结果为 `0` 表示计算结束, 将每一步余数反向组合后, 得到结果为: $7F$"
   ]
  },
  {
   "cell_type": "code",
   "execution_count": 1,
   "id": "094f5126",
   "metadata": {},
   "outputs": [
    {
     "name": "stdout",
     "output_type": "stream",
     "text": [
      "将数字 127 从 10 进制转为 2 进制为: 1111111\n",
      "将数字 1111111 从 2 进制转为 10 进制为: 127\n",
      "将数字 127 从 10 进制转为 3 进制为: 11201\n",
      "将数字 11201 从 3 进制转为 10 进制为: 127\n",
      "将数字 127 从 10 进制转为 8 进制为: 177\n",
      "将数字 177 从 8 进制转为 10 进制为: 127\n",
      "将数字 127 从 10 进制转为 12 进制为: A7\n",
      "将数字 A7 从 12 进制转为 10 进制为: 127\n",
      "将数字 127 从 10 进制转为 16 进制为: 7F\n",
      "将数字 7F 从 16 进制转为 10 进制为: 127\n"
     ]
    }
   ],
   "source": [
    "# 0~15 的数字表示\n",
    "NUM_SYSTEM = [\n",
    "    \"0\",\n",
    "    \"1\",\n",
    "    \"2\",\n",
    "    \"3\",\n",
    "    \"4\",\n",
    "    \"5\",\n",
    "    \"6\",\n",
    "    \"7\",\n",
    "    \"8\",\n",
    "    \"9\",\n",
    "    \"A\",\n",
    "    \"B\",\n",
    "    \"C\",\n",
    "    \"D\",\n",
    "    \"E\",\n",
    "    \"F\",\n",
    "]\n",
    "\n",
    "# 0~15 的 16 进制数字表示的 10 进制数字\n",
    "NUM_MAP = {\n",
    "    \"0\": 0,\n",
    "    \"1\": 1,\n",
    "    \"2\": 2,\n",
    "    \"3\": 3,\n",
    "    \"4\": 4,\n",
    "    \"5\": 5,\n",
    "    \"6\": 6,\n",
    "    \"7\": 7,\n",
    "    \"8\": 8,\n",
    "    \"9\": 9,\n",
    "    \"A\": 10,\n",
    "    \"B\": 11,\n",
    "    \"C\": 12,\n",
    "    \"D\": 13,\n",
    "    \"E\": 14,\n",
    "    \"F\": 15,\n",
    "}\n",
    "\n",
    "\n",
    "def num_system_conversion(num: str, from_base: int, to_base: int) -> str:\n",
    "    \"\"\"将数字从一种进制转为另一种进制\n",
    "\n",
    "    本函数通过将任意进制数字转为 10 进制数字, 在进一步转为另一种进制\n",
    "\n",
    "    Args:\n",
    "        `num` (`str`): 要转换的数字, 用字符串表示\n",
    "        `from_base` (`int`): `num` 参数的进制\n",
    "        `to_base` (`int`): 要转换结果数字的进制\n",
    "\n",
    "    Returns:\n",
    "        `str`: 转换结果\n",
    "    \"\"\"\n",
    "    if from_base == to_base:\n",
    "        return num\n",
    "\n",
    "    # 将所给字符串表示的数值按其进制转为 10 进制\n",
    "    num_val = sum(int(NUM_MAP[c]) * (from_base**i) for i, c in enumerate(num[::-1]))\n",
    "\n",
    "    # 将 10 进制的数值转为目标进制数值\n",
    "    result: list[str] = []\n",
    "    while num_val:\n",
    "        result.append(NUM_SYSTEM[num_val % to_base])\n",
    "        num_val //= to_base\n",
    "\n",
    "    return \"\".join(result[::-1])\n",
    "\n",
    "\n",
    "# 测试用例, 每一项内容如下: `(数字, 源进制, 目标进制)`\n",
    "N = [\n",
    "    (\"127\", 10, 2),\n",
    "    (\"1111111\", 2, 10),\n",
    "    (\"127\", 10, 3),\n",
    "    (\"11201\", 3, 10),\n",
    "    (\"127\", 10, 8),\n",
    "    (\"177\", 8, 10),\n",
    "    (\"127\", 10, 12),\n",
    "    (\"A7\", 12, 10),\n",
    "    (\"127\", 10, 16),\n",
    "    (\"7F\", 16, 10),\n",
    "]\n",
    "\n",
    "# 执行测试用例\n",
    "for args in N:\n",
    "    print(\n",
    "        f\"将数字 {args[0]} 从 {args[1]} 进制转为 {args[2]} 进制为: {num_system_conversion(*args)}\"\n",
    "    )"
   ]
  },
  {
   "cell_type": "markdown",
   "id": "8701914f",
   "metadata": {},
   "source": [
    "## 1.3. 1 ~ 100 内 10 进制 16 进制数字对应表"
   ]
  },
  {
   "cell_type": "code",
   "execution_count": 6,
   "id": "cfcf640f",
   "metadata": {},
   "outputs": [
    {
     "data": {
      "text/html": [
       "<table>\n",
       "<tbody>\n",
       "<tr><td>01, 0x01</td><td>02, 0x02</td><td>03, 0x03</td><td>04, 0x04</td><td>05, 0x05</td><td>06, 0x06</td><td>07, 0x07</td><td>08, 0x08</td><td>09, 0x09</td><td>10, 0x0A </td></tr>\n",
       "<tr><td>11, 0x0B</td><td>12, 0x0C</td><td>13, 0x0D</td><td>14, 0x0E</td><td>15, 0x0F</td><td>16, 0x10</td><td>17, 0x11</td><td>18, 0x12</td><td>19, 0x13</td><td>20, 0x14 </td></tr>\n",
       "<tr><td>21, 0x15</td><td>22, 0x16</td><td>23, 0x17</td><td>24, 0x18</td><td>25, 0x19</td><td>26, 0x1A</td><td>27, 0x1B</td><td>28, 0x1C</td><td>29, 0x1D</td><td>30, 0x1E </td></tr>\n",
       "<tr><td>31, 0x1F</td><td>32, 0x20</td><td>33, 0x21</td><td>34, 0x22</td><td>35, 0x23</td><td>36, 0x24</td><td>37, 0x25</td><td>38, 0x26</td><td>39, 0x27</td><td>40, 0x28 </td></tr>\n",
       "<tr><td>41, 0x29</td><td>42, 0x2A</td><td>43, 0x2B</td><td>44, 0x2C</td><td>45, 0x2D</td><td>46, 0x2E</td><td>47, 0x2F</td><td>48, 0x30</td><td>49, 0x31</td><td>50, 0x32 </td></tr>\n",
       "<tr><td>51, 0x33</td><td>52, 0x34</td><td>53, 0x35</td><td>54, 0x36</td><td>55, 0x37</td><td>56, 0x38</td><td>57, 0x39</td><td>58, 0x3A</td><td>59, 0x3B</td><td>60, 0x3C </td></tr>\n",
       "<tr><td>61, 0x3D</td><td>62, 0x3E</td><td>63, 0x3F</td><td>64, 0x40</td><td>65, 0x41</td><td>66, 0x42</td><td>67, 0x43</td><td>68, 0x44</td><td>69, 0x45</td><td>70, 0x46 </td></tr>\n",
       "<tr><td>71, 0x47</td><td>72, 0x48</td><td>73, 0x49</td><td>74, 0x4A</td><td>75, 0x4B</td><td>76, 0x4C</td><td>77, 0x4D</td><td>78, 0x4E</td><td>79, 0x4F</td><td>80, 0x50 </td></tr>\n",
       "<tr><td>81, 0x51</td><td>82, 0x52</td><td>83, 0x53</td><td>84, 0x54</td><td>85, 0x55</td><td>86, 0x56</td><td>87, 0x57</td><td>88, 0x58</td><td>89, 0x59</td><td>90, 0x5A </td></tr>\n",
       "<tr><td>91, 0x5B</td><td>92, 0x5C</td><td>93, 0x5D</td><td>94, 0x5E</td><td>95, 0x5F</td><td>96, 0x60</td><td>97, 0x61</td><td>98, 0x62</td><td>99, 0x63</td><td>100, 0x64</td></tr>\n",
       "</tbody>\n",
       "</table>"
      ],
      "text/plain": [
       "<IPython.core.display.HTML object>"
      ]
     },
     "metadata": {},
     "output_type": "display_data"
    }
   ],
   "source": [
    "from tabulate import tabulate\n",
    "from IPython.display import HTML, display\n",
    "\n",
    "values = [\n",
    "    [\n",
    "        f\"{f\"{(m * 10 + n):>02}, 0x{num_system_conversion(f\"{m*10+n}\", 10, 16):>02}\"}\"\n",
    "        for n in range(1, 11)\n",
    "    ]\n",
    "    for m in range(10)\n",
    "]\n",
    "\n",
    "table = tabulate(values, tablefmt=\"html\")\n",
    "\n",
    "display(HTML(table))"
   ]
  }
 ],
 "metadata": {
  "kernelspec": {
   "display_name": ".venv",
   "language": "python",
   "name": "python3"
  },
  "language_info": {
   "codemirror_mode": {
    "name": "ipython",
    "version": 3
   },
   "file_extension": ".py",
   "mimetype": "text/x-python",
   "name": "python",
   "nbconvert_exporter": "python",
   "pygments_lexer": "ipython3",
   "version": "3.13.5"
  }
 },
 "nbformat": 4,
 "nbformat_minor": 5
}
