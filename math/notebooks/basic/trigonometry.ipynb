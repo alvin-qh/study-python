{
 "cells": [
  {
   "cell_type": "markdown",
   "metadata": {},
   "source": [
    "# 弧度和三角学\n",
    "\n",
    "一个二维向量的位置可以有两种确认方式:\n",
    "- $x$ 坐标轴分量和 $y$ 坐标轴分量, 称之为**笛卡尔坐标**;\n",
    "- 向量的长度和相对于 $x$ 轴 (或 $y$ 轴) 的角度 (弧度), 称之为**极坐标**;"
   ]
  },
  {
   "cell_type": "code",
   "execution_count": null,
   "metadata": {},
   "outputs": [],
   "source": [
    "try:\n",
    "    import sys\n",
    "    # 将项目根路径加入系统路径集合, 即可以引入相关的包\n",
    "    sys.path.append(\"../..\")\n",
    "finally:\n",
    "    pass\n",
    "\n",
    "# 引入所需的包\n",
    "from common.vector_draw import (Color, Points, Segment, Polygon,\n",
    "                                Vector2D, Number, Arrow, draw)\n",
    "from typing import Tuple, Iterable, List, Optional\n",
    "from math import sqrt, pi, tan, sin, cos\n",
    "from random import uniform\n"
   ]
  },
  {
   "cell_type": "markdown",
   "metadata": {},
   "source": [
    "## 1. Python 中的弧度和三角函数\n",
    "\n",
    "一般运算时, 不会直接使用**角度** (angle) 这个概念, 而是使用**弧度** (radian), 弧度和 $\\pi$ 值有较为紧密的关系, 更适合计算.\n",
    "\n",
    "1 弧度($rad$) 定义如下: \n",
    "$$1rad = \\frac {\\pi} {180°}$$\n",
    "$$1° = \\frac {\\pi} {180} \\approx 57.3° \\approx 57°17'44.806''$$\n",
    "即 `57.3°` (`57°17'44.806'`)\n"
   ]
  }
 ],
 "metadata": {
  "language_info": {
   "name": "python"
  },
  "orig_nbformat": 4
 },
 "nbformat": 4,
 "nbformat_minor": 2
}
