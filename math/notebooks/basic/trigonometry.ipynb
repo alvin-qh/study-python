{
 "cells": [
  {
   "cell_type": "markdown",
   "metadata": {},
   "source": [
    "# 弧度和三角学\n",
    "\n",
    "一个二维向量的位置可以有两种确认方式:\n",
    "- $x$ 坐标轴分量和 $y$ 坐标轴分量, 称之为**笛卡尔坐标**;\n",
    "- 向量的长度和相对于 $x$ 轴 (或 $y$ 轴) 的角度 (弧度), 称之为**极坐标**;"
   ]
  },
  {
   "cell_type": "code",
   "execution_count": 36,
   "metadata": {},
   "outputs": [],
   "source": [
    "try:\n",
    "    import sys\n",
    "    # 将项目根路径加入系统路径集合, 即可以引入相关的包\n",
    "    sys.path.append(\"../..\")\n",
    "finally:\n",
    "    pass\n",
    "\n",
    "# 引入所需的包\n",
    "from common import Vector2D, PolarVector, Number\n",
    "from common.vector import length\n",
    "from common.vector_draw import Color, Points, Segment, Polygon, Arrow, draw\n",
    "from typing import Tuple, Iterable, List, Optional\n",
    "from math import sqrt, pi, tan, sin, cos, atan2, atan, asin, acos\n",
    "from random import uniform\n"
   ]
  },
  {
   "cell_type": "markdown",
   "metadata": {},
   "source": [
    "## 1. Python 中的弧度和三角函数\n",
    "\n",
    "一般运算时, 不会直接使用**角度** (angle) 这个概念, 而是使用**弧度** (radian), 弧度和 $\\pi$ 值有较为紧密的关系, 更适合计算.\n",
    "\n",
    "`1` 弧度($rad$) 定义如下: \n",
    "$$\\pi rad = 180°$$\n",
    "$$2\\pi rad = 360°$$\n",
    "$$1rad = \\frac {\\pi} {180°} \\approx 57.296° \\approx 57°17'44.806''$$\n",
    "\n",
    "绕圆半圈的弧度为 $\\pi$, 整圈的弧度是 $2\\pi$, 分别与半径为 `1` 的圆的半周长和周长一致;\n",
    "\n",
    "![x](../assets/rad.jpeg) 半周长的弧度是 $\\pi$，周长的弧度是 $2\\pi$"
   ]
  },
  {
   "cell_type": "markdown",
   "metadata": {},
   "source": [
    "**知识:** 各弧度对应三角函数结果"
   ]
  },
  {
   "cell_type": "code",
   "execution_count": 37,
   "metadata": {},
   "outputs": [
    {
     "name": "stdout",
     "output_type": "stream",
     "text": [
      "sin(0°) = 0.0    cos(0°) = 1.0    tan(0°) = 0.0\n",
      "sin(30°) = 0.5    cos(30°) = 0.87    tan(30°) = 0.58\n",
      "sin(45°) = 0.71    cos(45°) = 0.71    tan(45°) = 1.0\n",
      "sin(60°) = 0.87    cos(60°) = 0.5    tan(60°) = 1.73\n",
      "sin(90°) = 1.0    cos(90°) = 0.0    tan(90°) = ∞\n",
      "sin(120°) = 0.87    cos(120°) = -0.5    tan(120°) = -1.73\n",
      "sin(135°) = 0.71    cos(135°) = -0.71    tan(135°) = -1.0\n",
      "sin(150°) = 0.5    cos(150°) = -0.87    tan(150°) = -0.58\n",
      "sin(180°) = 0.0    cos(180°) = -1.0    tan(180°) = -0.0\n",
      "sin(270°) = -1.0    cos(270°) = -0.0    tan(270°) = ∞\n"
     ]
    }
   ],
   "source": [
    "# 常见弧度值\n",
    "rads = [\n",
    "    (0, \"0°\"),\n",
    "    (pi / 6, \"30°\"),\n",
    "    (pi / 4, \"45°\"),\n",
    "    (pi / 3, \"60°\"),\n",
    "    (pi / 2, \"90°\"),\n",
    "    (2 * pi / 3, \"120°\"),\n",
    "    (3 * pi / 4, \"135°\"),\n",
    "    (5 * pi / 6, \"150°\"),\n",
    "    (pi, \"180°\"),\n",
    "    (3 * pi / 2, \"270°\"),\n",
    "]\n",
    "\n",
    "\n",
    "def format(v: float) -> str:\n",
    "    \"\"\"\n",
    "    格式化计算结果\n",
    "\n",
    "    Args:\n",
    "        v (float): 计算结果\n",
    "\n",
    "    Returns:\n",
    "        str: 格式化后的计算结果\n",
    "    \"\"\"\n",
    "    if v < 10:\n",
    "        # 正常值, 返回 2 位小数\n",
    "        return f\"{round(v, 2)}\"\n",
    "\n",
    "    # 返回表示无穷大的值\n",
    "    return \"∞\"\n",
    "\n",
    "\n",
    "for r in rads:\n",
    "    # 输出弧度的正弦值\n",
    "    v = sin(r[0])\n",
    "    print(f\"sin({r[1]}) = {format(v)}\", end=\"    \")\n",
    "\n",
    "    # 输出弧度的余弦值\n",
    "    v = cos(r[0])\n",
    "    print(f\"cos({r[1]}) = {format(v)}\", end=\"    \")\n",
    "\n",
    "    # 输出弧度的正切值\n",
    "    v = tan(r[0])\n",
    "    print(f\"tan({r[1]}) = {format(v)}\")\n"
   ]
  },
  {
   "cell_type": "markdown",
   "metadata": {},
   "source": [
    "**知识:** 反三角函数"
   ]
  },
  {
   "cell_type": "code",
   "execution_count": 38,
   "metadata": {},
   "outputs": [
    {
     "name": "stdout",
     "output_type": "stream",
     "text": [
      "asin(0) = 0.0, angle = 0°\n",
      "asin(1/2) = 0.5235987755982989, angle = 30°\n",
      "asin(sqrt(2)/2) = 0.7853981633974484, angle = 45°\n",
      "asin(sqrt(3)/2) = 1.0471975511965976, angle = 60°\n",
      "asin(1) = 1.5707963267948966, angle = 90°\n",
      "asin(sqrt(3)/2) = 1.0471975511965976, angle = 120°\n",
      "asin(sqrt(2)/2) = 0.7853981633974484, angle = 135°\n",
      "asin(1/2) = 0.5235987755982989, angle = 150°\n",
      "asin(-1) = -1.5707963267948966, angle = 270°\n",
      "\n",
      "acos(1) = 0.0, angle = 0°\n",
      "acos(sqrt(3)/2) = 0.5235987755982989, angle = 30°\n",
      "acos(sqrt(2)/2) = 0.7853981633974483, angle = 45°\n",
      "acos(1/2) = 1.0471975511965979, angle = 60°\n",
      "acos(0) = 1.5707963267948966, angle = 90°\n",
      "acos(-1/2) = 2.0943951023931957, angle = 120°\n",
      "acos(-sqrt(2)/2) = 2.356194490192345, angle = 135°\n",
      "acos(-sqrt(3)/2) = 2.6179938779914944, angle = 150°\n",
      "acos(-1) = 3.141592653589793, angle = 180°\n",
      "acos(0) = 1.5707963267948966, angle = 270°\n",
      "\n",
      "atan(0) = 0.0, angle = 0°\n",
      "atan(sqrt(3)/3) = 0.5235987755982988, angle = 30°\n",
      "atan(1) = 0.7853981633974483, angle = 45°\n",
      "atan(sqrt(3)) = 1.0471975511965976, angle = 60°\n",
      "atan(-sqrt(3)) = -1.0471975511965976, angle = 120°\n",
      "atan(-1) = -0.7853981633974483, angle = 135°\n",
      "atan(-sqrt(3)/3) = -0.5235987755982988, angle = 150°\n",
      "atan(0) = 0.0, angle = 180°\n"
     ]
    }
   ],
   "source": [
    "def format(formula: str, rad: Number, patch=0) -> str:\n",
    "    \"\"\"\n",
    "    格式化输出内容\n",
    "\n",
    "    Args:\n",
    "        formula (str): 公式\n",
    "        rad (Number): 弧度\n",
    "        patch (int, optional): 补偿角度, 对于反三角函数, 同一个数值可能计算出两个角度. Defaults to `0`.\n",
    "\n",
    "    Returns:\n",
    "        str: 格式化结果\n",
    "    \"\"\"\n",
    "    # 将弧度转为角度\n",
    "    angle = round(rad / (pi / 180))\n",
    "    return f\"{formula} = {rad}, angle = {abs(angle + patch)}°\"\n",
    "\n",
    "\n",
    "# 反正弦 0 的角度为 0°\n",
    "print(format(\"asin(0)\", asin(0)))\n",
    "# 反正弦 1/2 的角度为 30° 或 150°\n",
    "print(format(\"asin(1/2)\", asin(1/2)))\n",
    "# 反正弦 sqrt(2)/2 的角度为 45° 或 135°\n",
    "print(format(\"asin(sqrt(2)/2)\", asin(sqrt(2)/2)))\n",
    "# 反正弦 sqrt(3)/2 的角度为 60° 或 120°\n",
    "print(format(\"asin(sqrt(3)/2)\", asin(sqrt(3)/2)))\n",
    "# 反正弦 1 的角度为 90°\n",
    "print(format(\"asin(1)\", asin(1)))\n",
    "# 反正弦 sqrt(3)/2 的角度为 60° 或 120°\n",
    "print(format(\"asin(sqrt(3)/2)\", asin(sqrt(3)/2), patch=-180))\n",
    "# 反正弦 sqrt(2)/2 的角度为 45° 或 135°\n",
    "print(format(\"asin(sqrt(2)/2)\", asin(sqrt(2)/2), patch=-180))\n",
    "# 反正弦 1/2 的角度为 30° 或 150°\n",
    "print(format(\"asin(1/2)\", asin(1/2), patch=-180))\n",
    "# 反正弦 -1 的角度为 270°\n",
    "print(format(\"asin(-1)\", asin(-1), patch=-180))\n",
    "print()\n",
    "\n",
    "# 反余弦 1 的角度为 0°\n",
    "print(format(\"acos(1)\", acos(1)))\n",
    "# 反余弦 sqrt(3)/2 的角度为 30°\n",
    "print(format(\"acos(sqrt(3)/2)\", acos(sqrt(3)/2)))\n",
    "# 反余弦 sqrt(2)/2 的角度为 45°\n",
    "print(format(\"acos(sqrt(2)/2)\", acos(sqrt(2)/2)))\n",
    "# 反余弦 1/2 的角度为 60°\n",
    "print(format(\"acos(1/2)\", acos(1/2)))\n",
    "# 反余弦 0 的角度为 90° 或 270°\n",
    "print(format(\"acos(0)\", acos(0)))\n",
    "# 反余弦 -1/2 的角度为 120°\n",
    "print(format(\"acos(-1/2)\", acos(-1/2)))\n",
    "# 反余弦 -sqrt(2)/2 的角度为 135°\n",
    "print(format(\"acos(-sqrt(2)/2)\", acos(-sqrt(2)/2)))\n",
    "# 反余弦 -sqrt(3)/2 的角度为 150°\n",
    "print(format(\"acos(-sqrt(3)/2)\", acos(-sqrt(3)/2)))\n",
    "# 反余弦 -1 的角度为 180°\n",
    "print(format(\"acos(-1)\", acos(-1)))\n",
    "# 反余弦 0 的角度为 90° 或 270°\n",
    "print(format(\"acos(0)\", acos(0), patch=180))\n",
    "print()\n",
    "\n",
    "# 反正切 0 的角度为 0°\n",
    "print(format(\"atan(0)\", atan(0)))\n",
    "# 反正切 sqrt(3)/3 的角度为 30°\n",
    "print(format(\"atan(sqrt(3)/3)\", atan(sqrt(3)/3)))\n",
    "# 反正切 1 的角度为 45°\n",
    "print(format(\"atan(1)\", atan(1)))\n",
    "# 反正切 sqrt(3) 的角度为 60°\n",
    "print(format(\"atan(sqrt(3))\", atan(sqrt(3))))\n",
    "# 反正切 -sqrt(3) 的角度为 120°\n",
    "print(format(\"atan(-sqrt(3))\", atan(-sqrt(3)), patch=180))\n",
    "# 反正切 -1 的角度为 135°\n",
    "print(format(\"atan(-1)\", atan(-1), patch=180))\n",
    "# 反正切 -sqrt(3)/3 的角度为 150°\n",
    "print(format(\"atan(-sqrt(3)/3)\", atan(-sqrt(3)/3), patch=180))\n",
    "# 反正切 0 的角度为 180°\n",
    "print(format(\"atan(0)\", atan(0), patch=180))\n"
   ]
  },
  {
   "cell_type": "markdown",
   "metadata": {},
   "source": [
    "**知识:** 将极坐标值转为笛卡尔坐标值"
   ]
  },
  {
   "cell_type": "markdown",
   "metadata": {},
   "source": [
    "已知向量长度为 `8.5`, 向量角度为 `125°`, 则绘制向量在笛卡尔坐标的点"
   ]
  },
  {
   "cell_type": "code",
   "execution_count": 39,
   "metadata": {},
   "outputs": [
    {
     "data": {
      "image/png": "[encoded data removed]",
      "text/plain": [
       "<Figure size 432x288 with 1 Axes>"
      ]
     },
     "metadata": {
      "needs_background": "light"
     },
     "output_type": "display_data"
    }
   ],
   "source": [
    "# 向量长度\n",
    "r = 8.5\n",
    "# 向量弧度\n",
    "rad = 125 * (pi / 180)\n",
    "\n",
    "# 向量 x 分量\n",
    "x = r * cos(rad)\n",
    "# 向量 y 分量\n",
    "y = r * sin(rad)\n",
    "\n",
    "draw(\n",
    "    Points((x, y)),\n",
    "    Segment((0, 0), (x, y)),\n",
    "    grid=(2, 2),\n",
    "    nice_aspect_ratio=False,\n",
    ")\n"
   ]
  },
  {
   "cell_type": "code",
   "execution_count": 40,
   "metadata": {},
   "outputs": [],
   "source": [
    "def to_cartesian(polar_vector: PolarVector) -> Vector2D:\n",
    "    \"\"\"\n",
    "    将极坐标向量转换为笛卡尔坐标\n",
    "\n",
    "    Args:\n",
    "        polar_vector (PolarVector): 极坐标向量, 两个分量为 `(向量长度, 弧度)`\n",
    "\n",
    "    Returns:\n",
    "        Vector2D: 极坐标向量\n",
    "    \"\"\"\n",
    "    # 获取极坐标向量分量\n",
    "    length, angle = polar_vector[0], polar_vector[1]\n",
    "    # 通过余弦函数和正弦函数求笛卡尔 x, y 坐标\n",
    "    return (length * cos(angle), length * sin(angle))\n"
   ]
  },
  {
   "cell_type": "markdown",
   "metadata": {},
   "source": [
    "求沿 `37°` 角的方向移动 `5` 个单位的笛卡尔坐标"
   ]
  },
  {
   "cell_type": "code",
   "execution_count": 41,
   "metadata": {},
   "outputs": [
    {
     "data": {
      "text/plain": [
       "(3.993177550236464, 3.0090751157602416)"
      ]
     },
     "execution_count": 41,
     "metadata": {},
     "output_type": "execute_result"
    }
   ],
   "source": [
    "angle = 37 * (pi / 180)  # 求 37° 角度的弧度\n",
    "\n",
    "to_cartesian((5, angle))  # 角度 37°, 5 个单位的笛卡尔坐标约为 (4, 3)\n"
   ]
  },
  {
   "cell_type": "markdown",
   "metadata": {},
   "source": [
    "**知识:** 将笛卡尔坐标转为极坐标"
   ]
  },
  {
   "cell_type": "code",
   "execution_count": 42,
   "metadata": {},
   "outputs": [],
   "source": [
    "def to_polar(v: Vector2D) -> PolarVector:\n",
    "    \"\"\"\n",
    "    将笛卡尔坐标向量转换为极坐标向量\n",
    "\n",
    "    Args:\n",
    "        v (Vector2D): 笛卡尔坐标向量\n",
    "\n",
    "    Returns:\n",
    "        PolarVector: 极坐标向量\n",
    "    \"\"\"\n",
    "    # 获取笛卡尔坐标向量的分量\n",
    "    x, y = v[0], v[1]\n",
    "    # 利用 atan2 函数, 根据笛卡尔坐标分量求弧度\n",
    "    angle = atan2(y, x)\n",
    "    # 利用 length 函数求向量的长度, 返回极坐标向量\n",
    "    return (length(v), angle)\n"
   ]
  },
  {
   "cell_type": "markdown",
   "metadata": {},
   "source": [
    "求笛卡尔坐标 `(-2, 3)` 到极坐标的转换"
   ]
  },
  {
   "cell_type": "code",
   "execution_count": 43,
   "metadata": {},
   "outputs": [
    {
     "data": {
      "text/plain": [
       "(3.605551275463989, 2.158798930342464)"
      ]
     },
     "execution_count": 43,
     "metadata": {},
     "output_type": "execute_result"
    }
   ],
   "source": [
    "to_polar((-2, 3))  # 返回长度 3.6, 弧度 2.16 左右的极坐标\n"
   ]
  }
 ],
 "metadata": {
  "kernelspec": {
   "display_name": "Python 3.10.3 ('.venv': venv)",
   "language": "python",
   "name": "python3"
  },
  "language_info": {
   "codemirror_mode": {
    "name": "ipython",
    "version": 3
   },
   "file_extension": ".py",
   "mimetype": "text/x-python",
   "name": "python",
   "nbconvert_exporter": "python",
   "pygments_lexer": "ipython3",
   "version": "3.10.3"
  },
  "orig_nbformat": 4,
  "vscode": {
   "interpreter": {
    "hash": "4ec9b9c3e8469a0dcdef9a9378f9fa377aa4b8dc0ae9ca69d284629ab6c2e248"
   }
  }
 },
 "nbformat": 4,
 "nbformat_minor": 2
}
