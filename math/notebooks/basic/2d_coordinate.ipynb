{
 "cells": [
  {
   "cell_type": "markdown",
   "metadata": {},
   "source": [
    "# 2D 绘图"
   ]
  },
  {
   "cell_type": "markdown",
   "metadata": {},
   "source": [
    "## 公共操作\n",
    "\n",
    "在执行代码前, 需要先执行该代码块"
   ]
  },
  {
   "cell_type": "code",
   "execution_count": 4,
   "metadata": {},
   "outputs": [],
   "source": [
    "import sys\n",
    "\n",
    "# 将项目根路径加入系统路径\n",
    "sys.path.append(\"../..\")"
   ]
  },
  {
   "cell_type": "code",
   "execution_count": 5,
   "metadata": {},
   "outputs": [
    {
     "data": {
      "image/png": "[encoded data removed]",
      "text/plain": [
       "<Figure size 432x252 with 1 Axes>"
      ]
     },
     "metadata": {
      "needs_background": "light"
     },
     "output_type": "display_data"
    }
   ],
   "source": [
    "from common.vector_draw import Points, draw\n",
    "\n",
    "# 定义一个 2D 向量\n",
    "# 2D 向量是一组点的集合\n",
    "dino_vectors = [\n",
    "    (6, 4),\n",
    "    (3, 1),\n",
    "    (1, 2),\n",
    "    (-1, 5),\n",
    "    (-2, 5),\n",
    "    (-3, 4),\n",
    "    (-4, 4),\n",
    "]\n",
    "\n",
    "# 在坐标轴上绘制向量\n",
    "draw(\n",
    "    Points(*dino_vectors),\n",
    ")"
   ]
  }
 ],
 "metadata": {
  "kernelspec": {
   "display_name": "Python 3.10.3 ('.venv': venv)",
   "language": "python",
   "name": "python3"
  },
  "language_info": {
   "codemirror_mode": {
    "name": "ipython",
    "version": 3
   },
   "file_extension": ".py",
   "mimetype": "text/x-python",
   "name": "python",
   "nbconvert_exporter": "python",
   "pygments_lexer": "ipython3",
   "version": "3.10.3"
  },
  "orig_nbformat": 4,
  "vscode": {
   "interpreter": {
    "hash": "4ec9b9c3e8469a0dcdef9a9378f9fa377aa4b8dc0ae9ca69d284629ab6c2e248"
   }
  }
 },
 "nbformat": 4,
 "nbformat_minor": 2
}
