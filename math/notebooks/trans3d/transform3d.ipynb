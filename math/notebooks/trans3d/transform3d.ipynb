{
 "cells": [
  {
   "cell_type": "markdown",
   "metadata": {},
   "source": [
    "# 变换三维对象"
   ]
  },
  {
   "cell_type": "code",
   "execution_count": 1,
   "metadata": {},
   "outputs": [],
   "source": [
    "try:\n",
    "    import sys\n",
    "    # 将项目根路径加入系统路径集合, 即可以引入相关的包\n",
    "    sys.path.append(\"../..\")\n",
    "finally:\n",
    "    pass\n",
    "\n",
    "# 引入所需的包\n",
    "from common import Vector\n",
    "from common.vectors import translate, to_cartesian, to_polar\n"
   ]
  },
  {
   "cell_type": "markdown",
   "metadata": {},
   "source": [
    "一般情况下, 变换即以一个向量为输入, 计算后的向量为输出, 类似如下代码\n",
    "\n",
    "```python\n",
    "def transform(v: Vector) -> Vector:\n",
    "    x, y, z = v\n",
    "    # 进行计算\n",
    "    return (new_x, new_y, new_z)\n",
    "```"
   ]
  },
  {
   "cell_type": "markdown",
   "metadata": {},
   "source": [
    "## 1. 绘制变换后的对象"
   ]
  },
  {
   "cell_type": "code",
   "execution_count": 2,
   "metadata": {},
   "outputs": [
    {
     "name": "stdout",
     "output_type": "stream",
     "text": [
      "pygame 2.1.2 (SDL 2.0.16, Python 3.10.3)\n",
      "Hello from the pygame community. https://www.pygame.org/contribute.html\n",
      "NVD3D10: CPU cyclestats are disabled on client virtualization \n",
      "NVD3D10: CPU cyclestats are disabled on client virtualization \n"
     ]
    }
   ],
   "source": [
    "!python draw_teapot.py"
   ]
  }
 ],
 "metadata": {
  "kernelspec": {
   "display_name": "Python 3.10.3 ('.venv': venv)",
   "language": "python",
   "name": "python3"
  },
  "language_info": {
   "codemirror_mode": {
    "name": "ipython",
    "version": 3
   },
   "file_extension": ".py",
   "mimetype": "text/x-python",
   "name": "python",
   "nbconvert_exporter": "python",
   "pygments_lexer": "ipython3",
   "version": "3.10.3"
  },
  "orig_nbformat": 4,
  "vscode": {
   "interpreter": {
    "hash": "4ec9b9c3e8469a0dcdef9a9378f9fa377aa4b8dc0ae9ca69d284629ab6c2e248"
   }
  }
 },
 "nbformat": 4,
 "nbformat_minor": 2
}
