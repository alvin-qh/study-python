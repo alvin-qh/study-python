{
 "cells": [
  {
   "cell_type": "markdown",
   "metadata": {},
   "source": [
    "# String format "
   ]
  },
  {
   "cell_type": "markdown",
   "metadata": {},
   "source": [
    "## 1. C style format"
   ]
  },
  {
   "cell_type": "code",
   "execution_count": null,
   "metadata": {},
   "outputs": [],
   "source": [
    "r = \"%s, %s, %s\" % (\"a\", \"b\", \"c\")\n",
    "print(f'* \"%s, %s, %s\" % (\"a\", \"b\", \"c\") return: \"{r}\"')"
   ]
  },
  {
   "cell_type": "markdown",
   "metadata": {},
   "source": [
    "## 2. Modern style format "
   ]
  },
  {
   "cell_type": "markdown",
   "metadata": {},
   "source": [
    "### 2.1. Format by arguments order"
   ]
  },
  {
   "cell_type": "code",
   "execution_count": null,
   "metadata": {},
   "outputs": [],
   "source": [
    "# Replace placeholder by arguments order\n",
    "r = \"{}, {}, {}\".format(\"a\", \"b\", \"c\")\n",
    "print(f'* \"{{}}, {{}}, {{}}\".format(\"a\", \"b\", \"c\") return: \"{r}\"')\n",
    "\n",
    "# Replace placeholder by indices of arguments\n",
    "r = \"{0}, {1}, {2}\".format(\"a\", \"b\", \"c\")\n",
    "print(f'* \"{{0}}, {{1}}, {{2}}\".format(\"a\", \"b\", \"c\") return: \"{r}\"')\n",
    "\n",
    "r = \"{2}, {1}, {0}\".format(\"a\", \"b\", \"c\")\n",
    "print(f'* \"{{2}}, {{1}}, {{0}}\".format(\"a\", \"b\", \"c\") return: \"{r}\"')\n",
    "\n",
    "r = \"{2}, {1}, {0}\".format(*\"abc\")\n",
    "print(f'* \"{{2}}, {{1}}, {{0}}\".format(\"abc\") return: \"{r}\"')  # \"abc\" is an iterable value\n",
    "\n",
    "r = \"{0}{1}{0}\".format(\"abra\", \"cad\")\n",
    "print(f'* \"{{0}}{{1}}{{0}}\".format(\"abra\", \"cad\") return: \"{r}\"')"
   ]
  },
  {
   "cell_type": "markdown",
   "metadata": {},
   "source": [
    "### 2.2. Format by arguments name"
   ]
  },
  {
   "cell_type": "code",
   "execution_count": null,
   "metadata": {},
   "outputs": [],
   "source": [
    "r = \"{latitude}, {longitude}\".format(latitude=\"37.24N\", longitude=\"-115.81W\")\n",
    "print(f'* {{latitude}}, {{longitude}}\".format(latitude=\"37.24N\", longitude=\"-115.81W\") return: \"{r}\"')\n",
    "\n",
    "coord = {\"latitude\": \"37.24N\", \"longitude\": \"-115.81W\"}\n",
    "r = \"{latitude}, {longitude}\".format(**coord)\n",
    "print(f'* When \"coord={coord}\", \"{{latitude}}, {{longitude}}\".format(coord) return: \"{r}\"')"
   ]
  },
  {
   "cell_type": "markdown",
   "metadata": {},
   "source": [
    "### 2.3. Number format"
   ]
  },
  {
   "cell_type": "code",
   "execution_count": null,
   "metadata": {},
   "outputs": [],
   "source": [
    "# Number to binary string\n",
    "r = \"{:b}\".format(3)\n",
    "print(f'* \"{{:b}}\".format(3)\" return: \"{r}\"')\n",
    "\n",
    "# Number to oct string\n",
    "r = \"{:o}\".format(10)\n",
    "print(f'* \"{{:o}}\".format(10) return: \"{r}\"')\n",
    "\n",
    "# Number to hex string\n",
    "r = \"{:x}\".format(10)\n",
    "print(f'* \"{{:x}}\".format(10) return: \"{r}\"')\n",
    "\n",
    "# Always with sign\n",
    "r = \"{:+f}, {:+f}\".format(3.14, -3.14)\n",
    "print(f'* \"{{:+f}}, {{:+f}}\".format(3.14, -3.14) return: \"{r}\"')\n",
    "\n",
    "r = \"{:-f}, {:-f}\".format(3.14, -3.14)\n",
    "print(f'* \"{{:-f}}, {{:-f}}\".format(3.14, -3.14) return: \"{r}\"')\n",
    "\n",
    "# Space for positive numbers\n",
    "r = \"{: f}, {: f}\".format(3.14, -3.14)\n",
    "print(f'* \"{{: f}}, {{: f}}\".format(3.14, -3.14) return: \"{r}\"')\n",
    "\n",
    "r = \"{: .3f}, {: .1f}\".format(3.14, -3.14)\n",
    "print(f'* \"{{: .3f}}, {{: .1f}}\".format(3.14, -3.14) return: \"{r}\"')\n",
    "\n",
    "# Use comma splitter\n",
    "r = \"{:,}\".format(1234567890)\n",
    "print(f'* \"{{:,}}\".format(1234567890) return: \"{r}\"')\n",
    "\n",
    "# Percentage\n",
    "r = \"{:.2%}\".format(19.5 / 22)\n",
    "print(f'* \"{{:.2%}}\".format(19.5 / 22) return: \"{r}\"')\n",
    "\n",
    "# Format complex number\n",
    "c = 3 - 5j\n",
    "real = \"{c.real}\".format(c=c)\n",
    "imag = \"{c.imag}\".format(c=c)\n",
    "print(f'* When \"c={c}\", \"{{c.real}}\".format(c=c) return: \"{real}\", and \"{{c.imag}}\".format(c=c) return \"{imag}\"')"
   ]
  },
  {
   "cell_type": "markdown",
   "metadata": {},
   "source": [
    "### 2.4. With array index"
   ]
  },
  {
   "cell_type": "code",
   "execution_count": null,
   "metadata": {},
   "outputs": [],
   "source": [
    "coord = ((3, 5), (6, 8))\n",
    "print(f'* When \"coord={coord}\"')\n",
    "\n",
    "r = \"{0[0]}\".format(*coord)\n",
    "print(f'  \"{{0[0]}}\".format(*coord) return: \"{r}\"')\n",
    "\n",
    "r = \"{1[1]}\".format(*coord)\n",
    "print(f'  \"{{1[1]}}\".format(*coord) return: \"{r}\"')\n",
    "\n",
    "r = \"{0[1]}\".format(coord)\n",
    "print(f'  \"{{0[1]}}\".format(coord) return: \"{r}\"')\n",
    "\n",
    "r = \"{c[1]}\".format(c=coord)\n",
    "print(f'  \"{{c[1]}}\".format(c=coord) return: \"{r}\"')"
   ]
  },
  {
   "cell_type": "markdown",
   "metadata": {},
   "source": [
    "### 2.5. With object attribute"
   ]
  },
  {
   "cell_type": "code",
   "execution_count": null,
   "metadata": {},
   "outputs": [],
   "source": [
    "class Value:\n",
    "    def __init__(self, id_: str, name: str) -> None:\n",
    "        self.id = id_\n",
    "        self.name = name\n",
    "\n",
    "    def __repr__(self) -> str:\n",
    "        return f\"{self.__class__.__name__}(id={self.id}, name={self.name})\"\n",
    "\n",
    "\n",
    "value = Value(\"101\", \"Alvin\")\n",
    "print(f'* When \"value={value}\"')\n",
    "\n",
    "r = \"id={0.id}, name={0.name}\".format(value)\n",
    "print(f'  \"id={{0.id}}, name={{0.name}}\".format(value) return: \"{r}\"')\n",
    "\n",
    "r = \"id={v.id}, name={v.name}\".format(v=value)\n",
    "print(f'  \"id={{v.id}}, name={{v.name}}\".format(v=value) return: \"{r}\"')"
   ]
  },
  {
   "cell_type": "markdown",
   "metadata": {},
   "source": [
    "### 2.6. With dictionary key"
   ]
  },
  {
   "cell_type": "code",
   "execution_count": null,
   "metadata": {},
   "outputs": [],
   "source": [
    "data = {\n",
    "    \"id\": \"101\",\n",
    "    \"name\": \"Alvin\"\n",
    "}\n",
    "\n",
    "print(f'* When \"data={data}\"')\n",
    "\n",
    "r = \"id={0[id]}, name={0[name]}\".format(data)\n",
    "print(f'  \"id={{0[id]}}, name={{0[name]}}\".format(data) return: \"{r}\"')\n",
    "\n",
    "r = \"id={d[id]}, name={d[name]}\".format(d=data)\n",
    "print(f'  \"id={{d[id]}}, name={{d[name]}}\".format(d=data) return: \"{r}\"')"
   ]
  },
  {
   "cell_type": "markdown",
   "metadata": {},
   "source": [
    "### 2.7. `str` or `repr` method"
   ]
  },
  {
   "cell_type": "code",
   "execution_count": null,
   "metadata": {},
   "outputs": [],
   "source": [
    "r = \"{!r}, {!s}\".format(\"test1\", \"test2\")\n",
    "print(f'* \"{{!r}}, {{!s}}\".format(\"test1\", \"test2\") return: \"{r}\"')"
   ]
  },
  {
   "cell_type": "markdown",
   "metadata": {},
   "source": [
    "### 2.8. Padding, align and fill"
   ]
  },
  {
   "cell_type": "code",
   "execution_count": null,
   "metadata": {},
   "outputs": [],
   "source": [
    "r = \"{:<30}\".format(\"A\")\n",
    "print(f'* \"{{:<30}}\".format(\"A\") return: \"{r}\"')\n",
    "\n",
    "r = \"{:>30}\".format(\"A\")\n",
    "print(f'* \"{{:>30}}\".format(\"A\") return: \"{r}\"')\n",
    "\n",
    "r = \"{:^30}\".format(\"A\")\n",
    "print(f'* \"{{:^30}}\".format(\"A\") return: \"{r}\"')\n",
    "\n",
    "r = \"{:*^30}\".format(\"A\")\n",
    "print(f'* \"{{:*^30}}\".format(\"A\") return: \"{r}\"')\n",
    "\n",
    "for align, text in zip(\"<^>\", [\"left\", \"center\", \"right\"]):\n",
    "    print(f'* When \"text={text}\", \"align={align}\"')\n",
    "\n",
    "    r = \"{:{fill}{align}16}\".format(text, fill=\"*\", align=align)\n",
    "    print(f'  \"{{:{{fill}}{{align}}16}}\".format(text, fill=\"*\", align=align) return: \"{r}\"')"
   ]
  },
  {
   "cell_type": "markdown",
   "metadata": {},
   "source": [
    "### 2.9. Width"
   ]
  },
  {
   "cell_type": "code",
   "execution_count": null,
   "metadata": {},
   "outputs": [],
   "source": [
    "width = 7\n",
    "print(f'* When \"width={width}\"')\n",
    "\n",
    "for num in range(5, 12):\n",
    "    for base, end in zip(\"dXob\", \"   \\n\"):\n",
    "        r = \"{:{width}{base}}\".format(num, base=base, width=width)\n",
    "        print(r, end=end)"
   ]
  },
  {
   "cell_type": "markdown",
   "metadata": {},
   "source": [
    "### 2.10. Datetime format"
   ]
  },
  {
   "cell_type": "code",
   "execution_count": null,
   "metadata": {},
   "outputs": [],
   "source": [
    "from datetime import datetime\n",
    "\n",
    "d = datetime(2010, 7, 4, 12, 15, 58)\n",
    "print(f'* When \"d={d}\"')\n",
    "\n",
    "r = \"{:%Y-%m-%d %H:%M:%S}\".format(d)\n",
    "print(f'* \"{{:%Y-%m-%d %H:%M:%S}}\".format(d) return: \"{r}\"')"
   ]
  },
  {
   "cell_type": "markdown",
   "metadata": {},
   "source": [
    "## 3. Template"
   ]
  },
  {
   "cell_type": "code",
   "execution_count": null,
   "metadata": {},
   "outputs": [],
   "source": [
    "from string import Template\n",
    "\n",
    "template = Template(\"This is $str\")\n",
    "print(f'* When \"template={template}\"')\n",
    "\n",
    "r = template.substitute({\"str\": \"Hello\"})\n",
    "print(f'  \"template.substitute({{\"str\": \"Hello\"}})\" return: \"{r}\"')\n",
    "\n",
    "r = template.substitute({\"str\": 123})\n",
    "print(f'  \"template.substitute({{\"str\": 123}})\" return: \"{r}\"')"
   ]
  }
 ],
 "metadata": {
  "kernelspec": {
   "display_name": "Python 3",
   "language": "python",
   "name": "python3"
  },
  "language_info": {
   "codemirror_mode": {
    "name": "ipython",
    "version": 3
   },
   "file_extension": ".py",
   "mimetype": "text/x-python",
   "name": "python",
   "nbconvert_exporter": "python",
   "pygments_lexer": "ipython3",
   "version": "3.8.5"
  }
 },
 "nbformat": 4,
 "nbformat_minor": 4
}
