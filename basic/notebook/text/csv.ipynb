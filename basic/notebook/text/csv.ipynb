{
 "cells": [
  {
   "cell_type": "markdown",
   "metadata": {},
   "source": [
    "# CSV "
   ]
  },
  {
   "cell_type": "markdown",
   "metadata": {},
   "source": [
    "## 1. Read and write CSV file "
   ]
  },
  {
   "cell_type": "code",
   "execution_count": null,
   "metadata": {},
   "outputs": [],
   "source": [
    "import os\n",
    "import csv\n",
    "\n",
    "csv_file = os.path.abspath(os.path.join(os.curdir, \"test.csv\"))\n",
    "\n",
    "columns = [\"Id\", \"Name\", \"Position\"]\n",
    "\n",
    "rows = [\n",
    "    [1, \"Alvin\", \"DEV\"],\n",
    "    [2, \"Author\", \"BA\"],\n",
    "    [3, \"Emma\", \"QA\"],\n",
    "    [4, \"Tom\", \"PM\"]\n",
    "]\n",
    "\n",
    "try:\n",
    "    print(\"* Write rows into csv: \")\n",
    "\n",
    "    with open(csv_file, \"w+\", newline=\"\") as fp:\n",
    "        writer = csv.writer(fp)\n",
    "        writer.writerow(columns)\n",
    "        writer.writerows(rows)\n",
    "    print(\"  ... write completed\")\n",
    "\n",
    "    print(\"* Read rows from csv: \")\n",
    "    with open(csv_file, \"r\") as fp:\n",
    "        reader = csv.reader(fp)\n",
    "\n",
    "        cols = next(reader)\n",
    "        cols = {n: h for n, h in enumerate(cols)}\n",
    "        for row in reader:\n",
    "            row = [\n",
    "                f\"{cols[n]}: {item}\" for n, item in enumerate(row)\n",
    "            ]\n",
    "            print(f\"    {row}\")\n",
    "\n",
    "    print(\"* Read whole csv file: \")\n",
    "    with open(csv_file, \"r\") as fp:\n",
    "        for line in fp.readlines():\n",
    "            print(f\"    {line}\", end=\"\")\n",
    "finally:\n",
    "    os.remove(csv_file)"
   ]
  },
  {
   "cell_type": "markdown",
   "metadata": {},
   "source": [
    "## 2. Write CSV as dictionary "
   ]
  },
  {
   "cell_type": "code",
   "execution_count": null,
   "metadata": {},
   "outputs": [],
   "source": [
    "import os\n",
    "import csv\n",
    "\n",
    "csv_file = os.path.abspath(os.path.join(os.curdir, \"test.csv\"))\n",
    "\n",
    "columns = [\"Id\", \"Name\", \"Position\"]\n",
    "rows = [\n",
    "    {\"Id\": 1, \"Name\": \"Alvin\", \"Position\": \"DEV\"},\n",
    "    {\"Id\": 2, \"Name\": \"Author\", \"Position\": \"BA\"},\n",
    "    {\"Id\": 3, \"Name\": \"Emma\", \"Position\": \"QA\"},\n",
    "    {\"Id\": 4, \"Name\": \"Tom\", \"Position\": \"PM\"}\n",
    "]\n",
    "\n",
    "with_columns = True\n",
    "\n",
    "try:\n",
    "    print(\"* Write dict into csv: \")\n",
    "    with open(csv_file, \"w+\", newline=\"\") as fp:\n",
    "        writer = csv.DictWriter(fp, fieldnames=columns)\n",
    "\n",
    "        if with_columns:\n",
    "            writer.writeheader()\n",
    "\n",
    "        writer.writerows(rows)\n",
    "    print(\"  ... write completed\")\n",
    "\n",
    "    print(\"* Read dict from csv: \")\n",
    "    with open(csv_file, \"r\") as fp:\n",
    "        if with_columns:\n",
    "            reader = csv.DictReader(fp)\n",
    "        else:\n",
    "            reader = csv.DictReader(fp, fieldnames=columns)\n",
    "\n",
    "        for row in reader:\n",
    "            row = [\n",
    "                f\"{cols[n]}: {item}\" for n, item in enumerate(row)\n",
    "            ]\n",
    "            print(f\"    {row}\")\n",
    "\n",
    "    print(\"* Read whole csv file: \")\n",
    "    with open(csv_file, \"r\") as fp:\n",
    "        for line in fp.readlines():\n",
    "            print(f\"    {line}\", end=\"\")\n",
    "finally:\n",
    "    os.remove(csv_file)"
   ]
  }
 ],
 "metadata": {
  "kernelspec": {
   "display_name": "Python 3",
   "language": "python",
   "name": "python3"
  },
  "language_info": {
   "codemirror_mode": {
    "name": "ipython",
    "version": 3
   },
   "file_extension": ".py",
   "mimetype": "text/x-python",
   "name": "python",
   "nbconvert_exporter": "python",
   "pygments_lexer": "ipython3",
   "version": "3.8.5"
  }
 },
 "nbformat": 4,
 "nbformat_minor": 4
}
