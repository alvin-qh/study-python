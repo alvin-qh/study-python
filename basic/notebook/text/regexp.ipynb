{
 "cells": [
  {
   "cell_type": "markdown",
   "metadata": {},
   "source": [
    "# Regexp"
   ]
  },
  {
   "cell_type": "markdown",
   "metadata": {},
   "source": [
    "All regexp function include in `re` model."
   ]
  },
  {
   "cell_type": "markdown",
   "metadata": {},
   "source": [
    "## 1. Match pattern\n",
    "\n",
    "- The `re.match(pattern, str, flags=0) -> bool` function check a `str` if it match the `pattern`. The `flags` argument can be:\n",
    "\n",
    "    - `re.A` (or `re.ASCII`): Make `\\w`, `\\W`, `\\b`, `\\B` perform ASCII-only matching instead of full Unicode matching.\n",
    "    - `re.DEBUG`: Display debug information about compiled expression. No corresponding inline flag.\n",
    "    - `re.I` (or `re.IGNORECASE`): Ignore case.\n",
    "    - `re.L` (or `re.LOCALE`): Make `\\w`, `\\W`, `\\b`, `\\B` and case-insensitive matching dependent on the current locale.\n",
    "    - `re.M` (or `re.MULTILINE`): Multi-line match.\n",
    "    - `re.S` (or `re.DOTALL`): Make the '`.`' special character match any character at all, including a newline; without this flag, '`.`' will match anything except a newline. Corresponds to the inline flag (`?s`).\n",
    "    - `re.X` (or `re.VERBOSE`): This flag allows you to write regular expressions that look nicer and are more readable by allowing you to visually separate logical sections of the pattern and add comments."
   ]
  },
  {
   "cell_type": "code",
   "execution_count": null,
   "metadata": {},
   "outputs": [],
   "source": [
    "import re\n",
    "\n",
    "\n",
    "pattern = r\"^\\(?0\\d{2}[\\)\\-\\s]?\\d{8}$|^\\(?0\\d{3}[\\)\\-\\s]?\\d{7,8}$|^1\\d{10}$\"\n",
    "print(f'* When \"pattern = \"{pattern}\"\"')\n",
    "\n",
    "r = re.match(pattern, \"(029)85556666\")\n",
    "print(f'  call \"re.match(pattern, \"(029)85556666\")\" return: \"{r}\"')\n",
    "\n",
    "r = re.match(pattern, \"029-85556666\")\n",
    "print(f'  call \"re.match(pattern, \"029-85556666\")\" return: \"{r}\"')\n",
    "\n",
    "r = re.match(pattern, \"029 85556666\")\n",
    "print(f'  call \"re.match(pattern, \"029 85556666\")\" return: \"{r}\"')\n",
    "\n",
    "r = re.match(pattern, \"(0917)8556666\")\n",
    "print(f'  call \"re.match(pattern, \"(0917)8556666\")\" return: \"{r}\"')\n",
    "\n",
    "r = re.match(pattern, \"0917-8556666\")\n",
    "print(f'  call \"re.match(pattern, \"0917-8556666\")\" return: \"{r}\"')\n",
    "\n",
    "r = re.match(pattern, \"0917 8556666\")\n",
    "print(f'  call \"re.match(pattern, \"0917 8556666\")\" return: \"{r}\"')\n",
    "\n",
    "r = re.match(pattern, \"13991300001\")\n",
    "print(f'  call \"re.match(pattern, \"13991300001\")\" return: \"{r}\"')"
   ]
  },
  {
   "cell_type": "markdown",
   "metadata": {},
   "source": [
    "- Find all matched substring"
   ]
  },
  {
   "cell_type": "code",
   "execution_count": null,
   "metadata": {},
   "outputs": [],
   "source": [
    "import re\n",
    "\n",
    "\n",
    "pattern = r\"\\d+\"\n",
    "print(f'* When \"pattern = \"{pattern}\"\"')\n",
    "\n",
    "r = re.findall(pattern, \"123 456 789\")\n",
    "print(f'  call \"re.findall(pattern, \"123 456 789\")\" return: \"{r}\"')"
   ]
  },
  {
   "cell_type": "markdown",
   "metadata": {},
   "source": [
    "- Find all and get result as iterator"
   ]
  },
  {
   "cell_type": "code",
   "execution_count": null,
   "metadata": {},
   "outputs": [],
   "source": [
    "import re\n",
    "\n",
    "\n",
    "pattern = r\"\\d+\"\n",
    "print(f'* When \"pattern = \"{pattern}\"\"')\n",
    "\n",
    "r = re.finditer(pattern, \"123 456 789\")\n",
    "print(f'  call \"re.finditer(pattern, \"123 456 789\")\" return: \"{r}\", and \"list(r)\" is: {list(r)}')"
   ]
  },
  {
   "cell_type": "markdown",
   "metadata": {},
   "source": [
    "## 2. Split and substring\n",
    "\n",
    "- Split string by pattern"
   ]
  },
  {
   "cell_type": "code",
   "execution_count": null,
   "metadata": {},
   "outputs": [],
   "source": [
    "import re\n",
    "\n",
    "\n",
    "pattern = r\"\\s+\"\n",
    "print(f'* When \"pattern = \"{pattern}\"\"')\n",
    "\n",
    "r = re.split(pattern, \"abc    def ghi\\tjkl\", maxsplit=2)\n",
    "print(f'  call \"re.split(pattern, \"abc    def ghi\\\\tjkl\", maxsplit=2)\" return: \"{r}\"')"
   ]
  },
  {
   "cell_type": "markdown",
   "metadata": {},
   "source": [
    "- Find substring"
   ]
  },
  {
   "cell_type": "code",
   "execution_count": null,
   "metadata": {},
   "outputs": [],
   "source": [
    "import re\n",
    "\n",
    "\n",
    "pattern = r\"\\d+\"\n",
    "print(f'* When \"pattern = \"{pattern}\"\"')\n",
    "\n",
    "r = re.sub(pattern, \"X\", \"123a456b789c\")\n",
    "print(f'  call \"re.sub(pattern, \"X\", \"123a456b789c\")\" return: \"{r}\"')\n",
    "\n",
    "def repl(mo: re.Match) -> str:\n",
    "    span = mo.span()\n",
    "    group = mo.group()\n",
    "    print(f'  >> \"mo.span()\" return: \"{span}\", and \"mo.group()\" return: \"{group}\"')\n",
    "    return \"X\"\n",
    "\n",
    "\n",
    "r = re.sub(pattern, repl, \"123a456b789c\")\n",
    "print(f'  call \"re.sub(pattern, repl, \"123a456b789c\")\" return: \"{r}\"')"
   ]
  },
  {
   "cell_type": "markdown",
   "metadata": {},
   "source": [
    "## 3. Search and grouping "
   ]
  },
  {
   "cell_type": "code",
   "execution_count": null,
   "metadata": {},
   "outputs": [],
   "source": [
    "import re\n",
    "\n",
    "\n",
    "pattern = r\"(?P<n1>\\d+),(\\d+),(?P<n2>\\d+),(\\d+)\"\n",
    "print(f'* When \"pattern = \"{pattern}\"\"')\n",
    "\n",
    "rs = re.search(pattern, \"10,20,30,50\")\n",
    "print(f'  and \"rs = re.search(pattern, \"10,20,30,50\")\", \"rs={rs}\"')\n",
    "\n",
    "r = rs.groups()  # Get all groups of search result\n",
    "print(f'  then call \"rs.groups()\" return: \"{r}\"')\n",
    "\n",
    "r = rs.group(1)\n",
    "print(f'  then call \"rs.groups(1)\" return: \"{r}\"')\n",
    "\n",
    "r = rs.group(4)\n",
    "print(f'  then call \"rs.groups(4)\" return: \"{r}\"')\n",
    "\n",
    "r = rs.group(\"n2\")  # Get named group\n",
    "print(f'  then call \"rs.groups(\"n2\")\" return: \"{r}\"')\n",
    "\n",
    "r = rs.start(1)  # Get the start position of group 1\n",
    "print(f'  then call \"rs.start(1)\" return: \"{r}\"')\n",
    "\n",
    "r = rs.end(1)  # Get the end position of group 1\n",
    "print(f'  then call \"rs.end(1)\" return: \"{r}\"')\n",
    "\n",
    "r = rs.groupdict()  # Get all named group as dictionary format\n",
    "print(f'  then call \"rs.groupdict()\" return: \"{r}\"')"
   ]
  },
  {
   "cell_type": "markdown",
   "metadata": {},
   "source": [
    "## 4. Compile the regepx\n",
    "\n",
    "- Compile string pattern"
   ]
  },
  {
   "cell_type": "code",
   "execution_count": null,
   "metadata": {},
   "outputs": [],
   "source": [
    "from typing import List\n",
    "import re\n",
    "\n",
    "\n",
    "pattern = r\"\\s+\"\n",
    "print(f'* When \"pattern = \"{pattern}\"\"')\n",
    "\n",
    "rx = re.compile(pattern)\n",
    "print(f'  and \"rx = re.compile(pattern)\", \"rx={rx}\"')\n",
    "\n",
    "r = rx.match(\"\\t\")\n",
    "print(f'  then call \"rx.match(\"\\\\t\")\" return: \"{r}\"')\n",
    "\n",
    "r = rx.findall(\"1 2\\t3  4\")\n",
    "print(f'  then call \"rx.findall(\"1 2\\\\t3  4\")\" return: \"{r}\"')\n",
    "\n",
    "r = rx.split(\"1 2\\t3  4\")\n",
    "print(f'  then call \"rx.split(\"1 2\\\\t3  4\")\" return: \"{r}\"')\n",
    "\n",
    "r = rx.sub(\"-\", \"1 2\\t3  4\")\n",
    "print(f'  then call \"rx.sub(\"1 2\\\\t3  4\")\" return: \"{r}\"')\n",
    "\n",
    "\n",
    "class Repl:\n",
    "    def __init__(self) -> None:\n",
    "        self._list: List[str] = []\n",
    "\n",
    "    def __call__(self, mo: re.Match) -> str:\n",
    "        self._list.append(mo.group())\n",
    "        return \"-\"\n",
    "\n",
    "    @property\n",
    "    def list(self):\n",
    "        return self._list\n",
    "\n",
    "\n",
    "repl = Repl()\n",
    "\n",
    "r = rx.sub(repl, \"1 2\\t3  4\")\n",
    "print(f'  then call \"rx.sub(repl, \"1 2\\\\t3  4\")\" return: \"{r}\", and \"repl.list\" return: \"{repl.list}\"')"
   ]
  },
  {
   "cell_type": "markdown",
   "metadata": {},
   "source": [
    "## 5. Escape string\n",
    "\n",
    "- escpae pattern string"
   ]
  },
  {
   "cell_type": "code",
   "execution_count": null,
   "metadata": {},
   "outputs": [],
   "source": [
    "import re\n",
    "\n",
    "\n",
    "esp = re.escape(r\"[-\\]\")\n",
    "print(f'* When \"esp = re.escape(r\"[-\\]\")\", \"esp={esp}\"')\n",
    "\n",
    "pattern = f\"[{esp}]\"\n",
    "print(f'  and \"pattern = f\"[{esp}]\"\", pattern=\"{pattern}\"')\n",
    "\n",
    "rx = re.compile(pattern)\n",
    "print(f'  and \"rx = re.compile(pattern)\", \"rx={rx}\"')\n",
    "\n",
    "r = rx.findall(r\"-\\]a[\")\n",
    "print(f'  then call \"rx.findall(r\"-\\]a[\")\" return \"rx={r}\"')"
   ]
  },
  {
   "cell_type": "markdown",
   "metadata": {},
   "source": [
    "- Use `sub` and `escape` to do replacement"
   ]
  },
  {
   "cell_type": "code",
   "execution_count": null,
   "metadata": {},
   "outputs": [],
   "source": [
    "import re\n",
    "\n",
    "\n",
    "characters = {\n",
    "    \"a\": \"A\",\n",
    "    \"b\": \"B\",\n",
    "    \"c\": \"C\"\n",
    "}\n",
    "\n",
    "print(f'* When \"characters={characters}\"')\n",
    "\n",
    "pattern = \"|\".join(map(re.escape, characters))\n",
    "print(f'  then \"pattern = \"|\".join(map(re.escape, characters))\", pattern=\"{pattern}\"')\n",
    "\n",
    "\n",
    "rx = re.compile(pattern)\n",
    "print(f'  then \"rx = re.compile(pattern)\", rx=\"{rx}\"')\n",
    "\n",
    "def replace(mo: re.Match) -> str:\n",
    "    return characters[mo.group(0)]\n",
    "\n",
    "\n",
    "r = rx.sub(replace, \"abcde\")\n",
    "print(f'  then call \"rx.sub(replace, \"abcde\")\" return: \"{r}\"')"
   ]
  }
 ],
 "metadata": {
  "kernelspec": {
   "display_name": "Python 3",
   "language": "python",
   "name": "python3"
  },
  "language_info": {
   "codemirror_mode": {
    "name": "ipython",
    "version": 3
   },
   "file_extension": ".py",
   "mimetype": "text/x-python",
   "name": "python",
   "nbconvert_exporter": "python",
   "pygments_lexer": "ipython3",
   "version": "3.8.5"
  }
 },
 "nbformat": 4,
 "nbformat_minor": 4
}
