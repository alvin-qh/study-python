{
 "cells": [
  {
   "cell_type": "markdown",
   "metadata": {},
   "source": [
    "# JSON"
   ]
  },
  {
   "cell_type": "markdown",
   "metadata": {},
   "source": [
    "## 1. Dict <==> JSON string"
   ]
  },
  {
   "cell_type": "markdown",
   "metadata": {},
   "source": [
    "### 1.1. Dict to JSON string"
   ]
  },
  {
   "cell_type": "code",
   "execution_count": null,
   "metadata": {},
   "outputs": [],
   "source": [
    "import json\n",
    "\n",
    "\n",
    "obj = {\n",
    "    \"name\": \"Alvin\",\n",
    "    \"age\": 40,\n",
    "    \"skill\": [\n",
    "        \"Programming\",\n",
    "        \"Teaching\"\n",
    "    ]\n",
    "}\n",
    "print(f'* When \"obj = {obj}\"')\n",
    "\n",
    "s = json.dumps(obj, sort_keys=True, indent=4)\n",
    "print(f' call \"json.dumps(obj, sort_keys=True, indent=2)\" return: \"{s}\"')\n",
    "\n",
    "s = json.dumps(obj, sort_keys=True, indent=4, separators=(\";\", \"=\"))\n",
    "print(f' call \"json.dumps(obj, sort_keys=True, indent=4, separators=(\";\", \"=\"))\" return: \"{s}\"')\n",
    "\n",
    "obj.update(age=float(\"nan\"))\n",
    "print(f'* When \"obj = {obj}\"')\n",
    "\n",
    "s = json.dumps(obj, sort_keys=True, indent=4)\n",
    "print(f'  call \"json.dumps(obj, sort_keys=True, indent=4)\" return: \"{s}\"')\n",
    "\n",
    "try:\n",
    "    json.dumps(obj, sort_keys=True, allow_nan=False)\n",
    "except ValueError as err:\n",
    "    print(f'  call \"json.dumps(obj, sort_keys=True, allow_nan=False)\" raise error: \"{err}\"')\n",
    "\n",
    "obj.update(age=float(\"-inf\"))\n",
    "print(f'* When \"obj = {obj}\"')\n",
    "\n",
    "s = json.dumps(obj, sort_keys=True, indent=4)\n",
    "print(f'  call \"json.dumps(DICT, sort_keys=True, indent=4)\" return: \"{s}\"')"
   ]
  },
  {
   "cell_type": "markdown",
   "metadata": {},
   "source": [
    "### 1.2. JSON string to Dict"
   ]
  },
  {
   "cell_type": "code",
   "execution_count": null,
   "metadata": {},
   "outputs": [],
   "source": [
    "import json\n",
    "\n",
    "\n",
    "s = \"\"\"{\n",
    "    \"age\": 40,\n",
    "    \"name\": \"Alvin\", \n",
    "    \"skill\": [\"Programming\", \"Teaching\"]\n",
    "}\"\"\"\n",
    "print(f'* When \"s = {s}\"')\n",
    "\n",
    "obj = json.loads(s)\n",
    "print(f'  call \"json.loads(s)\" return: \"{obj}\"')"
   ]
  },
  {
   "cell_type": "markdown",
   "metadata": {},
   "source": [
    "### 1.3. With file describer"
   ]
  },
  {
   "cell_type": "code",
   "execution_count": null,
   "metadata": {},
   "outputs": [],
   "source": [
    "from io import StringIO\n",
    "import json\n",
    "\n",
    "obj = {\n",
    "    \"name\": \"Alvin\",\n",
    "    \"age\": 40,\n",
    "    \"skill\": [\"Programming\", \"Teaching\"]\n",
    "}\n",
    "\n",
    "print(f'* When \"obj = {obj}\"')\n",
    "\n",
    "with StringIO() as fp:\n",
    "    json.dump(obj, fp=fp, sort_keys=True, indent=4)\n",
    "    s = fp.getvalue()\n",
    "\n",
    "print(f'  call \"json.dump(obj, fp=fp, sort_keys=True, indent=4)\", then content of \"fp\" is: \"{s}\"')\n",
    "\n",
    "\n",
    "with StringIO(s) as fp:\n",
    "    print(f'* When content of \"fp\" is: {fp.getvalue()}')\n",
    "    fp.seek(0)\n",
    "    obj = json.load(fp)\n",
    "\n",
    "print(f'  call \"json.load(fp)\", return: \"{obj}\"')"
   ]
  },
  {
   "cell_type": "code",
   "execution_count": null,
   "metadata": {},
   "outputs": [],
   "source": [
    "\"\"\"\n",
    "Object to dict\n",
    "\"\"\"\n",
    "\n",
    "import json as j\n",
    "\n",
    "class A:\n",
    "    def __init__(self, name: str, age: int):\n",
    "        self.name = name\n",
    "        self.age = age\n",
    "\n",
    "    def __repr__(self):\n",
    "        return \"{{\"name\": {}, \"age\": {}}}\".format(self.name, self.age)\n",
    "\n",
    "\n",
    "a = A(\"Alvin\", 40)\n",
    "json = j.dumps(vars(a), indent=2)\n",
    "print(\"* json {} to object is \"{}\"\".format(json, obj))"
   ]
  },
  {
   "cell_type": "code",
   "execution_count": null,
   "metadata": {},
   "outputs": [],
   "source": [
    "\"\"\"\n",
    "Encode custom types\n",
    "\"\"\"\n",
    "\n",
    "class ObjectEncoder(j.JSONEncoder):\n",
    "    def default(self, obj):\n",
    "        if isinstance(obj, A):\n",
    "            return {\n",
    "                \"__custom__\": True,\n",
    "                \"name\": obj.name,\n",
    "                \"age\": obj.age\n",
    "            }\n",
    "\n",
    "        return None\n",
    "\n",
    "\n",
    "json = j.dumps(a, cls=ObjectEncoder, indent=2)\n",
    "print(\"* json {} to object is \"{}\"\".format(json, obj))\n",
    "\n",
    "\n",
    "d = {\n",
    "    \"a\": a,\n",
    "    \"b\": 100\n",
    "}\n",
    "json = j.dumps(d, cls=ObjectEncoder, indent=2)\n",
    "print(\"* json {} to object is \"{}\"\".format(json, obj))"
   ]
  },
  {
   "cell_type": "code",
   "execution_count": null,
   "metadata": {},
   "outputs": [],
   "source": [
    "\"\"\"\n",
    "Decode custom types\n",
    "\"\"\"\n",
    "\n",
    "def object_hook(dct):\n",
    "    if \"__custom__\" not in dct:\n",
    "        return dct\n",
    "\n",
    "    return A(dct[\"name\"], dct[\"age\"])\n",
    "\n",
    "\n",
    "obj = j.loads(json, object_hook=object_hook)\n",
    "print(\"* json {} to object is \"{}\"\".format(json, obj))"
   ]
  }
 ],
 "metadata": {
  "kernelspec": {
   "display_name": "Python 3",
   "language": "python",
   "name": "python3"
  },
  "language_info": {
   "codemirror_mode": {
    "name": "ipython",
    "version": 3
   },
   "file_extension": ".py",
   "mimetype": "text/x-python",
   "name": "python",
   "nbconvert_exporter": "python",
   "pygments_lexer": "ipython3",
   "version": "3.8.5"
  }
 },
 "nbformat": 4,
 "nbformat_minor": 4
}
