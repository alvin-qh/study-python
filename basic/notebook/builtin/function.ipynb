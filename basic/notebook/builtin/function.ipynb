{
 "cells": [
  {
   "cell_type": "markdown",
   "metadata": {},
   "source": [
    "# Python function"
   ]
  },
  {
   "cell_type": "markdown",
   "metadata": {},
   "source": [
    "- Simple function"
   ]
  },
  {
   "cell_type": "code",
   "execution_count": null,
   "metadata": {},
   "outputs": [],
   "source": [
    "from typing import Union\n",
    "\n",
    "Argument = Union[str, int]\n",
    "\n",
    "\n",
    "def add(a: Argument, b: Argument) -> Argument:\n",
    "    return a + b\n",
    "\n",
    "\n",
    "r = add(10, 20)\n",
    "print(\"* Call 'add(10, 20)' return: {}\".format(r))\n",
    "\n",
    "r = add(\"10\", \"20\")\n",
    "print(\"* Call 'add(\\\"10\\\", \\\"20\\\")' return: {}\".format(r))\n",
    "\n",
    "r = add(b=\"10\", a=\"20\")\n",
    "print(\"* Call 'add(b=\\\"10\\\", a=\\\"20\\\")' return: {}\".format(r))"
   ]
  },
  {
   "cell_type": "markdown",
   "metadata": {},
   "source": [
    "- Array arguments"
   ]
  },
  {
   "cell_type": "code",
   "execution_count": null,
   "metadata": {},
   "outputs": [],
   "source": [
    "def add(*a):\n",
    "    if type(a[0]) == str:\n",
    "        c = \"\"\n",
    "    elif type(a[0]) in (int, float):\n",
    "        c = 0\n",
    "    elif type(a[0]) == list:\n",
    "        c = []\n",
    "    else:\n",
    "        raise TypeError()\n",
    "\n",
    "    for x in a:\n",
    "        c += x\n",
    "    return c\n",
    "\n",
    "\n",
    "r = add(1, 2, 3)\n",
    "print(\"* Call 'add(1, 2, 3)' return: {}\".format(r))\n",
    "\n",
    "r = add(\"a\", \"b\", \"c\")\n",
    "print(\"* Call add(\\\"a\\\", \\\"b\\\", \\\"c\\\") return: '{}'\".format(r))\n",
    "\n",
    "args = [1, 2, 3]\n",
    "print(\"* When args='{}'\")\n",
    "\n",
    "r = add(args)\n",
    "print(\"  call 'add(args)' return: '{}'\".format(r))\n",
    "\n",
    "r = add(*args)\n",
    "print(\"  call 'add(*args)' return: {}\".format(r))"
   ]
  },
  {
   "cell_type": "markdown",
   "metadata": {},
   "source": [
    "- Dict arguments"
   ]
  },
  {
   "cell_type": "code",
   "execution_count": null,
   "metadata": {},
   "outputs": [],
   "source": [
    "def test(**a):\n",
    "    return a\n",
    "\n",
    "\n",
    "r = test(a=10, b=20)\n",
    "print(\"* Call 'test(a=10, b=20) return '{}'\".format(r))\n",
    "\n",
    "args = {\"a\": 10, \"b\": 20}\n",
    "print(\"* When args='{}', call 'test(**args)' return: '{}'\".format(args, r))"
   ]
  },
  {
   "cell_type": "markdown",
   "metadata": {},
   "source": [
    "- Closure"
   ]
  },
  {
   "cell_type": "code",
   "execution_count": null,
   "metadata": {},
   "outputs": [],
   "source": [
    "from typing import Callable, Any\n",
    "\n",
    "value = 100\n",
    "\n",
    "\n",
    "def test(callback: Callable):\n",
    "    return callback(value)\n",
    "\n",
    "\n",
    "def closure(val: Any) -> Any:\n",
    "    return val\n",
    "\n",
    "\n",
    "r = test(closure)\n",
    "print(\"* Call 'test(closure)' return: {}\".format(r))\n",
    "\n",
    "r = test(lambda val: val * 2)\n",
    "print(\"* Call 'test(lambda val: val * 2)' return: {}\".format(r))"
   ]
  },
  {
   "cell_type": "markdown",
   "metadata": {},
   "source": [
    "- Global variable"
   ]
  },
  {
   "cell_type": "code",
   "execution_count": null,
   "metadata": {},
   "outputs": [],
   "source": [
    "gv = 100\n",
    "\n",
    "\n",
    "def change_global(val: int):\n",
    "    global gv\n",
    "    gv = val\n",
    "\n",
    "\n",
    "change_global(200)\n",
    "print(\"* After call 'change_global(200)', variable 'gv' is: {}\".format(gv))"
   ]
  },
  {
   "cell_type": "markdown",
   "metadata": {},
   "source": [
    "- Nolocal"
   ]
  },
  {
   "cell_type": "code",
   "execution_count": null,
   "metadata": {},
   "outputs": [],
   "source": [
    "def outside():\n",
    "    x = 10\n",
    "\n",
    "    def inside() -> int:\n",
    "        x = 5  # cannot affect the x outside\n",
    "        return x\n",
    "\n",
    "    def get_x() -> int:\n",
    "        return x\n",
    "\n",
    "    return inside, get_x\n",
    "\n",
    "\n",
    "f1, f2 = outside()\n",
    "r1 = f1()\n",
    "r2 = f2()\n",
    "print(\"* Without nolocal, call 'outside.inside()' return: {}, \"\n",
    "      \"and 'outside.get_x()' return: {}\".format(r1, r2))\n",
    "\n",
    "\n",
    "def outside():\n",
    "    x = 10\n",
    "\n",
    "    def inside() -> int:\n",
    "        nonlocal x\n",
    "        x = 5  # change outside x variable value\n",
    "        return x\n",
    "\n",
    "    def get_x() -> int:\n",
    "        return x\n",
    "\n",
    "    return inside, get_x\n",
    "\n",
    "\n",
    "f1, f2 = outside()\n",
    "r1 = f1()\n",
    "r2 = f2()\n",
    "print(\"* With nolocal, call 'outside.inside()' return: {}, \"\n",
    "      \"and 'outside.get_x()' return {}\".format(r1, r2))"
   ]
  },
  {
   "cell_type": "markdown",
   "metadata": {},
   "source": [
    "- Yield"
   ]
  },
  {
   "cell_type": "code",
   "execution_count": null,
   "metadata": {},
   "outputs": [],
   "source": [
    "def xrange1(min_: int, max_: int) -> int:\n",
    "    while min_ < max_:\n",
    "        yield min_\n",
    "        min_ += 1\n",
    "\n",
    "\n",
    "def xrange2(min_: int, max_: int) -> int:\n",
    "    yield from range(min_, max_)\n",
    "    yield 100\n",
    "\n",
    "\n",
    "r = xrange1(1, 4)\n",
    "print(\"* Call 'list(xrange1(1, 4))' return: '{}'\".format(list(r)))\n",
    "\n",
    "r = xrange2(1, 4)\n",
    "print(\"* Call 'list(xrange2(1, 4))' return: '{}'\".format(list(r)))"
   ]
  },
  {
   "cell_type": "markdown",
   "metadata": {},
   "source": [
    "- Match different arguments"
   ]
  },
  {
   "cell_type": "code",
   "execution_count": null,
   "metadata": {},
   "outputs": [],
   "source": [
    "from typing import Any\n",
    "\n",
    "\n",
    "def run(*args, **kwargs) -> Any:\n",
    "    def add1(x: int, y: int) -> int:\n",
    "        return x + y\n",
    "\n",
    "    def add2(x: int, y: int, z: int) -> int:\n",
    "        return x + y + z\n",
    "\n",
    "    executor = add2\n",
    "    if len(args) + len(kwargs) == 2:\n",
    "        executor = add1\n",
    "\n",
    "    return executor(*args, **kwargs)\n",
    "\n",
    "\n",
    "r = run(1, 2)\n",
    "print(\"* Call 'run(1, 2)' return: {}\".format(r))\n",
    "\n",
    "r = run(x=1, y=2)\n",
    "print(\"* Call 'run(x=1, y=2)' return: {}\".format(r))\n",
    "\n",
    "r = run(1, 2, 3)\n",
    "print(\"* Call 'run(1, 2, 3)' return: {}\".format(r))\n",
    "\n",
    "r = run(z=1, x=2, y=3)\n",
    "print(\"* Call 'run(z=1, x=2, y=3)' return: {}\".format(r))"
   ]
  },
  {
   "cell_type": "markdown",
   "metadata": {},
   "source": [
    "- Asterisk argument"
   ]
  },
  {
   "cell_type": "code",
   "execution_count": null,
   "metadata": {},
   "outputs": [],
   "source": [
    "def asterisk_arguments(*, a: int, b: int) -> int:\n",
    "    return a + b\n",
    "\n",
    "\n",
    "r = asterisk_arguments(a=100, b=200)\n",
    "print(\"* Call 'asterisk_arguments(a=100, b=200)' return: {}\".format(r))\n",
    "\n",
    "try:\n",
    "    asterisk_arguments(1, 2)\n",
    "except TypeError as e:\n",
    "    print(\"* Call 'asterisk_arguments(1, 2)' cause error: '{}'\".format(e))"
   ]
  },
  {
   "cell_type": "markdown",
   "metadata": {},
   "source": [
    "- Currying"
   ]
  },
  {
   "cell_type": "code",
   "execution_count": null,
   "metadata": {},
   "outputs": [],
   "source": [
    "from functools import partial, partialmethod\n",
    "\n",
    "\n",
    "fw = partial(lambda a, b: a - b, 20, 10)\n",
    "r = fw()\n",
    "print(\"* When 'fw = ft.partial(lambda a, b: a - b, 20, 10)', \"\n",
    "      \"call 'fw()' return: {}\".format(r))\n",
    "\n",
    "fw = partial(lambda a, b: a - b, 20)\n",
    "r = fw(20)\n",
    "print(\"* When 'fw = ft.partial(lambda a, b: a - b, 20)', \"\n",
    "      \"call 'fw(20)' return: {}\".format(r))\n",
    "\n",
    "fw = partial(lambda a, b: a - b, b=20)\n",
    "r = fw(a=30)\n",
    "print(\"* When 'fw = ft.partial(lambda a, b: a - b, b=20)', \"\n",
    "      \"call 'fw(a=30)' return {}\".format(r))\n",
    "\n",
    "\n",
    "class A:\n",
    "    def __init__(self, value: int):\n",
    "        self.value = value\n",
    "\n",
    "    def set_value(self, value: int):\n",
    "        self.value = value\n",
    "\n",
    "    zero = partialmethod(set_value, 0)\n",
    "\n",
    "\n",
    "a = A(0)\n",
    "print(\"* After create object 'a = A(0)'\")\n",
    "\n",
    "a.set_value(10)\n",
    "print(\"  call 'a.set_value(10)', then 'a.value' is: {}\".format(a.value))\n",
    "\n",
    "a.zero()\n",
    "print(\"  call 'a.zero()', then 'a.value' is: {}\".format(a.value))"
   ]
  },
  {
   "cell_type": "markdown",
   "metadata": {},
   "source": [
    "- Reduce"
   ]
  },
  {
   "cell_type": "code",
   "execution_count": null,
   "metadata": {},
   "outputs": [],
   "source": [
    "from functools import reduce\n",
    "from operator import (add, mul)\n",
    "\n",
    "args = [2, 3, 4]\n",
    "r = reduce(lambda a, b: a + b, args)\n",
    "print(\"* Call 'reduce(lambda a, b: a + b, {})' return: {}\".format(args, r))\n",
    "\n",
    "r = reduce(add, args)\n",
    "print(\"* Call 'reduce(add, {})' return: {}\".format(args, r))\n",
    "\n",
    "r = reduce(mul, [2, 3, 4])\n",
    "print(\"* Call 'reduce(mul, {})' return: {}\".format(args, r))"
   ]
  },
  {
   "cell_type": "markdown",
   "metadata": {},
   "source": [
    "- Map/Reduce"
   ]
  },
  {
   "cell_type": "code",
   "execution_count": null,
   "metadata": {},
   "outputs": [],
   "source": [
    "from functools import reduce\n",
    "\n",
    "NUM_MAP = {\n",
    "    \"0\": 0,\n",
    "    \"1\": 1,\n",
    "    \"2\": 2,\n",
    "    \"3\": 3,\n",
    "    \"4\": 4,\n",
    "    \"5\": 5,\n",
    "    \"6\": 6,\n",
    "    \"7\": 7,\n",
    "    \"8\": 8,\n",
    "    \"9\": 9\n",
    "}\n",
    "\n",
    "\n",
    "def char_to_int(c: str) -> int:\n",
    "    return NUM_MAP[c]\n",
    "\n",
    "\n",
    "def connect_num(num: int, n: int) -> int:\n",
    "    return num * 10 + n\n",
    "\n",
    "\n",
    "args = \"12345\"\n",
    "r = reduce(connect_num, map(char_to_int, args))\n",
    "print(\"* String '{}' to number is: {}\".format(args, r))"
   ]
  },
  {
   "cell_type": "markdown",
   "metadata": {},
   "source": [
    "- Wrapped function"
   ]
  },
  {
   "cell_type": "code",
   "execution_count": null,
   "metadata": {},
   "outputs": [],
   "source": [
    "from typing import Callable, Any\n",
    "from functools import wraps, update_wrapper\n",
    "\n",
    "\n",
    "def without_decroator(func: Callable) -> Callable:\n",
    "    def wrapper(*args, **kwargs) -> Any:\n",
    "        return func(*args, **kwargs)\n",
    "\n",
    "    return wrapper\n",
    "\n",
    "\n",
    "@without_decroator\n",
    "def func():\n",
    "    pass\n",
    "\n",
    "\n",
    "print(\"* Without '@wraps' decorate, \"\n",
    "      \"name of 'func' is: '{}'\".format(func.__name__))\n",
    "\n",
    "\n",
    "def with_decroator(func: Callable) -> Callable:\n",
    "    @wraps(func)\n",
    "    def wrapper(*args, **kwargs) -> Any:\n",
    "        return func(*args, **kwargs)\n",
    "\n",
    "    return wrapper\n",
    "\n",
    "\n",
    "@with_decroator\n",
    "def func():\n",
    "    pass\n",
    "\n",
    "\n",
    "print(\"* With '@wraps(func)' decorate, \"\n",
    "      \"name of 'func' is: '{}'\".format(func.__name__))\n",
    "\n",
    "\n",
    "def with_update_wrapper(func: Callable) -> Callable:\n",
    "    def wrapper(*args, **kwargs) -> Any:\n",
    "        return func(*args, **kwargs)\n",
    "\n",
    "    return update_wrapper(wrapper, func)\n",
    "\n",
    "\n",
    "@with_update_wrapper\n",
    "def func():\n",
    "    pass\n",
    "\n",
    "\n",
    "print(\"* With call 'update_wrapper()' function, \"\n",
    "      \"name of 'func' is: '{}'\".format(func.__name__))"
   ]
  },
  {
   "cell_type": "markdown",
   "metadata": {},
   "source": [
    "- Compare key"
   ]
  },
  {
   "cell_type": "code",
   "execution_count": null,
   "metadata": {},
   "outputs": [],
   "source": [
    "from typing import Any\n",
    "from functools import cmp_to_key\n",
    "\n",
    "\n",
    "class A:\n",
    "    def __init__(self, value: Any):\n",
    "        self.value = value\n",
    "\n",
    "    def __repr__(self) -> str:\n",
    "        return str(self.value)\n",
    "\n",
    "\n",
    "comparator = cmp_to_key(lambda a, b: b.value - a.value)\n",
    "\n",
    "cmp_1 = comparator(A(2))\n",
    "cmp_2 = comparator(A(3))\n",
    "print(\"* With comparator, \"\n",
    "      \"cmp(A(2)) > cmp(A(3)) return {}\".format(cmp_2 > cmp_1))\n",
    "\n",
    "lst = [A(2), A(1), A(3), A(0), A(4)]\n",
    "lst.sort(key=comparator)\n",
    "print(\"* With comparator, sorted list is {}\".format(lst))"
   ]
  }
 ],
 "metadata": {
  "kernelspec": {
   "display_name": "Python 3",
   "language": "python",
   "name": "python3"
  },
  "language_info": {
   "codemirror_mode": {
    "name": "ipython",
    "version": 3
   },
   "file_extension": ".py",
   "mimetype": "text/x-python",
   "name": "python",
   "nbconvert_exporter": "python",
   "pygments_lexer": "ipython3",
   "version": "3.8.5"
  }
 },
 "nbformat": 4,
 "nbformat_minor": 4
}
