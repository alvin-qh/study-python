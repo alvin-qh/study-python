{
 "cells": [
  {
   "cell_type": "markdown",
   "metadata": {},
   "source": [
    "# Builtin"
   ]
  },
  {
   "cell_type": "markdown",
   "metadata": {},
   "source": [
    "## 1. Math"
   ]
  },
  {
   "cell_type": "markdown",
   "metadata": {},
   "source": [
    "### 1.1. Get absolute value"
   ]
  },
  {
   "cell_type": "code",
   "execution_count": null,
   "metadata": {},
   "outputs": [],
   "source": [
    "r = abs(-10)\n",
    "print(\"* Call 'abs(-10)' return: {}\".format(r))"
   ]
  },
  {
   "cell_type": "markdown",
   "metadata": {},
   "source": [
    "### 1.2. Round number"
   ]
  },
  {
   "cell_type": "code",
   "execution_count": null,
   "metadata": {},
   "outputs": [],
   "source": [
    "r = round(123.456, 2)\n",
    "print(\"* Call 'round(123.456, 2)' return: {}\".format(r))"
   ]
  },
  {
   "cell_type": "markdown",
   "metadata": {},
   "source": [
    "### 1.3. Divmod\n",
    "\n",
    "- `divmod(a, b)`is equivalent to `a // b, a % b`, i.e. the **merchant** and **remaining** number of a, b are returned at the same time"
   ]
  },
  {
   "cell_type": "code",
   "execution_count": null,
   "metadata": {},
   "outputs": [],
   "source": [
    "r = divmod(5, 3)\n",
    "print(\"* Call 'divmod(5, 2)' return: '{}'\".format(r))"
   ]
  },
  {
   "cell_type": "markdown",
   "metadata": {},
   "source": [
    "### 1.4. Conversion of number systems"
   ]
  },
  {
   "cell_type": "code",
   "execution_count": null,
   "metadata": {},
   "outputs": [],
   "source": [
    "# to binary\n",
    "r = bin(3)\n",
    "print(\"* Call 'bin(3)' return: '{}'\".format(r))\n",
    "\n",
    "# to octonary\n",
    "r = oct(10)\n",
    "print(\"* Call 'oct(10)' return: '{}'\".format(r))\n",
    "\n",
    "# to hexadecimal\n",
    "r = hex(10)\n",
    "print(\"* Call 'hex(10)' return: '{}'\".format(r))"
   ]
  },
  {
   "cell_type": "markdown",
   "metadata": {},
   "source": [
    "## 2. Text"
   ]
  },
  {
   "cell_type": "markdown",
   "metadata": {},
   "source": [
    "### 2.1. Character and ascii convert"
   ]
  },
  {
   "cell_type": "code",
   "execution_count": null,
   "metadata": {},
   "outputs": [],
   "source": [
    "# get character by ascii code\n",
    "r = chr(97)\n",
    "print(\"* Call 'chr(97)' return: '{}'\".format(r))\n",
    "\n",
    "# get ascii code by character\n",
    "r = ord(\"A\")\n",
    "print(\"* Call 'ord(\\\"A\\\")' return: {}\".format(r))\n",
    "\n",
    "# get ascii code by string\n",
    "r = ascii(\"测试\")\n",
    "print(\"* Call 'ascii(\\\"测试\\\")' return: {}\".format(r))"
   ]
  },
  {
   "cell_type": "markdown",
   "metadata": {},
   "source": [
    "### 3. Compile"
   ]
  },
  {
   "cell_type": "markdown",
   "metadata": {},
   "source": [
    "### 3.1. Compile the expression"
   ]
  },
  {
   "cell_type": "code",
   "execution_count": null,
   "metadata": {},
   "outputs": [],
   "source": [
    "expression = \"1 + 1\"\n",
    "compiled = compile(expression, filename=\"\", mode=\"eval\")\n",
    "\n",
    "# eval the expression and get result\n",
    "r = eval(compiled)\n",
    "print(\"* When expression is: '{}', \"\n",
    "      \"the 'eval' result is: {}\".format(expression, r))"
   ]
  },
  {
   "cell_type": "markdown",
   "metadata": {},
   "source": [
    "### 3.2. Compile the code"
   ]
  },
  {
   "cell_type": "code",
   "execution_count": null,
   "metadata": {},
   "outputs": [],
   "source": [
    "code = \"x = 1 + 1\"\n",
    "compiled = compile(code, filename=\"\", mode=\"exec\")\n",
    "\n",
    "# execute the compiled code\n",
    "exec(compiled)\n",
    "\n",
    "# eval the expression and get result\n",
    "r = eval(\"x\")\n",
    "print(\"* When code is: '{}', \"\n",
    "      \"after 'exec' the variable 'x' is: {}\".format(code, r))"
   ]
  },
  {
   "cell_type": "markdown",
   "metadata": {},
   "source": [
    "### 3.3. Execute the code"
   ]
  },
  {
   "cell_type": "code",
   "execution_count": null,
   "metadata": {},
   "outputs": [],
   "source": [
    "code = \"\"\"\n",
    "x = 0\n",
    "for i in range(0, 10):\n",
    "    x += 1\n",
    "y = x\"\"\"\n",
    "\n",
    "exec(code)\n",
    "\n",
    "x = eval(\"x\")\n",
    "y = eval(\"y\")\n",
    "\n",
    "print(\"* When code is: '{}'\"\n",
    "      \"\\n after 'exec', the variable 'x' is: {} and 'y' is: {}\".format(\n",
    "          code.replace(\"\\n\", \"\\n\\t\"), x, y))"
   ]
  },
  {
   "cell_type": "markdown",
   "metadata": {},
   "source": [
    "## 4. Variables"
   ]
  },
  {
   "cell_type": "markdown",
   "metadata": {},
   "source": [
    "### 4.1. Locals"
   ]
  },
  {
   "cell_type": "code",
   "execution_count": null,
   "metadata": {},
   "outputs": [],
   "source": [
    "a = 1\n",
    "b = 2\n",
    "lo = locals()\n",
    "\n",
    "print(\"* In locals, 'a' is: {a}, 'b' is: {b}\".format(**lo))"
   ]
  },
  {
   "cell_type": "markdown",
   "metadata": {},
   "source": [
    "### 4.2. Globals"
   ]
  },
  {
   "cell_type": "code",
   "execution_count": null,
   "metadata": {},
   "outputs": [],
   "source": [
    "a = 1\n",
    "b = 2\n",
    "g = globals()\n",
    "\n",
    "print(\"* In globals 'a' is: {a}, 'b' is: {b}\".format(**g))"
   ]
  },
  {
   "cell_type": "markdown",
   "metadata": {},
   "source": [
    "## 5. Other"
   ]
  },
  {
   "cell_type": "markdown",
   "metadata": {},
   "source": [
    "### 5.1. mapping function"
   ]
  },
  {
   "cell_type": "code",
   "execution_count": null,
   "metadata": {},
   "outputs": [],
   "source": [
    "lst = [1, 2, 3, 4, 5]\n",
    "print(\"* When list 'lst' is: {}\".format(lst))\n",
    "\n",
    "r = map(lambda x: x * 10, lst)\n",
    "print(\"  then 'map(lambda x: x * 10, l)' is: '{}', \"\n",
    "      \"and values is: '{}'\".format(r, list(r)))"
   ]
  },
  {
   "cell_type": "markdown",
   "metadata": {},
   "source": [
    "### 5.2. Memory view"
   ]
  },
  {
   "cell_type": "code",
   "execution_count": null,
   "metadata": {},
   "outputs": [],
   "source": [
    "ba = bytearray(b\"abcdef\")\n",
    "print(\"* When bytearray 'ba' is: {}\".format(ba))\n",
    "\n",
    "mv = memoryview(ba)\n",
    "print(\"  then memoryview 'mv' from 'ba' is: {}\".format(mv))\n",
    "\n",
    "r = mv[0]\n",
    "print(\"  and 'mv[0]' is: {}\".format(r))\n",
    "\n",
    "r = mv[-1]\n",
    "print(\"  and 'mv[1]' is: {}\".format(r))\n",
    "\n",
    "r = mv[0:6]\n",
    "print(\"  and 'mv[0:6]' is: {}, the values is: {}\".format(r, r.tobytes()))"
   ]
  },
  {
   "cell_type": "markdown",
   "metadata": {},
   "source": [
    "### 5.3. Object id"
   ]
  },
  {
   "cell_type": "code",
   "execution_count": null,
   "metadata": {},
   "outputs": [],
   "source": [
    "s1 = \"abc\"\n",
    "print(\"* When 's1' is: {}\".format(s1))\n",
    "\n",
    "s2 = \"abc\"\n",
    "print(\"  and 's2' is: {}\".format(s2))\n",
    "\n",
    "r1 = id(s1)\n",
    "r2 = id(s2)\n",
    "print(\"  then 'id(s1)' is: {}, 'id(s2)' is: {}\".format(r1, r2))\n",
    "\n",
    "s2 = \"def\"\n",
    "print(\"\\n  When 's2' is: {}\".format(s2))\n",
    "\n",
    "r2 = id(s2)\n",
    "print(\"  then 'id(s1)' is: {}, 'id(s2)' is: {}\".format(r1, r2))"
   ]
  }
 ],
 "metadata": {
  "kernelspec": {
   "display_name": "Python 3",
   "language": "python",
   "name": "python3"
  },
  "language_info": {
   "codemirror_mode": {
    "name": "ipython",
    "version": 3
   },
   "file_extension": ".py",
   "mimetype": "text/x-python",
   "name": "python",
   "nbconvert_exporter": "python",
   "pygments_lexer": "ipython3",
   "version": "3.8.5"
  }
 },
 "nbformat": 4,
 "nbformat_minor": 4
}
