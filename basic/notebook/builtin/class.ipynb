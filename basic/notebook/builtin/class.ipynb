{
 "cells": [
  {
   "cell_type": "markdown",
   "metadata": {},
   "source": [
    "# OOP"
   ]
  },
  {
   "cell_type": "markdown",
   "metadata": {},
   "source": [
    "## 1. Class and Object"
   ]
  },
  {
   "cell_type": "markdown",
   "metadata": {},
   "source": [
    "### 1.1. Define a class"
   ]
  },
  {
   "cell_type": "code",
   "execution_count": null,
   "metadata": {},
   "outputs": [],
   "source": [
    "from typing import Any\n",
    "\n",
    "\n",
    "class A:\n",
    "    def __init__(self, value: Any):\n",
    "        self.value = value\n",
    "\n",
    "\n",
    "print(\"* Class '{}' defined\".format(A))"
   ]
  },
  {
   "cell_type": "markdown",
   "metadata": {},
   "source": [
    "### 1.2. Create object by defined class"
   ]
  },
  {
   "cell_type": "code",
   "execution_count": null,
   "metadata": {},
   "outputs": [],
   "source": [
    "a = A(100)\n",
    "print(\"* Instance 'a' of class '{}', \"\n",
    "      \"and 'a.value' is: {}\".format(a.__class__, a.value))"
   ]
  },
  {
   "cell_type": "markdown",
   "metadata": {},
   "source": [
    "### 1.3. Check type of object"
   ]
  },
  {
   "cell_type": "code",
   "execution_count": null,
   "metadata": {},
   "outputs": [],
   "source": [
    "a = A(100)\n",
    "\n",
    "r = isinstance(a, A)\n",
    "print(\"* Call 'isinstance(a, A)' return: {}\".format(r))\n",
    "\n",
    "r = isinstance(a, object)\n",
    "print(\"* Call 'isinstance(a, object)' return: {}\".format(r))\n",
    "\n",
    "r = isinstance(a, list)\n",
    "print(\"* Call 'isinstance(a, list)' return: {}\".format(r))\n",
    "\n",
    "r = isinstance(a, (list, int, A))\n",
    "print(\"* Call 'isinstance(a, (list, int, A))' return: {}\".format(r))"
   ]
  },
  {
   "cell_type": "markdown",
   "metadata": {},
   "source": [
    "## 2. Operator override"
   ]
  },
  {
   "cell_type": "markdown",
   "metadata": {},
   "source": [
    "### 2.1. Type convertion operator"
   ]
  },
  {
   "cell_type": "code",
   "execution_count": null,
   "metadata": {},
   "outputs": [],
   "source": [
    "from typing import Any\n",
    "\n",
    "\n",
    "class B_1:\n",
    "    def __init__(self, value: Any):\n",
    "        self.value = value\n",
    "\n",
    "    def __int__(self) -> int:\n",
    "        return int(self.value)\n",
    "\n",
    "    def __float__(self) -> float:\n",
    "        return float(self.value)\n",
    "\n",
    "    def __bool__(self) -> bool:\n",
    "        return self.value is not None\n",
    "\n",
    "    def __str__(self) -> str:\n",
    "        return \"{}\".format(self.value)\n",
    "\n",
    "    def __repr__(self) -> str:\n",
    "        return self.__str__(self)\n",
    "\n",
    "\n",
    "b1 = B_1(123.456)\n",
    "print(\"* Instance 'b1' of class '{}', \"\n",
    "      \"and 'b1.value' is: {}\".format(b1.__class__, a.value))\n",
    "\n",
    "r = b1.value\n",
    "print(\"  and 'b1.value' is: {}\".format(r))\n",
    "\n",
    "r = int(b1)\n",
    "print(\"  and 'int(b1)' is: {} (type is: '{}')\".format(r, type(r)))\n",
    "\n",
    "r = float(b1)\n",
    "print(\"  and 'float(b1)' is: {} (type is: '{}')\".format(r, type(r)))\n",
    "\n",
    "r = bool(b1)\n",
    "print(\"  and 'bool(b1)' is: {} (type is: '{}')\".format(r, type(r)))\n",
    "\n",
    "r = str(b1)\n",
    "print(\"  and 'str(b1)' is: {} (type is: '{}')\".format(r, type(r)))"
   ]
  },
  {
   "cell_type": "markdown",
   "metadata": {},
   "source": [
    "### 2.2. Mathematical operator"
   ]
  },
  {
   "cell_type": "code",
   "execution_count": null,
   "metadata": {},
   "outputs": [],
   "source": [
    "from typing import Any, Callable\n",
    "from operator import (add, sub, mul, truediv, floordiv, mod, pow)\n",
    "\n",
    "\n",
    "class B_2:\n",
    "    def __init__(self, value: Any):\n",
    "        self.value = value\n",
    "\n",
    "    def _cal(self, obj: \"B_2\", opt: Callable) -> \"B_2\":\n",
    "        if isinstance(obj, B_2):\n",
    "            return B_2(opt(self.value, obj.value))\n",
    "\n",
    "        if isinstance(obj, int) or isinstance(obj, float):\n",
    "            return B_2(opt(self.value, obj))\n",
    "\n",
    "        raise TypeError()\n",
    "\n",
    "    def __add__(self, other: \"B_2\") -> \"B_2\":\n",
    "        return self._cal(other, add)\n",
    "\n",
    "    def __sub__(self, other: \"B_2\") -> \"B_2\":\n",
    "        return self._cal(other, sub)\n",
    "\n",
    "    def __mul__(self, other: \"B_2\") -> \"B_2\":\n",
    "        return self._cal(other, mul)\n",
    "\n",
    "    def __truediv__(self, other: \"B_2\") -> \"B_2\":\n",
    "        return self._cal(other, truediv)\n",
    "\n",
    "    def __floordiv__(self, other: \"B_2\") -> \"B_2\":\n",
    "        return self._cal(other, floordiv)\n",
    "\n",
    "    def __mod__(self, other: \"B_2\") -> \"B_2\":\n",
    "        return self._cal(other, mod)\n",
    "\n",
    "    def __pow__(self, other: \"B_2\") -> \"B_2\":\n",
    "        return self._cal(other, pow)\n",
    "\n",
    "    def __str__(self) -> str:\n",
    "        return \"{}\".format(self.value)\n",
    "\n",
    "\n",
    "b2 = B_2(100)\n",
    "print(\"* When instance 'b2' of class '{}', \"\n",
    "      \"and 'b2.value' is: {}\".format(b2.__class__, b2.value))\n",
    "\n",
    "r = b2 + 10\n",
    "print(\"  then 'b2 + 10' is: {}\".format(r))\n",
    "\n",
    "r = b2 - 10\n",
    "print(\"  then 'b2 - 10' is: {}\".format(r))\n",
    "\n",
    "r = b2 * b2\n",
    "print(\"  then 'b2 * b2' is: {}\".format(r))\n",
    "\n",
    "r = r / b2\n",
    "print(\"  then 'b2 / b2' is: {}\".format(r))\n",
    "\n",
    "r = b2 // 7\n",
    "print(\"  then 'b2 // 7' is: {}\".format(r))\n",
    "\n",
    "r = b2 % 7\n",
    "print(\"  then 'b2 % 7' is: {}\".format(r))\n",
    "\n",
    "r = b2 ** 3\n",
    "print(\"  then 'b2 ** 3' is: {}\".format(r))"
   ]
  },
  {
   "cell_type": "markdown",
   "metadata": {},
   "source": [
    "### 2.3. Comparison operator"
   ]
  },
  {
   "cell_type": "code",
   "execution_count": null,
   "metadata": {},
   "outputs": [],
   "source": [
    "class B_3:\n",
    "    def __init__(self, value: int):\n",
    "        self.value = value\n",
    "\n",
    "    def __cmp__(self, other: \"B_3\") -> int:\n",
    "        if isinstance(other, B_3):\n",
    "            return self.value - other.value\n",
    "\n",
    "        if isinstance(other, int) or isinstance(other, float):\n",
    "            return self.value - other\n",
    "\n",
    "        raise TypeError()\n",
    "\n",
    "    def __le__(self, other: \"B_3\") -> bool:  # 小于等于运算符\n",
    "        return self.__cmp__(other) <= 0\n",
    "\n",
    "    def __lt__(self, other: \"B_3\") -> bool:  # 小于运算符\n",
    "        return self.__cmp__(other) < 0\n",
    "\n",
    "    def __ge__(self, other: \"B_3\") -> bool:  # 大于等于运算符\n",
    "        return not self.__lt__(other)\n",
    "\n",
    "    def __gt__(self, other: \"B_3\") -> bool:  # 大于运算符\n",
    "        return not self.__le__(other)\n",
    "\n",
    "    def __eq__(self, other: \"B_3\") -> bool:  # 等于运算符\n",
    "        return self.__cmp__(other) == 0\n",
    "\n",
    "\n",
    "b3 = B_3(5)\n",
    "print(\"* When instance 'b3' of class '{}', \"\n",
    "      \"and 'b3.value' is: {}\".format(b3.__class__, b3.value))\n",
    "\n",
    "r = b3 > 5\n",
    "print(\"  then 'b3 >  5' is: {}\".format(r))\n",
    "\n",
    "r = b3 >= 5\n",
    "print(\"  then 'b3 >= 5' is: {}\".format(r))\n",
    "\n",
    "r = b3 < 5\n",
    "print(\"  then 'b3 <  5' is: {}\".format(r))\n",
    "\n",
    "r = b3 <= 5\n",
    "print(\"  then 'b3 <= 5' is: {}\".format(r))\n",
    "\n",
    "r = b3 == b3\n",
    "print(\"  then 'b3 == b3 is: {}\".format(r))\n",
    "\n",
    "r = b3 != b3\n",
    "print(\"  then 'b3 != b3 is: {}\".format(r))"
   ]
  },
  {
   "cell_type": "markdown",
   "metadata": {},
   "source": [
    "## 3. Built-in function override"
   ]
  },
  {
   "cell_type": "markdown",
   "metadata": {},
   "source": [
    "### 3.1. Override `dir` function\n",
    "\n",
    "`dir` function, show the information of object"
   ]
  },
  {
   "cell_type": "code",
   "execution_count": null,
   "metadata": {},
   "outputs": [],
   "source": [
    "class C_1:\n",
    "    def __dir__(self) -> [str]:\n",
    "        return [\"a\", \"b\", \"c\"]\n",
    "\n",
    "\n",
    "c1 = C_1()\n",
    "print(\"* When instance 'c1' of class '{}'\".format(a.__class__))\n",
    "\n",
    "r = dir(c1)\n",
    "print(\"  then dir(c1) is: {}\".format(r))"
   ]
  },
  {
   "cell_type": "markdown",
   "metadata": {},
   "source": [
    "### 3.2. Override `round` function\n",
    "\n",
    "`round` function, get round value of object"
   ]
  },
  {
   "cell_type": "code",
   "execution_count": null,
   "metadata": {},
   "outputs": [],
   "source": [
    "from typing import Union\n",
    "\n",
    "\n",
    "class C_2:\n",
    "    def __init__(self, n: Union[int, float]):\n",
    "        self.n = n\n",
    "\n",
    "    def __round__(self, digits: int = None) -> \"C_2\":\n",
    "        return C_2(round(self.n, digits))\n",
    "\n",
    "\n",
    "c2 = C_2(123.456)\n",
    "print(\"* When instance 'c2' of class '{}', \"\n",
    "      \"and 'c2.n' is: {}\".format(c2.__class__, c2.n))\n",
    "\n",
    "r = round(c2, 2)\n",
    "print(\"  then after call 'r = round(c2, 2)', \"\n",
    "      \"'type(r)' is: {}, 'r.n' is: {}\".format(type(r), r.n))"
   ]
  },
  {
   "cell_type": "markdown",
   "metadata": {},
   "source": [
    "### 3.3. Override `str` function"
   ]
  },
  {
   "cell_type": "code",
   "execution_count": null,
   "metadata": {},
   "outputs": [],
   "source": [
    "class C_3:\n",
    "    def __init__(self, n: int):\n",
    "        self.n = n\n",
    "\n",
    "    def __str__(self) -> str:\n",
    "        return \"{}{}\".format(self.n, type(self.n))\n",
    "\n",
    "    def __repr__(self) -> str:\n",
    "        return \"{}({})\".format(self.__class__.__name__, self.n)\n",
    "\n",
    "\n",
    "c3 = C_3(123)\n",
    "print(\"* The string representation of \"\n",
    "      \"object a to easy read is: '{}'\".format(c3))\n",
    "\n",
    "r = repr(c3)\n",
    "print(\"* The string representation of object is: '{}'\".format(r))\n",
    "\n",
    "a = eval(r)\n",
    "print(\"* The eval result by string of repr is: {}\".format(a))"
   ]
  },
  {
   "cell_type": "markdown",
   "metadata": {},
   "source": [
    "## 4. Attribute"
   ]
  },
  {
   "cell_type": "markdown",
   "metadata": {},
   "source": [
    "### 4.1. Define a attribute (by `@property` decorator)"
   ]
  },
  {
   "cell_type": "code",
   "execution_count": null,
   "metadata": {},
   "outputs": [],
   "source": [
    "class D_1:\n",
    "    def __init__(self, value: int):\n",
    "        self._value = value\n",
    "\n",
    "    @property\n",
    "    def value(self) -> int:\n",
    "        return self._value\n",
    "\n",
    "    @value.setter\n",
    "    def value(self, value: int):\n",
    "        self._value = value\n",
    "\n",
    "    @value.deleter\n",
    "    def value(self):\n",
    "        del self._value\n",
    "\n",
    "\n",
    "d1 = D_1(100)\n",
    "print(\"* When instance 'd1' of class '{}', \"\n",
    "      \"and 'd1.value' is: {}\".format(d1.__class__, d1.value))\n",
    "\n",
    "d1.value = 200\n",
    "print(\"  after 'd1.value = 200', then 'd1.value' is: {}\".format(d1.value))\n",
    "\n",
    "del d1.value\n",
    "try:\n",
    "    d1.value\n",
    "except AttributeError as e:\n",
    "    print(\"  after 'del d1.value', visit 'd1.value' caused error {}\".format(e))"
   ]
  },
  {
   "cell_type": "markdown",
   "metadata": {},
   "source": [
    "### 4.2. Define a attribute (by built-in `property` function)"
   ]
  },
  {
   "cell_type": "code",
   "execution_count": null,
   "metadata": {},
   "outputs": [],
   "source": [
    "class D_2:\n",
    "    def __init__(self, value: int):\n",
    "        self._value = value\n",
    "\n",
    "    def _fget(self) -> int:\n",
    "        return self._value\n",
    "\n",
    "    def _fset(self, value: int):\n",
    "        self._value = value\n",
    "\n",
    "    def _fdel(self):\n",
    "        del self._value\n",
    "\n",
    "    value = property(fget=_fget, fset=_fset, fdel=_fdel, doc=\"demo\")\n",
    "\n",
    "\n",
    "d2 = D_2(100)\n",
    "print(\"* When instance 'd2' of class '{}', \"\n",
    "      \"and 'd2.value' is: {}\".format(d2.__class__, d2.value))\n",
    "\n",
    "d2.value = 200\n",
    "print(\"  after 'd2.value = 200', then 'd2.value' is: {}\".format(d2.value))\n",
    "\n",
    "del d2.value\n",
    "try:\n",
    "    d2.value\n",
    "except AttributeError as e:\n",
    "    print(\"  after 'del d2.value', visit 'd2.value' caused error {}\".format(e))"
   ]
  },
  {
   "cell_type": "markdown",
   "metadata": {},
   "source": [
    "- Use property by name"
   ]
  },
  {
   "cell_type": "code",
   "execution_count": null,
   "metadata": {},
   "outputs": [],
   "source": [
    "class D_3:\n",
    "    def __init__(self):\n",
    "        self.a = 1\n",
    "        self.b = 2\n",
    "        self.c = 3\n",
    "\n",
    "\n",
    "d3 = D_3()\n",
    "print(\"* When instance 'd3' of class '{}', \"\n",
    "      \"and 'd3.__dict__' is: {}\".format(d3.__class__, d3.__dict__))\n",
    "\n",
    "r = hasattr(d3, \"a\")\n",
    "print(\"  then 'hasattr(d3, \\\"a\\\")' is: {}\".format(r))\n",
    "\n",
    "setattr(d3, \"d\", 4)\n",
    "print(\"  and after 'setattr(d3, \\\"d\\\", 4)', \"\n",
    "      \"'d3.__dict__' is: {}\".format(d3.__dict__))\n",
    "\n",
    "delattr(d3, \"a\")\n",
    "r = hasattr(d3, \"a\")\n",
    "print(\"  and after 'delattr(d3, \\\"a\\\")', 'd3.__dict__' is: {}, \"\n",
    "      \"and 'hasattr(a, \\\"a\\\")' is: {}\".format(d3.__dict__, r))\n",
    "\n",
    "r = getattr(d3, \"b\")\n",
    "print(\"  and 'getattr(a, \\\"b\\\")' is: {}\".format(r))"
   ]
  },
  {
   "cell_type": "markdown",
   "metadata": {},
   "source": [
    "## 5. Inherit"
   ]
  },
  {
   "cell_type": "markdown",
   "metadata": {},
   "source": [
    "### 5.1. Define class inheritance"
   ]
  },
  {
   "cell_type": "markdown",
   "metadata": {},
   "source": [
    "- Define super class"
   ]
  },
  {
   "cell_type": "code",
   "execution_count": null,
   "metadata": {},
   "outputs": [],
   "source": [
    "class Base:\n",
    "    def name(self) -> str:\n",
    "        return \"Base\""
   ]
  },
  {
   "cell_type": "markdown",
   "metadata": {},
   "source": [
    "- Define sub class"
   ]
  },
  {
   "cell_type": "code",
   "execution_count": null,
   "metadata": {},
   "outputs": [],
   "source": [
    "class Child(Base):\n",
    "    def name(self) -> str:\n",
    "        return \"Child\""
   ]
  },
  {
   "cell_type": "markdown",
   "metadata": {},
   "source": [
    "### 5.2. Test class inheritance"
   ]
  },
  {
   "cell_type": "code",
   "execution_count": null,
   "metadata": {},
   "outputs": [],
   "source": [
    "b = Base()\n",
    "print(\"* When instance 'b' of class '{}'\".format(b.__class__))\n",
    "\n",
    "c = Child()\n",
    "print(\"  and instance 'c' of class '{}'\".format(c.__class__))\n",
    "\n",
    "r = b.name()\n",
    "print(\"\\n  then 'b.name()' is: '{}'\".format(r))\n",
    "\n",
    "r = c.name()\n",
    "print(\"  and 'c.name()' is: '{}'\".format(r))\n",
    "\n",
    "o = super(Child, c)\n",
    "print(\"\\n* When variable 'o = super(Child, c)'\")\n",
    "print(\"  then 'o' is: '{}' (type is: '{}')\".format(o, type(o)))\n",
    "\n",
    "r = o.name()\n",
    "print(\"  and 'o.name()' is: '{}'\".format(r))"
   ]
  },
  {
   "cell_type": "markdown",
   "metadata": {},
   "source": [
    "### 5.3. Test class if subclass"
   ]
  },
  {
   "cell_type": "code",
   "execution_count": null,
   "metadata": {},
   "outputs": [],
   "source": [
    "r = issubclass(Child, Base)\n",
    "print(\"* Call 'issubclass(Child, Base)' return: {}\".format(r))\n",
    "\n",
    "c = Child()\n",
    "print(\"\\n* When instance 'c' of class '{}'\".format(c.__class__))\n",
    "\n",
    "r = issubclass(c.__class__, Base)\n",
    "print(\"  then 'issubclass(c.__class__, Base)' is: {}\".format(r))"
   ]
  },
  {
   "cell_type": "markdown",
   "metadata": {},
   "source": [
    "## 6. Dynamic class\n",
    "\n",
    "Use `__set_attr__` and `__get_attr__` to add attribute and get attribute by name of class"
   ]
  },
  {
   "cell_type": "code",
   "execution_count": null,
   "metadata": {},
   "outputs": [],
   "source": [
    "from typing import Any\n",
    "import json\n",
    "\n",
    "\n",
    "class A:\n",
    "    def __init__(self):\n",
    "        self._properties = {}\n",
    "\n",
    "    def __str__(self) -> str:\n",
    "        return json.dumps(self.__dict__, indent=2)\n",
    "\n",
    "    def __setattr__(self, item: str, value: Any):\n",
    "        if item == \"_properties\":\n",
    "            self.__dict__[item] = value\n",
    "        else:\n",
    "            print(\"  > set property '{}={}'\".format(item, value))\n",
    "            self._properties[item] = value\n",
    "\n",
    "    def __getattr__(self, item: str) -> Any:\n",
    "        try:\n",
    "            val = self._properties[item]\n",
    "        except KeyError:\n",
    "            raise AttributeError(\"'A' object has no \"\n",
    "                                 \"attribute '{}'\".format(item))\n",
    "        print(\"  > get property '{}', value is: {}\".format(item, val))\n",
    "        return val\n",
    "\n",
    "    def __delattr__(self, item):\n",
    "        print(\"  > delete property '{}'\".format(item))\n",
    "        self._properties.pop(item)\n",
    "\n",
    "\n",
    "a = A()\n",
    "print(\"* When create object 'a = A()'\")\n",
    "\n",
    "a.name = \"Alvin\"\n",
    "a.gender = \"M\"\n",
    "print(\"  object 'a' is: {}\".format(a))\n",
    "\n",
    "\n",
    "del a.name\n",
    "try:\n",
    "    a.name\n",
    "except AttributeError as e:\n",
    "    print(\"  after delete a.name caused error {}\".format(e))"
   ]
  },
  {
   "cell_type": "markdown",
   "metadata": {},
   "source": [
    "## 7. Delegate class"
   ]
  },
  {
   "cell_type": "code",
   "execution_count": null,
   "metadata": {},
   "outputs": [],
   "source": [
    "from typing import Any\n",
    "from abc import abstractmethod\n",
    "\n",
    "\n",
    "class Base:\n",
    "    @abstractmethod\n",
    "    def run(self, a: Any, b: Any) -> Any:\n",
    "        pass\n",
    "\n",
    "\n",
    "class A(Base):\n",
    "    def run(self, a: Any, b: Any) -> Any:\n",
    "        return a + b\n",
    "\n",
    "\n",
    "class B(Base):\n",
    "    def run(self, a: Any, b: Any) -> Any:\n",
    "        return a * b\n",
    "\n",
    "\n",
    "class D:\n",
    "    def __init__(self, instance: Any):\n",
    "        self._instance = instance\n",
    "\n",
    "    def __getattribute__(self, item) -> Any:\n",
    "        instance = object.__getattribute__(self, \"_instance\")\n",
    "        if hasattr(instance, item):\n",
    "            return getattr(instance, item)\n",
    "\n",
    "        return object.__getattribute__(self, item)\n",
    "\n",
    "    @property\n",
    "    def instance(self) -> Any:\n",
    "        return self._instance\n",
    "\n",
    "\n",
    "a = A()\n",
    "b = B()\n",
    "\n",
    "d = D(a)\n",
    "print(\"* '{}' run result is: {}\".format(type(d.instance).__name__, d.run(1, 2)))\n",
    "\n",
    "d = D(b)\n",
    "print(\"* '{}' run result is: {}\".format(type(d.instance).__name__, d.run(1, 2)))"
   ]
  },
  {
   "cell_type": "markdown",
   "metadata": {},
   "source": [
    "## 8. Reflect"
   ]
  },
  {
   "cell_type": "markdown",
   "metadata": {},
   "source": [
    "### 8.1. Create class by function"
   ]
  },
  {
   "cell_type": "code",
   "execution_count": null,
   "metadata": {},
   "outputs": [],
   "source": [
    "# type(class_name, super_classes, attributes)\n",
    "A = type('A', (object,), {'value': 100})\n",
    "a = A()\n",
    "\n",
    "print(\"* With object 'a', 'a.value' is: {}\".format(a.value))"
   ]
  },
  {
   "cell_type": "markdown",
   "metadata": {},
   "source": [
    "### 8.2. Test object type"
   ]
  },
  {
   "cell_type": "code",
   "execution_count": null,
   "metadata": {},
   "outputs": [],
   "source": [
    "class A:\n",
    "    def __init__(self):\n",
    "        self.x = 100\n",
    "        self.y = 200\n",
    "\n",
    "\n",
    "class B(A):\n",
    "    @property\n",
    "    def z(self) -> int:\n",
    "        return self.x + self.y\n",
    "\n",
    "\n",
    "r = issubclass(B, A)\n",
    "print(\"* Call 'issubclass(B, A)' return: {}\".format(r))\n",
    "\n",
    "b = B()\n",
    "\n",
    "r = isinstance(b, B)\n",
    "print(\"* Call 'isinstance(b, B)' return: {}\".format(r))\n",
    "\n",
    "r = isinstance(b, A)\n",
    "print(\"* Call 'isinstance(b, A)' return: {}\".format(r))\n",
    "\n",
    "r = issubclass(type(b), A)\n",
    "print(\"* Call 'issubclass(type(b), A)' return: {}\".format(r))\n",
    "\n",
    "a = A()\n",
    "print(\"* After create object 'a = A()'\")\n",
    "print(\"  'a.x' is: {} and 'b.x' is: {}\".format(a.x, b.x))\n",
    "print(\"  'b.z' is: {}\".format(b.z))"
   ]
  },
  {
   "cell_type": "markdown",
   "metadata": {},
   "source": [
    "## 9. Polymorphism"
   ]
  },
  {
   "cell_type": "markdown",
   "metadata": {},
   "source": [
    "### 9.1. Abstract class"
   ]
  },
  {
   "cell_type": "code",
   "execution_count": null,
   "metadata": {},
   "outputs": [],
   "source": [
    "from abc import ABCMeta, abstractmethod\n",
    "\n",
    "\n",
    "class Abs(metaclass=ABCMeta):\n",
    "    @property\n",
    "    @abstractmethod\n",
    "    def value(self):\n",
    "        pass\n",
    "\n",
    "    @abstractmethod\n",
    "    def result(self):\n",
    "        pass\n",
    "\n",
    "\n",
    "class A(Abs):\n",
    "    pass\n",
    "\n",
    "\n",
    "try:\n",
    "    a = A()\n",
    "except TypeError as e:\n",
    "    print(\"* Error: create object from class 'A' caused error: {}\".format(e))\n",
    "\n",
    "\n",
    "class A(Abs):\n",
    "    @property\n",
    "    def value(self) -> int:\n",
    "        return 100\n",
    "\n",
    "    def result(self) -> int:\n",
    "        return self.value * 100\n",
    "\n",
    "\n",
    "a = A()\n",
    "\n",
    "r = isinstance(a, Abs)\n",
    "print(\"* After create object 'a'\")\n",
    "print(\"  'isinstance(a, Abs)' is: {}\".format(r))\n",
    "print(\"  'a.value' is: {}\".format(a.value))\n",
    "print(\"  'a.result()' is: {}\".format(a.result()))"
   ]
  },
  {
   "cell_type": "markdown",
   "metadata": {},
   "source": [
    "## 10. Misc"
   ]
  },
  {
   "cell_type": "markdown",
   "metadata": {},
   "source": [
    "### 10.1. Class slots"
   ]
  },
  {
   "cell_type": "markdown",
   "metadata": {},
   "source": [
    "- Slot basic"
   ]
  },
  {
   "cell_type": "code",
   "execution_count": null,
   "metadata": {},
   "outputs": [],
   "source": [
    "print(\"* Define class without '__slots__' attribute\")\n",
    "\n",
    "\n",
    "# class without slot\n",
    "class A:\n",
    "    pass\n",
    "\n",
    "\n",
    "a = A()\n",
    "\n",
    "a.name = \"Alvin\"\n",
    "print(\"  'a.name' is: {}\".format(a.name))\n",
    "\n",
    "a.age = 38\n",
    "print(\"  'a.age' is: {}\".format(a.age))\n",
    "\n",
    "a.gender = \"M\"\n",
    "print(\"  'a.gender' is: {}\".format(a.gender))\n",
    "\n",
    "\n",
    "print(\"* Define class with '__slots__' attribute\")\n",
    "\n",
    "\n",
    "# class with slot\n",
    "class A:\n",
    "    __slots__ = ['name', 'age']\n",
    "\n",
    "\n",
    "a = A()\n",
    "\n",
    "a.name = \"Alvin\"\n",
    "print(\"  'a.name' is: {}\".format(a.name))\n",
    "\n",
    "a.age = 38\n",
    "print(\"  'a.age' is: {}\".format(a.age))\n",
    "\n",
    "try:\n",
    "    a.gender = \"M\"\n",
    "except AttributeError as e:\n",
    "    print(\"  error: {}\".format(e))"
   ]
  },
  {
   "cell_type": "markdown",
   "metadata": {},
   "source": [
    "- Automate class"
   ]
  },
  {
   "cell_type": "code",
   "execution_count": null,
   "metadata": {},
   "outputs": [],
   "source": [
    "import json\n",
    "\n",
    "\n",
    "class Automate(dict):\n",
    "    def __init__(self, *args, **kwargs):\n",
    "        for n, val in enumerate(args):\n",
    "            self[self.__slots__[n]] = self._parse_val(val)\n",
    "\n",
    "        for key, val in kwargs.items():\n",
    "            self[key] = self._parse_val(val)\n",
    "\n",
    "    @staticmethod\n",
    "    def _parse_val(val):\n",
    "        if isinstance(val, dict):\n",
    "            return Automate(**val)\n",
    "\n",
    "        if isinstance(val, (list, set, tuple)):\n",
    "            return [Automate(**v) if isinstance(v, dict) else v for v in val]\n",
    "\n",
    "        return val\n",
    "\n",
    "    def __getattr__(self, name):\n",
    "        return self.get(name)\n",
    "\n",
    "    def __setattr__(self, name, value):\n",
    "        self[name] = value\n",
    "\n",
    "\n",
    "class Member(Automate):\n",
    "    __slots__ = (\"id\", \"name\", \"price\")\n",
    "\n",
    "\n",
    "class Group(Automate):\n",
    "    __slots__ = (\"id\", \"name\", \"members\")\n",
    "    members: [Member]\n",
    "\n",
    "\n",
    "group = Group(1, \"G-1\", [\n",
    "    Member(1, \"S-1\", 12.5),\n",
    "    Member(2, \"S-2\", 22)\n",
    "])\n",
    "\n",
    "\n",
    "print(\"* Let 'group = {}'\".format(group))\n",
    "print(\"  'group.id' is: {}\".format(group.id))\n",
    "print(\"  'group.name' is: \\\"{}\\\"\".format(group.name))\n",
    "\n",
    "print(\"  'group.members[0].id' is: {}\".format(group.members[0].id))\n",
    "print(\"  'group.members[0].name' is: \\\"{}\\\"\".format(group.members[0].name))\n",
    "print(\"  'group.members[0].price' is: {}\".format(group.members[0].price))\n",
    "\n",
    "print(\"  'group.members[1].id' is: {}\".format(group.members[1].id))\n",
    "print(\"  'group.members[1].name' is: \\\"{}\\\"\".format(group.members[1].name))\n",
    "print(\"  'group.members[1].price' is: {}\".format(group.members[1].price))\n",
    "\n",
    "s = json.dumps(group)\n",
    "print(\"  dump to json is: '{}'\".format(s))\n",
    "\n",
    "\n",
    "group = Group(**{\n",
    "    \"id\": 1,\n",
    "    \"name\": \"G-1\",\n",
    "    \"members\": [{\n",
    "        \"id\": 1,\n",
    "        \"name\": \"S-1\",\n",
    "        \"price\": 12.5\n",
    "    }, {\n",
    "        \"id\": 2,\n",
    "        \"name\": \"S-2\",\n",
    "        \"price\": 22}]\n",
    "})\n",
    "\n",
    "print(\"* Let 'group = {}'\".format(group))\n",
    "print(\"  'group.id' is: {}\".format(group.id))\n",
    "print(\"  'group.name' is: \\\"{}\\\"\".format(group.name))\n",
    "\n",
    "print(\"  'group.members[0].id' is: {}\".format(group.members[0].id))\n",
    "print(\"  'group.members[0].name' is: \\\"{}\\\"\".format(group.members[0].name))\n",
    "print(\"  'group.members[0].price' is: {}\".format(group.members[0].price))\n",
    "\n",
    "print(\"  'group.members[1].id' is: {}\".format(group.members[1].id))\n",
    "print(\"  'group.members[1].name' is: \\\"{}\\\"\".format(group.members[1].name))\n",
    "print(\"  'group.members[1].price' is: {}\".format(group.members[1].price))\n",
    "\n",
    "s = json.dumps(group)\n",
    "print(\"  dump to json is: '{}'\".format(s))"
   ]
  },
  {
   "cell_type": "markdown",
   "metadata": {},
   "source": [
    "### 10.2. Singleton mode"
   ]
  },
  {
   "cell_type": "code",
   "execution_count": null,
   "metadata": {},
   "outputs": [],
   "source": [
    "from typing import Optional, Any\n",
    "\n",
    "\n",
    "class A:\n",
    "    _instance: Optional[\"A\"] = None\n",
    "\n",
    "    def __init__(self, value: Any):\n",
    "        self.value = value\n",
    "\n",
    "    @classmethod\n",
    "    def __new__(cls, *args, **kwargs) -> \"A\":\n",
    "        if not cls._instance:\n",
    "            cls._instance = super().__new__(cls)\n",
    "        return cls._instance\n",
    "\n",
    "\n",
    "a1 = A(100)\n",
    "print(\"* After create object 'a1 = A(100)'\")\n",
    "print(\"  'a1.value' is: {}\".format(a1.value))\n",
    "\n",
    "a2 = A(200)\n",
    "print(\"* After create object 'a2 = A(200)'\")\n",
    "print(\"  'a1.value' is: {} and 'a2.value' is: {}\".format(a1.value, a2.value))\n",
    "\n",
    "print(\"* 'id(a1)' is: {} and 'id(a2)' is: {}\".format(id(a1), id(a2)))"
   ]
  },
  {
   "cell_type": "markdown",
   "metadata": {},
   "source": [
    "### 10.3. Class meta"
   ]
  },
  {
   "cell_type": "code",
   "execution_count": null,
   "metadata": {},
   "outputs": [],
   "source": [
    "from typing import Type, Dict, Any\n",
    "\n",
    "\n",
    "def upper_attrs(attrs: Dict[str, Any]) -> Dict[str, Any]:\n",
    "    new_attrs = {}\n",
    "    for name, value in attrs.items():\n",
    "        if not name.startswith(\"__\"):\n",
    "            name = name.upper()\n",
    "        new_attrs[name] = value\n",
    "\n",
    "    return new_attrs\n",
    "\n",
    "\n",
    "def metaclass(class_name: str, parents: Type, attrs: Dict[str, Any]):\n",
    "    return type(class_name + \"_New1\", parents, upper_attrs(attrs))\n",
    "\n",
    "\n",
    "class A(metaclass=metaclass):\n",
    "    @property\n",
    "    def value(self) -> int:\n",
    "        return 100\n",
    "\n",
    "\n",
    "a = A()\n",
    "print(\"* After create object 'a = A()'\")\n",
    "print(\"  class name of 'A' is: '{}'\".format(type(a).__name__))\n",
    "print(\"  'a.VALUE' is: {}\".format(a.VALUE))\n",
    "\n",
    "\n",
    "class MetaClass(type):\n",
    "    def __new__(mcs, class_name: str,\n",
    "                parents: Type,\n",
    "                attrs: Dict[str, Any]) -> Any:\n",
    "        return type(class_name + \"_New2\", parents, upper_attrs(attrs))\n",
    "\n",
    "\n",
    "class A(metaclass=MetaClass):\n",
    "    @property\n",
    "    def value(self) -> int:\n",
    "        return 200\n",
    "\n",
    "\n",
    "a = A()\n",
    "print(\"* After create object 'a = A()'\")\n",
    "print(\"  class name of 'A' is '{}'\".format(type(a).__name__))\n",
    "print(\"  'a.VALUE' is: {}\".format(a.VALUE))"
   ]
  },
  {
   "cell_type": "markdown",
   "metadata": {},
   "source": [
    "### 10.4. Type convert"
   ]
  },
  {
   "cell_type": "code",
   "execution_count": null,
   "metadata": {},
   "outputs": [],
   "source": [
    "class A:\n",
    "    def __init__(self, snum: str):\n",
    "        self._snum = float(snum)\n",
    "\n",
    "    def __int__(self) -> int:\n",
    "        return int(self._snum)\n",
    "\n",
    "    def __float__(self) -> float:\n",
    "        return float(self._snum)\n",
    "\n",
    "    def __str__(self) -> str:\n",
    "        return \"A(snum=\\\"{}\\\")\".format(self._snum)\n",
    "\n",
    "\n",
    "a = A(\"123.456\")\n",
    "print(\"* After create object 'a = A(\\\"123.456\\\")'\")\n",
    "\n",
    "r = int(a)\n",
    "print(\"  '{}' to int is: {}\".format(a, r))\n",
    "\n",
    "r = float(a)\n",
    "print(\"  '{}' to float is: {}\".format(a, r))"
   ]
  },
  {
   "cell_type": "markdown",
   "metadata": {},
   "source": [
    "### 10.5. Hash value"
   ]
  },
  {
   "cell_type": "code",
   "execution_count": null,
   "metadata": {},
   "outputs": [],
   "source": [
    "class A:\n",
    "    def __hash__(self) -> int:\n",
    "        return 1234567\n",
    "\n",
    "\n",
    "a = A()\n",
    "r = hash(a)\n",
    "print(\"* Call 'hash(a)' return: {}\".format(r))"
   ]
  },
  {
   "cell_type": "markdown",
   "metadata": {},
   "source": [
    "### 10.6. Length attribute"
   ]
  },
  {
   "cell_type": "code",
   "execution_count": null,
   "metadata": {},
   "outputs": [],
   "source": [
    "class A:\n",
    "    def __init__(self, n: int):\n",
    "        self._n = n\n",
    "\n",
    "    def __len__(self) -> int:\n",
    "        return self._n\n",
    "\n",
    "    def __str__(self) -> str:\n",
    "        return \"A(n={})\".format(self._n)\n",
    "\n",
    "\n",
    "a = A(10)\n",
    "print(\"* After create object 'a = A(10)'\")\n",
    "\n",
    "ln = len(a)\n",
    "print(\"  'len(a)' is: {}\".format(ln))"
   ]
  },
  {
   "cell_type": "markdown",
   "metadata": {},
   "source": [
    "### 10.7. String format"
   ]
  },
  {
   "cell_type": "code",
   "execution_count": null,
   "metadata": {},
   "outputs": [],
   "source": [
    "class A:\n",
    "    _format = {\n",
    "        \"m\": lambda val: \"m\" + str(val),\n",
    "        \"n\": lambda val: \"n\" + str(val)\n",
    "    }\n",
    "\n",
    "    def __init__(self, val):\n",
    "        self._val = val\n",
    "\n",
    "    def __format__(self, format_spec) -> str:\n",
    "        return self._format.get(format_spec, lambda val: str(val))(self._val)\n",
    "\n",
    "\n",
    "a = A(123)\n",
    "print(\"* Default is: {}, '%m' is: '{:m}', '%n' is: '{:n}'\".format(a, a, a))"
   ]
  }
 ],
 "metadata": {
  "kernelspec": {
   "display_name": "Python 3",
   "language": "python",
   "name": "python3"
  },
  "language_info": {
   "codemirror_mode": {
    "name": "ipython",
    "version": 3
   },
   "file_extension": ".py",
   "mimetype": "text/x-python",
   "name": "python",
   "nbconvert_exporter": "python",
   "pygments_lexer": "ipython3",
   "version": "3.8.5"
  }
 },
 "nbformat": 4,
 "nbformat_minor": 4
}
