{
 "cells": [
  {
   "cell_type": "markdown",
   "metadata": {},
   "source": [
    "# Python grammar"
   ]
  },
  {
   "cell_type": "markdown",
   "metadata": {},
   "source": [
    "- Tuple assign variables"
   ]
  },
  {
   "cell_type": "code",
   "execution_count": null,
   "metadata": {},
   "outputs": [],
   "source": [
    "a, b, c = 12, 13, 14\n",
    "print(\"* After 'a, b, c = 12, 13, 14', a={}, b={} and c={}\".format(a, b, c))"
   ]
  },
  {
   "cell_type": "markdown",
   "metadata": {},
   "source": [
    "- Division"
   ]
  },
  {
   "cell_type": "code",
   "execution_count": null,
   "metadata": {},
   "outputs": [],
   "source": [
    "a, b = 5, 2.0\n",
    "\n",
    "r = a / b\n",
    "print(\"* a / b = {}\".format(r))\n",
    "\n",
    "r = a // b\n",
    "print(\"* a // b = {}\".format(r))"
   ]
  },
  {
   "cell_type": "markdown",
   "metadata": {},
   "source": [
    "- Ternary operator"
   ]
  },
  {
   "cell_type": "code",
   "execution_count": null,
   "metadata": {},
   "outputs": [],
   "source": [
    "a, b = 10, 20\n",
    "\n",
    "r = a if a > b else b\n",
    "print(\"* a if a > b else b is {}\".format(r))"
   ]
  },
  {
   "cell_type": "markdown",
   "metadata": {},
   "source": [
    "- Or operator"
   ]
  },
  {
   "cell_type": "code",
   "execution_count": null,
   "metadata": {},
   "outputs": [],
   "source": [
    "a, b = None, 10\n",
    "\n",
    "r = a or b\n",
    "print(\"* a or b is {}\".format(r))"
   ]
  },
  {
   "cell_type": "markdown",
   "metadata": {},
   "source": [
    "- String"
   ]
  },
  {
   "cell_type": "code",
   "execution_count": null,
   "metadata": {},
   "outputs": [],
   "source": [
    "s1 = \"\\tHello\"\n",
    "s2 = u\"\\tHello\"\n",
    "s3 = b\"\\tHello\"\n",
    "s4 = r\"\\tHello\"\n",
    "s5 = \"\"\"\\tHello\"\"\"\n",
    "\n",
    "num = 100\n",
    "s6 = f\"number={num}\"\n",
    "\n",
    "print(\"* 's1' is: '{}'\".format(s1))\n",
    "print(\"* 's2' is: '{}'\".format(s2))\n",
    "print(\"* 's3' is: '{}'\".format(s3))\n",
    "print(\"* 's4' is: '{}'\".format(s4))\n",
    "print(\"* 's5' is: '{}'\".format(s5))\n",
    "print(\"* 's6' is: '{}'\".format(s6))"
   ]
  },
  {
   "cell_type": "markdown",
   "metadata": {},
   "source": [
    "- With"
   ]
  },
  {
   "cell_type": "code",
   "execution_count": null,
   "metadata": {},
   "outputs": [],
   "source": [
    "class With:\n",
    "    def __init__(self, throw=True):\n",
    "        self.status = None\n",
    "        self.throw = throw\n",
    "\n",
    "    def __enter__(self):\n",
    "        self.status = \"ENTER\"\n",
    "        return self\n",
    "\n",
    "    def __exit__(self, exc_type, exc_val, exc_tb):\n",
    "        self.status = \"LEAVE\"\n",
    "        self.exception_type = exc_type\n",
    "        self.exception = exc_val\n",
    "        self.traceback = exc_tb\n",
    "        return not self.throw  # return True to throw exception if necessary\n",
    "\n",
    "\n",
    "print(\"* Case 1:\")\n",
    "\n",
    "with With() as w:\n",
    "    print(\"  in with, status is: '{}'\".format(w.status))\n",
    "print(\"  leave with, status is: '{}'\".format(w.status))\n",
    "print(\"  exception is: '{}'\".format(w.exception))\n",
    "print(\"  exception type is: '{}'\".format(w.exception_type))\n",
    "print(\"  traceback is: '{}'\".format(w.traceback))\n",
    "\n",
    "\n",
    "print(\"* Case 2:\")\n",
    "\n",
    "try:\n",
    "    with With() as w:\n",
    "        print(\"  in with, status is: '{}'\".format(w.status))\n",
    "        raise Exception(\"Error\")\n",
    "except Exception:\n",
    "    print(\"  leave with, status is: '{}'\".format(w.status))\n",
    "    print(\"  exception is: '{}'\".format(w.exception))\n",
    "    print(\"  exception type is: '{}'\".format(w.exception_type))\n",
    "    print(\"  traceback is: '{}'\".format(w.traceback))\n",
    "\n",
    "\n",
    "print(\"* Case 3:\")\n",
    "with With(False) as w:   # Exception thrown is forbidden\n",
    "    print(\"  in with, status is: '{}'\".format(w.status))\n",
    "    raise Exception(\"Error\")\n",
    "print(\"  leave with, status is: '{}'\".format(w.status))\n",
    "print(\"  exception is: '{}'\".format(w.exception))\n",
    "print(\"  exception type is: '{}'\".format(w.exception_type))\n",
    "print(\"  traceback is: '{}'\".format(w.traceback))"
   ]
  },
  {
   "cell_type": "markdown",
   "metadata": {},
   "source": [
    "- Ellipsis"
   ]
  },
  {
   "cell_type": "code",
   "execution_count": null,
   "metadata": {},
   "outputs": [],
   "source": [
    "def foo():  # ellipsis as statement\n",
    "    ...\n",
    "\n",
    "\n",
    "e = ...\n",
    "print(\"* Value of e is: '{}'\".format(e))\n",
    "print(\"* Call 'bool(e)' return: '{}'\".format(bool(e)))\n",
    "\n",
    "e1 = ...\n",
    "print(\"* Id of two ellipsis are: '{}' and '{}'\".format(id(e), id(e1)))"
   ]
  }
 ],
 "metadata": {
  "kernelspec": {
   "display_name": "Python 3",
   "language": "python",
   "name": "python3"
  },
  "language_info": {
   "codemirror_mode": {
    "name": "ipython",
    "version": 3
   },
   "file_extension": ".py",
   "mimetype": "text/x-python",
   "name": "python",
   "nbconvert_exporter": "python",
   "pygments_lexer": "ipython3",
   "version": "3.8.5"
  }
 },
 "nbformat": 4,
 "nbformat_minor": 4
}
