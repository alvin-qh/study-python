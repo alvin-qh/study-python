{
 "cells": [
  {
   "cell_type": "markdown",
   "metadata": {},
   "source": [
    "# Module"
   ]
  },
  {
   "cell_type": "markdown",
   "metadata": {},
   "source": [
    "- Import from module 'py' file"
   ]
  },
  {
   "cell_type": "code",
   "execution_count": null,
   "metadata": {},
   "outputs": [],
   "source": [
    "from sub.func import (function, Class, value)\n",
    "\n",
    "print(\"* From 'sub.func', import \"\n",
    "      \"'function = {}', \"\n",
    "      \"'Class = {}', \"\n",
    "      \"'value = {}'\".format(function, Class, value))\n",
    "\n",
    "r = function()\n",
    "print(\"  call 'function()' return: '{}'\".format(r))\n",
    "\n",
    "c = Class(100)\n",
    "print(\"  let 'c = Class(100)', 'c' is: '{}'\".format(c))\n",
    "print(\"  call 'c.a' return: {}\".format(c.a))"
   ]
  },
  {
   "cell_type": "markdown",
   "metadata": {},
   "source": [
    "- Import from module '\\_\\_init\\_\\_.py' file"
   ]
  },
  {
   "cell_type": "code",
   "execution_count": null,
   "metadata": {},
   "outputs": [],
   "source": [
    "from sub import (function, Class, value)\n",
    "\n",
    "print(\"* From 'sub.func', import \"\n",
    "      \"'function = {}', \"\n",
    "      \"'Class = {}', \"\n",
    "      \"'value = {}'\".format(function, Class, value))\n",
    "\n",
    "r = function()\n",
    "print(\"  call 'function()' return: '{}'\".format(r))\n",
    "\n",
    "c = Class(100)\n",
    "print(\"  let 'c = Class(100)', 'c' is: '{}'\".format(c))\n",
    "print(\"  call 'c.a' return: {}\".format(c.a))"
   ]
  },
  {
   "cell_type": "markdown",
   "metadata": {},
   "source": [
    "- Load module dynamiclly"
   ]
  },
  {
   "cell_type": "code",
   "execution_count": null,
   "metadata": {},
   "outputs": [],
   "source": [
    "from importlib import import_module\n",
    "\n",
    "print(\"* When 'import_module' imported from 'importlib', \"\n",
    "      \"'import_module = {}'\".format(import_module))\n",
    "\n",
    "\n",
    "def run_module_class(module):\n",
    "    plugin = module.Plugin()\n",
    "    print(\"  >> let 'plugin = module.Plugin()', 'plugin' is: '{}'\".format(plugin))\n",
    "    return plugin.display()\n",
    "\n",
    "\n",
    "m = import_module(\"sub.plugin1\")\n",
    "print(\"- call 'm = import_module(\\\"sub.plugin1\\\")', 'm' is: {}\".format(m))\n",
    "\n",
    "name = m.__name__\n",
    "print(\"  call 'm.__name__' return: '{}'\".format(m.__name__))\n",
    "\n",
    "r = run_module_class(m)\n",
    "print(\"  call 'run_module_class(m)' return: '{}'\".format(r))\n",
    "\n",
    "m = import_module(\"sub.plugin2\")\n",
    "print(\"- call 'm = import_module(\\\"sub.plugin2\\\")', 'm' is: {}\".format(m))\n",
    "\n",
    "name = m.__name__\n",
    "print(\"  call 'm.__name__' return: '{}'\".format(m.__name__))\n",
    "\n",
    "r = run_module_class(m)\n",
    "print(\"  call 'run_module_class(m)' return: '{}'\".format(r))"
   ]
  }
 ],
 "metadata": {
  "kernelspec": {
   "display_name": "Python 3",
   "language": "python",
   "name": "python3"
  },
  "language_info": {
   "codemirror_mode": {
    "name": "ipython",
    "version": 3
   },
   "file_extension": ".py",
   "mimetype": "text/x-python",
   "name": "python",
   "nbconvert_exporter": "python",
   "pygments_lexer": "ipython3",
   "version": "3.8.5"
  }
 },
 "nbformat": 4,
 "nbformat_minor": 4
}
