{
 "cells": [
  {
   "cell_type": "code",
   "execution_count": null,
   "metadata": {},
   "outputs": [],
   "source": [
    "\"\"\"\n",
    "计划任务\n",
    "\n",
    "sched.scheduler(time_func, delay_func) 函数用于创建一个计划任务对象\n",
    "    time_func 指定用于计算时间的函数，该函数应返回秒数\n",
    "    delay_func 指定用于等待的函数\n",
    "    return scheduler 对象\n",
    "\n",
    "scheduler.enter(delay, priority, action, argument, kwargs) 函数制定一个计划\n",
    "    delay 调用任务延迟秒数\n",
    "    priority 优先级，当多个计划任务时间冲突时，优先执行优先级高的计划\n",
    "    action 计划执行时调用的函数，即计划任务\n",
    "    argument 传递给 action 函数的参数元组（按参数顺序）\n",
    "    kwargs 传递给 action 函数的参数字典（按参数名称）\n",
    "    return event 对象，表示该计划任务的存根\n",
    "    \n",
    "schedule.run() 函数用于启动所有已制定的计划，该函数会被阻塞，直到所有计划任务执行完毕\n",
    "\"\"\"\n",
    "\n",
    "import sched\n",
    "import timeit as tt\n",
    "import time\n",
    "\n",
    "schedule = sched.scheduler(tt.default_timer, time.sleep)\n",
    "\n",
    "now = tt.default_timer()\n",
    "\n",
    "def perform_command(id_):\n",
    "    print('schedule {} working, after {} seconds'.format(id_, tt.default_timer() - now))\n",
    "\n",
    "\n",
    "schedule.enter(2, 0, perform_command, argument=(1,))  # 制定计划，2秒后执行，传递一个参数 1\n",
    "schedule.enter(1, 0, perform_command, kwargs=dict(id_=2))  # 制定计划，1秒后执行，传递参数 id_=1\n",
    "schedule.run()"
   ]
  },
  {
   "cell_type": "code",
   "execution_count": null,
   "metadata": {},
   "outputs": [],
   "source": [
    "\"\"\"\n",
    "撤销计划任务\n",
    "   \n",
    "schedule.cancel(event) 函数用于撤销一个计划，注意，只有尚未履行的计划任务可以撤销\n",
    "\"\"\"\n",
    "\n",
    "import sched\n",
    "import timeit as tt\n",
    "import time\n",
    "\n",
    "schedule = sched.scheduler(tt.default_timer, time.sleep)\n",
    "\n",
    "now = tt.default_timer()\n",
    "\n",
    "def perform_command():\n",
    "    print('schedule function working, after {} seconds'.format(tt.default_timer() - now))\n",
    "\n",
    "def cancel_command(event):\n",
    "    try:\n",
    "        schedule.cancel(event)\n",
    "        print('event {} is canceled'.format(event.action.__name__))\n",
    "    except ValueError:\n",
    "        # 如果一个计划任务已履行，则无法撤销\n",
    "        print('cannot cancel finished event')\n",
    "\n",
    "\n",
    "event = schedule.enter(2, 0, perform_command)\n",
    "schedule.enter(3, 0, cancel_command, kwargs=dict(event=event))\n",
    "schedule.run()\n",
    "\n",
    "event = schedule.enter(2, 0, perform_command)\n",
    "schedule.enter(1, 0, cancel_command, kwargs=dict(event=event))\n",
    "schedule.run()"
   ]
  }
 ],
 "metadata": {
  "kernelspec": {
   "display_name": "Python 3",
   "language": "python",
   "name": "python3"
  },
  "language_info": {
   "codemirror_mode": {
    "name": "ipython",
    "version": 3
   },
   "file_extension": ".py",
   "mimetype": "text/x-python",
   "name": "python",
   "nbconvert_exporter": "python",
   "pygments_lexer": "ipython3",
   "version": "3.8.5"
  }
 },
 "nbformat": 4,
 "nbformat_minor": 4
}
