{
 "cells": [
  {
   "cell_type": "markdown",
   "id": "21b73820",
   "metadata": {},
   "source": [
    "# 数组属性"
   ]
  },
  {
   "cell_type": "code",
   "execution_count": 1,
   "id": "2b6be3f7",
   "metadata": {},
   "outputs": [],
   "source": [
    "import numpy as np"
   ]
  },
  {
   "cell_type": "markdown",
   "id": "9ae6716d",
   "metadata": {},
   "source": [
    "数组的属性包括:\n",
    "\n",
    "- `shape`: 数组形状, 即数组的维数和每个维度的长度\n",
    "- `ndim`: 数组维数, 包括: `1` 为一维数组 (标量), `2` 为二维数组 (矢量), `3` 为三维数组等 (矩阵), `4` 为四维数组 (张量) 等\n",
    "- `size`: 数组元素个数\n",
    "- `dtype`: 数组元素数据类型"
   ]
  },
  {
   "cell_type": "code",
   "execution_count": 2,
   "id": "96cec0b1",
   "metadata": {},
   "outputs": [
    {
     "name": "stdout",
     "output_type": "stream",
     "text": [
      "数组内容:\n",
      "[ 1  2  3  4  5  6  7  8  9 10 11 12 13 14 15 16 17 18 19 20 21 22 23 24]\n",
      "Dim: 1\n",
      "Shape: (24,)\n",
      "Size: 24\n",
      "Dtype: int64\n",
      "\n",
      "数组内容:\n",
      "[[ 1  2  3  4  5  6  7  8  9 10 11 12]\n",
      " [13 14 15 16 17 18 19 20 21 22 23 24]]\n",
      "Dim: 2\n",
      "Shape: (2, 12)\n",
      "Size: 24\n",
      "Dtype: int64\n",
      "\n",
      "数组内容:\n",
      "[[[ 1  2  3  4]\n",
      "  [ 5  6  7  8]\n",
      "  [ 9 10 11 12]]\n",
      "\n",
      " [[13 14 15 16]\n",
      "  [17 18 19 20]\n",
      "  [21 22 23 24]]]\n",
      "Dim: 3\n",
      "Shape: (2, 3, 4)\n",
      "Size: 24\n",
      "Dtype: int64\n"
     ]
    }
   ],
   "source": [
    "data = np.arange(1, 25)  # 创建一个包含 1 到 24 的一维数组\n",
    "print(f\"数组内容:\\n{data}\\nDim: {data.ndim}\\nShape: {data.shape}\\nSize: {data.size}\\nDtype: {data.dtype}\")\n",
    "\n",
    "data = data.reshape(2, -1)\n",
    "print(f\"\\n数组内容:\\n{data}\\nDim: {data.ndim}\\nShape: {data.shape}\\nSize: {data.size}\\nDtype: {data.dtype}\")\n",
    "\n",
    "data = data.reshape(2, 3, -1)\n",
    "print(f\"\\n数组内容:\\n{data}\\nDim: {data.ndim}\\nShape: {data.shape}\\nSize: {data.size}\\nDtype: {data.dtype}\")"
   ]
  }
 ],
 "metadata": {
  "kernelspec": {
   "display_name": ".venv",
   "language": "python",
   "name": "python3"
  },
  "language_info": {
   "codemirror_mode": {
    "name": "ipython",
    "version": 3
   },
   "file_extension": ".py",
   "mimetype": "text/x-python",
   "name": "python",
   "nbconvert_exporter": "python",
   "pygments_lexer": "ipython3",
   "version": "3.13.5"
  }
 },
 "nbformat": 4,
 "nbformat_minor": 5
}
