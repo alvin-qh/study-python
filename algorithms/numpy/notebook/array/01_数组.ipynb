{
 "cells": [
  {
   "cell_type": "markdown",
   "id": "445358cc",
   "metadata": {},
   "source": [
    "# 数组"
   ]
  },
  {
   "cell_type": "markdown",
   "id": "9736a757",
   "metadata": {},
   "source": [
    "首先, 导入 Numpy 模块"
   ]
  },
  {
   "cell_type": "code",
   "execution_count": 2,
   "id": "56960715",
   "metadata": {},
   "outputs": [],
   "source": [
    "import numpy as np"
   ]
  },
  {
   "cell_type": "markdown",
   "id": "9eb77aaf",
   "metadata": {},
   "source": [
    "## 1. 创建数组"
   ]
  },
  {
   "cell_type": "markdown",
   "id": "b5ae0256",
   "metadata": {},
   "source": [
    "### 1.1. 通过 Python 数组创建"
   ]
  },
  {
   "cell_type": "code",
   "execution_count": 3,
   "id": "d220c863",
   "metadata": {},
   "outputs": [
    {
     "name": "stdout",
     "output_type": "stream",
     "text": [
      "一维数组内容:\n",
      "[1 2 3 4]\n",
      "\n",
      "二维数组内容:\n",
      "[[1 2 3 4]\n",
      " [5 6 7 8]]\n",
      "\n",
      "三维数组内容:\n",
      "[[[ 1  2  3  4]\n",
      "  [ 5  6  7  8]\n",
      "  [ 9 10 11 12]]\n",
      "\n",
      " [[13 14 15 16]\n",
      "  [17 18 19 20]\n",
      "  [21 22 23 24]]]\n"
     ]
    }
   ],
   "source": [
    "# 通过一维 Python 数组创建 NumPy 数组\n",
    "data = np.array([1, 2, 3, 4])\n",
    "print(f\"一维数组内容:\\n{data}\")\n",
    "\n",
    "# 通过二维 Python 数组创建 NumPy 数组\n",
    "data = np.array([[1, 2, 3, 4], [5, 6, 7, 8]])\n",
    "print(f\"\\n二维数组内容:\\n{data}\")\n",
    "\n",
    "# 通过三维 Python 列表创建 NumPy 数组\n",
    "data = np.array(\n",
    "    [\n",
    "        [[1, 2, 3, 4], [5, 6, 7, 8], [9, 10, 11, 12]],\n",
    "        [[13, 14, 15, 16], [17, 18, 19, 20], [21, 22, 23, 24]],\n",
    "    ]\n",
    ")\n",
    "print(f\"\\n三维数组内容:\\n{data}\")"
   ]
  },
  {
   "cell_type": "markdown",
   "id": "c36ab53a",
   "metadata": {},
   "source": [
    "### 1.2. 创建元素值为 `0` 的数组"
   ]
  },
  {
   "cell_type": "code",
   "execution_count": 4,
   "id": "b4ba189d",
   "metadata": {},
   "outputs": [
    {
     "name": "stdout",
     "output_type": "stream",
     "text": [
      "一维数组内容:\n",
      "[0. 0. 0. 0.]\n",
      "\n",
      "二维数组内容:\n",
      "[[0. 0. 0. 0.]\n",
      " [0. 0. 0. 0.]\n",
      " [0. 0. 0. 0.]]\n",
      "\n",
      "三维数组内容:\n",
      "[[[0. 0. 0. 0.]\n",
      "  [0. 0. 0. 0.]\n",
      "  [0. 0. 0. 0.]]\n",
      "\n",
      " [[0. 0. 0. 0.]\n",
      "  [0. 0. 0. 0.]\n",
      "  [0. 0. 0. 0.]]]\n"
     ]
    }
   ],
   "source": [
    "# 创建元素值为 0 的一维数组\n",
    "data = np.zeros(shape=(4))\n",
    "print(f\"一维数组内容:\\n{data}\")\n",
    "\n",
    "# 创建元素值为 0 的二维数组\n",
    "data = np.zeros(shape=(3, 4))\n",
    "print(f\"\\n二维数组内容:\\n{data}\")\n",
    "\n",
    "# 创建元素值为 0 的三维数组\n",
    "data = np.zeros(shape=(2, 3, 4))\n",
    "print(f\"\\n三维数组内容:\\n{data}\")"
   ]
  },
  {
   "cell_type": "code",
   "execution_count": 5,
   "id": "e9c29c56",
   "metadata": {},
   "outputs": [
    {
     "name": "stdout",
     "output_type": "stream",
     "text": [
      "一维数组内容:\n",
      "[1. 1. 1. 1.]\n",
      "\n",
      "二维数组内容:\n",
      "[[1. 1. 1. 1.]\n",
      " [1. 1. 1. 1.]\n",
      " [1. 1. 1. 1.]]\n",
      "\n",
      "三维数组内容:\n",
      "[[[1. 1. 1. 1.]\n",
      "  [1. 1. 1. 1.]\n",
      "  [1. 1. 1. 1.]]\n",
      "\n",
      " [[1. 1. 1. 1.]\n",
      "  [1. 1. 1. 1.]\n",
      "  [1. 1. 1. 1.]]]\n"
     ]
    }
   ],
   "source": [
    "# 创建元素值为 1 的一维数组\n",
    "data = np.ones(shape=(4))\n",
    "print(f\"一维数组内容:\\n{data}\")\n",
    "\n",
    "# 创建元素值为 1 的二维数组\n",
    "data = np.ones(shape=(3, 4))\n",
    "print(f\"\\n二维数组内容:\\n{data}\")\n",
    "\n",
    "# 创建元素值为 1 的三维数组\n",
    "data = np.ones(shape=(2, 3, 4))\n",
    "print(f\"\\n三维数组内容:\\n{data}\")"
   ]
  },
  {
   "cell_type": "markdown",
   "id": "97b67a9b",
   "metadata": {},
   "source": [
    "### 1.3. 创建元素值为 \"空\" 的数组\n",
    "\n",
    "通过 `np.empty` 函数创建一个元素值为 \"空\" 的数组\n",
    "\n",
    "注意: 所谓元素值为 \"空\" 的数组，指的是直接分配内存, 且不会对元素所用内存进行初始化操作, 所以所分配内存中的内容是未知的 (或保留上次该区域内存使用的值)\n",
    "\n",
    "所以创建了元素值为 \"空\" 的数组后, 必须对数组元素值全部进行初始化\n",
    "\n",
    "对于已确定会对数组元素值进行全部初始化的场景, 通过 `np.empty` 函数创建数组可以提升程序效率"
   ]
  },
  {
   "cell_type": "code",
   "execution_count": 6,
   "id": "d4ee11ca",
   "metadata": {},
   "outputs": [
    {
     "name": "stdout",
     "output_type": "stream",
     "text": [
      "一维数组内容:\n",
      "[1. 1. 1. 1.]\n",
      "\n",
      "二维数组内容:\n",
      "[[1. 1. 1. 1.]\n",
      " [1. 1. 1. 1.]\n",
      " [1. 1. 1. 1.]]\n",
      "\n",
      "三维数组内容:\n",
      "[[[1. 1. 1. 1.]\n",
      "  [1. 1. 1. 1.]\n",
      "  [1. 1. 1. 1.]]\n",
      "\n",
      " [[1. 1. 1. 1.]\n",
      "  [1. 1. 1. 1.]\n",
      "  [1. 1. 1. 1.]]]\n"
     ]
    }
   ],
   "source": [
    "# 创建元素值未知的一维数组\n",
    "data = np.empty(shape=(4))\n",
    "print(f\"一维数组内容:\\n{data}\")\n",
    "\n",
    "# 创建元素值未知的二维数组\n",
    "data = np.empty(shape=(3, 4))\n",
    "print(f\"\\n二维数组内容:\\n{data}\")\n",
    "\n",
    "# 创建元素值未知的三维数组\n",
    "data = np.empty(shape=(2, 3, 4))\n",
    "print(f\"\\n三维数组内容:\\n{data}\")"
   ]
  },
  {
   "cell_type": "markdown",
   "id": "e655baff",
   "metadata": {},
   "source": [
    "### 1.4. 创建元素值为连续序列的数组"
   ]
  },
  {
   "cell_type": "code",
   "execution_count": 7,
   "id": "d1eab4a3",
   "metadata": {},
   "outputs": [
    {
     "name": "stdout",
     "output_type": "stream",
     "text": [
      "数组内容:\n",
      "[ 1.  2.  3.  4.  5.  6.  7.  8.  9. 10.]\n",
      "\n",
      "数组内容:\n",
      "[ 1.          1.47368421  1.94736842  2.42105263  2.89473684  3.36842105\n",
      "  3.84210526  4.31578947  4.78947368  5.26315789  5.73684211  6.21052632\n",
      "  6.68421053  7.15789474  7.63157895  8.10526316  8.57894737  9.05263158\n",
      "  9.52631579 10.        ]\n"
     ]
    }
   ],
   "source": [
    "data = np.linspace(1, 10, 10)\n",
    "print(f\"数组内容:\\n{data}\")\n",
    "\n",
    "data = np.linspace(1, 10, 20)\n",
    "print(f\"\\n数组内容:\\n{data}\")"
   ]
  },
  {
   "cell_type": "markdown",
   "id": "101e1270",
   "metadata": {},
   "source": [
    "### 1.5. 创建元素值为 `0`~`1` 随机数的数组"
   ]
  },
  {
   "cell_type": "code",
   "execution_count": 8,
   "id": "f1b876f2",
   "metadata": {},
   "outputs": [
    {
     "name": "stdout",
     "output_type": "stream",
     "text": [
      "数组内容:\n",
      "[0.63194958 0.04778206 0.80668216 0.88051904]\n",
      "\n",
      "数组内容:\n",
      "[[0.34446426 0.10918339 0.60528533 0.94068266]\n",
      " [0.08355662 0.55015668 0.56689969 0.85104806]\n",
      " [0.96338608 0.85150671 0.96085044 0.16475745]]\n",
      "\n",
      "数组内容:\n",
      "[[[0.07112314 0.98221516 0.60943163 0.02051637]\n",
      "  [0.00257159 0.39927238 0.54056019 0.17138874]\n",
      "  [0.77837558 0.32288871 0.70466376 0.56552619]]\n",
      "\n",
      " [[0.86827277 0.27861351 0.09062541 0.52085231]\n",
      "  [0.53332289 0.05783583 0.48990751 0.26907913]\n",
      "  [0.65450107 0.4970348  0.69439988 0.56019749]]]\n",
      "\n",
      "数组内容:\n",
      "[[[7.67003343 9.02390697 7.52917739 6.591489  ]\n",
      "  [7.13022126 5.48647197 7.29279577 7.59253054]\n",
      "  [5.45756047 7.52788427 5.71572963 8.3908227 ]]\n",
      "\n",
      " [[5.69428135 8.30241477 8.78483425 5.64914007]\n",
      "  [9.63584325 5.30139805 6.93664994 8.31403179]\n",
      "  [9.50429843 6.89217262 6.52224209 5.35523825]]]\n"
     ]
    }
   ],
   "source": [
    "# 创建随机元素值的一维数组\n",
    "data = np.random.rand(4)\n",
    "print(f\"数组内容:\\n{data}\")\n",
    "\n",
    "# 创建随机元素值的二维数组\n",
    "data = np.random.rand(3, 4)\n",
    "print(f\"\\n数组内容:\\n{data}\")\n",
    "\n",
    "# 创建随机元素值的三维数组\n",
    "data = np.random.rand(2, 3, 4)\n",
    "print(f\"\\n数组内容:\\n{data}\")\n",
    "\n",
    "# `np.random.rand` 函数不能指定随机数范围, 只能生成 `0`~`1` 之间的随机数\n",
    "# 要指定随机数范围, 可通过下面的计算方法\n",
    "min_, max_ = 5, 10\n",
    "data = min_ + (max_ - min_) * (np.random.rand(2, 3, 4))\n",
    "print(f\"\\n数组内容:\\n{data}\")"
   ]
  },
  {
   "cell_type": "markdown",
   "id": "94aeabdb",
   "metadata": {},
   "source": [
    "### 1.6. 创建元素值随机整数的数组"
   ]
  },
  {
   "cell_type": "code",
   "execution_count": 9,
   "id": "3e2abf7d",
   "metadata": {},
   "outputs": [
    {
     "name": "stdout",
     "output_type": "stream",
     "text": [
      "数组内容:\n",
      "[9 7 9 7]\n",
      "\n",
      "数组内容:\n",
      "[[4 5 9 1]\n",
      " [9 5 3 8]\n",
      " [8 1 7 8]]\n",
      "\n",
      "数组内容:\n",
      "[[[4 3 7 6]\n",
      "  [4 7 1 9]\n",
      "  [2 8 9 6]]\n",
      "\n",
      " [[7 7 7 7]\n",
      "  [2 3 9 8]\n",
      "  [4 2 9 9]]]\n"
     ]
    }
   ],
   "source": [
    "# 创建元素值为 `1`~`10` 之间随机数的一维数组\n",
    "data = np.random.randint(1, 10, size=(4,))\n",
    "print(f\"数组内容:\\n{data}\")\n",
    "\n",
    "# 创建元素值为 `1`~`10` 之间随机数的二维数组\n",
    "data = np.random.randint(1, 10, size=(3, 4))\n",
    "print(f\"\\n数组内容:\\n{data}\")\n",
    "\n",
    "# 创建元素值为 `1`~`10` 之间随机数的三维数组\n",
    "data = np.random.randint(1, 10, size=(2, 3, 4))\n",
    "print(f\"\\n数组内容:\\n{data}\")"
   ]
  },
  {
   "cell_type": "markdown",
   "id": "fab62c92",
   "metadata": {},
   "source": [
    "## 2. 数组属性"
   ]
  },
  {
   "cell_type": "markdown",
   "id": "1a2d8a7b",
   "metadata": {},
   "source": [
    "### 2.1. 数组维度 (`ndim`)"
   ]
  },
  {
   "cell_type": "markdown",
   "id": "e5478551",
   "metadata": {},
   "source": [
    "可以获取到一个数组包含的维度数"
   ]
  },
  {
   "cell_type": "code",
   "execution_count": 10,
   "id": "09c0c0b5",
   "metadata": {},
   "outputs": [
    {
     "name": "stdout",
     "output_type": "stream",
     "text": [
      "一维数组:\n",
      "[ 1  2  3  4  5  6  7  8  9 10 11 12 13 14 15 16 17 18 19 20 21 22 23 24], dim=1\n",
      "\n",
      "二维数组:\n",
      "[[ 1  2  3  4  5  6  7  8  9 10 11 12]\n",
      " [13 14 15 16 17 18 19 20 21 22 23 24]], dim=2\n",
      "\n",
      "三维数组:\n",
      "[[[ 1  2  3  4]\n",
      "  [ 5  6  7  8]\n",
      "  [ 9 10 11 12]]\n",
      "\n",
      " [[13 14 15 16]\n",
      "  [17 18 19 20]\n",
      "  [21 22 23 24]]], dim=3\n"
     ]
    }
   ],
   "source": [
    "# 一维数组的 dim 总为 `1`\n",
    "data = np.arange(1, 25)  # 创建一个包含 1 到 24 的一维数组\n",
    "print(f\"一维数组:\\n{data}, dim={data.ndim}\")\n",
    "\n",
    "# 二维数组的 dim 总为 `2`\n",
    "data = data.reshape(2, -1)\n",
    "print(f\"\\n二维数组:\\n{data}, dim={data.ndim}\")\n",
    "\n",
    "# 三维数组的 dim 总为 `3`\n",
    "data = data.reshape(2, 3, -1)\n",
    "print(f\"\\n三维数组:\\n{data}, dim={data.ndim}\")"
   ]
  },
  {
   "cell_type": "markdown",
   "id": "a1021c67",
   "metadata": {},
   "source": [
    "### 2.2. 数组形状 (`shape`)"
   ]
  },
  {
   "cell_type": "markdown",
   "id": "9ae895f3",
   "metadata": {},
   "source": [
    "数组的形状即数组在每个维度的长度, 例如 shape 为 `(2, 3)` 的数组, 表示一个有 `2` 行 `3` 列的二维数组"
   ]
  },
  {
   "cell_type": "code",
   "execution_count": 11,
   "id": "991edd45",
   "metadata": {},
   "outputs": [
    {
     "name": "stdout",
     "output_type": "stream",
     "text": [
      "一维数组:\n",
      "[1 2 3 4], shape=(4,)\n",
      "\n",
      "二维数组:\n",
      "[[ 1  2  3  4]\n",
      " [ 5  6  7  8]\n",
      " [ 9 10 11 12]], shape=(3, 4)\n",
      "\n",
      "三维数组:\n",
      "[[[ 1  2  3  4]\n",
      "  [ 5  6  7  8]\n",
      "  [ 9 10 11 12]]\n",
      "\n",
      " [[13 14 15 16]\n",
      "  [17 18 19 20]\n",
      "  [21 22 23 24]]], shape=(2, 3, 4)\n"
     ]
    }
   ],
   "source": [
    "# 获取一维数组的形状, 结果为一个包含一个值的元组\n",
    "data = np.array([1, 2, 3, 4])\n",
    "print(f\"一维数组:\\n{data}, shape={data.shape}\")\n",
    "\n",
    "# 获取二维数组的形状, 结果为一个包含两个值的元组, 表示数组的两个维度\n",
    "data = np.array([[1, 2, 3, 4], [5, 6, 7, 8], [9, 10, 11, 12]])\n",
    "print(f\"\\n二维数组:\\n{data}, shape={data.shape}\")\n",
    "\n",
    "# 获取三维数组的形状, 结果为一个包含三个值的元组, 描述数组的三个维度\n",
    "data = np.array(\n",
    "    [\n",
    "        [[1, 2, 3, 4], [5, 6, 7, 8], [9, 10, 11, 12]],\n",
    "        [[13, 14, 15, 16], [17, 18, 19, 20], [21, 22, 23, 24]],\n",
    "    ]\n",
    ")\n",
    "print(f\"\\n三维数组:\\n{data}, shape={data.shape}\")"
   ]
  },
  {
   "cell_type": "markdown",
   "id": "32e5bd1f",
   "metadata": {},
   "source": [
    "### 2.3. 数组长度 (`size`)"
   ]
  },
  {
   "cell_type": "markdown",
   "id": "c1dbd122",
   "metadata": {},
   "source": [
    "数组长度即数组包含的元素总数, 和数组的维度或数组的形状无关"
   ]
  },
  {
   "cell_type": "code",
   "execution_count": 12,
   "id": "79c66b73",
   "metadata": {},
   "outputs": [
    {
     "name": "stdout",
     "output_type": "stream",
     "text": [
      "一维数组:\n",
      "[1 2 3 4], size=4\n",
      "\n",
      "二维数组:\n",
      "[[ 1  2  3  4]\n",
      " [ 5  6  7  8]\n",
      " [ 9 10 11 12]], size=12\n",
      "\n",
      "三维数组:\n",
      "[[[ 1  2  3  4]\n",
      "  [ 5  6  7  8]\n",
      "  [ 9 10 11 12]]\n",
      "\n",
      " [[13 14 15 16]\n",
      "  [17 18 19 20]\n",
      "  [21 22 23 24]]], size=24\n"
     ]
    }
   ],
   "source": [
    "data = np.array([1, 2, 3, 4])\n",
    "print(f\"一维数组:\\n{data}, size={data.size}\")\n",
    "\n",
    "data = np.array([[1, 2, 3, 4], [5, 6, 7, 8], [9, 10, 11, 12]])\n",
    "print(f\"\\n二维数组:\\n{data}, size={data.size}\")\n",
    "\n",
    "data = np.array(\n",
    "    [\n",
    "        [[1, 2, 3, 4], [5, 6, 7, 8], [9, 10, 11, 12]],\n",
    "        [[13, 14, 15, 16], [17, 18, 19, 20], [21, 22, 23, 24]],\n",
    "    ]\n",
    ")\n",
    "print(f\"\\n三维数组:\\n{data}, size={data.size}\")"
   ]
  },
  {
   "cell_type": "markdown",
   "id": "e2d12751",
   "metadata": {},
   "source": [
    "### 2.4. 数组元素类型 (`dtype`)"
   ]
  },
  {
   "cell_type": "markdown",
   "id": "ab0ac6fb",
   "metadata": {},
   "source": [
    "数组中的元素具备统一的数据类型, 可通过 `np.dtype` 查看, 可能的类型包括:\n",
    "\n",
    "- `np.int8`: 8 位有符号整数\n",
    "- `np.int16`: 16 位有符号整数\n",
    "- `np.int32`: 32 位有符号整数\n",
    "- `np.int64`: 64 位有符号整数\n",
    "- `np.uint8`: 8 位无符号整数\n",
    "- `np.uint16`: 16 位无符号整数\n",
    "- `np.uint32`: 32 位无符号整数\n",
    "- `np.uint64`: 64 位无符号整数\n",
    "- `np.float16`: 16 位浮点数\n",
    "- `np.float32`: 32 位浮点数\n",
    "- `np.float64`: 64 位浮点数\n",
    "- `np.complex64`: 64 位复数\n",
    "- `np.complex128`: 128 位复数\n",
    "- `np.bool_`: 布尔值"
   ]
  },
  {
   "cell_type": "code",
   "execution_count": 13,
   "id": "d6c10ef7",
   "metadata": {},
   "outputs": [
    {
     "name": "stdout",
     "output_type": "stream",
     "text": [
      "数组:\n",
      "[[[ 1  2  3  4]\n",
      "  [ 5  6  7  8]\n",
      "  [ 9 10 11 12]]], dtype=int64\n",
      "\n",
      "数组:\n",
      "[[[0.01 0.02 0.03 0.04]\n",
      "  [0.05 0.06 0.07 0.08]\n",
      "  [0.09 0.1  0.11 0.12]]], dtype=float64\n",
      "\n",
      "数组:\n",
      "[[[False False False False]\n",
      "  [False False False False]\n",
      "  [False  True  True  True]]], dtype=bool\n"
     ]
    }
   ],
   "source": [
    "data = np.array([[[1, 2, 3, 4], [5, 6, 7, 8], [9, 10, 11, 12]]])\n",
    "print(f\"数组:\\n{data}, dtype={data.dtype}\")\n",
    "\n",
    "data = data * np.array([0.01])\n",
    "print(f\"\\n数组:\\n{data}, dtype={data.dtype}\")\n",
    "\n",
    "data = np.array([n >= 0.1 for n in data.flat]).reshape(data.shape)\n",
    "print(f\"\\n数组:\\n{data}, dtype={data.dtype}\")"
   ]
  },
  {
   "cell_type": "markdown",
   "id": "4131d84f",
   "metadata": {},
   "source": [
    "## 3. 改变数组的形状"
   ]
  },
  {
   "cell_type": "code",
   "execution_count": 14,
   "id": "f59b45b9",
   "metadata": {},
   "outputs": [
    {
     "name": "stdout",
     "output_type": "stream",
     "text": [
      "数组内容:\n",
      "[ 1  2  3  4  5  6  7  8  9 10 11 12 13 14 15 16 17 18 19 20 21 22 23 24], shape=(24,)\n",
      "\n",
      "数组内容:\n",
      "[[ 1  2  3  4  5  6  7  8  9 10 11 12]\n",
      " [13 14 15 16 17 18 19 20 21 22 23 24]], shape=(2, 12)\n",
      "\n",
      "数组内容:\n",
      "[[[ 1  2  3  4]\n",
      "  [ 5  6  7  8]\n",
      "  [ 9 10 11 12]]\n",
      "\n",
      " [[13 14 15 16]\n",
      "  [17 18 19 20]\n",
      "  [21 22 23 24]]], shape=(2, 3, 4)\n",
      "\n",
      "数组内容:\n",
      "[ 1  2  3  4  5  6  7  8  9 10 11 12 13 14 15 16 17 18 19 20 21 22 23 24], shape=(24,)\n"
     ]
    }
   ],
   "source": [
    "# 定义一个 24 个元素的一维数组\n",
    "data = np.arange(1, 25)\n",
    "print(f\"数组内容:\\n{data}, shape={data.shape}\")\n",
    "\n",
    "# 改变数组的形状, 将一维数组改为二维数组\n",
    "# `-1` 表示自动计算维度, 只有最后一个维度可以为 `-1`\n",
    "data = data.reshape(2, -1)\n",
    "print(f\"\\n数组内容:\\n{data}, shape={data.shape}\")\n",
    "\n",
    "# 改变数组的形状, 将二维数组改为三维数组\n",
    "# `-1` 表示自动计算维度, 只有最后一个维度可以为 `-1`\n",
    "data = data.reshape(2, 3, -1)\n",
    "print(f\"\\n数组内容:\\n{data}, shape={data.shape}\")\n",
    "\n",
    "# 改变数组的形状, 将三维数组改为一维数组\n",
    "data = data.reshape(-1)\n",
    "print(f\"\\n数组内容:\\n{data}, shape={data.shape}\")\n",
    "\n",
    "# 如果目标形状无法达成 (及元素个数无法满足目标形状要求), 则操作失败\n",
    "# data = data.reshape(2, 5, -1)"
   ]
  },
  {
   "cell_type": "markdown",
   "id": "59eb4150",
   "metadata": {},
   "source": [
    "## 4. 数组转置"
   ]
  },
  {
   "cell_type": "markdown",
   "id": "cd06ca37",
   "metadata": {},
   "source": [
    "转置是线性代数的一个概念, 及将 $m \\times n$ 矩阵转置为 $n \\times m$ 矩阵, 矩阵中元素的位置关系不变, 例如:\n",
    "\n",
    "对于矩阵\n",
    "$\n",
    "A=\n",
    "\\begin{bmatrix}\n",
    "1 & 2 & 3 \\\\\n",
    "4 & 5 & 6 \\\\\n",
    "\\end{bmatrix}\n",
    "$, 其转置矩阵为\n",
    "$\n",
    "A^T=\n",
    "\\begin{bmatrix}\n",
    "1 & 4 \\\\\n",
    "2 & 5 \\\\\n",
    "3 & 6 \\\\\n",
    "\\end{bmatrix}\n",
    "$\n",
    "\n",
    "Numpy 支持多维数组 (多维矩阵), 故可对多维数组进行转置, 例如对于三维数组, 可将 $m \\times n \\times k$ 矩阵转置为 $k \\times n \\times m$"
   ]
  },
  {
   "cell_type": "code",
   "execution_count": 15,
   "id": "f1b0f81d",
   "metadata": {},
   "outputs": [
    {
     "name": "stdout",
     "output_type": "stream",
     "text": [
      "数组内容:\n",
      "[[[ 1  2  3  4]\n",
      "  [ 5  6  7  8]\n",
      "  [ 9 10 11 12]]\n",
      "\n",
      " [[13 14 15 16]\n",
      "  [17 18 19 20]\n",
      "  [21 22 23 24]]], shape=(2, 3, 4)\n",
      "\n",
      "转置后数组内容:\n",
      "[[[ 1 13]\n",
      "  [ 5 17]\n",
      "  [ 9 21]]\n",
      "\n",
      " [[ 2 14]\n",
      "  [ 6 18]\n",
      "  [10 22]]\n",
      "\n",
      " [[ 3 15]\n",
      "  [ 7 19]\n",
      "  [11 23]]\n",
      "\n",
      " [[ 4 16]\n",
      "  [ 8 20]\n",
      "  [12 24]]], shape=(4, 3, 2)\n"
     ]
    }
   ],
   "source": [
    "data = np.arange(1, 25).reshape(2, 3, 4)\n",
    "print(f\"数组内容:\\n{data}, shape={data.shape}\")\n",
    "\n",
    "data = data.T\n",
    "print(f\"\\n转置后数组内容:\\n{data}, shape={data.shape}\")"
   ]
  },
  {
   "cell_type": "markdown",
   "id": "8ca59349",
   "metadata": {},
   "source": [
    "## 5. 切片"
   ]
  },
  {
   "cell_type": "markdown",
   "id": "b3c2c8ae",
   "metadata": {},
   "source": [
    "数组的切片用于从数组中切割出一个新数组, 可以通过 Python 元素的 `slice` 对象进行切片, 也可以通过 Numpy 特有的 `:` 语法进行切片 (由于 Numpy 对数组索引做了特殊定义, 所以通过 `:` 语法取代 Python 元素的切片语法)"
   ]
  },
  {
   "cell_type": "code",
   "execution_count": 24,
   "id": "270d139d",
   "metadata": {},
   "outputs": [
    {
     "name": "stdout",
     "output_type": "stream",
     "text": [
      "a = [1 2 3 4]\n",
      "a[s] = [1 2 3]\n",
      "a[0:3] = [1 2 3]\n"
     ]
    }
   ],
   "source": [
    "a = np.arange(1, 5, step=1)\n",
    "\n",
    "print(f\"a = {a}\")\n",
    "\n",
    "s = slice(0, 3, 1)\n",
    "print(f\"a[s] = {a[s]}\")\n",
    "print(f\"a[0:3] = {a[0:3]}\")"
   ]
  }
 ],
 "metadata": {
  "kernelspec": {
   "display_name": ".venv",
   "language": "python",
   "name": "python3"
  },
  "language_info": {
   "codemirror_mode": {
    "name": "ipython",
    "version": 3
   },
   "file_extension": ".py",
   "mimetype": "text/x-python",
   "name": "python",
   "nbconvert_exporter": "python",
   "pygments_lexer": "ipython3",
   "version": "3.13.5"
  }
 },
 "nbformat": 4,
 "nbformat_minor": 5
}
