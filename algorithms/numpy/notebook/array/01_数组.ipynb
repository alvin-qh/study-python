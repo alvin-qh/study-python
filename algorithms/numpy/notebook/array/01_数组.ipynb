{
 "cells": [
  {
   "cell_type": "markdown",
   "id": "445358cc",
   "metadata": {},
   "source": [
    "# 数组"
   ]
  },
  {
   "cell_type": "markdown",
   "id": "9736a757",
   "metadata": {},
   "source": [
    "首先, 导入 Numpy 模块"
   ]
  },
  {
   "cell_type": "code",
   "execution_count": 40,
   "id": "56960715",
   "metadata": {},
   "outputs": [],
   "source": [
    "import numpy as np\n",
    "\n",
    "from display import aprint\n",
    "from array_ import arange_by_shape"
   ]
  },
  {
   "cell_type": "markdown",
   "id": "9eb77aaf",
   "metadata": {},
   "source": [
    "## 1. 创建数组"
   ]
  },
  {
   "cell_type": "markdown",
   "id": "b5ae0256",
   "metadata": {},
   "source": [
    "### 1.1. 通过 Python 数组创建"
   ]
  },
  {
   "cell_type": "code",
   "execution_count": 41,
   "id": "d220c863",
   "metadata": {},
   "outputs": [
    {
     "name": "stdout",
     "output_type": "stream",
     "text": [
      "一维数组内容:\n",
      "[1 2 3 4]\n",
      "\n",
      "二维数组内容:\n",
      "[[1 2 3 4]\n",
      " [5 6 7 8]]\n",
      "\n",
      "三维数组内容:\n",
      "[[[ 1  2  3  4]\n",
      "  [ 5  6  7  8]\n",
      "  [ 9 10 11 12]]\n",
      "\n",
      " [[13 14 15 16]\n",
      "  [17 18 19 20]\n",
      "  [21 22 23 24]]]\n"
     ]
    }
   ],
   "source": [
    "# 通过一维 Python 数组创建 NumPy 数组\n",
    "data = np.array([1, 2, 3, 4])\n",
    "print(f\"一维数组内容:\\n{data}\")\n",
    "\n",
    "# 通过二维 Python 数组创建 NumPy 数组\n",
    "data = np.array([[1, 2, 3, 4], [5, 6, 7, 8]])\n",
    "print(f\"\\n二维数组内容:\\n{data}\")\n",
    "\n",
    "# 通过三维 Python 列表创建 NumPy 数组\n",
    "data = np.array(\n",
    "    [\n",
    "        [\n",
    "            [1, 2, 3, 4],\n",
    "            [5, 6, 7, 8],\n",
    "            [9, 10, 11, 12],\n",
    "        ],\n",
    "        [\n",
    "            [13, 14, 15, 16],\n",
    "            [17, 18, 19, 20],\n",
    "            [21, 22, 23, 24],\n",
    "        ],\n",
    "    ]\n",
    ")\n",
    "print(f\"\\n三维数组内容:\\n{data}\")"
   ]
  },
  {
   "cell_type": "markdown",
   "id": "c36ab53a",
   "metadata": {},
   "source": [
    "### 1.2. 创建元素值为 `0` 的数组"
   ]
  },
  {
   "cell_type": "code",
   "execution_count": 42,
   "id": "b4ba189d",
   "metadata": {},
   "outputs": [
    {
     "name": "stdout",
     "output_type": "stream",
     "text": [
      "一维数组内容:\n",
      "[0. 0. 0. 0.]\n",
      "\n",
      "二维数组内容:\n",
      "[[0. 0. 0. 0.]\n",
      " [0. 0. 0. 0.]\n",
      " [0. 0. 0. 0.]]\n",
      "\n",
      "三维数组内容:\n",
      "[[[0. 0. 0. 0.]\n",
      "  [0. 0. 0. 0.]\n",
      "  [0. 0. 0. 0.]]\n",
      "\n",
      " [[0. 0. 0. 0.]\n",
      "  [0. 0. 0. 0.]\n",
      "  [0. 0. 0. 0.]]]\n"
     ]
    }
   ],
   "source": [
    "# 创建元素值为 0 的一维数组\n",
    "data = np.zeros(shape=(4))\n",
    "print(f\"一维数组内容:\\n{data}\")\n",
    "\n",
    "# 创建元素值为 0 的二维数组\n",
    "data = np.zeros(shape=(3, 4))\n",
    "print(f\"\\n二维数组内容:\\n{data}\")\n",
    "\n",
    "# 创建元素值为 0 的三维数组\n",
    "data = np.zeros(shape=(2, 3, 4))\n",
    "print(f\"\\n三维数组内容:\\n{data}\")"
   ]
  },
  {
   "cell_type": "code",
   "execution_count": 43,
   "id": "e9c29c56",
   "metadata": {},
   "outputs": [
    {
     "name": "stdout",
     "output_type": "stream",
     "text": [
      "一维数组内容:\n",
      "[1. 1. 1. 1.]\n",
      "\n",
      "二维数组内容:\n",
      "[[1. 1. 1. 1.]\n",
      " [1. 1. 1. 1.]\n",
      " [1. 1. 1. 1.]]\n",
      "\n",
      "三维数组内容:\n",
      "[[[1. 1. 1. 1.]\n",
      "  [1. 1. 1. 1.]\n",
      "  [1. 1. 1. 1.]]\n",
      "\n",
      " [[1. 1. 1. 1.]\n",
      "  [1. 1. 1. 1.]\n",
      "  [1. 1. 1. 1.]]]\n"
     ]
    }
   ],
   "source": [
    "# 创建元素值为 1 的一维数组\n",
    "data = np.ones(shape=(4))\n",
    "print(f\"一维数组内容:\\n{data}\")\n",
    "\n",
    "# 创建元素值为 1 的二维数组\n",
    "data = np.ones(shape=(3, 4))\n",
    "print(f\"\\n二维数组内容:\\n{data}\")\n",
    "\n",
    "# 创建元素值为 1 的三维数组\n",
    "data = np.ones(shape=(2, 3, 4))\n",
    "print(f\"\\n三维数组内容:\\n{data}\")"
   ]
  },
  {
   "cell_type": "markdown",
   "id": "97b67a9b",
   "metadata": {},
   "source": [
    "### 1.3. 创建元素值为 \"空\" 的数组\n",
    "\n",
    "通过 `np.empty` 函数创建一个元素值为 \"空\" 的数组\n",
    "\n",
    "注意: 所谓元素值为 \"空\" 的数组，指的是直接分配内存, 且不会对元素所用内存进行初始化操作, 所以所分配内存中的内容是未知的 (或保留上次该区域内存使用的值)\n",
    "\n",
    "所以创建了元素值为 \"空\" 的数组后, 必须对数组元素值全部进行初始化\n",
    "\n",
    "对于已确定会对数组元素值进行全部初始化的场景, 通过 `np.empty` 函数创建数组可以提升程序效率"
   ]
  },
  {
   "cell_type": "code",
   "execution_count": 44,
   "id": "d4ee11ca",
   "metadata": {},
   "outputs": [
    {
     "name": "stdout",
     "output_type": "stream",
     "text": [
      "一维数组内容:\n",
      "[1. 1. 1. 1.]\n",
      "\n",
      "二维数组内容:\n",
      "[[1. 1. 1. 1.]\n",
      " [1. 1. 1. 1.]\n",
      " [1. 1. 1. 1.]]\n",
      "\n",
      "三维数组内容:\n",
      "[[[1. 1. 1. 1.]\n",
      "  [1. 1. 1. 1.]\n",
      "  [1. 1. 1. 1.]]\n",
      "\n",
      " [[1. 1. 1. 1.]\n",
      "  [1. 1. 1. 1.]\n",
      "  [1. 1. 1. 1.]]]\n"
     ]
    }
   ],
   "source": [
    "# 创建元素值未知的一维数组\n",
    "data = np.empty(shape=(4))\n",
    "print(f\"一维数组内容:\\n{data}\")\n",
    "\n",
    "# 创建元素值未知的二维数组\n",
    "data = np.empty(shape=(3, 4))\n",
    "print(f\"\\n二维数组内容:\\n{data}\")\n",
    "\n",
    "# 创建元素值未知的三维数组\n",
    "data = np.empty(shape=(2, 3, 4))\n",
    "print(f\"\\n三维数组内容:\\n{data}\")"
   ]
  },
  {
   "cell_type": "markdown",
   "id": "e655baff",
   "metadata": {},
   "source": [
    "### 1.4. 创建元素值为连续序列的数组"
   ]
  },
  {
   "cell_type": "code",
   "execution_count": 45,
   "id": "d1eab4a3",
   "metadata": {},
   "outputs": [
    {
     "name": "stdout",
     "output_type": "stream",
     "text": [
      "数组内容:\n",
      "[ 1.  2.  3.  4.  5.  6.  7.  8.  9. 10.]\n",
      "\n",
      "数组内容:\n",
      "[ 1.          1.47368421  1.94736842  2.42105263  2.89473684  3.36842105\n",
      "  3.84210526  4.31578947  4.78947368  5.26315789  5.73684211  6.21052632\n",
      "  6.68421053  7.15789474  7.63157895  8.10526316  8.57894737  9.05263158\n",
      "  9.52631579 10.        ]\n"
     ]
    }
   ],
   "source": [
    "data = np.linspace(1, 10, 10)\n",
    "print(f\"数组内容:\\n{data}\")\n",
    "\n",
    "data = np.linspace(1, 10, 20)\n",
    "print(f\"\\n数组内容:\\n{data}\")"
   ]
  },
  {
   "cell_type": "markdown",
   "id": "101e1270",
   "metadata": {},
   "source": [
    "### 1.5. 创建元素值为 `0`~`1` 随机数的数组"
   ]
  },
  {
   "cell_type": "code",
   "execution_count": 46,
   "id": "f1b876f2",
   "metadata": {},
   "outputs": [
    {
     "name": "stdout",
     "output_type": "stream",
     "text": [
      "数组内容:\n",
      "[0.39217644 0.89797767 0.5012281  0.16075956]\n",
      "\n",
      "数组内容:\n",
      "[[0.94605642 0.81122214 0.39071025 0.92429325]\n",
      " [0.68800458 0.55844451 0.3000635  0.85883357]\n",
      " [0.57784814 0.12959302 0.09773077 0.64072643]]\n",
      "\n",
      "数组内容:\n",
      "[[[1.27794925e-01 4.31793961e-02 7.20813466e-01 3.00510413e-04]\n",
      "  [7.21553762e-01 4.94582213e-01 7.88827875e-01 1.57867373e-01]\n",
      "  [4.06862057e-01 2.86579818e-01 5.30451980e-01 2.39670571e-01]]\n",
      "\n",
      " [[2.33900999e-01 5.63598147e-01 7.18186071e-01 3.75323807e-01]\n",
      "  [5.49630838e-01 3.21606849e-01 4.89674104e-01 7.19141545e-01]\n",
      "  [2.95457786e-01 1.75608293e-01 2.49270242e-01 8.44656631e-01]]]\n",
      "\n",
      "数组内容:\n",
      "[[[5.72644053 7.51039806 6.44789902 7.41895869]\n",
      "  [7.32488295 7.65751972 5.21986405 8.76479991]\n",
      "  [9.55397489 5.54574563 8.75030331 5.81845988]]\n",
      "\n",
      " [[9.64469253 7.53441481 6.35766131 5.82178416]\n",
      "  [5.74445567 5.40199272 8.20977428 9.29935326]\n",
      "  [7.54005913 7.50652813 6.61439014 6.07222896]]]\n"
     ]
    }
   ],
   "source": [
    "# 创建随机元素值的一维数组\n",
    "data = np.random.rand(4)\n",
    "print(f\"数组内容:\\n{data}\")\n",
    "\n",
    "# 创建随机元素值的二维数组\n",
    "data = np.random.rand(3, 4)\n",
    "print(f\"\\n数组内容:\\n{data}\")\n",
    "\n",
    "# 创建随机元素值的三维数组\n",
    "data = np.random.rand(2, 3, 4)\n",
    "print(f\"\\n数组内容:\\n{data}\")\n",
    "\n",
    "# `np.random.rand` 函数不能指定随机数范围, 只能生成 `0`~`1` 之间的随机数\n",
    "# 要指定随机数范围, 可通过下面的计算方法\n",
    "min_, max_ = 5, 10\n",
    "data = min_ + (max_ - min_) * (np.random.rand(2, 3, 4))\n",
    "print(f\"\\n数组内容:\\n{data}\")"
   ]
  },
  {
   "cell_type": "markdown",
   "id": "94aeabdb",
   "metadata": {},
   "source": [
    "### 1.6. 创建元素值随机整数的数组"
   ]
  },
  {
   "cell_type": "code",
   "execution_count": 47,
   "id": "3e2abf7d",
   "metadata": {},
   "outputs": [
    {
     "name": "stdout",
     "output_type": "stream",
     "text": [
      "数组内容:\n",
      "[5 3 2 8]\n",
      "\n",
      "数组内容:\n",
      "[[2 1 6 4]\n",
      " [3 3 1 8]\n",
      " [7 1 8 7]]\n",
      "\n",
      "数组内容:\n",
      "[[[3 9 8 6]\n",
      "  [2 6 2 3]\n",
      "  [2 5 2 7]]\n",
      "\n",
      " [[3 4 8 2]\n",
      "  [7 9 4 1]\n",
      "  [4 3 2 4]]]\n"
     ]
    }
   ],
   "source": [
    "# 创建元素值为 `1`~`10` 之间随机数的一维数组\n",
    "data = np.random.randint(1, 10, size=(4,))\n",
    "print(f\"数组内容:\\n{data}\")\n",
    "\n",
    "# 创建元素值为 `1`~`10` 之间随机数的二维数组\n",
    "data = np.random.randint(1, 10, size=(3, 4))\n",
    "print(f\"\\n数组内容:\\n{data}\")\n",
    "\n",
    "# 创建元素值为 `1`~`10` 之间随机数的三维数组\n",
    "data = np.random.randint(1, 10, size=(2, 3, 4))\n",
    "print(f\"\\n数组内容:\\n{data}\")"
   ]
  },
  {
   "cell_type": "markdown",
   "id": "fab62c92",
   "metadata": {},
   "source": [
    "## 2. 数组属性"
   ]
  },
  {
   "cell_type": "markdown",
   "id": "1a2d8a7b",
   "metadata": {},
   "source": [
    "### 2.1. 数组维度 (`ndim`)"
   ]
  },
  {
   "cell_type": "markdown",
   "id": "e5478551",
   "metadata": {},
   "source": [
    "可以获取到一个数组包含的维度数"
   ]
  },
  {
   "cell_type": "code",
   "execution_count": 48,
   "id": "09c0c0b5",
   "metadata": {},
   "outputs": [
    {
     "name": "stdout",
     "output_type": "stream",
     "text": [
      "一维数组:\n",
      "[ 1  2  3  4  5  6  7  8  9 10 11 12 13 14 15 16 17 18 19 20 21 22 23 24], dim=1\n",
      "\n",
      "二维数组:\n",
      "[[ 1  2  3  4  5  6  7  8  9 10 11 12]\n",
      " [13 14 15 16 17 18 19 20 21 22 23 24]], dim=2\n",
      "\n",
      "三维数组:\n",
      "[[[ 1  2  3  4]\n",
      "  [ 5  6  7  8]\n",
      "  [ 9 10 11 12]]\n",
      "\n",
      " [[13 14 15 16]\n",
      "  [17 18 19 20]\n",
      "  [21 22 23 24]]], dim=3\n"
     ]
    }
   ],
   "source": [
    "# 一维数组的 dim 总为 `1`\n",
    "data = np.arange(1, 25)  # 创建一个包含 1 到 24 的一维数组\n",
    "print(f\"一维数组:\\n{data}, dim={data.ndim}\")\n",
    "\n",
    "# 二维数组的 dim 总为 `2`\n",
    "data = data.reshape(2, -1)\n",
    "print(f\"\\n二维数组:\\n{data}, dim={data.ndim}\")\n",
    "\n",
    "# 三维数组的 dim 总为 `3`\n",
    "data = data.reshape(2, 3, -1)\n",
    "print(f\"\\n三维数组:\\n{data}, dim={data.ndim}\")"
   ]
  },
  {
   "cell_type": "markdown",
   "id": "a1021c67",
   "metadata": {},
   "source": [
    "### 2.2. 数组形状 (`shape`)"
   ]
  },
  {
   "cell_type": "markdown",
   "id": "9ae895f3",
   "metadata": {},
   "source": [
    "数组的形状即数组在每个维度的长度, 例如 shape 为 `(2, 3)` 的数组, 表示一个有 `2` 行 `3` 列的二维数组"
   ]
  },
  {
   "cell_type": "code",
   "execution_count": 49,
   "id": "991edd45",
   "metadata": {},
   "outputs": [
    {
     "name": "stdout",
     "output_type": "stream",
     "text": [
      "一维数组:\n",
      "[1 2 3 4], shape=(4,)\n",
      "\n",
      "二维数组:\n",
      "[[ 1  2  3  4]\n",
      " [ 5  6  7  8]\n",
      " [ 9 10 11 12]], shape=(3, 4)\n",
      "\n",
      "三维数组:\n",
      "[[[ 1  2  3  4]\n",
      "  [ 5  6  7  8]\n",
      "  [ 9 10 11 12]]\n",
      "\n",
      " [[13 14 15 16]\n",
      "  [17 18 19 20]\n",
      "  [21 22 23 24]]], shape=(2, 3, 4)\n"
     ]
    }
   ],
   "source": [
    "# 获取一维数组的形状, 结果为一个包含一个值的元组\n",
    "data = np.array([1, 2, 3, 4])\n",
    "print(f\"一维数组:\\n{data}, shape={data.shape}\")\n",
    "\n",
    "# 获取二维数组的形状, 结果为一个包含两个值的元组, 表示数组的两个维度\n",
    "data = np.array([[1, 2, 3, 4], [5, 6, 7, 8], [9, 10, 11, 12]])\n",
    "print(f\"\\n二维数组:\\n{data}, shape={data.shape}\")\n",
    "\n",
    "# 获取三维数组的形状, 结果为一个包含三个值的元组, 描述数组的三个维度\n",
    "data = np.array(\n",
    "    [\n",
    "        [[1, 2, 3, 4], [5, 6, 7, 8], [9, 10, 11, 12]],\n",
    "        [[13, 14, 15, 16], [17, 18, 19, 20], [21, 22, 23, 24]],\n",
    "    ]\n",
    ")\n",
    "print(f\"\\n三维数组:\\n{data}, shape={data.shape}\")"
   ]
  },
  {
   "cell_type": "markdown",
   "id": "32e5bd1f",
   "metadata": {},
   "source": [
    "### 2.3. 数组长度 (`size`)"
   ]
  },
  {
   "cell_type": "markdown",
   "id": "c1dbd122",
   "metadata": {},
   "source": [
    "数组长度即数组包含的元素总数, 和数组的维度或数组的形状无关"
   ]
  },
  {
   "cell_type": "code",
   "execution_count": 50,
   "id": "79c66b73",
   "metadata": {},
   "outputs": [
    {
     "name": "stdout",
     "output_type": "stream",
     "text": [
      "一维数组:\n",
      "[1 2 3 4], size=4\n",
      "\n",
      "二维数组:\n",
      "[[ 1  2  3  4]\n",
      " [ 5  6  7  8]\n",
      " [ 9 10 11 12]], size=12\n",
      "\n",
      "三维数组:\n",
      "[[[ 1  2  3  4]\n",
      "  [ 5  6  7  8]\n",
      "  [ 9 10 11 12]]\n",
      "\n",
      " [[13 14 15 16]\n",
      "  [17 18 19 20]\n",
      "  [21 22 23 24]]], size=24\n"
     ]
    }
   ],
   "source": [
    "data = np.array([1, 2, 3, 4])\n",
    "print(f\"一维数组:\\n{data}, size={data.size}\")\n",
    "\n",
    "data = np.array([[1, 2, 3, 4], [5, 6, 7, 8], [9, 10, 11, 12]])\n",
    "print(f\"\\n二维数组:\\n{data}, size={data.size}\")\n",
    "\n",
    "data = np.array(\n",
    "    [\n",
    "        [[1, 2, 3, 4], [5, 6, 7, 8], [9, 10, 11, 12]],\n",
    "        [[13, 14, 15, 16], [17, 18, 19, 20], [21, 22, 23, 24]],\n",
    "    ]\n",
    ")\n",
    "print(f\"\\n三维数组:\\n{data}, size={data.size}\")"
   ]
  },
  {
   "cell_type": "markdown",
   "id": "e2d12751",
   "metadata": {},
   "source": [
    "### 2.4. 数组元素类型 (`dtype`)"
   ]
  },
  {
   "cell_type": "markdown",
   "id": "ab0ac6fb",
   "metadata": {},
   "source": [
    "数组中的元素具备统一的数据类型, 可通过 `np.dtype` 查看, 可能的类型包括:\n",
    "\n",
    "- `np.int8`: 8 位有符号整数\n",
    "- `np.int16`: 16 位有符号整数\n",
    "- `np.int32`: 32 位有符号整数\n",
    "- `np.int64`: 64 位有符号整数\n",
    "- `np.uint8`: 8 位无符号整数\n",
    "- `np.uint16`: 16 位无符号整数\n",
    "- `np.uint32`: 32 位无符号整数\n",
    "- `np.uint64`: 64 位无符号整数\n",
    "- `np.float16`: 16 位浮点数\n",
    "- `np.float32`: 32 位浮点数\n",
    "- `np.float64`: 64 位浮点数\n",
    "- `np.complex64`: 64 位复数\n",
    "- `np.complex128`: 128 位复数\n",
    "- `np.bool_`: 布尔值"
   ]
  },
  {
   "cell_type": "code",
   "execution_count": 51,
   "id": "d6c10ef7",
   "metadata": {},
   "outputs": [
    {
     "name": "stdout",
     "output_type": "stream",
     "text": [
      "数组:\n",
      "[[[ 1  2  3  4]\n",
      "  [ 5  6  7  8]\n",
      "  [ 9 10 11 12]]], dtype=int64\n",
      "\n",
      "数组:\n",
      "[[[0.01 0.02 0.03 0.04]\n",
      "  [0.05 0.06 0.07 0.08]\n",
      "  [0.09 0.1  0.11 0.12]]], dtype=float64\n",
      "\n",
      "数组:\n",
      "[[[False False False False]\n",
      "  [False False False False]\n",
      "  [False  True  True  True]]], dtype=bool\n"
     ]
    }
   ],
   "source": [
    "data = np.array([[[1, 2, 3, 4], [5, 6, 7, 8], [9, 10, 11, 12]]])\n",
    "print(f\"数组:\\n{data}, dtype={data.dtype}\")\n",
    "\n",
    "data = data * np.array([0.01])\n",
    "print(f\"\\n数组:\\n{data}, dtype={data.dtype}\")\n",
    "\n",
    "data = np.array([n >= 0.1 for n in data.flat]).reshape(data.shape)\n",
    "print(f\"\\n数组:\\n{data}, dtype={data.dtype}\")"
   ]
  },
  {
   "cell_type": "markdown",
   "id": "98a2e2a6",
   "metadata": {},
   "source": [
    "### 2.5. 数组的内存占用"
   ]
  },
  {
   "cell_type": "markdown",
   "id": "4e610493",
   "metadata": {},
   "source": [
    "通过数组的 `.itemsize` 属性可以获取数组中每个元素的字节大小, 通过 `.nbytes` 属性可以获取整个数组的字节大小"
   ]
  },
  {
   "cell_type": "code",
   "execution_count": 52,
   "id": "5603758f",
   "metadata": {},
   "outputs": [
    {
     "name": "stdout",
     "output_type": "stream",
     "text": [
      "数组: size=10, dtype=int8, itemsize=1, nbytes=10\n",
      "数组: size=10, dtype=int16, itemsize=2, nbytes=20\n",
      "数组: size=10, dtype=int32, itemsize=4, nbytes=40\n",
      "数组: size=10, dtype=int64, itemsize=8, nbytes=80\n",
      "数组: size=10, dtype=float32, itemsize=4, nbytes=40\n",
      "数组: size=10, dtype=float64, itemsize=8, nbytes=80\n",
      "数组: size=10, dtype=float128, itemsize=16, nbytes=160\n"
     ]
    }
   ],
   "source": [
    "a = np.arange(10, dtype=np.int8)\n",
    "print(f\"数组: size={a.size}, dtype={a.dtype}, itemsize={a.itemsize}, nbytes={a.nbytes}\")\n",
    "\n",
    "a = np.arange(10, dtype=np.int16)\n",
    "print(f\"数组: size={a.size}, dtype={a.dtype}, itemsize={a.itemsize}, nbytes={a.nbytes}\")\n",
    "\n",
    "a = np.arange(10, dtype=np.int32)\n",
    "print(f\"数组: size={a.size}, dtype={a.dtype}, itemsize={a.itemsize}, nbytes={a.nbytes}\")\n",
    "\n",
    "a = np.arange(10, dtype=np.int64)\n",
    "print(f\"数组: size={a.size}, dtype={a.dtype}, itemsize={a.itemsize}, nbytes={a.nbytes}\")\n",
    "\n",
    "a = np.arange(10, dtype=np.float32)\n",
    "print(f\"数组: size={a.size}, dtype={a.dtype}, itemsize={a.itemsize}, nbytes={a.nbytes}\")\n",
    "\n",
    "a = np.arange(10, dtype=np.float64)\n",
    "print(f\"数组: size={a.size}, dtype={a.dtype}, itemsize={a.itemsize}, nbytes={a.nbytes}\")\n",
    "\n",
    "a = np.arange(10, dtype=np.float128)\n",
    "print(f\"数组: size={a.size}, dtype={a.dtype}, itemsize={a.itemsize}, nbytes={a.nbytes}\")"
   ]
  },
  {
   "cell_type": "markdown",
   "id": "4131d84f",
   "metadata": {},
   "source": [
    "## 3. 改变数组的形状"
   ]
  },
  {
   "cell_type": "code",
   "execution_count": 53,
   "id": "f59b45b9",
   "metadata": {},
   "outputs": [
    {
     "name": "stdout",
     "output_type": "stream",
     "text": [
      "数组内容:\n",
      "[ 1  2  3  4  5  6  7  8  9 10 11 12 13 14 15 16 17 18 19 20 21 22 23 24], shape=(24,)\n",
      "\n",
      "数组内容:\n",
      "[[ 1  2  3  4  5  6  7  8  9 10 11 12]\n",
      " [13 14 15 16 17 18 19 20 21 22 23 24]], shape=(2, 12)\n",
      "\n",
      "数组内容:\n",
      "[[[ 1  2  3  4]\n",
      "  [ 5  6  7  8]\n",
      "  [ 9 10 11 12]]\n",
      "\n",
      " [[13 14 15 16]\n",
      "  [17 18 19 20]\n",
      "  [21 22 23 24]]], shape=(2, 3, 4)\n",
      "\n",
      "数组内容:\n",
      "[ 1  2  3  4  5  6  7  8  9 10 11 12 13 14 15 16 17 18 19 20 21 22 23 24], shape=(24,)\n"
     ]
    }
   ],
   "source": [
    "# 定义一个 24 个元素的一维数组\n",
    "data = np.arange(1, 25)\n",
    "print(f\"数组内容:\\n{data}, shape={data.shape}\")\n",
    "\n",
    "# 改变数组的形状, 将一维数组改为二维数组\n",
    "# `-1` 表示自动计算维度, 只有最后一个维度可以为 `-1`\n",
    "data = data.reshape(2, -1)\n",
    "print(f\"\\n数组内容:\\n{data}, shape={data.shape}\")\n",
    "\n",
    "# 改变数组的形状, 将二维数组改为三维数组\n",
    "# `-1` 表示自动计算维度, 只有最后一个维度可以为 `-1`\n",
    "data = data.reshape(2, 3, -1)\n",
    "print(f\"\\n数组内容:\\n{data}, shape={data.shape}\")\n",
    "\n",
    "# 改变数组的形状, 将三维数组改为一维数组\n",
    "data = data.reshape(-1)\n",
    "print(f\"\\n数组内容:\\n{data}, shape={data.shape}\")\n",
    "\n",
    "# 如果目标形状无法达成 (及元素个数无法满足目标形状要求), 则操作失败\n",
    "# data = data.reshape(2, 5, -1)"
   ]
  },
  {
   "cell_type": "markdown",
   "id": "59eb4150",
   "metadata": {},
   "source": [
    "## 4. 数组转置"
   ]
  },
  {
   "cell_type": "markdown",
   "id": "cd06ca37",
   "metadata": {},
   "source": [
    "转置是线性代数的一个概念, 及将 $m \\times n$ 矩阵转置为 $n \\times m$ 矩阵, 矩阵中元素的位置关系不变, 例如:\n",
    "\n",
    "对于矩阵\n",
    "$\n",
    "A=\n",
    "\\begin{bmatrix}\n",
    "1 & 2 & 3 \\\\\n",
    "4 & 5 & 6 \\\\\n",
    "\\end{bmatrix}\n",
    "$, 其转置矩阵为\n",
    "$\n",
    "A^T=\n",
    "\\begin{bmatrix}\n",
    "1 & 4 \\\\\n",
    "2 & 5 \\\\\n",
    "3 & 6 \\\\\n",
    "\\end{bmatrix}\n",
    "$\n",
    "\n",
    "Numpy 支持多维数组 (多维矩阵), 故可对多维数组进行转置, 例如对于三维数组, 可将 $m \\times n \\times k$ 矩阵转置为 $k \\times n \\times m$"
   ]
  },
  {
   "cell_type": "code",
   "execution_count": 54,
   "id": "f1b0f81d",
   "metadata": {},
   "outputs": [
    {
     "name": "stdout",
     "output_type": "stream",
     "text": [
      "数组内容:\n",
      "[[[ 1  2  3  4]\n",
      "  [ 5  6  7  8]\n",
      "  [ 9 10 11 12]]\n",
      "\n",
      " [[13 14 15 16]\n",
      "  [17 18 19 20]\n",
      "  [21 22 23 24]]], shape=(2, 3, 4)\n",
      "\n",
      "转置后数组内容:\n",
      "[[[ 1 13]\n",
      "  [ 5 17]\n",
      "  [ 9 21]]\n",
      "\n",
      " [[ 2 14]\n",
      "  [ 6 18]\n",
      "  [10 22]]\n",
      "\n",
      " [[ 3 15]\n",
      "  [ 7 19]\n",
      "  [11 23]]\n",
      "\n",
      " [[ 4 16]\n",
      "  [ 8 20]\n",
      "  [12 24]]], shape=(4, 3, 2)\n"
     ]
    }
   ],
   "source": [
    "data = np.arange(1, 25).reshape(2, 3, 4)\n",
    "print(f\"数组内容:\\n{data}, shape={data.shape}\")\n",
    "\n",
    "data = data.T\n",
    "print(f\"\\n转置后数组内容:\\n{data}, shape={data.shape}\")"
   ]
  },
  {
   "cell_type": "markdown",
   "id": "8ca59349",
   "metadata": {},
   "source": [
    "## 5. 切片"
   ]
  },
  {
   "cell_type": "markdown",
   "id": "b3c2c8ae",
   "metadata": {},
   "source": [
    "数组的切片用于从数组中切割出一个新数组, 可以通过 Python 元素的 `slice` 对象进行切片, 也可以通过 Numpy 特有的 `:` 语法进行切片 (由于 Numpy 对数组索引做了特殊定义, 所以通过 `:` 语法取代 Python 元素的切片语法)"
   ]
  },
  {
   "cell_type": "markdown",
   "id": "0b70ccce",
   "metadata": {},
   "source": [
    "### 5.1. 一维数组切片"
   ]
  },
  {
   "cell_type": "markdown",
   "id": "9982bc9d",
   "metadata": {},
   "source": [
    "一维数组可以通过 Python 本身的 Slice (切片) 对象进行切片"
   ]
  },
  {
   "cell_type": "code",
   "execution_count": 55,
   "id": "270d139d",
   "metadata": {},
   "outputs": [
    {
     "name": "stdout",
     "output_type": "stream",
     "text": [
      "对于数组 a = [1 2 3 4], shape=(4,), 则:\n",
      "通过 s = slice(1, 2, 1) 对 a 切片结果为: a[s] = [2 3], shape=(2,)\n"
     ]
    }
   ],
   "source": [
    "# 定义一个一维数组\n",
    "a = np.arange(1, 5, step=1)\n",
    "\n",
    "# 定义一个切片对象\n",
    "s = slice(1, 3, 1)\n",
    "\n",
    "# 通过切片对象获取数组内容进行截取\n",
    "print(f\"对于数组 a = {a}, shape={a.shape}, 则:\")\n",
    "print(f\"通过 s = {slice(1, 2, 1)} 对 a 切片结果为: a[s] = {a[s]}, shape={a[s].shape}\")"
   ]
  },
  {
   "cell_type": "markdown",
   "id": "91f50dd9",
   "metadata": {},
   "source": [
    "一维数组也可以通过 Numpy 的切片语法 (`:`) 来进行切片, 语法为 `[起始索引:结束索引:步长]`, 将截取 $\\small \\left(起始索引, 结束索引\\right]$ 之间的元素"
   ]
  },
  {
   "cell_type": "code",
   "execution_count": 56,
   "id": "6268ac62",
   "metadata": {},
   "outputs": [
    {
     "name": "stdout",
     "output_type": "stream",
     "text": [
      "对于数组 a = [1 2 3 4], shape=(4,), 则:\n",
      "通过 [1:3:1] 对 a 切片结果为: a[1:3:1] = [2 3], shape=(2,)\n"
     ]
    }
   ],
   "source": [
    "a = np.arange(1, 5, step=1)\n",
    "\n",
    "print(f\"对于数组 a = {a}, shape={a.shape}, 则:\")\n",
    "print(f\"通过 [1:3:1] 对 a 切片结果为: a[1:3:1] = {a[1:3:1]}, shape={a[1:3:1].shape}\")"
   ]
  },
  {
   "cell_type": "markdown",
   "id": "e0081edc",
   "metadata": {},
   "source": [
    "如果省略切片的 \"起始索引\", 即 (:结束索引:步长), 则默认为 \"起始索引为 `0`\"; 如果省略切片的 \"结束索引\", 即 (开始索引::步长), 则默认为 \"结束索引为 `-1`\", 即最后一个索引; 如果省略切片的 \"步长\", 即 (开始索引:结束索引), 则默认为 \"步长为 `1`\"\n",
    "\n",
    "如果切片步长为负数 (例如 `-1`), 则结果数组为元素住的逆序, 例如 `[::-1]` 表示切片结果为从数组的最后一个元素开始到第一个元素的逆序, `[-2::-2]` 表示切片结果为从数组倒数第二个元素开始到第一个元素的逆序, 间隔两个元素, 而 `[-2:0:-1]` 表示切片结果为从数组倒数第二个元素开始到第二个元素的逆序, 间隔一个元素"
   ]
  },
  {
   "cell_type": "code",
   "execution_count": 57,
   "id": "6c84e9d6",
   "metadata": {},
   "outputs": [
    {
     "name": "stdout",
     "output_type": "stream",
     "text": [
      "一维数组切片:\n",
      "● a:\n",
      "[1 2 3 4 5 6 7 8 9], shape=(9,)\n",
      "● a[1]:\n",
      "2\n",
      "● a[1:3]:\n",
      "[2 3 4 5 6], shape=(5,)\n",
      "● a[1:3:2]:\n",
      "[2 4 6], shape=(3,)\n",
      "● a[1:]:\n",
      "[2 3 4 5 6 7 8 9], shape=(8,)\n",
      "● a[:6]:\n",
      "[1 2 3 4 5 6], shape=(6,)\n",
      "● a[::2]:\n",
      "[1 3 5 7 9], shape=(5,)\n",
      "● a[2:-1]:\n",
      "[3 4 5 6 7 8], shape=(6,)\n",
      "● a[::-1]:\n",
      "[9 8 7 6 5 4 3 2 1], shape=(9,)\n",
      "● a[-2::-1]:\n",
      "[8 7 6 5 4 3 2 1], shape=(8,)\n",
      "● a[-2:0:-1]:\n",
      "[8 7 6 5 4 3 2], shape=(7,)\n"
     ]
    }
   ],
   "source": [
    "a = np.arange(1, 10, step=1)\n",
    "\n",
    "aprint(\n",
    "    \"一维数组切片:\",\n",
    "    {\n",
    "        \"a\": a,\n",
    "        \"a[1]\": a[1],\n",
    "        \"a[1:3]\": a[1:6],\n",
    "        \"a[1:3:2]\": a[1:6:2],\n",
    "        \"a[1:]\": a[1:],\n",
    "        \"a[:6]\": a[:6],\n",
    "        \"a[::2]\": a[::2],\n",
    "        \"a[2:-1]\": a[2:-1],\n",
    "        \"a[::-1]\": a[::-1],\n",
    "        \"a[-2::-1]\": a[-2::-1],\n",
    "        \"a[-2:0:-1]\": a[-2:0:-1],\n",
    "    },\n",
    ")"
   ]
  },
  {
   "cell_type": "markdown",
   "id": "192d2eea",
   "metadata": {},
   "source": [
    "### 5.2. 多维数组切片"
   ]
  },
  {
   "cell_type": "markdown",
   "id": "fcf727d6",
   "metadata": {},
   "source": [
    "对于多维数组, 主要是通过 Numpy 提供的 `:` 切片语法进行, 可以用 `,` 分隔来表示对特定维度的部分进行切片, 例如对于 shape=`(2, 3, 4)` 的数组, 可以有如下切片:\n",
    "- 通过 `[1:2:1]` 表示对第一个维进行切片, 即将三维数组看作是一个长度为 `2` 的一维数组, 取其中第二个元素;\n",
    "- 通过 `[:, 1:2:1]` 来表示对第二个维进行切片, 即将三维数组看作是一个两行两列的二维数组, 第一维全部保留, 第二维取第二个元素;"
   ]
  },
  {
   "cell_type": "code",
   "execution_count": 58,
   "id": "0a816162",
   "metadata": {},
   "outputs": [
    {
     "name": "stdout",
     "output_type": "stream",
     "text": [
      "多维数组切片:\n",
      "● a:\n",
      "[[[ 1  2  3  4]\n",
      "  [ 5  6  7  8]\n",
      "  [ 9 10 11 12]]\n",
      "\n",
      " [[13 14 15 16]\n",
      "  [17 18 19 20]\n",
      "  [21 22 23 24]]], shape=(2, 3, 4)\n",
      "● a[1:2:1]:\n",
      "[[[13 14 15 16]\n",
      "  [17 18 19 20]\n",
      "  [21 22 23 24]]], shape=(1, 3, 4)\n",
      "● a[:, 1:2:1]:\n",
      "[[[ 5  6  7  8]]\n",
      "\n",
      " [[17 18 19 20]]], shape=(2, 1, 4)\n",
      "● a[:, :, 1:2:1]:\n",
      "[[[ 2]\n",
      "  [ 6]\n",
      "  [10]]\n",
      "\n",
      " [[14]\n",
      "  [18]\n",
      "  [22]]], shape=(2, 3, 1)\n",
      "● a[1:2:1, 1:2:1]:\n",
      "[[[17 18 19 20]]], shape=(1, 1, 4)\n",
      "● a[1:2:1, :, 1:2:1]:\n",
      "[[[14]\n",
      "  [18]\n",
      "  [22]]], shape=(1, 3, 1)\n",
      "● a[1:2:1, 1:2:1, 1:2:1]:\n",
      "[[[18]]], shape=(1, 1, 1)\n"
     ]
    }
   ],
   "source": [
    "a = arange_by_shape((2, 3, 4), 1)\n",
    "\n",
    "aprint(\n",
    "    \"多维数组切片:\",\n",
    "    {\n",
    "        \"a\": a,\n",
    "        \"a[1:2:1]\": a[1:2:1],  # 对第一维度进行切片\n",
    "        \"a[:, 1:2:1]\": a[:, 1:2:3],  # 对第二维度进行切片\n",
    "        \"a[:, :, 1:2:1]\": a[:, :, 1:2:1],  # 对第三维度进行切片\n",
    "        \"a[1:2:1, 1:2:1]\": a[1:2:1, 1:2:1],  # 对第一, 二维度进行切片\n",
    "        \"a[1:2:1, :, 1:2:1]\": a[1:2:1, :, 1:2:1],  # 对第一, 三维度进行切片\n",
    "        \"a[1:2:1, 1:2:1, 1:2:1]\": a[1:2:1, 1:2:1, 1:2:1],  # 对第一, 二, 三维度进行切片\n",
    "    },\n",
    ")"
   ]
  },
  {
   "cell_type": "markdown",
   "id": "16a6b582",
   "metadata": {},
   "source": [
    "### 5.3. 切片占位符"
   ]
  },
  {
   "cell_type": "markdown",
   "id": "42256af8",
   "metadata": {},
   "source": [
    "通过 `...` 符号可以在 Numpy 切片中作为占位符, 其作用表示 \"选择所有剩余维度\", 而无需使用多个 `:` 符号, 例如:\n",
    "\n",
    "- `a[:, :, 1]` 和 `a[..., 1]` 等价\n",
    "- `a[1, :, :]` 和 `a[1, ...]` 等价\n",
    "- `a[1, :, :, 1]` 和 `a[1, ..., 1]` 等价"
   ]
  },
  {
   "cell_type": "code",
   "execution_count": 59,
   "id": "fdf0a332",
   "metadata": {},
   "outputs": [
    {
     "name": "stdout",
     "output_type": "stream",
     "text": [
      "多维数组切片:\n",
      "● a:\n",
      "[[[ 1  2  3  4]\n",
      "  [ 5  6  7  8]\n",
      "  [ 9 10 11 12]]\n",
      "\n",
      " [[13 14 15 16]\n",
      "  [17 18 19 20]\n",
      "  [21 22 23 24]]], shape=(2, 3, 4)\n",
      "● a[1, ...]:\n",
      "[[13 14 15 16]\n",
      " [17 18 19 20]\n",
      " [21 22 23 24]], shape=(3, 4)\n",
      "● a[0:1:1, ...]:\n",
      "[[[ 1  2  3  4]\n",
      "  [ 5  6  7  8]\n",
      "  [ 9 10 11 12]]], shape=(1, 3, 4)\n",
      "● a[..., 2]:\n",
      "[[ 3  7 11]\n",
      " [15 19 23]], shape=(2, 3)\n",
      "● a[..., 2:3]:\n",
      "[[[ 3]\n",
      "  [ 7]\n",
      "  [11]]\n",
      "\n",
      " [[15]\n",
      "  [19]\n",
      "  [23]]], shape=(2, 3, 1)\n",
      "● a[1, ..., 2]:\n",
      "[15 19 23], shape=(3,)\n"
     ]
    }
   ],
   "source": [
    "a = arange_by_shape((2, 3, 4), 1)\n",
    "\n",
    "aprint(\n",
    "    \"多维数组切片:\",\n",
    "    {\n",
    "        \"a\": a,\n",
    "        \"a[1, ...]\": a[1, ...],  # 相当于 `a[1, :, :]`\n",
    "        \"a[0:1:1, ...]\": a[0:1:1, ...],  # 相当于 `a[0:1:1, :, :]`\n",
    "        \"a[..., 2]\": a[..., 2],  # 相当于 `a[:, :, 2]`\n",
    "        \"a[..., 2:3]\": a[..., 2:3],  # 相当于 `a[:, :, 2:3]`\n",
    "        \"a[1, ..., 2]\": a[1, ..., 2],  # 相当于 `a[1, :, 2]`\n",
    "    },\n",
    ")"
   ]
  },
  {
   "cell_type": "markdown",
   "id": "2fe7332d",
   "metadata": {},
   "source": [
    "## 6. 索引"
   ]
  },
  {
   "cell_type": "markdown",
   "id": "13d63221",
   "metadata": {},
   "source": [
    "索引用于获取 Numpy 数组中的某个元素, 根据数组维度和索引维度的不同, 该元素可以是一个值或一个数组"
   ]
  },
  {
   "cell_type": "markdown",
   "id": "7c479fae",
   "metadata": {},
   "source": [
    "### 6.1. 一维数组索引"
   ]
  },
  {
   "cell_type": "markdown",
   "id": "a803ae74",
   "metadata": {},
   "source": [
    "Numpy 一维数组的索引类似于 Python 数组的索引, 获取索引指定位置的数组元素值"
   ]
  },
  {
   "cell_type": "code",
   "execution_count": 60,
   "id": "000d6ed9",
   "metadata": {},
   "outputs": [
    {
     "name": "stdout",
     "output_type": "stream",
     "text": [
      "一维数组索引:\n",
      "● a:\n",
      "[0 1 2 3 4 5 6 7 8 9], shape=(10,)\n",
      "● a[0]:\n",
      "0\n",
      "● a[5]:\n",
      "5\n",
      "● a[-1]:\n",
      "9\n"
     ]
    }
   ],
   "source": [
    "a = np.arange(10, dtype=np.int32)\n",
    "\n",
    "aprint(\n",
    "    \"一维数组索引:\",\n",
    "    {\n",
    "        \"a\": a,\n",
    "        \"a[0]\": a[0],  # 返回数组元素\n",
    "        \"a[5]\": a[5],\n",
    "        \"a[-1]\": a[-1],  # 返回数组最后一个元素\n",
    "    },\n",
    ")"
   ]
  },
  {
   "cell_type": "markdown",
   "id": "589605f7",
   "metadata": {},
   "source": [
    "### 6.2. 二维数组索引"
   ]
  },
  {
   "cell_type": "markdown",
   "id": "f02c2d56",
   "metadata": {},
   "source": [
    "二维数组相当于多个一维数组的集合, 所以通过一维索引结果为一维数组, 通过二维索引结果为元素, 即:\n",
    "\n",
    "- 一维索引: `a[i]`\n",
    "- 二维索引: `a[i, j]`"
   ]
  },
  {
   "cell_type": "code",
   "execution_count": 61,
   "id": "d59414e3",
   "metadata": {},
   "outputs": [
    {
     "name": "stdout",
     "output_type": "stream",
     "text": [
      "一维数组索引:\n",
      "● a:\n",
      "[[ 1  2  3  4  5]\n",
      " [ 6  7  8  9 10]\n",
      " [11 12 13 14 15]], shape=(3, 5)\n",
      "● a[0]:\n",
      "[1 2 3 4 5], shape=(5,)\n",
      "● a[-1]:\n",
      "[11 12 13 14 15], shape=(5,)\n",
      "● a[1, 2]:\n",
      "8\n",
      "● a[0, -1]:\n",
      "5\n"
     ]
    }
   ],
   "source": [
    "a = arange_by_shape((3, 5), 1)\n",
    "\n",
    "aprint(\n",
    "    \"一维数组索引:\",\n",
    "    {\n",
    "        \"a\": a,\n",
    "        \"a[0]\": a[0],  # 返回第二维的数组\n",
    "        \"a[-1]\": a[-1],  # 返回第二维最后一个数组\n",
    "        \"a[1, 2]\": a[1, 2],  # 返回元素值\n",
    "        \"a[0, -1]\": a[0, -1],\n",
    "    },\n",
    ")"
   ]
  },
  {
   "cell_type": "markdown",
   "id": "51c40cf9",
   "metadata": {},
   "source": [
    "### 6.3. 多维数组索引"
   ]
  },
  {
   "cell_type": "markdown",
   "id": "91386bc2",
   "metadata": {},
   "source": [
    "多维数组相当于二维数组的一个延申, 通过指定维度的索引可以访问数组中对应维度的元素"
   ]
  },
  {
   "cell_type": "code",
   "execution_count": 62,
   "id": "cf7acd78",
   "metadata": {},
   "outputs": [
    {
     "name": "stdout",
     "output_type": "stream",
     "text": [
      "多维数组索引:\n",
      "● a:\n",
      "[[[ 1  2  3  4  5]\n",
      "  [ 6  7  8  9 10]\n",
      "  [11 12 13 14 15]\n",
      "  [16 17 18 19 20]]\n",
      "\n",
      " [[21 22 23 24 25]\n",
      "  [26 27 28 29 30]\n",
      "  [31 32 33 34 35]\n",
      "  [36 37 38 39 40]]\n",
      "\n",
      " [[41 42 43 44 45]\n",
      "  [46 47 48 49 50]\n",
      "  [51 52 53 54 55]\n",
      "  [56 57 58 59 60]]], shape=(3, 4, 5)\n",
      "● a[0]:\n",
      "[[ 1  2  3  4  5]\n",
      " [ 6  7  8  9 10]\n",
      " [11 12 13 14 15]\n",
      " [16 17 18 19 20]], shape=(4, 5)\n",
      "● a[-1]:\n",
      "[[41 42 43 44 45]\n",
      " [46 47 48 49 50]\n",
      " [51 52 53 54 55]\n",
      " [56 57 58 59 60]], shape=(4, 5)\n",
      "● a[1, 2]:\n",
      "[31 32 33 34 35], shape=(5,)\n",
      "● a[0, -1]:\n",
      "[16 17 18 19 20], shape=(5,)\n",
      "● a[1, 2, 3]:\n",
      "34\n",
      "● a[1, -1, 3]:\n",
      "39\n"
     ]
    }
   ],
   "source": [
    "a = arange_by_shape((3, 4, 5), 1)\n",
    "\n",
    "aprint(\n",
    "    \"多维数组索引:\",\n",
    "    {\n",
    "        \"a\": a,\n",
    "        \"a[0]\": a[0],  # 返回第二维的数组\n",
    "        \"a[-1]\": a[-1],\n",
    "        \"a[1, 2]\": a[1, 2],  # 返回第三维的数组\n",
    "        \"a[0, -1]\": a[0, -1],\n",
    "        \"a[1, 2, 3]\": a[1, 2, 3],  # 返回元素值\n",
    "        \"a[1, -1, 3]\": a[1, -1, 3],\n",
    "    },\n",
    ")"
   ]
  },
  {
   "cell_type": "markdown",
   "id": "bc053612",
   "metadata": {},
   "source": [
    "### 6.4. 过滤条件索引"
   ]
  },
  {
   "cell_type": "markdown",
   "id": "514d3585",
   "metadata": {},
   "source": [
    "Numpy 索引可以为一个 \"布尔\" 值, 索引结果中会包含所有索引值为 `True` 的元素, 所以可以在索引中包含一个值为 \"布尔\" 值的表达式, 对数组进行过滤, 类似 `a[a > 0]`\n",
    "\n",
    "过滤条件索引会对数组中的**所有维度**的元素进行计算, 如果该维度的元素可满足条件索引表达式的计算, 且满足条件索引表达式的计算结果为 `True`, 则该元素会被包含在结果数组中"
   ]
  },
  {
   "cell_type": "code",
   "execution_count": null,
   "id": "6ea861bc",
   "metadata": {},
   "outputs": [
    {
     "name": "stdout",
     "output_type": "stream",
     "text": [
      "一维数组过滤结果:\n",
      "● a:\n",
      "[0 1 2 3 4 5 6 7 8 9], shape=(10,)\n",
      "● a[a > 5]:\n",
      "[6 7 8 9], shape=(4,)\n",
      "● a[~(a > 5)]:\n",
      "[0 1 2 3 4 5], shape=(6,)\n",
      "● a[a % 2 == 0]:\n",
      "[0 2 4 6 8], shape=(5,)\n",
      "\n",
      "多维数组过滤结果:\n",
      "● a:\n",
      "[[ 1  2  3  4  5]\n",
      " [ 6  7  8  9 10]\n",
      " [11 12 13 14 15]\n",
      " [16 17 18 19 20]], shape=(4, 5)\n",
      "● a[a > 5]:\n",
      "[ 6  7  8  9 10 11 12 13 14 15 16 17 18 19 20], shape=(15,)\n",
      "● a[~(a > 5)]:\n",
      "[1 2 3 4 5], shape=(5,)\n",
      "● a[a % 2 == 0]:\n",
      "[ 2  4  6  8 10 12 14 16 18 20], shape=(10,)\n",
      "● a[np.sum(a, axis=1) > 50]:\n",
      "[[11 12 13 14 15]\n",
      " [16 17 18 19 20]], shape=(2, 5)\n"
     ]
    }
   ],
   "source": [
    "a = np.arange(10, dtype=np.int32)\n",
    "aprint(\n",
    "    \"一维数组过滤结果:\",\n",
    "    {\n",
    "        \"a\": a,\n",
    "        \"a[a > 5]\": a[a > 5],  # 过滤所有值大于 `5 的元素\n",
    "        \"a[~(a > 5)]\": a[~(a > 5)],  # 逻辑求反, 即过滤所有值小于等于 `5` 的元素\n",
    "        \"a[a % 2 == 0]\": a[a % 2 == 0],  # 过滤所有值为偶数的元素\n",
    "    },\n",
    ")\n",
    "\n",
    "a = arange_by_shape((4, 5), 1)\n",
    "aprint(\n",
    "    \"\\n多维数组过滤结果:\",\n",
    "    {\n",
    "        \"a\": a,\n",
    "        \"a[a > 5]\": a[\n",
    "            a > 5\n",
    "        ],  # 过滤所有值大于 `5` 的元素, 返回一个数组, 包含所有维度中值大于 `5` 的元素\n",
    "        \"a[~(a > 5)]\": a[~(a > 5)],  # 逻辑求反, 即过滤所有维度中值小于等于 `5` 的元素\n",
    "        \"a[a % 2 == 0]\": a[a % 2 == 0],  # 过滤所有维度中值为偶数的元素\n",
    "        \"a[np.sum(a, axis=1) > 50]\": a[\n",
    "            np.sum(a, axis=1)\n",
    "            > 50  # 过滤数组元素求和值大于 `50` 的数组元素, 如果数组元素不满足 `np.sum` 计算要求, 则返回 `False`\n",
    "        ],\n",
    "    },\n",
    ")"
   ]
  },
  {
   "cell_type": "markdown",
   "id": "b48f629f",
   "metadata": {},
   "source": [
    "### 6.5. 数组索引 (花式索引)"
   ]
  },
  {
   "cell_type": "markdown",
   "id": "993e8ac7",
   "metadata": {},
   "source": [
    "Numpy 允许使用数组作为索引, 用于一次性批量获取对应数组多个索引对应的元素\n",
    "\n",
    "例如: `a[[1, 3]]` 表示获取数组 `a` 索引为 `1` 和 `3` 的元素, 其中:\n",
    "\n",
    "- 如果数组 `a` 是一维数组, 则返回 `1` 和 `3` 对应的元素值, 结果为一个一维数组\n",
    "- 如果数组 `a` 是多维数组, 则返回 `1` 和 `3` 行的全部元素值, 结果为一个多维数组\n",
    "\n",
    "当 $A = \\begin{bmatrix}\n",
    "a_{0} & a_{1} & a_{2} & a_{3} & a_{4} & a_{5}\n",
    "\\end{bmatrix}$, 则 $A[[1, 3, 5]] = \\begin{bmatrix}\n",
    "a_{1} & a_{3} & a_{5}\n",
    "\\end{bmatrix}$, 其中 $a_{n}$ 可以为一个元素值, 或者一个多维数组\n",
    "\n",
    "可以通过多个数组索引来对应多维数组的各个维度, 例如对于一个三维数组, 则可通过如下索引方式获取各个维度元素:\n",
    "\n",
    "- `a[[1, 3]]`: 获取第一维度索引为 `1` 和 `3` 的两个二维数组;\n",
    "- `a[[1, 3], [2, 4]]`: 获取第一维度索引为 `1` 和 `3` 的两项, 以及索引为 `1` 项中索引为 `2` 和索引为 `3` 项中索引为 `4` 的子项;\n",
    "- `a[[1, 3], [2, 4], [3]]`: 获取第一维度索引为 `1` 和 `3` 的两项, 在此基础上获取索引为 `1` 项中索引为 `2` 和索引为 `3` 项中索引为 `4` 的子项, 以及索引为 `2` 和索引为 `4` 项中索引为 `3` 的子项;"
   ]
  },
  {
   "cell_type": "code",
   "execution_count": 64,
   "id": "b8b8af73",
   "metadata": {},
   "outputs": [
    {
     "name": "stdout",
     "output_type": "stream",
     "text": [
      "一维数组索引结果:\n",
      "● a:\n",
      "[ 0 10 20 30 40 50 60 70 80 90], shape=(10,)\n",
      "● a[[1, 3, 5]]:\n",
      "[10 30 50], shape=(3,)\n",
      "● a[[-1, -3, -5]]:\n",
      "[90 70 50], shape=(3,)\n",
      "\n",
      "多维数组索引结果:\n",
      "● a:\n",
      "[[[ 1  2  3]\n",
      "  [ 4  5  6]\n",
      "  [ 7  8  9]]\n",
      "\n",
      " [[10 11 12]\n",
      "  [13 14 15]\n",
      "  [16 17 18]]\n",
      "\n",
      " [[19 20 21]\n",
      "  [22 23 24]\n",
      "  [25 26 27]]], shape=(3, 3, 3)\n",
      "● a[[0, 1]]:\n",
      "[[[ 1  2  3]\n",
      "  [ 4  5  6]\n",
      "  [ 7  8  9]]\n",
      "\n",
      " [[10 11 12]\n",
      "  [13 14 15]\n",
      "  [16 17 18]]], shape=(2, 3, 3)\n",
      "● a[[0, 1], [1, 2]]:\n",
      "[[ 4  5  6]\n",
      " [16 17 18]], shape=(2, 3)\n",
      "● a[[0, 1], [1, 2], [0, 1]]:\n",
      "[ 4 17], shape=(2,)\n"
     ]
    }
   ],
   "source": [
    "a = np.arange(0, 100, step=10, dtype=np.int32)\n",
    "aprint(\n",
    "    \"一维数组索引结果:\",\n",
    "    {\n",
    "        \"a\": a,\n",
    "        \"a[[1, 3, 5]]\": a[[1, 3, 5]],  # 获取数组中索引为 `1, 3, 5` 的元素\n",
    "        \"a[[-1, -3, -5]]\": a[\n",
    "            [-1, -3, -5]\n",
    "        ],  # 获取数组中索引为 `-1, -3, -5` 的元素 (反向索引)\n",
    "    },\n",
    ")\n",
    "\n",
    "a = arange_by_shape((3, 3, 3), 1)\n",
    "aprint(\n",
    "    \"\\n多维数组索引结果:\",\n",
    "    {\n",
    "        \"a\": a,\n",
    "        \"a[[0, 1]]\": a[\n",
    "            [0, 1]\n",
    "        ],  # 获取数组中索引为 `0`, `1` 的元素, 即数组第一维的前两项\n",
    "        \"a[[0, 1], [1, 2]]\": a[\n",
    "            [0, 1],\n",
    "            [1, 2],\n",
    "        ],  # 在数组第一维的前两项基础上, 获取第 `1` 项中索引为 `1` 的项以及 第 `2` 项中索引为 `2` 的项\n",
    "        \"a[[0, 1], [1, 2], [0, 1]]\": a[\n",
    "            [0, 1],\n",
    "            [1, 2],\n",
    "            [0, 1],\n",
    "        ],  # 在上述索引的基础上, 获取第 `1` 项中索引为 `0` 的项以及 第 `2` 项中索引为 `1` 的项\n",
    "    },\n",
    ")"
   ]
  },
  {
   "cell_type": "markdown",
   "id": "6c1ba40a",
   "metadata": {},
   "source": [
    "可以通过 `np.ix_` 函数来构建一个行和列交叉索引, 从而获取到集合的一个笛卡尔积\n",
    "\n",
    "例如对于一个 shape=`(5, 5)` 的二位数组, 通过 `np.ix_([0, 2, 4], [1, 3, 4])` 可以获取到 `(0, 1)`, `(0, 3)`, `(0, 4)`, `(2, 1)`, `(2, 3)`, `(2, 4)`, `(4, 1)`, `(4, 3)`, `(4, 4)` 这一系列索引, 根据索引的形状 ($3 \\times 3$), 可以得到如下结果：\n",
    "\n",
    "$设: A = \\begin{bmatrix}\n",
    "    \\begin{bmatrix}\n",
    "        1 & 2 & 3 & 4 & 5\n",
    "    \\end{bmatrix} \\\\\n",
    "    \\begin{bmatrix}\n",
    "        6 & 7 & 8 & 9 & 10\n",
    "    \\end{bmatrix} \\\\\n",
    "    \\begin{bmatrix}\n",
    "        11 & 12 & 13 & 14 & 15\n",
    "    \\end{bmatrix} \\\\\n",
    "    \\begin{bmatrix}\n",
    "        16 & 17 & 18 & 19 & 20\n",
    "    \\end{bmatrix} \\\\\n",
    "    \\begin{bmatrix}\n",
    "        21 & 22 & 23 & 24 & 25\n",
    "    \\end{bmatrix}\n",
    "\\end{bmatrix}, 则：A[np.ix\\_([0, 2, 4], [1, 3, 4])] = \\begin{bmatrix}\n",
    "    \\begin{bmatrix}\n",
    "        A[[0, 1]] & A[[0, 3]] & A[[0, 4]]\n",
    "    \\end{bmatrix} \\\\\n",
    "    \\begin{bmatrix}\n",
    "        A[[2, 1]] & A[[2, 3]] & A[[2, 4]]\n",
    "    \\end{bmatrix} \\\\\n",
    "    \\begin{bmatrix}\n",
    "        A[[4, 1]] & A[[4, 3]] & A[[4, 4]]\n",
    "    \\end{bmatrix}\n",
    "\\end{bmatrix} = \\begin{bmatrix}\n",
    "    \\begin{bmatrix}\n",
    "        2 & 4 & 5\n",
    "    \\end{bmatrix} \\\\\n",
    "    \\begin{bmatrix}\n",
    "        12 & 14 & 15\n",
    "    \\end{bmatrix} \\\\\n",
    "    \\begin{bmatrix}\n",
    "        22 & 24 & 25\n",
    "    \\end{bmatrix}\n",
    "\\end{bmatrix}$"
   ]
  },
  {
   "cell_type": "markdown",
   "id": "0d4f25fd",
   "metadata": {},
   "source": [
    "#### 6.5.1 对于二维数组"
   ]
  },
  {
   "cell_type": "code",
   "execution_count": 65,
   "id": "afc62023",
   "metadata": {},
   "outputs": [
    {
     "name": "stdout",
     "output_type": "stream",
     "text": [
      "二维数组笛卡尔积索引为:\n",
      "● a:\n",
      "[[ 1  2  3  4  5]\n",
      " [ 6  7  8  9 10]\n",
      " [11 12 13 14 15]\n",
      " [16 17 18 19 20]\n",
      " [21 22 23 24 25]], shape=(5, 5)\n",
      "● idx:\n",
      "(array([[0],\n",
      "       [2],\n",
      "       [4]]), array([[1, 3, 4]]))\n",
      "● a[idx]:\n",
      "[[ 2  4  5]\n",
      " [12 14 15]\n",
      " [22 24 25]], shape=(3, 3)\n"
     ]
    }
   ],
   "source": [
    "a = arange_by_shape((5, 5), 1)\n",
    "idx = np.ix_([0, 2, 4], [1, 3, 4])  # 构建行和列交叉索引, 该索引的结果为 3x3 数组\n",
    "\n",
    "aprint(\n",
    "    \"二维数组笛卡尔积索引为:\",\n",
    "    {\n",
    "        \"a\": a,\n",
    "        \"idx\": idx,\n",
    "        \"a[idx]\": a[idx],\n",
    "    },\n",
    ")"
   ]
  },
  {
   "cell_type": "markdown",
   "id": "34a0828d",
   "metadata": {},
   "source": [
    "#### 6.5.2 对于多维数组"
   ]
  },
  {
   "cell_type": "code",
   "execution_count": 66,
   "id": "e19b4b76",
   "metadata": {},
   "outputs": [
    {
     "name": "stdout",
     "output_type": "stream",
     "text": [
      "多维数组笛卡尔积索引为:\n",
      "● a:\n",
      "[[[ 1  2  3]\n",
      "  [ 4  5  6]\n",
      "  [ 7  8  9]]\n",
      "\n",
      " [[10 11 12]\n",
      "  [13 14 15]\n",
      "  [16 17 18]]\n",
      "\n",
      " [[19 20 21]\n",
      "  [22 23 24]\n",
      "  [25 26 27]]], shape=(3, 3, 3)\n",
      "● idx:\n",
      "(array([[[0]],\n",
      "\n",
      "       [[1]]]), array([[[1],\n",
      "        [2]]]), array([[[1, 0, 2]]]))\n",
      "● a[idx]:\n",
      "[[[ 5  4  6]\n",
      "  [ 8  7  9]]\n",
      "\n",
      " [[14 13 15]\n",
      "  [17 16 18]]], shape=(2, 2, 3)\n"
     ]
    }
   ],
   "source": [
    "a = arange_by_shape((3, 3, 3), 1)\n",
    "idx = np.ix_([0, 1], [1, 2], [1, 0, 2])  # 构建行和列交叉索引, 该索引的结果为 2x2x3 数组\n",
    "\n",
    "aprint(\n",
    "    \"多维数组笛卡尔积索引为:\",\n",
    "    {\n",
    "        \"a\": a,\n",
    "        \"idx\": idx,\n",
    "        \"a[idx]\": a[idx],\n",
    "    },\n",
    ")"
   ]
  },
  {
   "cell_type": "markdown",
   "id": "3df4012b",
   "metadata": {},
   "source": [
    "# 7. 字符串"
   ]
  },
  {
   "cell_type": "markdown",
   "id": "7591667a",
   "metadata": {},
   "source": [
    "Numpy 可以在数组元素中存储字符串, 并通过 `np.char` 模块提供了一系列字符串操作函数"
   ]
  },
  {
   "cell_type": "code",
   "execution_count": 83,
   "id": "e5573c5b",
   "metadata": {},
   "outputs": [
    {
     "name": "stdout",
     "output_type": "stream",
     "text": [
      "字符串数组:\n",
      "● s:\n",
      "['A' 'B' 'C' 'D' 'E' 'F'], shape=(6,)\n",
      "字符串数组:\n",
      "● s:\n",
      "[['A' 'B' 'C']\n",
      " ['D' 'E' 'F']], shape=(2, 3)\n",
      "字符串数组:\n",
      "● s:\n",
      "[[['A']\n",
      "  ['B']]\n",
      "\n",
      " [['C']\n",
      "  ['D']]\n",
      "\n",
      " [['E']\n",
      "  ['F']]], shape=(3, 2, 1)\n"
     ]
    }
   ],
   "source": [
    "s = np.array([\"A\", \"B\", \"C\", \"D\", \"E\", \"F\"], dtype=np.str_)\n",
    "aprint(\n",
    "    \"字符串数组:\",\n",
    "    {\n",
    "        \"s\": s,\n",
    "    },\n",
    ")\n",
    "\n",
    "s = s.reshape((2, -1))\n",
    "aprint(\n",
    "    \"字符串数组:\",\n",
    "    {\n",
    "        \"s\": s,\n",
    "    },\n",
    ")\n",
    "\n",
    "s = s.reshape((3, 2, -1))\n",
    "aprint(\n",
    "    \"字符串数组:\",\n",
    "    {\n",
    "        \"s\": s,\n",
    "    },\n",
    ")"
   ]
  }
 ],
 "metadata": {
  "kernelspec": {
   "display_name": ".venv",
   "language": "python",
   "name": "python3"
  },
  "language_info": {
   "codemirror_mode": {
    "name": "ipython",
    "version": 3
   },
   "file_extension": ".py",
   "mimetype": "text/x-python",
   "name": "python",
   "nbconvert_exporter": "python",
   "pygments_lexer": "ipython3",
   "version": "3.13.5"
  }
 },
 "nbformat": 4,
 "nbformat_minor": 5
}
