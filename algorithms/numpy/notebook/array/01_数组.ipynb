{
 "cells": [
  {
   "cell_type": "markdown",
   "id": "445358cc",
   "metadata": {},
   "source": [
    "# 数组"
   ]
  },
  {
   "cell_type": "markdown",
   "id": "9736a757",
   "metadata": {},
   "source": [
    "首先, 导入 Numpy 模块"
   ]
  },
  {
   "cell_type": "code",
   "execution_count": 823,
   "id": "56960715",
   "metadata": {},
   "outputs": [],
   "source": [
    "import numpy as np\n",
    "\n",
    "from display import aprint\n",
    "from array_ import arange_by_shape"
   ]
  },
  {
   "cell_type": "markdown",
   "id": "9eb77aaf",
   "metadata": {},
   "source": [
    "## 1. 创建数组"
   ]
  },
  {
   "cell_type": "markdown",
   "id": "b5ae0256",
   "metadata": {},
   "source": [
    "### 1.1. 通过 Python 数组创建"
   ]
  },
  {
   "cell_type": "code",
   "execution_count": 824,
   "id": "d220c863",
   "metadata": {},
   "outputs": [
    {
     "name": "stdout",
     "output_type": "stream",
     "text": [
      "一维数组内容:\n",
      "[1 2 3 4]\n",
      "\n",
      "二维数组内容:\n",
      "[[1 2 3 4]\n",
      " [5 6 7 8]]\n",
      "\n",
      "三维数组内容:\n",
      "[[[ 1  2  3  4]\n",
      "  [ 5  6  7  8]\n",
      "  [ 9 10 11 12]]\n",
      "\n",
      " [[13 14 15 16]\n",
      "  [17 18 19 20]\n",
      "  [21 22 23 24]]]\n"
     ]
    }
   ],
   "source": [
    "# 通过一维 Python 数组创建 NumPy 数组\n",
    "data = np.array([1, 2, 3, 4])\n",
    "print(f\"一维数组内容:\\n{data}\")\n",
    "\n",
    "# 通过二维 Python 数组创建 NumPy 数组\n",
    "data = np.array([[1, 2, 3, 4], [5, 6, 7, 8]])\n",
    "print(f\"\\n二维数组内容:\\n{data}\")\n",
    "\n",
    "# 通过三维 Python 列表创建 NumPy 数组\n",
    "data = np.array(\n",
    "    [\n",
    "        [\n",
    "            [1, 2, 3, 4],\n",
    "            [5, 6, 7, 8],\n",
    "            [9, 10, 11, 12],\n",
    "        ],\n",
    "        [\n",
    "            [13, 14, 15, 16],\n",
    "            [17, 18, 19, 20],\n",
    "            [21, 22, 23, 24],\n",
    "        ],\n",
    "    ]\n",
    ")\n",
    "print(f\"\\n三维数组内容:\\n{data}\")"
   ]
  },
  {
   "cell_type": "markdown",
   "id": "c36ab53a",
   "metadata": {},
   "source": [
    "### 1.2. 创建元素值为 `0` 的数组"
   ]
  },
  {
   "cell_type": "code",
   "execution_count": 825,
   "id": "b4ba189d",
   "metadata": {},
   "outputs": [
    {
     "name": "stdout",
     "output_type": "stream",
     "text": [
      "一维数组内容:\n",
      "[0. 0. 0. 0.]\n",
      "\n",
      "二维数组内容:\n",
      "[[0. 0. 0. 0.]\n",
      " [0. 0. 0. 0.]\n",
      " [0. 0. 0. 0.]]\n",
      "\n",
      "三维数组内容:\n",
      "[[[0. 0. 0. 0.]\n",
      "  [0. 0. 0. 0.]\n",
      "  [0. 0. 0. 0.]]\n",
      "\n",
      " [[0. 0. 0. 0.]\n",
      "  [0. 0. 0. 0.]\n",
      "  [0. 0. 0. 0.]]]\n"
     ]
    }
   ],
   "source": [
    "# 创建元素值为 0 的一维数组\n",
    "data = np.zeros(shape=(4))\n",
    "print(f\"一维数组内容:\\n{data}\")\n",
    "\n",
    "# 创建元素值为 0 的二维数组\n",
    "data = np.zeros(shape=(3, 4))\n",
    "print(f\"\\n二维数组内容:\\n{data}\")\n",
    "\n",
    "# 创建元素值为 0 的三维数组\n",
    "data = np.zeros(shape=(2, 3, 4))\n",
    "print(f\"\\n三维数组内容:\\n{data}\")"
   ]
  },
  {
   "cell_type": "code",
   "execution_count": 826,
   "id": "e9c29c56",
   "metadata": {},
   "outputs": [
    {
     "name": "stdout",
     "output_type": "stream",
     "text": [
      "一维数组内容:\n",
      "[1. 1. 1. 1.]\n",
      "\n",
      "二维数组内容:\n",
      "[[1. 1. 1. 1.]\n",
      " [1. 1. 1. 1.]\n",
      " [1. 1. 1. 1.]]\n",
      "\n",
      "三维数组内容:\n",
      "[[[1. 1. 1. 1.]\n",
      "  [1. 1. 1. 1.]\n",
      "  [1. 1. 1. 1.]]\n",
      "\n",
      " [[1. 1. 1. 1.]\n",
      "  [1. 1. 1. 1.]\n",
      "  [1. 1. 1. 1.]]]\n"
     ]
    }
   ],
   "source": [
    "# 创建元素值为 1 的一维数组\n",
    "data = np.ones(shape=(4))\n",
    "print(f\"一维数组内容:\\n{data}\")\n",
    "\n",
    "# 创建元素值为 1 的二维数组\n",
    "data = np.ones(shape=(3, 4))\n",
    "print(f\"\\n二维数组内容:\\n{data}\")\n",
    "\n",
    "# 创建元素值为 1 的三维数组\n",
    "data = np.ones(shape=(2, 3, 4))\n",
    "print(f\"\\n三维数组内容:\\n{data}\")"
   ]
  },
  {
   "cell_type": "markdown",
   "id": "97b67a9b",
   "metadata": {},
   "source": [
    "### 1.3. 创建元素值为 \"空\" 的数组\n",
    "\n",
    "通过 `np.empty` 函数创建一个元素值为 \"空\" 的数组\n",
    "\n",
    "注意: 所谓元素值为 \"空\" 的数组，指的是直接分配内存, 且不会对元素所用内存进行初始化操作, 所以所分配内存中的内容是未知的 (或保留上次该区域内存使用的值)\n",
    "\n",
    "所以创建了元素值为 \"空\" 的数组后, 必须对数组元素值全部进行初始化\n",
    "\n",
    "对于已确定会对数组元素值进行全部初始化的场景, 通过 `np.empty` 函数创建数组可以提升程序效率"
   ]
  },
  {
   "cell_type": "code",
   "execution_count": 827,
   "id": "d4ee11ca",
   "metadata": {},
   "outputs": [
    {
     "name": "stdout",
     "output_type": "stream",
     "text": [
      "一维数组内容:\n",
      "[1. 1. 1. 1.]\n",
      "\n",
      "二维数组内容:\n",
      "[[1. 1. 1. 1.]\n",
      " [1. 1. 1. 1.]\n",
      " [1. 1. 1. 1.]]\n",
      "\n",
      "三维数组内容:\n",
      "[[[1. 1. 1. 1.]\n",
      "  [1. 1. 1. 1.]\n",
      "  [1. 1. 1. 1.]]\n",
      "\n",
      " [[1. 1. 1. 1.]\n",
      "  [1. 1. 1. 1.]\n",
      "  [1. 1. 1. 1.]]]\n"
     ]
    }
   ],
   "source": [
    "# 创建元素值未知的一维数组\n",
    "data = np.empty(shape=(4))\n",
    "print(f\"一维数组内容:\\n{data}\")\n",
    "\n",
    "# 创建元素值未知的二维数组\n",
    "data = np.empty(shape=(3, 4))\n",
    "print(f\"\\n二维数组内容:\\n{data}\")\n",
    "\n",
    "# 创建元素值未知的三维数组\n",
    "data = np.empty(shape=(2, 3, 4))\n",
    "print(f\"\\n三维数组内容:\\n{data}\")"
   ]
  },
  {
   "cell_type": "markdown",
   "id": "e655baff",
   "metadata": {},
   "source": [
    "### 1.4. 创建元素值为连续序列的数组"
   ]
  },
  {
   "cell_type": "code",
   "execution_count": 828,
   "id": "d1eab4a3",
   "metadata": {},
   "outputs": [
    {
     "name": "stdout",
     "output_type": "stream",
     "text": [
      "数组内容:\n",
      "[ 1.  2.  3.  4.  5.  6.  7.  8.  9. 10.]\n",
      "\n",
      "数组内容:\n",
      "[ 1.          1.47368421  1.94736842  2.42105263  2.89473684  3.36842105\n",
      "  3.84210526  4.31578947  4.78947368  5.26315789  5.73684211  6.21052632\n",
      "  6.68421053  7.15789474  7.63157895  8.10526316  8.57894737  9.05263158\n",
      "  9.52631579 10.        ]\n"
     ]
    }
   ],
   "source": [
    "data = np.linspace(1, 10, 10)\n",
    "print(f\"数组内容:\\n{data}\")\n",
    "\n",
    "data = np.linspace(1, 10, 20)\n",
    "print(f\"\\n数组内容:\\n{data}\")"
   ]
  },
  {
   "cell_type": "markdown",
   "id": "101e1270",
   "metadata": {},
   "source": [
    "### 1.5. 创建元素值为 `0`~`1` 随机数的数组"
   ]
  },
  {
   "cell_type": "code",
   "execution_count": 829,
   "id": "f1b876f2",
   "metadata": {},
   "outputs": [
    {
     "name": "stdout",
     "output_type": "stream",
     "text": [
      "数组内容:\n",
      "[0.149628   0.22665775 0.2077684  0.92123782]\n",
      "\n",
      "数组内容:\n",
      "[[0.76910995 0.78137582 0.24140959 0.63205699]\n",
      " [0.39194951 0.09907057 0.156297   0.49770348]\n",
      " [0.11010663 0.01475078 0.09556682 0.47782018]]\n",
      "\n",
      "数组内容:\n",
      "[[[0.04592698 0.50184315 0.40524575 0.97356592]\n",
      "  [0.5047726  0.22131436 0.49314786 0.52711961]\n",
      "  [0.61453342 0.34207386 0.49133909 0.85092373]]\n",
      "\n",
      " [[0.67688287 0.50339179 0.48647637 0.65088836]\n",
      "  [0.98967964 0.61076005 0.53104942 0.87651677]\n",
      "  [0.69225745 0.8182422  0.87897895 0.74417362]]]\n",
      "\n",
      "数组内容:\n",
      "[[[7.54857559 8.48015008 8.05335204 6.33924403]\n",
      "  [8.53007581 8.13910868 7.59439966 8.35729741]\n",
      "  [7.58584355 9.92131162 6.89743489 7.44345748]]\n",
      "\n",
      " [[8.46871696 7.76258522 7.65191633 8.99379621]\n",
      "  [9.5946764  7.98010103 7.25646284 7.80877246]\n",
      "  [8.16647127 8.15527922 6.08079721 7.69958079]]]\n"
     ]
    }
   ],
   "source": [
    "# 创建随机元素值的一维数组\n",
    "data = np.random.rand(4)\n",
    "print(f\"数组内容:\\n{data}\")\n",
    "\n",
    "# 创建随机元素值的二维数组\n",
    "data = np.random.rand(3, 4)\n",
    "print(f\"\\n数组内容:\\n{data}\")\n",
    "\n",
    "# 创建随机元素值的三维数组\n",
    "data = np.random.rand(2, 3, 4)\n",
    "print(f\"\\n数组内容:\\n{data}\")\n",
    "\n",
    "# `np.random.rand` 函数不能指定随机数范围, 只能生成 `0`~`1` 之间的随机数\n",
    "# 要指定随机数范围, 可通过下面的计算方法\n",
    "min_, max_ = 5, 10\n",
    "data = min_ + (max_ - min_) * (np.random.rand(2, 3, 4))\n",
    "print(f\"\\n数组内容:\\n{data}\")"
   ]
  },
  {
   "cell_type": "markdown",
   "id": "94aeabdb",
   "metadata": {},
   "source": [
    "### 1.6. 创建元素值随机整数的数组"
   ]
  },
  {
   "cell_type": "code",
   "execution_count": 830,
   "id": "3e2abf7d",
   "metadata": {},
   "outputs": [
    {
     "name": "stdout",
     "output_type": "stream",
     "text": [
      "数组内容:\n",
      "[5 6 9 6]\n",
      "\n",
      "数组内容:\n",
      "[[7 5 8 8]\n",
      " [3 9 7 1]\n",
      " [1 9 3 3]]\n",
      "\n",
      "数组内容:\n",
      "[[[6 7 5 8]\n",
      "  [5 2 5 4]\n",
      "  [1 9 2 2]]\n",
      "\n",
      " [[4 3 7 4]\n",
      "  [5 2 8 8]\n",
      "  [1 6 1 4]]]\n"
     ]
    }
   ],
   "source": [
    "# 创建元素值为 `1`~`10` 之间随机数的一维数组\n",
    "data = np.random.randint(1, 10, size=(4,))\n",
    "print(f\"数组内容:\\n{data}\")\n",
    "\n",
    "# 创建元素值为 `1`~`10` 之间随机数的二维数组\n",
    "data = np.random.randint(1, 10, size=(3, 4))\n",
    "print(f\"\\n数组内容:\\n{data}\")\n",
    "\n",
    "# 创建元素值为 `1`~`10` 之间随机数的三维数组\n",
    "data = np.random.randint(1, 10, size=(2, 3, 4))\n",
    "print(f\"\\n数组内容:\\n{data}\")"
   ]
  },
  {
   "cell_type": "markdown",
   "id": "fab62c92",
   "metadata": {},
   "source": [
    "## 2. 数组属性"
   ]
  },
  {
   "cell_type": "markdown",
   "id": "1a2d8a7b",
   "metadata": {},
   "source": [
    "### 2.1. 数组维度 (`ndim`)"
   ]
  },
  {
   "cell_type": "markdown",
   "id": "e5478551",
   "metadata": {},
   "source": [
    "可以获取到一个数组包含的维度数"
   ]
  },
  {
   "cell_type": "code",
   "execution_count": 831,
   "id": "09c0c0b5",
   "metadata": {},
   "outputs": [
    {
     "name": "stdout",
     "output_type": "stream",
     "text": [
      "一维数组:\n",
      "[ 1  2  3  4  5  6  7  8  9 10 11 12 13 14 15 16 17 18 19 20 21 22 23 24], dim=1\n",
      "\n",
      "二维数组:\n",
      "[[ 1  2  3  4  5  6  7  8  9 10 11 12]\n",
      " [13 14 15 16 17 18 19 20 21 22 23 24]], dim=2\n",
      "\n",
      "三维数组:\n",
      "[[[ 1  2  3  4]\n",
      "  [ 5  6  7  8]\n",
      "  [ 9 10 11 12]]\n",
      "\n",
      " [[13 14 15 16]\n",
      "  [17 18 19 20]\n",
      "  [21 22 23 24]]], dim=3\n"
     ]
    }
   ],
   "source": [
    "# 一维数组的 dim 总为 `1`\n",
    "data = np.arange(1, 25)  # 创建一个包含 1 到 24 的一维数组\n",
    "print(f\"一维数组:\\n{data}, dim={data.ndim}\")\n",
    "\n",
    "# 二维数组的 dim 总为 `2`\n",
    "data = data.reshape(2, -1)\n",
    "print(f\"\\n二维数组:\\n{data}, dim={data.ndim}\")\n",
    "\n",
    "# 三维数组的 dim 总为 `3`\n",
    "data = data.reshape(2, 3, -1)\n",
    "print(f\"\\n三维数组:\\n{data}, dim={data.ndim}\")"
   ]
  },
  {
   "cell_type": "markdown",
   "id": "a1021c67",
   "metadata": {},
   "source": [
    "### 2.2. 数组形状 (`shape`)"
   ]
  },
  {
   "cell_type": "markdown",
   "id": "9ae895f3",
   "metadata": {},
   "source": [
    "数组的形状即数组在每个维度的长度, 例如 shape 为 `(2, 3)` 的数组, 表示一个有 `2` 行 `3` 列的二维数组"
   ]
  },
  {
   "cell_type": "code",
   "execution_count": 832,
   "id": "991edd45",
   "metadata": {},
   "outputs": [
    {
     "name": "stdout",
     "output_type": "stream",
     "text": [
      "一维数组:\n",
      "[1 2 3 4], shape=(4,)\n",
      "\n",
      "二维数组:\n",
      "[[ 1  2  3  4]\n",
      " [ 5  6  7  8]\n",
      " [ 9 10 11 12]], shape=(3, 4)\n",
      "\n",
      "三维数组:\n",
      "[[[ 1  2  3  4]\n",
      "  [ 5  6  7  8]\n",
      "  [ 9 10 11 12]]\n",
      "\n",
      " [[13 14 15 16]\n",
      "  [17 18 19 20]\n",
      "  [21 22 23 24]]], shape=(2, 3, 4)\n"
     ]
    }
   ],
   "source": [
    "# 获取一维数组的形状, 结果为一个包含一个值的元组\n",
    "data = np.array([1, 2, 3, 4])\n",
    "print(f\"一维数组:\\n{data}, shape={data.shape}\")\n",
    "\n",
    "# 获取二维数组的形状, 结果为一个包含两个值的元组, 表示数组的两个维度\n",
    "data = np.array([[1, 2, 3, 4], [5, 6, 7, 8], [9, 10, 11, 12]])\n",
    "print(f\"\\n二维数组:\\n{data}, shape={data.shape}\")\n",
    "\n",
    "# 获取三维数组的形状, 结果为一个包含三个值的元组, 描述数组的三个维度\n",
    "data = np.array(\n",
    "    [\n",
    "        [[1, 2, 3, 4], [5, 6, 7, 8], [9, 10, 11, 12]],\n",
    "        [[13, 14, 15, 16], [17, 18, 19, 20], [21, 22, 23, 24]],\n",
    "    ]\n",
    ")\n",
    "print(f\"\\n三维数组:\\n{data}, shape={data.shape}\")"
   ]
  },
  {
   "cell_type": "markdown",
   "id": "32e5bd1f",
   "metadata": {},
   "source": [
    "### 2.3. 数组长度 (`size`)"
   ]
  },
  {
   "cell_type": "markdown",
   "id": "c1dbd122",
   "metadata": {},
   "source": [
    "数组长度即数组包含的元素总数, 和数组的维度或数组的形状无关"
   ]
  },
  {
   "cell_type": "code",
   "execution_count": 833,
   "id": "79c66b73",
   "metadata": {},
   "outputs": [
    {
     "name": "stdout",
     "output_type": "stream",
     "text": [
      "一维数组:\n",
      "[1 2 3 4], size=4\n",
      "\n",
      "二维数组:\n",
      "[[ 1  2  3  4]\n",
      " [ 5  6  7  8]\n",
      " [ 9 10 11 12]], size=12\n",
      "\n",
      "三维数组:\n",
      "[[[ 1  2  3  4]\n",
      "  [ 5  6  7  8]\n",
      "  [ 9 10 11 12]]\n",
      "\n",
      " [[13 14 15 16]\n",
      "  [17 18 19 20]\n",
      "  [21 22 23 24]]], size=24\n"
     ]
    }
   ],
   "source": [
    "data = np.array([1, 2, 3, 4])\n",
    "print(f\"一维数组:\\n{data}, size={data.size}\")\n",
    "\n",
    "data = np.array([[1, 2, 3, 4], [5, 6, 7, 8], [9, 10, 11, 12]])\n",
    "print(f\"\\n二维数组:\\n{data}, size={data.size}\")\n",
    "\n",
    "data = np.array(\n",
    "    [\n",
    "        [[1, 2, 3, 4], [5, 6, 7, 8], [9, 10, 11, 12]],\n",
    "        [[13, 14, 15, 16], [17, 18, 19, 20], [21, 22, 23, 24]],\n",
    "    ]\n",
    ")\n",
    "print(f\"\\n三维数组:\\n{data}, size={data.size}\")"
   ]
  },
  {
   "cell_type": "markdown",
   "id": "e2d12751",
   "metadata": {},
   "source": [
    "### 2.4. 数组元素类型 (`dtype`)"
   ]
  },
  {
   "cell_type": "markdown",
   "id": "ab0ac6fb",
   "metadata": {},
   "source": [
    "数组中的元素具备统一的数据类型, 可通过 `np.dtype` 查看, 可能的类型包括:\n",
    "\n",
    "- `np.int8`: 8 位有符号整数\n",
    "- `np.int16`: 16 位有符号整数\n",
    "- `np.int32`: 32 位有符号整数\n",
    "- `np.int64`: 64 位有符号整数\n",
    "- `np.uint8`: 8 位无符号整数\n",
    "- `np.uint16`: 16 位无符号整数\n",
    "- `np.uint32`: 32 位无符号整数\n",
    "- `np.uint64`: 64 位无符号整数\n",
    "- `np.float16`: 16 位浮点数\n",
    "- `np.float32`: 32 位浮点数\n",
    "- `np.float64`: 64 位浮点数\n",
    "- `np.complex64`: 64 位复数\n",
    "- `np.complex128`: 128 位复数\n",
    "- `np.bool_`: 布尔值"
   ]
  },
  {
   "cell_type": "code",
   "execution_count": 834,
   "id": "d6c10ef7",
   "metadata": {},
   "outputs": [
    {
     "name": "stdout",
     "output_type": "stream",
     "text": [
      "数组:\n",
      "[[[ 1  2  3  4]\n",
      "  [ 5  6  7  8]\n",
      "  [ 9 10 11 12]]], dtype=int64\n",
      "\n",
      "数组:\n",
      "[[[0.01 0.02 0.03 0.04]\n",
      "  [0.05 0.06 0.07 0.08]\n",
      "  [0.09 0.1  0.11 0.12]]], dtype=float64\n",
      "\n",
      "数组:\n",
      "[[[False False False False]\n",
      "  [False False False False]\n",
      "  [False  True  True  True]]], dtype=bool\n"
     ]
    }
   ],
   "source": [
    "data = np.array([[[1, 2, 3, 4], [5, 6, 7, 8], [9, 10, 11, 12]]])\n",
    "print(f\"数组:\\n{data}, dtype={data.dtype}\")\n",
    "\n",
    "data = data * np.array([0.01])\n",
    "print(f\"\\n数组:\\n{data}, dtype={data.dtype}\")\n",
    "\n",
    "data = np.array([n >= 0.1 for n in data.flat]).reshape(data.shape)\n",
    "print(f\"\\n数组:\\n{data}, dtype={data.dtype}\")"
   ]
  },
  {
   "cell_type": "markdown",
   "id": "98a2e2a6",
   "metadata": {},
   "source": [
    "### 2.5. 数组的内存占用"
   ]
  },
  {
   "cell_type": "markdown",
   "id": "4e610493",
   "metadata": {},
   "source": [
    "通过数组的 `.itemsize` 属性可以获取数组中每个元素的字节大小, 通过 `.nbytes` 属性可以获取整个数组的字节大小"
   ]
  },
  {
   "cell_type": "code",
   "execution_count": 835,
   "id": "5603758f",
   "metadata": {},
   "outputs": [
    {
     "name": "stdout",
     "output_type": "stream",
     "text": [
      "数组: size=10, dtype=int8, itemsize=1, nbytes=10\n",
      "数组: size=10, dtype=int16, itemsize=2, nbytes=20\n",
      "数组: size=10, dtype=int32, itemsize=4, nbytes=40\n",
      "数组: size=10, dtype=int64, itemsize=8, nbytes=80\n",
      "数组: size=10, dtype=float32, itemsize=4, nbytes=40\n",
      "数组: size=10, dtype=float64, itemsize=8, nbytes=80\n",
      "数组: size=10, dtype=float128, itemsize=16, nbytes=160\n"
     ]
    }
   ],
   "source": [
    "a = np.arange(10, dtype=np.int8)\n",
    "print(f\"数组: size={a.size}, dtype={a.dtype}, itemsize={a.itemsize}, nbytes={a.nbytes}\")\n",
    "\n",
    "a = np.arange(10, dtype=np.int16)\n",
    "print(f\"数组: size={a.size}, dtype={a.dtype}, itemsize={a.itemsize}, nbytes={a.nbytes}\")\n",
    "\n",
    "a = np.arange(10, dtype=np.int32)\n",
    "print(f\"数组: size={a.size}, dtype={a.dtype}, itemsize={a.itemsize}, nbytes={a.nbytes}\")\n",
    "\n",
    "a = np.arange(10, dtype=np.int64)\n",
    "print(f\"数组: size={a.size}, dtype={a.dtype}, itemsize={a.itemsize}, nbytes={a.nbytes}\")\n",
    "\n",
    "a = np.arange(10, dtype=np.float32)\n",
    "print(f\"数组: size={a.size}, dtype={a.dtype}, itemsize={a.itemsize}, nbytes={a.nbytes}\")\n",
    "\n",
    "a = np.arange(10, dtype=np.float64)\n",
    "print(f\"数组: size={a.size}, dtype={a.dtype}, itemsize={a.itemsize}, nbytes={a.nbytes}\")\n",
    "\n",
    "a = np.arange(10, dtype=np.float128)\n",
    "print(f\"数组: size={a.size}, dtype={a.dtype}, itemsize={a.itemsize}, nbytes={a.nbytes}\")"
   ]
  },
  {
   "cell_type": "markdown",
   "id": "4131d84f",
   "metadata": {},
   "source": [
    "## 3. 改变形状"
   ]
  },
  {
   "cell_type": "code",
   "execution_count": 836,
   "id": "f59b45b9",
   "metadata": {},
   "outputs": [
    {
     "name": "stdout",
     "output_type": "stream",
     "text": [
      "数组内容:\n",
      "[ 1  2  3  4  5  6  7  8  9 10 11 12 13 14 15 16 17 18 19 20 21 22 23 24], shape=(24,)\n",
      "\n",
      "数组内容:\n",
      "[[ 1  2  3  4  5  6  7  8  9 10 11 12]\n",
      " [13 14 15 16 17 18 19 20 21 22 23 24]], shape=(2, 12)\n",
      "\n",
      "数组内容:\n",
      "[[[ 1  2  3  4]\n",
      "  [ 5  6  7  8]\n",
      "  [ 9 10 11 12]]\n",
      "\n",
      " [[13 14 15 16]\n",
      "  [17 18 19 20]\n",
      "  [21 22 23 24]]], shape=(2, 3, 4)\n",
      "\n",
      "数组内容:\n",
      "[ 1  2  3  4  5  6  7  8  9 10 11 12 13 14 15 16 17 18 19 20 21 22 23 24], shape=(24,)\n"
     ]
    }
   ],
   "source": [
    "# 定义一个 24 个元素的一维数组\n",
    "data = np.arange(1, 25)\n",
    "print(f\"数组内容:\\n{data}, shape={data.shape}\")\n",
    "\n",
    "# 改变数组的形状, 将一维数组改为二维数组\n",
    "# `-1` 表示自动计算维度, 只有最后一个维度可以为 `-1`\n",
    "data = data.reshape(2, -1)\n",
    "print(f\"\\n数组内容:\\n{data}, shape={data.shape}\")\n",
    "\n",
    "# 改变数组的形状, 将二维数组改为三维数组\n",
    "# `-1` 表示自动计算维度, 只有最后一个维度可以为 `-1`\n",
    "data = data.reshape(2, 3, -1)\n",
    "print(f\"\\n数组内容:\\n{data}, shape={data.shape}\")\n",
    "\n",
    "# 改变数组的形状, 将三维数组改为一维数组\n",
    "data = data.reshape(-1)\n",
    "print(f\"\\n数组内容:\\n{data}, shape={data.shape}\")\n",
    "\n",
    "# 如果目标形状无法达成 (及元素个数无法满足目标形状要求), 则操作失败\n",
    "# data = data.reshape(2, 5, -1)"
   ]
  },
  {
   "cell_type": "markdown",
   "id": "59eb4150",
   "metadata": {},
   "source": [
    "## 4. 转置"
   ]
  },
  {
   "cell_type": "markdown",
   "id": "cd06ca37",
   "metadata": {},
   "source": [
    "转置是线性代数的一个概念, 及将 $m \\times n$ 矩阵转置为 $n \\times m$ 矩阵, 矩阵中元素的位置关系不变, 例如:\n",
    "\n",
    "对于矩阵\n",
    "$\n",
    "A=\n",
    "\\begin{bmatrix}\n",
    "1 & 2 & 3 \\\\\n",
    "4 & 5 & 6 \\\\\n",
    "\\end{bmatrix}\n",
    "$, 其转置矩阵为\n",
    "$\n",
    "A^T=\n",
    "\\begin{bmatrix}\n",
    "1 & 4 \\\\\n",
    "2 & 5 \\\\\n",
    "3 & 6 \\\\\n",
    "\\end{bmatrix}\n",
    "$\n",
    "\n",
    "Numpy 支持多维数组 (多维矩阵), 故可对多维数组进行转置, 例如对于三维数组, 可将 $m \\times n \\times k$ 矩阵转置为 $k \\times n \\times m$"
   ]
  },
  {
   "cell_type": "code",
   "execution_count": 837,
   "id": "f1b0f81d",
   "metadata": {},
   "outputs": [
    {
     "name": "stdout",
     "output_type": "stream",
     "text": [
      "数组内容:\n",
      "[[[ 1  2  3  4]\n",
      "  [ 5  6  7  8]\n",
      "  [ 9 10 11 12]]\n",
      "\n",
      " [[13 14 15 16]\n",
      "  [17 18 19 20]\n",
      "  [21 22 23 24]]], shape=(2, 3, 4)\n",
      "\n",
      "转置后数组内容:\n",
      "[[[ 1 13]\n",
      "  [ 5 17]\n",
      "  [ 9 21]]\n",
      "\n",
      " [[ 2 14]\n",
      "  [ 6 18]\n",
      "  [10 22]]\n",
      "\n",
      " [[ 3 15]\n",
      "  [ 7 19]\n",
      "  [11 23]]\n",
      "\n",
      " [[ 4 16]\n",
      "  [ 8 20]\n",
      "  [12 24]]], shape=(4, 3, 2)\n"
     ]
    }
   ],
   "source": [
    "data = np.arange(1, 25).reshape(2, 3, 4)\n",
    "print(f\"数组内容:\\n{data}, shape={data.shape}\")\n",
    "\n",
    "data = data.T\n",
    "print(f\"\\n转置后数组内容:\\n{data}, shape={data.shape}\")"
   ]
  },
  {
   "cell_type": "markdown",
   "id": "8ca59349",
   "metadata": {},
   "source": [
    "## 5. 切片"
   ]
  },
  {
   "cell_type": "markdown",
   "id": "b3c2c8ae",
   "metadata": {},
   "source": [
    "数组的切片用于从数组中切割出一个新数组, 可以通过 Python 元素的 `slice` 对象进行切片, 也可以通过 Numpy 特有的 `:` 语法进行切片 (由于 Numpy 对数组索引做了特殊定义, 所以通过 `:` 语法取代 Python 元素的切片语法)"
   ]
  },
  {
   "cell_type": "markdown",
   "id": "0b70ccce",
   "metadata": {},
   "source": [
    "### 5.1. 一维数组切片"
   ]
  },
  {
   "cell_type": "markdown",
   "id": "9982bc9d",
   "metadata": {},
   "source": [
    "一维数组可以通过 Python 本身的 Slice (切片) 对象进行切片"
   ]
  },
  {
   "cell_type": "code",
   "execution_count": 838,
   "id": "270d139d",
   "metadata": {},
   "outputs": [
    {
     "name": "stdout",
     "output_type": "stream",
     "text": [
      "对于数组 a = [1 2 3 4], shape=(4,), 则:\n",
      "通过 s = slice(1, 2, 1) 对 a 切片结果为: a[s] = [2 3], shape=(2,)\n"
     ]
    }
   ],
   "source": [
    "# 定义一个一维数组\n",
    "a = np.arange(1, 5, step=1)\n",
    "\n",
    "# 定义一个切片对象\n",
    "s = slice(1, 3, 1)\n",
    "\n",
    "# 通过切片对象获取数组内容进行截取\n",
    "print(f\"对于数组 a = {a}, shape={a.shape}, 则:\")\n",
    "print(f\"通过 s = {slice(1, 2, 1)} 对 a 切片结果为: a[s] = {a[s]}, shape={a[s].shape}\")"
   ]
  },
  {
   "cell_type": "markdown",
   "id": "91f50dd9",
   "metadata": {},
   "source": [
    "一维数组也可以通过 Numpy 的切片语法 (`:`) 来进行切片, 语法为 `[起始索引:结束索引:步长]`, 将截取 $\\small \\left(起始索引, 结束索引\\right]$ 之间的元素"
   ]
  },
  {
   "cell_type": "code",
   "execution_count": 839,
   "id": "6268ac62",
   "metadata": {},
   "outputs": [
    {
     "name": "stdout",
     "output_type": "stream",
     "text": [
      "对于数组 a = [1 2 3 4], shape=(4,), 则:\n",
      "通过 [1:3:1] 对 a 切片结果为: a[1:3:1] = [2 3], shape=(2,)\n"
     ]
    }
   ],
   "source": [
    "a = np.arange(1, 5, step=1)\n",
    "\n",
    "print(f\"对于数组 a = {a}, shape={a.shape}, 则:\")\n",
    "print(f\"通过 [1:3:1] 对 a 切片结果为: a[1:3:1] = {a[1:3:1]}, shape={a[1:3:1].shape}\")"
   ]
  },
  {
   "cell_type": "markdown",
   "id": "e0081edc",
   "metadata": {},
   "source": [
    "如果省略切片的 \"起始索引\", 即 (:结束索引:步长), 则默认为 \"起始索引为 `0`\"; 如果省略切片的 \"结束索引\", 即 (开始索引::步长), 则默认为 \"结束索引为 `-1`\", 即最后一个索引; 如果省略切片的 \"步长\", 即 (开始索引:结束索引), 则默认为 \"步长为 `1`\"\n",
    "\n",
    "如果切片步长为负数 (例如 `-1`), 则结果数组为元素住的逆序, 例如 `[::-1]` 表示切片结果为从数组的最后一个元素开始到第一个元素的逆序, `[-2::-2]` 表示切片结果为从数组倒数第二个元素开始到第一个元素的逆序, 间隔两个元素, 而 `[-2:0:-1]` 表示切片结果为从数组倒数第二个元素开始到第二个元素的逆序, 间隔一个元素"
   ]
  },
  {
   "cell_type": "code",
   "execution_count": 840,
   "id": "6c84e9d6",
   "metadata": {},
   "outputs": [
    {
     "name": "stdout",
     "output_type": "stream",
     "text": [
      "一维数组切片:\n",
      "● a:\n",
      "[1 2 3 4 5 6 7 8 9], shape=(9,)\n",
      "● a[1]:\n",
      "2\n",
      "● a[1:3]:\n",
      "[2 3 4 5 6], shape=(5,)\n",
      "● a[1:3:2]:\n",
      "[2 4 6], shape=(3,)\n",
      "● a[1:]:\n",
      "[2 3 4 5 6 7 8 9], shape=(8,)\n",
      "● a[:6]:\n",
      "[1 2 3 4 5 6], shape=(6,)\n",
      "● a[::2]:\n",
      "[1 3 5 7 9], shape=(5,)\n",
      "● a[2:-1]:\n",
      "[3 4 5 6 7 8], shape=(6,)\n",
      "● a[::-1]:\n",
      "[9 8 7 6 5 4 3 2 1], shape=(9,)\n",
      "● a[-2::-1]:\n",
      "[8 7 6 5 4 3 2 1], shape=(8,)\n",
      "● a[-2:0:-1]:\n",
      "[8 7 6 5 4 3 2], shape=(7,)\n"
     ]
    }
   ],
   "source": [
    "a = np.arange(1, 10, step=1)\n",
    "\n",
    "aprint(\n",
    "    \"一维数组切片:\",\n",
    "    {\n",
    "        \"a\": a,\n",
    "        \"a[1]\": a[1],\n",
    "        \"a[1:3]\": a[1:6],\n",
    "        \"a[1:3:2]\": a[1:6:2],\n",
    "        \"a[1:]\": a[1:],\n",
    "        \"a[:6]\": a[:6],\n",
    "        \"a[::2]\": a[::2],\n",
    "        \"a[2:-1]\": a[2:-1],\n",
    "        \"a[::-1]\": a[::-1],\n",
    "        \"a[-2::-1]\": a[-2::-1],\n",
    "        \"a[-2:0:-1]\": a[-2:0:-1],\n",
    "    },\n",
    ")"
   ]
  },
  {
   "cell_type": "markdown",
   "id": "192d2eea",
   "metadata": {},
   "source": [
    "### 5.2. 多维数组切片"
   ]
  },
  {
   "cell_type": "markdown",
   "id": "fcf727d6",
   "metadata": {},
   "source": [
    "对于多维数组, 主要是通过 Numpy 提供的 `:` 切片语法进行, 可以用 `,` 分隔来表示对特定维度的部分进行切片, 例如对于 shape=`(2, 3, 4)` 的数组, 可以有如下切片:\n",
    "- 通过 `[1:2:1]` 表示对第一个维进行切片, 即将三维数组看作是一个长度为 `2` 的一维数组, 取其中第二个元素;\n",
    "- 通过 `[:, 1:2:1]` 来表示对第二个维进行切片, 即将三维数组看作是一个两行两列的二维数组, 第一维全部保留, 第二维取第二个元素;"
   ]
  },
  {
   "cell_type": "code",
   "execution_count": 841,
   "id": "0a816162",
   "metadata": {},
   "outputs": [
    {
     "name": "stdout",
     "output_type": "stream",
     "text": [
      "多维数组切片:\n",
      "● a:\n",
      "[[[ 1  2  3  4]\n",
      "  [ 5  6  7  8]\n",
      "  [ 9 10 11 12]]\n",
      "\n",
      " [[13 14 15 16]\n",
      "  [17 18 19 20]\n",
      "  [21 22 23 24]]], shape=(2, 3, 4)\n",
      "● a[1:2:1]:\n",
      "[[[13 14 15 16]\n",
      "  [17 18 19 20]\n",
      "  [21 22 23 24]]], shape=(1, 3, 4)\n",
      "● a[:, 1:2:1]:\n",
      "[[[ 5  6  7  8]]\n",
      "\n",
      " [[17 18 19 20]]], shape=(2, 1, 4)\n",
      "● a[:, :, 1:2:1]:\n",
      "[[[ 2]\n",
      "  [ 6]\n",
      "  [10]]\n",
      "\n",
      " [[14]\n",
      "  [18]\n",
      "  [22]]], shape=(2, 3, 1)\n",
      "● a[1:2:1, 1:2:1]:\n",
      "[[[17 18 19 20]]], shape=(1, 1, 4)\n",
      "● a[1:2:1, :, 1:2:1]:\n",
      "[[[14]\n",
      "  [18]\n",
      "  [22]]], shape=(1, 3, 1)\n",
      "● a[1:2:1, 1:2:1, 1:2:1]:\n",
      "[[[18]]], shape=(1, 1, 1)\n"
     ]
    }
   ],
   "source": [
    "a = arange_by_shape((2, 3, 4), 1)\n",
    "\n",
    "aprint(\n",
    "    \"多维数组切片:\",\n",
    "    {\n",
    "        \"a\": a,\n",
    "        \"a[1:2:1]\": a[1:2:1],  # 对第一维度进行切片\n",
    "        \"a[:, 1:2:1]\": a[:, 1:2:3],  # 对第二维度进行切片\n",
    "        \"a[:, :, 1:2:1]\": a[:, :, 1:2:1],  # 对第三维度进行切片\n",
    "        \"a[1:2:1, 1:2:1]\": a[1:2:1, 1:2:1],  # 对第一, 二维度进行切片\n",
    "        \"a[1:2:1, :, 1:2:1]\": a[1:2:1, :, 1:2:1],  # 对第一, 三维度进行切片\n",
    "        \"a[1:2:1, 1:2:1, 1:2:1]\": a[1:2:1, 1:2:1, 1:2:1],  # 对第一, 二, 三维度进行切片\n",
    "    },\n",
    ")"
   ]
  },
  {
   "cell_type": "markdown",
   "id": "16a6b582",
   "metadata": {},
   "source": [
    "### 5.3. 切片占位符"
   ]
  },
  {
   "cell_type": "markdown",
   "id": "42256af8",
   "metadata": {},
   "source": [
    "通过 `...` 符号可以在 Numpy 切片中作为占位符, 其作用表示 \"选择所有剩余维度\", 而无需使用多个 `:` 符号, 例如:\n",
    "\n",
    "- `a[:, :, 1]` 和 `a[..., 1]` 等价\n",
    "- `a[1, :, :]` 和 `a[1, ...]` 等价\n",
    "- `a[1, :, :, 1]` 和 `a[1, ..., 1]` 等价"
   ]
  },
  {
   "cell_type": "code",
   "execution_count": 842,
   "id": "fdf0a332",
   "metadata": {},
   "outputs": [
    {
     "name": "stdout",
     "output_type": "stream",
     "text": [
      "多维数组切片:\n",
      "● a:\n",
      "[[[ 1  2  3  4]\n",
      "  [ 5  6  7  8]\n",
      "  [ 9 10 11 12]]\n",
      "\n",
      " [[13 14 15 16]\n",
      "  [17 18 19 20]\n",
      "  [21 22 23 24]]], shape=(2, 3, 4)\n",
      "● a[1, ...]:\n",
      "[[13 14 15 16]\n",
      " [17 18 19 20]\n",
      " [21 22 23 24]], shape=(3, 4)\n",
      "● a[0:1:1, ...]:\n",
      "[[[ 1  2  3  4]\n",
      "  [ 5  6  7  8]\n",
      "  [ 9 10 11 12]]], shape=(1, 3, 4)\n",
      "● a[..., 2]:\n",
      "[[ 3  7 11]\n",
      " [15 19 23]], shape=(2, 3)\n",
      "● a[..., 2:3]:\n",
      "[[[ 3]\n",
      "  [ 7]\n",
      "  [11]]\n",
      "\n",
      " [[15]\n",
      "  [19]\n",
      "  [23]]], shape=(2, 3, 1)\n",
      "● a[1, ..., 2]:\n",
      "[15 19 23], shape=(3,)\n"
     ]
    }
   ],
   "source": [
    "a = arange_by_shape((2, 3, 4), 1)\n",
    "\n",
    "aprint(\n",
    "    \"多维数组切片:\",\n",
    "    {\n",
    "        \"a\": a,\n",
    "        \"a[1, ...]\": a[1, ...],  # 相当于 `a[1, :, :]`\n",
    "        \"a[0:1:1, ...]\": a[0:1:1, ...],  # 相当于 `a[0:1:1, :, :]`\n",
    "        \"a[..., 2]\": a[..., 2],  # 相当于 `a[:, :, 2]`\n",
    "        \"a[..., 2:3]\": a[..., 2:3],  # 相当于 `a[:, :, 2:3]`\n",
    "        \"a[1, ..., 2]\": a[1, ..., 2],  # 相当于 `a[1, :, 2]`\n",
    "    },\n",
    ")"
   ]
  },
  {
   "cell_type": "markdown",
   "id": "2fe7332d",
   "metadata": {},
   "source": [
    "## 6. 索引"
   ]
  },
  {
   "cell_type": "markdown",
   "id": "13d63221",
   "metadata": {},
   "source": [
    "索引用于获取 Numpy 数组中的某个元素, 根据数组维度和索引维度的不同, 该元素可以是一个值或一个数组"
   ]
  },
  {
   "cell_type": "markdown",
   "id": "7c479fae",
   "metadata": {},
   "source": [
    "### 6.1. 一维数组索引"
   ]
  },
  {
   "cell_type": "markdown",
   "id": "a803ae74",
   "metadata": {},
   "source": [
    "Numpy 一维数组的索引类似于 Python 数组的索引, 获取索引指定位置的数组元素值"
   ]
  },
  {
   "cell_type": "code",
   "execution_count": 843,
   "id": "000d6ed9",
   "metadata": {},
   "outputs": [
    {
     "name": "stdout",
     "output_type": "stream",
     "text": [
      "一维数组索引:\n",
      "● a:\n",
      "[0 1 2 3 4 5 6 7 8 9], shape=(10,)\n",
      "● a[0]:\n",
      "0\n",
      "● a[5]:\n",
      "5\n",
      "● a[-1]:\n",
      "9\n"
     ]
    }
   ],
   "source": [
    "a = np.arange(10, dtype=np.int32)\n",
    "\n",
    "aprint(\n",
    "    \"一维数组索引:\",\n",
    "    {\n",
    "        \"a\": a,\n",
    "        \"a[0]\": a[0],  # 返回数组元素\n",
    "        \"a[5]\": a[5],\n",
    "        \"a[-1]\": a[-1],  # 返回数组最后一个元素\n",
    "    },\n",
    ")"
   ]
  },
  {
   "cell_type": "markdown",
   "id": "589605f7",
   "metadata": {},
   "source": [
    "### 6.2. 二维数组索引"
   ]
  },
  {
   "cell_type": "markdown",
   "id": "f02c2d56",
   "metadata": {},
   "source": [
    "二维数组相当于多个一维数组的集合, 所以通过一维索引结果为一维数组, 通过二维索引结果为元素, 即:\n",
    "\n",
    "- 一维索引: `a[i]`\n",
    "- 二维索引: `a[i, j]`"
   ]
  },
  {
   "cell_type": "code",
   "execution_count": 844,
   "id": "d59414e3",
   "metadata": {},
   "outputs": [
    {
     "name": "stdout",
     "output_type": "stream",
     "text": [
      "一维数组索引:\n",
      "● a:\n",
      "[[ 1  2  3  4  5]\n",
      " [ 6  7  8  9 10]\n",
      " [11 12 13 14 15]], shape=(3, 5)\n",
      "● a[0]:\n",
      "[1 2 3 4 5], shape=(5,)\n",
      "● a[-1]:\n",
      "[11 12 13 14 15], shape=(5,)\n",
      "● a[1, 2]:\n",
      "8\n",
      "● a[0, -1]:\n",
      "5\n"
     ]
    }
   ],
   "source": [
    "a = arange_by_shape((3, 5), 1)\n",
    "\n",
    "aprint(\n",
    "    \"一维数组索引:\",\n",
    "    {\n",
    "        \"a\": a,\n",
    "        \"a[0]\": a[0],  # 返回第二维的数组\n",
    "        \"a[-1]\": a[-1],  # 返回第二维最后一个数组\n",
    "        \"a[1, 2]\": a[1, 2],  # 返回元素值\n",
    "        \"a[0, -1]\": a[0, -1],\n",
    "    },\n",
    ")"
   ]
  },
  {
   "cell_type": "markdown",
   "id": "51c40cf9",
   "metadata": {},
   "source": [
    "### 6.3. 多维数组索引"
   ]
  },
  {
   "cell_type": "markdown",
   "id": "91386bc2",
   "metadata": {},
   "source": [
    "多维数组相当于二维数组的一个延申, 通过指定维度的索引可以访问数组中对应维度的元素"
   ]
  },
  {
   "cell_type": "code",
   "execution_count": 845,
   "id": "cf7acd78",
   "metadata": {},
   "outputs": [
    {
     "name": "stdout",
     "output_type": "stream",
     "text": [
      "多维数组索引:\n",
      "● a:\n",
      "[[[ 1  2  3  4  5]\n",
      "  [ 6  7  8  9 10]\n",
      "  [11 12 13 14 15]\n",
      "  [16 17 18 19 20]]\n",
      "\n",
      " [[21 22 23 24 25]\n",
      "  [26 27 28 29 30]\n",
      "  [31 32 33 34 35]\n",
      "  [36 37 38 39 40]]\n",
      "\n",
      " [[41 42 43 44 45]\n",
      "  [46 47 48 49 50]\n",
      "  [51 52 53 54 55]\n",
      "  [56 57 58 59 60]]], shape=(3, 4, 5)\n",
      "● a[0]:\n",
      "[[ 1  2  3  4  5]\n",
      " [ 6  7  8  9 10]\n",
      " [11 12 13 14 15]\n",
      " [16 17 18 19 20]], shape=(4, 5)\n",
      "● a[-1]:\n",
      "[[41 42 43 44 45]\n",
      " [46 47 48 49 50]\n",
      " [51 52 53 54 55]\n",
      " [56 57 58 59 60]], shape=(4, 5)\n",
      "● a[1, 2]:\n",
      "[31 32 33 34 35], shape=(5,)\n",
      "● a[0, -1]:\n",
      "[16 17 18 19 20], shape=(5,)\n",
      "● a[1, 2, 3]:\n",
      "34\n",
      "● a[1, -1, 3]:\n",
      "39\n"
     ]
    }
   ],
   "source": [
    "a = arange_by_shape((3, 4, 5), 1)\n",
    "\n",
    "aprint(\n",
    "    \"多维数组索引:\",\n",
    "    {\n",
    "        \"a\": a,\n",
    "        \"a[0]\": a[0],  # 返回第二维的数组\n",
    "        \"a[-1]\": a[-1],\n",
    "        \"a[1, 2]\": a[1, 2],  # 返回第三维的数组\n",
    "        \"a[0, -1]\": a[0, -1],\n",
    "        \"a[1, 2, 3]\": a[1, 2, 3],  # 返回元素值\n",
    "        \"a[1, -1, 3]\": a[1, -1, 3],\n",
    "    },\n",
    ")"
   ]
  },
  {
   "cell_type": "markdown",
   "id": "bc053612",
   "metadata": {},
   "source": [
    "### 6.4. 过滤条件索引"
   ]
  },
  {
   "cell_type": "markdown",
   "id": "514d3585",
   "metadata": {},
   "source": [
    "Numpy 索引可以为一个 \"布尔\" 值, 索引结果中会包含所有索引值为 `True` 的元素, 所以可以在索引中包含一个值为 \"布尔\" 值的表达式, 对数组进行过滤, 类似 `a[a > 0]`\n",
    "\n",
    "过滤条件索引会对数组中的**所有维度**的元素进行计算, 如果该维度的元素可满足条件索引表达式的计算, 且满足条件索引表达式的计算结果为 `True`, 则该元素会被包含在结果数组中"
   ]
  },
  {
   "cell_type": "code",
   "execution_count": 846,
   "id": "6ea861bc",
   "metadata": {},
   "outputs": [
    {
     "name": "stdout",
     "output_type": "stream",
     "text": [
      "一维数组过滤结果:\n",
      "● a:\n",
      "[0 1 2 3 4 5 6 7 8 9], shape=(10,)\n",
      "● a[a > 5]:\n",
      "[6 7 8 9], shape=(4,)\n",
      "● a[~(a > 5)]:\n",
      "[0 1 2 3 4 5], shape=(6,)\n",
      "● a[a % 2 == 0]:\n",
      "[0 2 4 6 8], shape=(5,)\n",
      "\n",
      "多维数组过滤结果:\n",
      "● a:\n",
      "[[ 1  2  3  4  5]\n",
      " [ 6  7  8  9 10]\n",
      " [11 12 13 14 15]\n",
      " [16 17 18 19 20]], shape=(4, 5)\n",
      "● a[a > 5]:\n",
      "[ 6  7  8  9 10 11 12 13 14 15 16 17 18 19 20], shape=(15,)\n",
      "● a[~(a > 5)]:\n",
      "[1 2 3 4 5], shape=(5,)\n",
      "● a[a % 2 == 0]:\n",
      "[ 2  4  6  8 10 12 14 16 18 20], shape=(10,)\n",
      "● a[np.sum(a, axis=1) > 50]:\n",
      "[[11 12 13 14 15]\n",
      " [16 17 18 19 20]], shape=(2, 5)\n"
     ]
    }
   ],
   "source": [
    "a = np.arange(10, dtype=np.int32)\n",
    "aprint(\n",
    "    \"一维数组过滤结果:\",\n",
    "    {\n",
    "        \"a\": a,\n",
    "        \"a[a > 5]\": a[a > 5],  # 过滤所有值大于 `5 的元素\n",
    "        \"a[~(a > 5)]\": a[~(a > 5)],  # 逻辑求反, 即过滤所有值小于等于 `5` 的元素\n",
    "        \"a[a % 2 == 0]\": a[a % 2 == 0],  # 过滤所有值为偶数的元素\n",
    "    },\n",
    ")\n",
    "\n",
    "a = arange_by_shape((4, 5), 1)\n",
    "aprint(\n",
    "    \"\\n多维数组过滤结果:\",\n",
    "    {\n",
    "        \"a\": a,\n",
    "        \"a[a > 5]\": a[\n",
    "            a > 5\n",
    "        ],  # 过滤所有值大于 `5` 的元素, 返回一个数组, 包含所有维度中值大于 `5` 的元素\n",
    "        \"a[~(a > 5)]\": a[~(a > 5)],  # 逻辑求反, 即过滤所有维度中值小于等于 `5` 的元素\n",
    "        \"a[a % 2 == 0]\": a[a % 2 == 0],  # 过滤所有维度中值为偶数的元素\n",
    "        \"a[np.sum(a, axis=1) > 50]\": a[\n",
    "            np.sum(a, axis=1)\n",
    "            > 50  # 过滤数组元素求和值大于 `50` 的数组元素, 如果数组元素不满足 `np.sum` 计算要求, 则返回 `False`\n",
    "        ],\n",
    "    },\n",
    ")"
   ]
  },
  {
   "cell_type": "markdown",
   "id": "b48f629f",
   "metadata": {},
   "source": [
    "### 6.5. 数组索引 (花式索引)"
   ]
  },
  {
   "cell_type": "markdown",
   "id": "993e8ac7",
   "metadata": {},
   "source": [
    "Numpy 允许使用数组作为索引, 用于一次性批量获取对应数组多个索引对应的元素\n",
    "\n",
    "例如: `a[[1, 3]]` 表示获取数组 `a` 索引为 `1` 和 `3` 的元素, 其中:\n",
    "\n",
    "- 如果数组 `a` 是一维数组, 则返回 `1` 和 `3` 对应的元素值, 结果为一个一维数组\n",
    "- 如果数组 `a` 是多维数组, 则返回 `1` 和 `3` 行的全部元素值, 结果为一个多维数组\n",
    "\n",
    "当 $A = \\begin{bmatrix}\n",
    "a_{0} & a_{1} & a_{2} & a_{3} & a_{4} & a_{5}\n",
    "\\end{bmatrix}$, 则 $A[[1, 3, 5]] = \\begin{bmatrix}\n",
    "a_{1} & a_{3} & a_{5}\n",
    "\\end{bmatrix}$, 其中 $a_{n}$ 可以为一个元素值, 或者一个多维数组\n",
    "\n",
    "可以通过多个数组索引来对应多维数组的各个维度, 例如对于一个三维数组, 则可通过如下索引方式获取各个维度元素:\n",
    "\n",
    "- `a[[1, 3]]`: 获取第一维度索引为 `1` 和 `3` 的两个二维数组;\n",
    "- `a[[1, 3], [2, 4]]`: 获取第一维度索引为 `1` 和 `3` 的两项, 以及索引为 `1` 项中索引为 `2` 和索引为 `3` 项中索引为 `4` 的子项;\n",
    "- `a[[1, 3], [2, 4], [3]]`: 获取第一维度索引为 `1` 和 `3` 的两项, 在此基础上获取索引为 `1` 项中索引为 `2` 和索引为 `3` 项中索引为 `4` 的子项, 以及索引为 `2` 和索引为 `4` 项中索引为 `3` 的子项;"
   ]
  },
  {
   "cell_type": "code",
   "execution_count": 847,
   "id": "b8b8af73",
   "metadata": {},
   "outputs": [
    {
     "name": "stdout",
     "output_type": "stream",
     "text": [
      "一维数组索引结果:\n",
      "● a:\n",
      "[ 0 10 20 30 40 50 60 70 80 90], shape=(10,)\n",
      "● a[[1, 3, 5]]:\n",
      "[10 30 50], shape=(3,)\n",
      "● a[[-1, -3, -5]]:\n",
      "[90 70 50], shape=(3,)\n",
      "\n",
      "多维数组索引结果:\n",
      "● a:\n",
      "[[[ 1  2  3]\n",
      "  [ 4  5  6]\n",
      "  [ 7  8  9]]\n",
      "\n",
      " [[10 11 12]\n",
      "  [13 14 15]\n",
      "  [16 17 18]]\n",
      "\n",
      " [[19 20 21]\n",
      "  [22 23 24]\n",
      "  [25 26 27]]], shape=(3, 3, 3)\n",
      "● a[[0, 1]]:\n",
      "[[[ 1  2  3]\n",
      "  [ 4  5  6]\n",
      "  [ 7  8  9]]\n",
      "\n",
      " [[10 11 12]\n",
      "  [13 14 15]\n",
      "  [16 17 18]]], shape=(2, 3, 3)\n",
      "● a[[0, 1], [1, 2]]:\n",
      "[[ 4  5  6]\n",
      " [16 17 18]], shape=(2, 3)\n",
      "● a[[0, 1], [1, 2], [0, 1]]:\n",
      "[ 4 17], shape=(2,)\n"
     ]
    }
   ],
   "source": [
    "a = np.arange(0, 100, step=10, dtype=np.int32)\n",
    "aprint(\n",
    "    \"一维数组索引结果:\",\n",
    "    {\n",
    "        \"a\": a,\n",
    "        \"a[[1, 3, 5]]\": a[[1, 3, 5]],  # 获取数组中索引为 `1, 3, 5` 的元素\n",
    "        \"a[[-1, -3, -5]]\": a[\n",
    "            [-1, -3, -5]\n",
    "        ],  # 获取数组中索引为 `-1, -3, -5` 的元素 (反向索引)\n",
    "    },\n",
    ")\n",
    "\n",
    "a = arange_by_shape((3, 3, 3), 1)\n",
    "aprint(\n",
    "    \"\\n多维数组索引结果:\",\n",
    "    {\n",
    "        \"a\": a,\n",
    "        \"a[[0, 1]]\": a[\n",
    "            [0, 1]\n",
    "        ],  # 获取数组中索引为 `0`, `1` 的元素, 即数组第一维的前两项\n",
    "        \"a[[0, 1], [1, 2]]\": a[\n",
    "            [0, 1],\n",
    "            [1, 2],\n",
    "        ],  # 在数组第一维的前两项基础上, 获取第 `1` 项中索引为 `1` 的项以及 第 `2` 项中索引为 `2` 的项\n",
    "        \"a[[0, 1], [1, 2], [0, 1]]\": a[\n",
    "            [0, 1],\n",
    "            [1, 2],\n",
    "            [0, 1],\n",
    "        ],  # 在上述索引的基础上, 获取第 `1` 项中索引为 `0` 的项以及 第 `2` 项中索引为 `1` 的项\n",
    "    },\n",
    ")"
   ]
  },
  {
   "cell_type": "markdown",
   "id": "6c1ba40a",
   "metadata": {},
   "source": [
    "可以通过 `np.ix_` 函数来构建一个行和列交叉索引, 从而获取到集合的一个笛卡尔积\n",
    "\n",
    "例如对于一个 shape=`(5, 5)` 的二位数组, 通过 `np.ix_([0, 2, 4], [1, 3, 4])` 可以获取到 `(0, 1)`, `(0, 3)`, `(0, 4)`, `(2, 1)`, `(2, 3)`, `(2, 4)`, `(4, 1)`, `(4, 3)`, `(4, 4)` 这一系列索引, 根据索引的形状 ($3 \\times 3$), 可以得到如下结果：\n",
    "\n",
    "$设: A = \\begin{bmatrix}\n",
    "    \\begin{bmatrix}\n",
    "        1 & 2 & 3 & 4 & 5\n",
    "    \\end{bmatrix} \\\\\n",
    "    \\begin{bmatrix}\n",
    "        6 & 7 & 8 & 9 & 10\n",
    "    \\end{bmatrix} \\\\\n",
    "    \\begin{bmatrix}\n",
    "        11 & 12 & 13 & 14 & 15\n",
    "    \\end{bmatrix} \\\\\n",
    "    \\begin{bmatrix}\n",
    "        16 & 17 & 18 & 19 & 20\n",
    "    \\end{bmatrix} \\\\\n",
    "    \\begin{bmatrix}\n",
    "        21 & 22 & 23 & 24 & 25\n",
    "    \\end{bmatrix}\n",
    "\\end{bmatrix}, 则：A[np.ix\\_([0, 2, 4], [1, 3, 4])] = \\begin{bmatrix}\n",
    "    \\begin{bmatrix}\n",
    "        A[[0, 1]] & A[[0, 3]] & A[[0, 4]]\n",
    "    \\end{bmatrix} \\\\\n",
    "    \\begin{bmatrix}\n",
    "        A[[2, 1]] & A[[2, 3]] & A[[2, 4]]\n",
    "    \\end{bmatrix} \\\\\n",
    "    \\begin{bmatrix}\n",
    "        A[[4, 1]] & A[[4, 3]] & A[[4, 4]]\n",
    "    \\end{bmatrix}\n",
    "\\end{bmatrix} = \\begin{bmatrix}\n",
    "    \\begin{bmatrix}\n",
    "        2 & 4 & 5\n",
    "    \\end{bmatrix} \\\\\n",
    "    \\begin{bmatrix}\n",
    "        12 & 14 & 15\n",
    "    \\end{bmatrix} \\\\\n",
    "    \\begin{bmatrix}\n",
    "        22 & 24 & 25\n",
    "    \\end{bmatrix}\n",
    "\\end{bmatrix}$"
   ]
  },
  {
   "cell_type": "markdown",
   "id": "0d4f25fd",
   "metadata": {},
   "source": [
    "#### 6.5.1 对于二维数组"
   ]
  },
  {
   "cell_type": "code",
   "execution_count": 848,
   "id": "afc62023",
   "metadata": {},
   "outputs": [
    {
     "name": "stdout",
     "output_type": "stream",
     "text": [
      "二维数组笛卡尔积索引为:\n",
      "● a:\n",
      "[[ 1  2  3  4  5]\n",
      " [ 6  7  8  9 10]\n",
      " [11 12 13 14 15]\n",
      " [16 17 18 19 20]\n",
      " [21 22 23 24 25]], shape=(5, 5)\n",
      "● idx:\n",
      "(array([[0],\n",
      "       [2],\n",
      "       [4]]), array([[1, 3, 4]]))\n",
      "● a[idx]:\n",
      "[[ 2  4  5]\n",
      " [12 14 15]\n",
      " [22 24 25]], shape=(3, 3)\n"
     ]
    }
   ],
   "source": [
    "a = arange_by_shape((5, 5), 1)\n",
    "idx = np.ix_([0, 2, 4], [1, 3, 4])  # 构建行和列交叉索引, 该索引的结果为 3x3 数组\n",
    "\n",
    "aprint(\n",
    "    \"二维数组笛卡尔积索引为:\",\n",
    "    {\n",
    "        \"a\": a,\n",
    "        \"idx\": idx,\n",
    "        \"a[idx]\": a[idx],\n",
    "    },\n",
    ")"
   ]
  },
  {
   "cell_type": "markdown",
   "id": "34a0828d",
   "metadata": {},
   "source": [
    "#### 6.5.2 对于多维数组"
   ]
  },
  {
   "cell_type": "code",
   "execution_count": 849,
   "id": "e19b4b76",
   "metadata": {},
   "outputs": [
    {
     "name": "stdout",
     "output_type": "stream",
     "text": [
      "多维数组笛卡尔积索引为:\n",
      "● a:\n",
      "[[[ 1  2  3]\n",
      "  [ 4  5  6]\n",
      "  [ 7  8  9]]\n",
      "\n",
      " [[10 11 12]\n",
      "  [13 14 15]\n",
      "  [16 17 18]]\n",
      "\n",
      " [[19 20 21]\n",
      "  [22 23 24]\n",
      "  [25 26 27]]], shape=(3, 3, 3)\n",
      "● idx:\n",
      "(array([[[0]],\n",
      "\n",
      "       [[1]]]), array([[[1],\n",
      "        [2]]]), array([[[1, 0, 2]]]))\n",
      "● a[idx]:\n",
      "[[[ 5  4  6]\n",
      "  [ 8  7  9]]\n",
      "\n",
      " [[14 13 15]\n",
      "  [17 16 18]]], shape=(2, 2, 3)\n"
     ]
    }
   ],
   "source": [
    "a = arange_by_shape((3, 3, 3), 1)\n",
    "idx = np.ix_([0, 1], [1, 2], [1, 0, 2])  # 构建行和列交叉索引, 该索引的结果为 2x2x3 数组\n",
    "\n",
    "aprint(\n",
    "    \"多维数组笛卡尔积索引为:\",\n",
    "    {\n",
    "        \"a\": a,\n",
    "        \"idx\": idx,\n",
    "        \"a[idx]\": a[idx],\n",
    "    },\n",
    ")"
   ]
  },
  {
   "cell_type": "markdown",
   "id": "c663aea0",
   "metadata": {},
   "source": [
    "## 7. 迭代"
   ]
  },
  {
   "cell_type": "markdown",
   "id": "4882d712",
   "metadata": {},
   "source": [
    "可通过 Numpy 对数组元素进行迭代遍历"
   ]
  },
  {
   "cell_type": "markdown",
   "id": "d7812d94",
   "metadata": {},
   "source": [
    "### 7.1. 基本迭代"
   ]
  },
  {
   "cell_type": "markdown",
   "id": "ebc54437",
   "metadata": {},
   "source": [
    "Numpy 数组支持 Python 本身的 `for` 语法迭代方式"
   ]
  },
  {
   "cell_type": "markdown",
   "id": "c8b87d55",
   "metadata": {},
   "source": [
    "对于一维数组, 则按照元素的排列顺序进行迭代"
   ]
  },
  {
   "cell_type": "code",
   "execution_count": 850,
   "id": "11c18eb7",
   "metadata": {},
   "outputs": [
    {
     "name": "stdout",
     "output_type": "stream",
     "text": [
      "原数组:\n",
      "[1 2 3 4 5 6 7 8 9]\n",
      "\n",
      "迭代结果:\n",
      "[0: 1], [1: 2], [2: 3], [3: 4], [4: 5], [5: 6], [6: 7], [7: 8], [8: 9], "
     ]
    }
   ],
   "source": [
    "a = np.arange(1, 10, dtype=np.int32)\n",
    "print(f\"原数组:\\n{a}\")\n",
    "\n",
    "print(\"\\n迭代结果:\")\n",
    "# 对一维数组进行迭代\n",
    "for i, n in enumerate(a):\n",
    "    print(f\"[{i}: {n}]\", end=\", \")"
   ]
  },
  {
   "cell_type": "markdown",
   "id": "a71bb263",
   "metadata": {},
   "source": [
    "对于多维数组, 则沿着第一个轴进行迭代, 在第一个轴迭代的每一项基础上, 可以进一步对其进行迭代, 使其继续沿着第二个轴迭代, 以此类推, 直到迭代完成"
   ]
  },
  {
   "cell_type": "code",
   "execution_count": 851,
   "id": "049fb80b",
   "metadata": {},
   "outputs": [
    {
     "name": "stdout",
     "output_type": "stream",
     "text": [
      "原数组:\n",
      "[[[ 1  2  3  4]\n",
      "  [ 5  6  7  8]\n",
      "  [ 9 10 11 12]]\n",
      "\n",
      " [[13 14 15 16]\n",
      "  [17 18 19 20]\n",
      "  [21 22 23 24]]]\n",
      "\n",
      "迭代结果:\n",
      "[(0, 0, 0):  1], [(0, 0, 1):  2], [(0, 0, 2):  3], [(0, 0, 3):  4], \n",
      "[(0, 1, 0):  5], [(0, 1, 1):  6], [(0, 1, 2):  7], [(0, 1, 3):  8], \n",
      "[(0, 2, 0):  9], [(0, 2, 1): 10], [(0, 2, 2): 11], [(0, 2, 3): 12], \n",
      "\n",
      "[(1, 0, 0): 13], [(1, 0, 1): 14], [(1, 0, 2): 15], [(1, 0, 3): 16], \n",
      "[(1, 1, 0): 17], [(1, 1, 1): 18], [(1, 1, 2): 19], [(1, 1, 3): 20], \n",
      "[(1, 2, 0): 21], [(1, 2, 1): 22], [(1, 2, 2): 23], [(1, 2, 3): 24], \n",
      "\n"
     ]
    }
   ],
   "source": [
    "a = arange_by_shape((2, 3, 4), 1)\n",
    "print(f\"原数组:\\n{a}\")\n",
    "\n",
    "print(\"\\n迭代结果:\")\n",
    "# 对一维数组进行迭代\n",
    "for i, row in enumerate(a):\n",
    "    for j, col in enumerate(row):\n",
    "        for k, n in enumerate(col):\n",
    "            print(f\"[{(i, j, k)}: {n:>2}]\", end=\", \")\n",
    "        print()\n",
    "    print()"
   ]
  },
  {
   "cell_type": "markdown",
   "id": "0fbbcc7d",
   "metadata": {},
   "source": [
    "也可以按数组的 shape 进行迭代"
   ]
  },
  {
   "cell_type": "code",
   "execution_count": 852,
   "id": "277b084f",
   "metadata": {},
   "outputs": [
    {
     "name": "stdout",
     "output_type": "stream",
     "text": [
      "原数组:\n",
      "[[[ 1  2  3  4]\n",
      "  [ 5  6  7  8]\n",
      "  [ 9 10 11 12]]\n",
      "\n",
      " [[13 14 15 16]\n",
      "  [17 18 19 20]\n",
      "  [21 22 23 24]]]\n",
      "迭代结果:\n",
      "[(0, 0, 0):  1], [(0, 0, 1):  2], [(0, 0, 2):  3], [(0, 0, 3):  4], \n",
      "[(0, 1, 0):  5], [(0, 1, 1):  6], [(0, 1, 2):  7], [(0, 1, 3):  8], \n",
      "[(0, 2, 0):  9], [(0, 2, 1): 10], [(0, 2, 2): 11], [(0, 2, 3): 12], \n",
      "\n",
      "[(1, 0, 0): 13], [(1, 0, 1): 14], [(1, 0, 2): 15], [(1, 0, 3): 16], \n",
      "[(1, 1, 0): 17], [(1, 1, 1): 18], [(1, 1, 2): 19], [(1, 1, 3): 20], \n",
      "[(1, 2, 0): 21], [(1, 2, 1): 22], [(1, 2, 2): 23], [(1, 2, 3): 24], \n",
      "\n"
     ]
    }
   ],
   "source": [
    "a = arange_by_shape((2, 3, 4), 1)\n",
    "print(f\"原数组:\\n{a}\")\n",
    "\n",
    "print(\"迭代结果:\")\n",
    "# 对一维数组进行迭代\n",
    "for i in range(a.shape[0]):\n",
    "    for j in range(a.shape[1]):\n",
    "        for k in range(a.shape[2]):\n",
    "            print(f\"[{(i, j, k)}: {a[i, j, k]:>2}]\", end=\", \")\n",
    "        print()\n",
    "    print()"
   ]
  },
  {
   "cell_type": "markdown",
   "id": "79e0ac7c",
   "metadata": {},
   "source": [
    "上述方式会通过 Python 的嵌套循环迭代遍历元素, 但 Python 的嵌套循环执行效率较低, 一般情况下不推荐这样迭代"
   ]
  },
  {
   "cell_type": "markdown",
   "id": "4895533d",
   "metadata": {},
   "source": [
    "### 7.2. Numpy 迭代函数"
   ]
  },
  {
   "cell_type": "markdown",
   "id": "2a5e3684",
   "metadata": {},
   "source": [
    "#### 7.2.1. 降维迭代\n",
    "\n",
    "Numpy 数组可以通过 `.flatten()` 函数将多维数组降维为 `1` 维数组 (相当于 `reshape(-1)`)"
   ]
  },
  {
   "cell_type": "code",
   "execution_count": 853,
   "id": "c86cc62f",
   "metadata": {},
   "outputs": [
    {
     "name": "stdout",
     "output_type": "stream",
     "text": [
      "数组将为 1 维度:\n",
      "● a:\n",
      "[[[ 1  2  3  4]\n",
      "  [ 5  6  7  8]\n",
      "  [ 9 10 11 12]]\n",
      "\n",
      " [[13 14 15 16]\n",
      "  [17 18 19 20]\n",
      "  [21 22 23 24]]], shape=(2, 3, 4)\n",
      "● a.flatten():\n",
      "[ 1  2  3  4  5  6  7  8  9 10 11 12 13 14 15 16 17 18 19 20 21 22 23 24], shape=(24,)\n",
      "● a.reshape(-1):\n",
      "[ 1  2  3  4  5  6  7  8  9 10 11 12 13 14 15 16 17 18 19 20 21 22 23 24], shape=(24,)\n"
     ]
    }
   ],
   "source": [
    "a = arange_by_shape((2, 3, 4), 1)\n",
    "aprint(\n",
    "    \"数组将为 1 维度:\",\n",
    "    {\n",
    "        \"a\": a,\n",
    "        \"a.flatten()\": a.flatten(),\n",
    "        \"a.reshape(-1)\": a.reshape(-1),\n",
    "    },\n",
    ")"
   ]
  },
  {
   "cell_type": "markdown",
   "id": "ba4bdce9",
   "metadata": {},
   "source": [
    "也可以通过 Numpy 数组的 `.flat` 属性, 获取一个迭代器对象, 可以忽略维度, 遍历数组的所有元素"
   ]
  },
  {
   "cell_type": "code",
   "execution_count": 854,
   "id": "c4a0d3c9",
   "metadata": {},
   "outputs": [
    {
     "name": "stdout",
     "output_type": "stream",
     "text": [
      "数组将为 1 维度:\n",
      "● a:\n",
      "[[[ 1  2  3  4]\n",
      "  [ 5  6  7  8]\n",
      "  [ 9 10 11 12]]\n",
      "\n",
      " [[13 14 15 16]\n",
      "  [17 18 19 20]\n",
      "  [21 22 23 24]]], shape=(2, 3, 4)\n",
      "● [a.flat]:\n",
      "[1, 2, 3, 4, 5, 6, 7, 8, 9, 10, 11, 12, 13, 14, 15, 16, 17, 18, 19, 20, 21, 22, 23, 24]\n"
     ]
    }
   ],
   "source": [
    "a = arange_by_shape((2, 3, 4), 1)\n",
    "\n",
    "aprint(\n",
    "    \"数组将为 1 维度:\",\n",
    "    {\n",
    "        \"a\": a,\n",
    "        \"[a.flat]\": [int(n) for n in a.flat],\n",
    "    },\n",
    ")"
   ]
  },
  {
   "cell_type": "markdown",
   "id": "161f3647",
   "metadata": {},
   "source": [
    "#### 7.2.2. `np.nditer` 遍历"
   ]
  },
  {
   "cell_type": "markdown",
   "id": "d8739ed3",
   "metadata": {},
   "source": [
    "通过 `np.nditer` 函数可以对数组进行多种形式的遍历"
   ]
  },
  {
   "cell_type": "markdown",
   "id": "0577a776",
   "metadata": {},
   "source": [
    "通过 `np.nditer` 函数, 最基本的遍历方式为按照数组在内存中的顺序进行遍历\n",
    "\n",
    "数组的迭代顺序是根据数组的内存布局选择的, 而不是使用标准的 C 顺序或 Fortran 顺序. 这样做是为了提高访问效率, 并假设默认情况下只是希望访问每个元素而不关心特定顺序\n",
    "\n",
    "```python\n",
    "a = np.arange(6).reshape(2, 3)\n",
    "\n",
    "for x in np.nditer(a):\n",
    "    print(x, end=\" \")\n",
    "\n",
    "for x in np.nditer(a.T):\n",
    "    print(x, end=\" \")\n",
    "```\n",
    "\n",
    "上述代码, 两次迭代的结果一致, 即数组及其转置在内存中的布局一致"
   ]
  },
  {
   "cell_type": "markdown",
   "id": "0e73cc84",
   "metadata": {},
   "source": [
    "##### 7.2.2.1. 数组迭代"
   ]
  },
  {
   "cell_type": "markdown",
   "id": "80b199cf",
   "metadata": {},
   "source": [
    "默认情况下, `np.nditer` 函数会通过 `order=\"K\"` 的默认参数来确定迭代顺序, 即按数组在内存中存储的顺序迭代"
   ]
  },
  {
   "cell_type": "code",
   "execution_count": 855,
   "id": "8a189e56",
   "metadata": {},
   "outputs": [
    {
     "name": "stdout",
     "output_type": "stream",
     "text": [
      "1, 2, 3, 4, 5, 6, 7, 8, 9, 10, 11, 12, 13, 14, 15, 16, 17, 18, 19, 20, 21, 22, 23, 24, "
     ]
    }
   ],
   "source": [
    "a = arange_by_shape((2, 3, 4), 1)\n",
    "\n",
    "for e in np.nditer(a):\n",
    "    print(e, end=\", \")"
   ]
  },
  {
   "cell_type": "markdown",
   "id": "cc3f7bab",
   "metadata": {},
   "source": [
    "可以通过 `order=\"C\"` 参数将迭代顺序强行改为 C 语言顺序"
   ]
  },
  {
   "cell_type": "code",
   "execution_count": 856,
   "id": "96ed61c9",
   "metadata": {},
   "outputs": [
    {
     "name": "stdout",
     "output_type": "stream",
     "text": [
      "原数组:\n",
      "[[[ 1  2  3  4]\n",
      "  [ 5  6  7  8]\n",
      "  [ 9 10 11 12]]\n",
      "\n",
      " [[13 14 15 16]\n",
      "  [17 18 19 20]\n",
      "  [21 22 23 24]]]\n",
      "\n",
      "迭代结果:\n",
      "1, 2, 3, 4, 5, 6, 7, 8, 9, 10, 11, 12, 13, 14, 15, 16, 17, 18, 19, 20, 21, 22, 23, 24, "
     ]
    }
   ],
   "source": [
    "a = arange_by_shape((2, 3, 4), 1)\n",
    "print(f\"原数组:\\n{a}\")\n",
    "\n",
    "print(f\"\\n迭代结果:\")\n",
    "for e in np.nditer(a, order=\"C\"):\n",
    "    print(e, end=\", \")"
   ]
  },
  {
   "cell_type": "markdown",
   "id": "1d700331",
   "metadata": {},
   "source": [
    "还可以通过 `order=\"F\"` 参数将迭代顺序强行改为 Fortran 语言顺序"
   ]
  },
  {
   "cell_type": "code",
   "execution_count": 857,
   "id": "1367c5a9",
   "metadata": {},
   "outputs": [
    {
     "name": "stdout",
     "output_type": "stream",
     "text": [
      "原数组:\n",
      "[[[ 1  2  3  4]\n",
      "  [ 5  6  7  8]\n",
      "  [ 9 10 11 12]]\n",
      "\n",
      " [[13 14 15 16]\n",
      "  [17 18 19 20]\n",
      "  [21 22 23 24]]]\n",
      "\n",
      "迭代结果:\n",
      "1, 13, 5, 17, 9, 21, 2, 14, 6, 18, 10, 22, 3, 15, 7, 19, 11, 23, 4, 16, 8, 20, 12, 24, "
     ]
    }
   ],
   "source": [
    "a = arange_by_shape((2, 3, 4), 1)\n",
    "print(f\"原数组:\\n{a}\")\n",
    "\n",
    "print(f\"\\n迭代结果:\")\n",
    "for e in np.nditer(a, order=\"F\"):\n",
    "    print(e, end=\", \")"
   ]
  },
  {
   "cell_type": "markdown",
   "id": "6fc7423a",
   "metadata": {},
   "source": [
    "##### 7.2.2.2. 修改数组元素"
   ]
  },
  {
   "cell_type": "markdown",
   "id": "1939f8e7",
   "metadata": {},
   "source": [
    "可以通过 `np.nditer` 函数返回的迭代器, 在迭代过程中对数组元素进行修改, 需要如需步骤:\n",
    "\n",
    "1. 创建一个 `np.nditer` 迭代器对象, 并设置参数 `op_flags=['readwrite']` 表示迭代过程中对数组元素进行修改\n",
    "2. 在迭代过程中, 可通过迭代器获取元素值, 可通过数组的 `[...]` 语法记录当前迭代位置修改后的元素值\n",
    "3. 通过 `close()` 方法关闭迭代器, 使修改生效\n",
    "\n",
    "`np.nditer` 函数返回的迭代器支持 Python 的上下文管理器语法, 可通过 `with` 语句自动关闭迭代器"
   ]
  },
  {
   "cell_type": "code",
   "execution_count": 858,
   "id": "6427ff1d",
   "metadata": {},
   "outputs": [
    {
     "name": "stdout",
     "output_type": "stream",
     "text": [
      "原数组:\n",
      "[[[ 1  2  3  4]\n",
      "  [ 5  6  7  8]\n",
      "  [ 9 10 11 12]]\n",
      "\n",
      " [[13 14 15 16]\n",
      "  [17 18 19 20]\n",
      "  [21 22 23 24]]]\n",
      "\n",
      "通过迭代器修改后:\n",
      "[[[ 10  20  30  40]\n",
      "  [ 50  60  70  80]\n",
      "  [ 90 100 110 120]]\n",
      "\n",
      " [[130 140 150 160]\n",
      "  [170 180 190 200]\n",
      "  [210 220 230 240]]]\n"
     ]
    }
   ],
   "source": [
    "a = arange_by_shape((2, 3, 4), 1)\n",
    "print(f\"原数组:\\n{a}\")\n",
    "\n",
    "with np.nditer(a, op_flags=[\"readwrite\"]) as it:\n",
    "    for x in it:\n",
    "        x[...] = x * 10\n",
    "\n",
    "print(f\"\\n通过迭代器修改后:\\n{a}\")"
   ]
  },
  {
   "cell_type": "markdown",
   "id": "af07a3de",
   "metadata": {},
   "source": [
    "##### 7.2.2.3. 索引追踪及多维索引"
   ]
  },
  {
   "cell_type": "markdown",
   "id": "cf244612",
   "metadata": {},
   "source": [
    "可以只追踪数组元素的单索引 (即忽略数组维度的索引), 需要根据所需迭代的顺序定义索引追踪的顺序, 即设置 `np.nditer` 函数的 `flag` 参数为 `\"c_index\"` 或者 `\"f_index\"`, 即可通过迭代器对象的 `index` 属性获取元素的索引"
   ]
  },
  {
   "cell_type": "code",
   "execution_count": 859,
   "id": "6cddd42a",
   "metadata": {},
   "outputs": [
    {
     "name": "stdout",
     "output_type": "stream",
     "text": [
      "原数组:\n",
      "[[[ 1  2  3  4]\n",
      "  [ 5  6  7  8]\n",
      "  [ 9 10 11 12]]\n",
      "\n",
      " [[13 14 15 16]\n",
      "  [17 18 19 20]\n",
      "  [21 22 23 24]]]\n",
      "\n",
      "迭代结果:\n",
      "( 1,  0), ( 2,  1), ( 3,  2), ( 4,  3), ( 5,  4), ( 6,  5), ( 7,  6), ( 8,  7), ( 9,  8), (10,  9), (11, 10), (12, 11), \n",
      "(13, 12), (14, 13), (15, 14), (16, 15), (17, 16), (18, 17), (19, 18), (20, 19), (21, 20), (22, 21), (23, 22), (24, 23), \n"
     ]
    }
   ],
   "source": [
    "a = arange_by_shape((2, 3, 4), 1)\n",
    "print(f\"原数组:\\n{a}\")\n",
    "\n",
    "print(f\"\\n迭代结果:\")\n",
    "with np.nditer(a, flags=[\"c_index\"]) as it:\n",
    "    for e in it:\n",
    "        print(f\"({e:>2}, {it.index:>2})\", end=\", \")\n",
    "\n",
    "        if (it.index + 1) % 12 == 0:\n",
    "            print()"
   ]
  },
  {
   "cell_type": "markdown",
   "id": "aff3ee4c",
   "metadata": {},
   "source": [
    "也可以追踪数组元素的各维度索引, 通过设置 `np.nditer` 函数的 `flag` 参数为 `\"multi_index\"`, 即可通过迭代器对象的 `multi_index` 属性获取元素在每个维度的索引"
   ]
  },
  {
   "cell_type": "code",
   "execution_count": 860,
   "id": "26cabc4b",
   "metadata": {},
   "outputs": [
    {
     "name": "stdout",
     "output_type": "stream",
     "text": [
      "原数组:\n",
      "[[[ 1  2  3  4]\n",
      "  [ 5  6  7  8]\n",
      "  [ 9 10 11 12]]\n",
      "\n",
      " [[13 14 15 16]\n",
      "  [17 18 19 20]\n",
      "  [21 22 23 24]]]\n",
      "\n",
      "迭代结果:\n",
      "( 1, (0, 0, 0)), ( 2, (0, 0, 1)), ( 3, (0, 0, 2)), ( 4, (0, 0, 3)), \n",
      "( 5, (0, 1, 0)), ( 6, (0, 1, 1)), ( 7, (0, 1, 2)), ( 8, (0, 1, 3)), \n",
      "( 9, (0, 2, 0)), (10, (0, 2, 1)), (11, (0, 2, 2)), (12, (0, 2, 3)), \n",
      "\n",
      "(13, (1, 0, 0)), (14, (1, 0, 1)), (15, (1, 0, 2)), (16, (1, 0, 3)), \n",
      "(17, (1, 1, 0)), (18, (1, 1, 1)), (19, (1, 1, 2)), (20, (1, 1, 3)), \n",
      "(21, (1, 2, 0)), (22, (1, 2, 1)), (23, (1, 2, 2)), (24, (1, 2, 3)), "
     ]
    }
   ],
   "source": [
    "a = arange_by_shape((2, 3, 4), 1)\n",
    "print(f\"原数组:\\n{a}\")\n",
    "\n",
    "print(f\"\\n迭代结果:\")\n",
    "last_index = (0, 0, 0)\n",
    "with np.nditer(a, flags=[\"multi_index\"]) as it:\n",
    "    for e in it:\n",
    "        mi = it.multi_index\n",
    "        if last_index[0] != mi[0]:\n",
    "            print()\n",
    "\n",
    "        if last_index[1] != mi[1]:\n",
    "            print()\n",
    "\n",
    "        print(f\"({e:>2}, {it.multi_index})\", end=\", \")\n",
    "        last_index = mi"
   ]
  },
  {
   "cell_type": "markdown",
   "id": "9e8ef1ec",
   "metadata": {},
   "source": [
    "##### 7.2.2.4. 迭代器对象"
   ]
  },
  {
   "cell_type": "markdown",
   "id": "b5a2fb30",
   "metadata": {},
   "source": [
    "数组的迭代可以不通过 `for` 循环, 而是用 `np.nditer` 函数返回的迭代器对象进行"
   ]
  },
  {
   "cell_type": "code",
   "execution_count": 861,
   "id": "cb7604d1",
   "metadata": {},
   "outputs": [
    {
     "name": "stdout",
     "output_type": "stream",
     "text": [
      "原数组:\n",
      "[[[ 1  2  3  4]\n",
      "  [ 5  6  7  8]\n",
      "  [ 9 10 11 12]]\n",
      "\n",
      " [[13 14 15 16]\n",
      "  [17 18 19 20]\n",
      "  [21 22 23 24]]]\n",
      "\n",
      "迭代结果:\n",
      "( 1, (0, 0, 0)), ( 2, (0, 0, 1)), ( 3, (0, 0, 2)), ( 4, (0, 0, 3)), \n",
      "( 5, (0, 1, 0)), ( 6, (0, 1, 1)), ( 7, (0, 1, 2)), ( 8, (0, 1, 3)), \n",
      "( 9, (0, 2, 0)), (10, (0, 2, 1)), (11, (0, 2, 2)), (12, (0, 2, 3)), \n",
      "\n",
      "(13, (1, 0, 0)), (14, (1, 0, 1)), (15, (1, 0, 2)), (16, (1, 0, 3)), \n",
      "(17, (1, 1, 0)), (18, (1, 1, 1)), (19, (1, 1, 2)), (20, (1, 1, 3)), \n",
      "(21, (1, 2, 0)), (22, (1, 2, 1)), (23, (1, 2, 2)), (24, (1, 2, 3)), "
     ]
    }
   ],
   "source": [
    "a = arange_by_shape((2, 3, 4), 1)\n",
    "print(f\"原数组:\\n{a}\")\n",
    "\n",
    "print(f\"\\n迭代结果:\")\n",
    "last_index = (0, 0, 0)\n",
    "with np.nditer(a, flags=[\"multi_index\"]) as it:\n",
    "    while not it.finished:\n",
    "        mi = it.multi_index\n",
    "        if last_index[0] != mi[0]:\n",
    "            print()\n",
    "\n",
    "        if last_index[1] != mi[1]:\n",
    "            print()\n",
    "\n",
    "        print(f\"({it[0]:>2}, {it.multi_index})\", end=\", \")\n",
    "\n",
    "        it.iternext()\n",
    "        last_index = mi"
   ]
  },
  {
   "cell_type": "markdown",
   "id": "641ac534",
   "metadata": {},
   "source": [
    "也可以通过迭代器对象修改数组元素值"
   ]
  },
  {
   "cell_type": "code",
   "execution_count": 862,
   "id": "92e90287",
   "metadata": {},
   "outputs": [
    {
     "name": "stdout",
     "output_type": "stream",
     "text": [
      "原数组:\n",
      "[[[ 1  2  3  4]\n",
      "  [ 5  6  7  8]\n",
      "  [ 9 10 11 12]]\n",
      "\n",
      " [[13 14 15 16]\n",
      "  [17 18 19 20]\n",
      "  [21 22 23 24]]]\n",
      "\n",
      "通过迭代器修改后:\n",
      "[[[ 10  20  30  40]\n",
      "  [ 50  60  70  80]\n",
      "  [ 90 100 110 120]]\n",
      "\n",
      " [[130 140 150 160]\n",
      "  [170 180 190 200]\n",
      "  [210 220 230 240]]]\n"
     ]
    }
   ],
   "source": [
    "a = arange_by_shape((2, 3, 4), 1)\n",
    "print(f\"原数组:\\n{a}\")\n",
    "\n",
    "with np.nditer(a, op_flags=[\"readwrite\"]) as it:\n",
    "    while not it.finished:\n",
    "        it[0] = it[0] * 10\n",
    "        it.iternext()\n",
    "\n",
    "print(f\"\\n通过迭代器修改后:\\n{a}\")"
   ]
  },
  {
   "cell_type": "markdown",
   "id": "970b49e5",
   "metadata": {},
   "source": [
    "##### 7.2.2.5. 外部循环"
   ]
  },
  {
   "cell_type": "markdown",
   "id": "fa388090",
   "metadata": {},
   "source": [
    "一般情况下, `np.nditer` 函数返回的迭代器会迭代数组中的每个元素, 但这样会导致迭代次数过多, 导致效率较低\n",
    "\n",
    "通过传递 `flags` 参数为 `external_loop` 可以启用迭代器的外部循环, 将尝试以更大的数据块进行迭代, 每次迭代会得到多个数组元素, 迭代次数会大大减少, 从而提升代码执行效率"
   ]
  },
  {
   "cell_type": "code",
   "execution_count": 863,
   "id": "734b56e0",
   "metadata": {},
   "outputs": [
    {
     "name": "stdout",
     "output_type": "stream",
     "text": [
      "原数组:\n",
      "[[    1     2     3 ...    98    99   100]\n",
      " [  101   102   103 ...   198   199   200]\n",
      " [  201   202   203 ...   298   299   300]\n",
      " ...\n",
      " [ 9701  9702  9703 ...  9798  9799  9800]\n",
      " [ 9801  9802  9803 ...  9898  9899  9900]\n",
      " [ 9901  9902  9903 ...  9998  9999 10000]]\n"
     ]
    }
   ],
   "source": [
    "large_array = arange_by_shape((100, 100), 1)\n",
    "print(f\"原数组:\\n{large_array}\")"
   ]
  },
  {
   "cell_type": "code",
   "execution_count": 864,
   "id": "333ff6ab",
   "metadata": {},
   "outputs": [
    {
     "name": "stdout",
     "output_type": "stream",
     "text": [
      "\n",
      "数组元素求和结果: 50005000\n",
      "CPU times: user 9 ms, sys: 250 μs, total: 9.25 ms\n",
      "Wall time: 8.92 ms\n"
     ]
    }
   ],
   "source": [
    "%%time\n",
    "\n",
    "# 逐元素迭代\n",
    "total = 0\n",
    "for e in np.nditer(large_array):\n",
    "    total += e\n",
    "\n",
    "print(f\"\\n数组元素求和结果: {total}\")"
   ]
  },
  {
   "cell_type": "code",
   "execution_count": 865,
   "id": "c992578c",
   "metadata": {},
   "outputs": [
    {
     "name": "stdout",
     "output_type": "stream",
     "text": [
      "\n",
      "数组元素求和结果: 50005000\n",
      "CPU times: user 184 μs, sys: 49 μs, total: 233 μs\n",
      "Wall time: 220 μs\n"
     ]
    }
   ],
   "source": [
    "%%time\n",
    "\n",
    "# 按块迭代\n",
    "total = 0\n",
    "for e in np.nditer(large_array, flags=['external_loop']):\n",
    "    total += e.sum()\n",
    "\n",
    "print(f\"\\n数组元素求和结果: {total}\")"
   ]
  },
  {
   "cell_type": "code",
   "execution_count": 866,
   "id": "70b6750c",
   "metadata": {},
   "outputs": [
    {
     "name": "stdout",
     "output_type": "stream",
     "text": [
      "\n",
      "数组元素求和结果: 50005000\n",
      "CPU times: user 407 μs, sys: 0 ns, total: 407 μs\n",
      "Wall time: 399 μs\n"
     ]
    }
   ],
   "source": [
    "%%time\n",
    "\n",
    "# 按块迭代\n",
    "total = 0\n",
    "for e in np.nditer(large_array, flags=['external_loop'], order=\"F\"):\n",
    "    total += e.sum()\n",
    "\n",
    "print(f\"\\n数组元素求和结果: {total}\")"
   ]
  }
 ],
 "metadata": {
  "kernelspec": {
   "display_name": ".venv",
   "language": "python",
   "name": "python3"
  },
  "language_info": {
   "codemirror_mode": {
    "name": "ipython",
    "version": 3
   },
   "file_extension": ".py",
   "mimetype": "text/x-python",
   "name": "python",
   "nbconvert_exporter": "python",
   "pygments_lexer": "ipython3",
   "version": "3.13.5"
  }
 },
 "nbformat": 4,
 "nbformat_minor": 5
}
