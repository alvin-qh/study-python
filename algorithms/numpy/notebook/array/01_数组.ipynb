{
 "cells": [
  {
   "cell_type": "markdown",
   "id": "445358cc",
   "metadata": {},
   "source": [
    "# 数组"
   ]
  },
  {
   "cell_type": "markdown",
   "id": "9736a757",
   "metadata": {},
   "source": [
    "首先, 导入 Numpy 模块"
   ]
  },
  {
   "cell_type": "code",
   "execution_count": 124,
   "id": "56960715",
   "metadata": {},
   "outputs": [],
   "source": [
    "import numpy as np\n",
    "\n",
    "from display import aprint\n",
    "from array_ import arange_by_shape"
   ]
  },
  {
   "cell_type": "markdown",
   "id": "9eb77aaf",
   "metadata": {},
   "source": [
    "## 1. 创建数组"
   ]
  },
  {
   "cell_type": "markdown",
   "id": "b5ae0256",
   "metadata": {},
   "source": [
    "### 1.1. 通过 Python 数组创建"
   ]
  },
  {
   "cell_type": "code",
   "execution_count": 125,
   "id": "d220c863",
   "metadata": {},
   "outputs": [
    {
     "name": "stdout",
     "output_type": "stream",
     "text": [
      "一维数组内容:\n",
      "[1 2 3 4]\n",
      "\n",
      "二维数组内容:\n",
      "[[1 2 3 4]\n",
      " [5 6 7 8]]\n",
      "\n",
      "三维数组内容:\n",
      "[[[ 1  2  3  4]\n",
      "  [ 5  6  7  8]\n",
      "  [ 9 10 11 12]]\n",
      "\n",
      " [[13 14 15 16]\n",
      "  [17 18 19 20]\n",
      "  [21 22 23 24]]]\n"
     ]
    }
   ],
   "source": [
    "# 通过一维 Python 数组创建 NumPy 数组\n",
    "data = np.array([1, 2, 3, 4])\n",
    "print(f\"一维数组内容:\\n{data}\")\n",
    "\n",
    "# 通过二维 Python 数组创建 NumPy 数组\n",
    "data = np.array([[1, 2, 3, 4], [5, 6, 7, 8]])\n",
    "print(f\"\\n二维数组内容:\\n{data}\")\n",
    "\n",
    "# 通过三维 Python 列表创建 NumPy 数组\n",
    "data = np.array(\n",
    "    [\n",
    "        [[1, 2, 3, 4], [5, 6, 7, 8], [9, 10, 11, 12]],\n",
    "        [[13, 14, 15, 16], [17, 18, 19, 20], [21, 22, 23, 24]],\n",
    "    ]\n",
    ")\n",
    "print(f\"\\n三维数组内容:\\n{data}\")"
   ]
  },
  {
   "cell_type": "markdown",
   "id": "c36ab53a",
   "metadata": {},
   "source": [
    "### 1.2. 创建元素值为 `0` 的数组"
   ]
  },
  {
   "cell_type": "code",
   "execution_count": 126,
   "id": "b4ba189d",
   "metadata": {},
   "outputs": [
    {
     "name": "stdout",
     "output_type": "stream",
     "text": [
      "一维数组内容:\n",
      "[0. 0. 0. 0.]\n",
      "\n",
      "二维数组内容:\n",
      "[[0. 0. 0. 0.]\n",
      " [0. 0. 0. 0.]\n",
      " [0. 0. 0. 0.]]\n",
      "\n",
      "三维数组内容:\n",
      "[[[0. 0. 0. 0.]\n",
      "  [0. 0. 0. 0.]\n",
      "  [0. 0. 0. 0.]]\n",
      "\n",
      " [[0. 0. 0. 0.]\n",
      "  [0. 0. 0. 0.]\n",
      "  [0. 0. 0. 0.]]]\n"
     ]
    }
   ],
   "source": [
    "# 创建元素值为 0 的一维数组\n",
    "data = np.zeros(shape=(4))\n",
    "print(f\"一维数组内容:\\n{data}\")\n",
    "\n",
    "# 创建元素值为 0 的二维数组\n",
    "data = np.zeros(shape=(3, 4))\n",
    "print(f\"\\n二维数组内容:\\n{data}\")\n",
    "\n",
    "# 创建元素值为 0 的三维数组\n",
    "data = np.zeros(shape=(2, 3, 4))\n",
    "print(f\"\\n三维数组内容:\\n{data}\")"
   ]
  },
  {
   "cell_type": "code",
   "execution_count": 127,
   "id": "e9c29c56",
   "metadata": {},
   "outputs": [
    {
     "name": "stdout",
     "output_type": "stream",
     "text": [
      "一维数组内容:\n",
      "[1. 1. 1. 1.]\n",
      "\n",
      "二维数组内容:\n",
      "[[1. 1. 1. 1.]\n",
      " [1. 1. 1. 1.]\n",
      " [1. 1. 1. 1.]]\n",
      "\n",
      "三维数组内容:\n",
      "[[[1. 1. 1. 1.]\n",
      "  [1. 1. 1. 1.]\n",
      "  [1. 1. 1. 1.]]\n",
      "\n",
      " [[1. 1. 1. 1.]\n",
      "  [1. 1. 1. 1.]\n",
      "  [1. 1. 1. 1.]]]\n"
     ]
    }
   ],
   "source": [
    "# 创建元素值为 1 的一维数组\n",
    "data = np.ones(shape=(4))\n",
    "print(f\"一维数组内容:\\n{data}\")\n",
    "\n",
    "# 创建元素值为 1 的二维数组\n",
    "data = np.ones(shape=(3, 4))\n",
    "print(f\"\\n二维数组内容:\\n{data}\")\n",
    "\n",
    "# 创建元素值为 1 的三维数组\n",
    "data = np.ones(shape=(2, 3, 4))\n",
    "print(f\"\\n三维数组内容:\\n{data}\")"
   ]
  },
  {
   "cell_type": "markdown",
   "id": "97b67a9b",
   "metadata": {},
   "source": [
    "### 1.3. 创建元素值为 \"空\" 的数组\n",
    "\n",
    "通过 `np.empty` 函数创建一个元素值为 \"空\" 的数组\n",
    "\n",
    "注意: 所谓元素值为 \"空\" 的数组，指的是直接分配内存, 且不会对元素所用内存进行初始化操作, 所以所分配内存中的内容是未知的 (或保留上次该区域内存使用的值)\n",
    "\n",
    "所以创建了元素值为 \"空\" 的数组后, 必须对数组元素值全部进行初始化\n",
    "\n",
    "对于已确定会对数组元素值进行全部初始化的场景, 通过 `np.empty` 函数创建数组可以提升程序效率"
   ]
  },
  {
   "cell_type": "code",
   "execution_count": 128,
   "id": "d4ee11ca",
   "metadata": {},
   "outputs": [
    {
     "name": "stdout",
     "output_type": "stream",
     "text": [
      "一维数组内容:\n",
      "[1. 1. 1. 1.]\n",
      "\n",
      "二维数组内容:\n",
      "[[1. 1. 1. 1.]\n",
      " [1. 1. 1. 1.]\n",
      " [1. 1. 1. 1.]]\n",
      "\n",
      "三维数组内容:\n",
      "[[[1. 1. 1. 1.]\n",
      "  [1. 1. 1. 1.]\n",
      "  [1. 1. 1. 1.]]\n",
      "\n",
      " [[1. 1. 1. 1.]\n",
      "  [1. 1. 1. 1.]\n",
      "  [1. 1. 1. 1.]]]\n"
     ]
    }
   ],
   "source": [
    "# 创建元素值未知的一维数组\n",
    "data = np.empty(shape=(4))\n",
    "print(f\"一维数组内容:\\n{data}\")\n",
    "\n",
    "# 创建元素值未知的二维数组\n",
    "data = np.empty(shape=(3, 4))\n",
    "print(f\"\\n二维数组内容:\\n{data}\")\n",
    "\n",
    "# 创建元素值未知的三维数组\n",
    "data = np.empty(shape=(2, 3, 4))\n",
    "print(f\"\\n三维数组内容:\\n{data}\")"
   ]
  },
  {
   "cell_type": "markdown",
   "id": "e655baff",
   "metadata": {},
   "source": [
    "### 1.4. 创建元素值为连续序列的数组"
   ]
  },
  {
   "cell_type": "code",
   "execution_count": 129,
   "id": "d1eab4a3",
   "metadata": {},
   "outputs": [
    {
     "name": "stdout",
     "output_type": "stream",
     "text": [
      "数组内容:\n",
      "[ 1.  2.  3.  4.  5.  6.  7.  8.  9. 10.]\n",
      "\n",
      "数组内容:\n",
      "[ 1.          1.47368421  1.94736842  2.42105263  2.89473684  3.36842105\n",
      "  3.84210526  4.31578947  4.78947368  5.26315789  5.73684211  6.21052632\n",
      "  6.68421053  7.15789474  7.63157895  8.10526316  8.57894737  9.05263158\n",
      "  9.52631579 10.        ]\n"
     ]
    }
   ],
   "source": [
    "data = np.linspace(1, 10, 10)\n",
    "print(f\"数组内容:\\n{data}\")\n",
    "\n",
    "data = np.linspace(1, 10, 20)\n",
    "print(f\"\\n数组内容:\\n{data}\")"
   ]
  },
  {
   "cell_type": "markdown",
   "id": "101e1270",
   "metadata": {},
   "source": [
    "### 1.5. 创建元素值为 `0`~`1` 随机数的数组"
   ]
  },
  {
   "cell_type": "code",
   "execution_count": 130,
   "id": "f1b876f2",
   "metadata": {},
   "outputs": [
    {
     "name": "stdout",
     "output_type": "stream",
     "text": [
      "数组内容:\n",
      "[0.21146273 0.32361816 0.83234605 0.15629395]\n",
      "\n",
      "数组内容:\n",
      "[[0.49445021 0.28504767 0.82883151 0.5066368 ]\n",
      " [0.95608461 0.34495567 0.4755435  0.68723194]\n",
      " [0.92181897 0.5282567  0.21168775 0.94453495]]\n",
      "\n",
      "数组内容:\n",
      "[[[0.13046069 0.51745256 0.42043767 0.32437327]\n",
      "  [0.99867991 0.22944833 0.4333955  0.92480998]\n",
      "  [0.36719835 0.31641604 0.2667804  0.44693707]]\n",
      "\n",
      " [[0.73872542 0.30094375 0.85848292 0.1188873 ]\n",
      "  [0.88938413 0.77491855 0.27927844 0.70378623]\n",
      "  [0.07462367 0.61605809 0.54690472 0.5651011 ]]]\n",
      "\n",
      "数组内容:\n",
      "[[[8.34114558 7.10748771 7.13318274 5.07924821]\n",
      "  [7.47996723 9.76976035 7.81588473 7.66494092]\n",
      "  [6.43577686 8.51997749 5.97239061 8.49018015]]\n",
      "\n",
      " [[5.23331123 9.13827402 9.88117478 6.16913696]\n",
      "  [9.4882976  8.60110462 7.68155837 9.03802901]\n",
      "  [7.40950701 5.64695526 8.66790824 6.08503231]]]\n"
     ]
    }
   ],
   "source": [
    "# 创建随机元素值的一维数组\n",
    "data = np.random.rand(4)\n",
    "print(f\"数组内容:\\n{data}\")\n",
    "\n",
    "# 创建随机元素值的二维数组\n",
    "data = np.random.rand(3, 4)\n",
    "print(f\"\\n数组内容:\\n{data}\")\n",
    "\n",
    "# 创建随机元素值的三维数组\n",
    "data = np.random.rand(2, 3, 4)\n",
    "print(f\"\\n数组内容:\\n{data}\")\n",
    "\n",
    "# `np.random.rand` 函数不能指定随机数范围, 只能生成 `0`~`1` 之间的随机数\n",
    "# 要指定随机数范围, 可通过下面的计算方法\n",
    "min_, max_ = 5, 10\n",
    "data = min_ + (max_ - min_) * (np.random.rand(2, 3, 4))\n",
    "print(f\"\\n数组内容:\\n{data}\")"
   ]
  },
  {
   "cell_type": "markdown",
   "id": "94aeabdb",
   "metadata": {},
   "source": [
    "### 1.6. 创建元素值随机整数的数组"
   ]
  },
  {
   "cell_type": "code",
   "execution_count": 131,
   "id": "3e2abf7d",
   "metadata": {},
   "outputs": [
    {
     "name": "stdout",
     "output_type": "stream",
     "text": [
      "数组内容:\n",
      "[8 5 7 2]\n",
      "\n",
      "数组内容:\n",
      "[[2 3 9 7]\n",
      " [7 9 3 6]\n",
      " [7 1 3 9]]\n",
      "\n",
      "数组内容:\n",
      "[[[3 6 3 2]\n",
      "  [1 3 2 1]\n",
      "  [8 8 2 1]]\n",
      "\n",
      " [[4 9 9 5]\n",
      "  [4 5 8 1]\n",
      "  [4 4 4 6]]]\n"
     ]
    }
   ],
   "source": [
    "# 创建元素值为 `1`~`10` 之间随机数的一维数组\n",
    "data = np.random.randint(1, 10, size=(4,))\n",
    "print(f\"数组内容:\\n{data}\")\n",
    "\n",
    "# 创建元素值为 `1`~`10` 之间随机数的二维数组\n",
    "data = np.random.randint(1, 10, size=(3, 4))\n",
    "print(f\"\\n数组内容:\\n{data}\")\n",
    "\n",
    "# 创建元素值为 `1`~`10` 之间随机数的三维数组\n",
    "data = np.random.randint(1, 10, size=(2, 3, 4))\n",
    "print(f\"\\n数组内容:\\n{data}\")"
   ]
  },
  {
   "cell_type": "markdown",
   "id": "fab62c92",
   "metadata": {},
   "source": [
    "## 2. 数组属性"
   ]
  },
  {
   "cell_type": "markdown",
   "id": "1a2d8a7b",
   "metadata": {},
   "source": [
    "### 2.1. 数组维度 (`ndim`)"
   ]
  },
  {
   "cell_type": "markdown",
   "id": "e5478551",
   "metadata": {},
   "source": [
    "可以获取到一个数组包含的维度数"
   ]
  },
  {
   "cell_type": "code",
   "execution_count": 132,
   "id": "09c0c0b5",
   "metadata": {},
   "outputs": [
    {
     "name": "stdout",
     "output_type": "stream",
     "text": [
      "一维数组:\n",
      "[ 1  2  3  4  5  6  7  8  9 10 11 12 13 14 15 16 17 18 19 20 21 22 23 24], dim=1\n",
      "\n",
      "二维数组:\n",
      "[[ 1  2  3  4  5  6  7  8  9 10 11 12]\n",
      " [13 14 15 16 17 18 19 20 21 22 23 24]], dim=2\n",
      "\n",
      "三维数组:\n",
      "[[[ 1  2  3  4]\n",
      "  [ 5  6  7  8]\n",
      "  [ 9 10 11 12]]\n",
      "\n",
      " [[13 14 15 16]\n",
      "  [17 18 19 20]\n",
      "  [21 22 23 24]]], dim=3\n"
     ]
    }
   ],
   "source": [
    "# 一维数组的 dim 总为 `1`\n",
    "data = np.arange(1, 25)  # 创建一个包含 1 到 24 的一维数组\n",
    "print(f\"一维数组:\\n{data}, dim={data.ndim}\")\n",
    "\n",
    "# 二维数组的 dim 总为 `2`\n",
    "data = data.reshape(2, -1)\n",
    "print(f\"\\n二维数组:\\n{data}, dim={data.ndim}\")\n",
    "\n",
    "# 三维数组的 dim 总为 `3`\n",
    "data = data.reshape(2, 3, -1)\n",
    "print(f\"\\n三维数组:\\n{data}, dim={data.ndim}\")"
   ]
  },
  {
   "cell_type": "markdown",
   "id": "a1021c67",
   "metadata": {},
   "source": [
    "### 2.2. 数组形状 (`shape`)"
   ]
  },
  {
   "cell_type": "markdown",
   "id": "9ae895f3",
   "metadata": {},
   "source": [
    "数组的形状即数组在每个维度的长度, 例如 shape 为 `(2, 3)` 的数组, 表示一个有 `2` 行 `3` 列的二维数组"
   ]
  },
  {
   "cell_type": "code",
   "execution_count": 133,
   "id": "991edd45",
   "metadata": {},
   "outputs": [
    {
     "name": "stdout",
     "output_type": "stream",
     "text": [
      "一维数组:\n",
      "[1 2 3 4], shape=(4,)\n",
      "\n",
      "二维数组:\n",
      "[[ 1  2  3  4]\n",
      " [ 5  6  7  8]\n",
      " [ 9 10 11 12]], shape=(3, 4)\n",
      "\n",
      "三维数组:\n",
      "[[[ 1  2  3  4]\n",
      "  [ 5  6  7  8]\n",
      "  [ 9 10 11 12]]\n",
      "\n",
      " [[13 14 15 16]\n",
      "  [17 18 19 20]\n",
      "  [21 22 23 24]]], shape=(2, 3, 4)\n"
     ]
    }
   ],
   "source": [
    "# 获取一维数组的形状, 结果为一个包含一个值的元组\n",
    "data = np.array([1, 2, 3, 4])\n",
    "print(f\"一维数组:\\n{data}, shape={data.shape}\")\n",
    "\n",
    "# 获取二维数组的形状, 结果为一个包含两个值的元组, 表示数组的两个维度\n",
    "data = np.array([[1, 2, 3, 4], [5, 6, 7, 8], [9, 10, 11, 12]])\n",
    "print(f\"\\n二维数组:\\n{data}, shape={data.shape}\")\n",
    "\n",
    "# 获取三维数组的形状, 结果为一个包含三个值的元组, 描述数组的三个维度\n",
    "data = np.array(\n",
    "    [\n",
    "        [[1, 2, 3, 4], [5, 6, 7, 8], [9, 10, 11, 12]],\n",
    "        [[13, 14, 15, 16], [17, 18, 19, 20], [21, 22, 23, 24]],\n",
    "    ]\n",
    ")\n",
    "print(f\"\\n三维数组:\\n{data}, shape={data.shape}\")"
   ]
  },
  {
   "cell_type": "markdown",
   "id": "32e5bd1f",
   "metadata": {},
   "source": [
    "### 2.3. 数组长度 (`size`)"
   ]
  },
  {
   "cell_type": "markdown",
   "id": "c1dbd122",
   "metadata": {},
   "source": [
    "数组长度即数组包含的元素总数, 和数组的维度或数组的形状无关"
   ]
  },
  {
   "cell_type": "code",
   "execution_count": 134,
   "id": "79c66b73",
   "metadata": {},
   "outputs": [
    {
     "name": "stdout",
     "output_type": "stream",
     "text": [
      "一维数组:\n",
      "[1 2 3 4], size=4\n",
      "\n",
      "二维数组:\n",
      "[[ 1  2  3  4]\n",
      " [ 5  6  7  8]\n",
      " [ 9 10 11 12]], size=12\n",
      "\n",
      "三维数组:\n",
      "[[[ 1  2  3  4]\n",
      "  [ 5  6  7  8]\n",
      "  [ 9 10 11 12]]\n",
      "\n",
      " [[13 14 15 16]\n",
      "  [17 18 19 20]\n",
      "  [21 22 23 24]]], size=24\n"
     ]
    }
   ],
   "source": [
    "data = np.array([1, 2, 3, 4])\n",
    "print(f\"一维数组:\\n{data}, size={data.size}\")\n",
    "\n",
    "data = np.array([[1, 2, 3, 4], [5, 6, 7, 8], [9, 10, 11, 12]])\n",
    "print(f\"\\n二维数组:\\n{data}, size={data.size}\")\n",
    "\n",
    "data = np.array(\n",
    "    [\n",
    "        [[1, 2, 3, 4], [5, 6, 7, 8], [9, 10, 11, 12]],\n",
    "        [[13, 14, 15, 16], [17, 18, 19, 20], [21, 22, 23, 24]],\n",
    "    ]\n",
    ")\n",
    "print(f\"\\n三维数组:\\n{data}, size={data.size}\")"
   ]
  },
  {
   "cell_type": "markdown",
   "id": "e2d12751",
   "metadata": {},
   "source": [
    "### 2.4. 数组元素类型 (`dtype`)"
   ]
  },
  {
   "cell_type": "markdown",
   "id": "ab0ac6fb",
   "metadata": {},
   "source": [
    "数组中的元素具备统一的数据类型, 可通过 `np.dtype` 查看, 可能的类型包括:\n",
    "\n",
    "- `np.int8`: 8 位有符号整数\n",
    "- `np.int16`: 16 位有符号整数\n",
    "- `np.int32`: 32 位有符号整数\n",
    "- `np.int64`: 64 位有符号整数\n",
    "- `np.uint8`: 8 位无符号整数\n",
    "- `np.uint16`: 16 位无符号整数\n",
    "- `np.uint32`: 32 位无符号整数\n",
    "- `np.uint64`: 64 位无符号整数\n",
    "- `np.float16`: 16 位浮点数\n",
    "- `np.float32`: 32 位浮点数\n",
    "- `np.float64`: 64 位浮点数\n",
    "- `np.complex64`: 64 位复数\n",
    "- `np.complex128`: 128 位复数\n",
    "- `np.bool_`: 布尔值"
   ]
  },
  {
   "cell_type": "code",
   "execution_count": 135,
   "id": "d6c10ef7",
   "metadata": {},
   "outputs": [
    {
     "name": "stdout",
     "output_type": "stream",
     "text": [
      "数组:\n",
      "[[[ 1  2  3  4]\n",
      "  [ 5  6  7  8]\n",
      "  [ 9 10 11 12]]], dtype=int64\n",
      "\n",
      "数组:\n",
      "[[[0.01 0.02 0.03 0.04]\n",
      "  [0.05 0.06 0.07 0.08]\n",
      "  [0.09 0.1  0.11 0.12]]], dtype=float64\n",
      "\n",
      "数组:\n",
      "[[[False False False False]\n",
      "  [False False False False]\n",
      "  [False  True  True  True]]], dtype=bool\n"
     ]
    }
   ],
   "source": [
    "data = np.array([[[1, 2, 3, 4], [5, 6, 7, 8], [9, 10, 11, 12]]])\n",
    "print(f\"数组:\\n{data}, dtype={data.dtype}\")\n",
    "\n",
    "data = data * np.array([0.01])\n",
    "print(f\"\\n数组:\\n{data}, dtype={data.dtype}\")\n",
    "\n",
    "data = np.array([n >= 0.1 for n in data.flat]).reshape(data.shape)\n",
    "print(f\"\\n数组:\\n{data}, dtype={data.dtype}\")"
   ]
  },
  {
   "cell_type": "markdown",
   "id": "4131d84f",
   "metadata": {},
   "source": [
    "## 3. 改变数组的形状"
   ]
  },
  {
   "cell_type": "code",
   "execution_count": 136,
   "id": "f59b45b9",
   "metadata": {},
   "outputs": [
    {
     "name": "stdout",
     "output_type": "stream",
     "text": [
      "数组内容:\n",
      "[ 1  2  3  4  5  6  7  8  9 10 11 12 13 14 15 16 17 18 19 20 21 22 23 24], shape=(24,)\n",
      "\n",
      "数组内容:\n",
      "[[ 1  2  3  4  5  6  7  8  9 10 11 12]\n",
      " [13 14 15 16 17 18 19 20 21 22 23 24]], shape=(2, 12)\n",
      "\n",
      "数组内容:\n",
      "[[[ 1  2  3  4]\n",
      "  [ 5  6  7  8]\n",
      "  [ 9 10 11 12]]\n",
      "\n",
      " [[13 14 15 16]\n",
      "  [17 18 19 20]\n",
      "  [21 22 23 24]]], shape=(2, 3, 4)\n",
      "\n",
      "数组内容:\n",
      "[ 1  2  3  4  5  6  7  8  9 10 11 12 13 14 15 16 17 18 19 20 21 22 23 24], shape=(24,)\n"
     ]
    }
   ],
   "source": [
    "# 定义一个 24 个元素的一维数组\n",
    "data = np.arange(1, 25)\n",
    "print(f\"数组内容:\\n{data}, shape={data.shape}\")\n",
    "\n",
    "# 改变数组的形状, 将一维数组改为二维数组\n",
    "# `-1` 表示自动计算维度, 只有最后一个维度可以为 `-1`\n",
    "data = data.reshape(2, -1)\n",
    "print(f\"\\n数组内容:\\n{data}, shape={data.shape}\")\n",
    "\n",
    "# 改变数组的形状, 将二维数组改为三维数组\n",
    "# `-1` 表示自动计算维度, 只有最后一个维度可以为 `-1`\n",
    "data = data.reshape(2, 3, -1)\n",
    "print(f\"\\n数组内容:\\n{data}, shape={data.shape}\")\n",
    "\n",
    "# 改变数组的形状, 将三维数组改为一维数组\n",
    "data = data.reshape(-1)\n",
    "print(f\"\\n数组内容:\\n{data}, shape={data.shape}\")\n",
    "\n",
    "# 如果目标形状无法达成 (及元素个数无法满足目标形状要求), 则操作失败\n",
    "# data = data.reshape(2, 5, -1)"
   ]
  },
  {
   "cell_type": "markdown",
   "id": "59eb4150",
   "metadata": {},
   "source": [
    "## 4. 数组转置"
   ]
  },
  {
   "cell_type": "markdown",
   "id": "cd06ca37",
   "metadata": {},
   "source": [
    "转置是线性代数的一个概念, 及将 $m \\times n$ 矩阵转置为 $n \\times m$ 矩阵, 矩阵中元素的位置关系不变, 例如:\n",
    "\n",
    "对于矩阵\n",
    "$\n",
    "A=\n",
    "\\begin{bmatrix}\n",
    "1 & 2 & 3 \\\\\n",
    "4 & 5 & 6 \\\\\n",
    "\\end{bmatrix}\n",
    "$, 其转置矩阵为\n",
    "$\n",
    "A^T=\n",
    "\\begin{bmatrix}\n",
    "1 & 4 \\\\\n",
    "2 & 5 \\\\\n",
    "3 & 6 \\\\\n",
    "\\end{bmatrix}\n",
    "$\n",
    "\n",
    "Numpy 支持多维数组 (多维矩阵), 故可对多维数组进行转置, 例如对于三维数组, 可将 $m \\times n \\times k$ 矩阵转置为 $k \\times n \\times m$"
   ]
  },
  {
   "cell_type": "code",
   "execution_count": 137,
   "id": "f1b0f81d",
   "metadata": {},
   "outputs": [
    {
     "name": "stdout",
     "output_type": "stream",
     "text": [
      "数组内容:\n",
      "[[[ 1  2  3  4]\n",
      "  [ 5  6  7  8]\n",
      "  [ 9 10 11 12]]\n",
      "\n",
      " [[13 14 15 16]\n",
      "  [17 18 19 20]\n",
      "  [21 22 23 24]]], shape=(2, 3, 4)\n",
      "\n",
      "转置后数组内容:\n",
      "[[[ 1 13]\n",
      "  [ 5 17]\n",
      "  [ 9 21]]\n",
      "\n",
      " [[ 2 14]\n",
      "  [ 6 18]\n",
      "  [10 22]]\n",
      "\n",
      " [[ 3 15]\n",
      "  [ 7 19]\n",
      "  [11 23]]\n",
      "\n",
      " [[ 4 16]\n",
      "  [ 8 20]\n",
      "  [12 24]]], shape=(4, 3, 2)\n"
     ]
    }
   ],
   "source": [
    "data = np.arange(1, 25).reshape(2, 3, 4)\n",
    "print(f\"数组内容:\\n{data}, shape={data.shape}\")\n",
    "\n",
    "data = data.T\n",
    "print(f\"\\n转置后数组内容:\\n{data}, shape={data.shape}\")"
   ]
  },
  {
   "cell_type": "markdown",
   "id": "8ca59349",
   "metadata": {},
   "source": [
    "## 5. 切片"
   ]
  },
  {
   "cell_type": "markdown",
   "id": "b3c2c8ae",
   "metadata": {},
   "source": [
    "数组的切片用于从数组中切割出一个新数组, 可以通过 Python 元素的 `slice` 对象进行切片, 也可以通过 Numpy 特有的 `:` 语法进行切片 (由于 Numpy 对数组索引做了特殊定义, 所以通过 `:` 语法取代 Python 元素的切片语法)"
   ]
  },
  {
   "cell_type": "markdown",
   "id": "0b70ccce",
   "metadata": {},
   "source": [
    "### 5.1. 一维数组切片"
   ]
  },
  {
   "cell_type": "markdown",
   "id": "9982bc9d",
   "metadata": {},
   "source": [
    "一维数组可以通过 Python 本身的 Slice (切片) 对象进行切片"
   ]
  },
  {
   "cell_type": "code",
   "execution_count": 138,
   "id": "270d139d",
   "metadata": {},
   "outputs": [
    {
     "name": "stdout",
     "output_type": "stream",
     "text": [
      "对于数组 a = [1 2 3 4], shape=(4,), 则:\n",
      "通过 s = slice(1, 2, 1) 对 a 切片结果为: a[s] = [2 3], shape=(2,)\n"
     ]
    }
   ],
   "source": [
    "# 定义一个一维数组\n",
    "a = np.arange(1, 5, step=1)\n",
    "\n",
    "# 定义一个切片对象\n",
    "s = slice(1, 3, 1)\n",
    "\n",
    "# 通过切片对象获取数组内容进行截取\n",
    "print(f\"对于数组 a = {a}, shape={a.shape}, 则:\")\n",
    "print(f\"通过 s = {slice(1, 2, 1)} 对 a 切片结果为: a[s] = {a[s]}, shape={a[s].shape}\")"
   ]
  },
  {
   "cell_type": "markdown",
   "id": "91f50dd9",
   "metadata": {},
   "source": [
    "一维数组也可以通过 Numpy 的切片语法 (`:`) 来进行切片, 语法为 `[起始索引:结束索引:步长]`, 将截取 $\\small \\left(起始索引, 结束索引\\right]$ 之间的元素"
   ]
  },
  {
   "cell_type": "code",
   "execution_count": 139,
   "id": "6268ac62",
   "metadata": {},
   "outputs": [
    {
     "name": "stdout",
     "output_type": "stream",
     "text": [
      "对于数组 a = [1 2 3 4], shape=(4,), 则:\n",
      "通过 [1:3:1] 对 a 切片结果为: a[1:3:1] = [2 3], shape=(2,)\n"
     ]
    }
   ],
   "source": [
    "a = np.arange(1, 5, step=1)\n",
    "\n",
    "print(f\"对于数组 a = {a}, shape={a.shape}, 则:\")\n",
    "print(f\"通过 [1:3:1] 对 a 切片结果为: a[1:3:1] = {a[1:3:1]}, shape={a[1:3:1].shape}\")"
   ]
  },
  {
   "cell_type": "markdown",
   "id": "e0081edc",
   "metadata": {},
   "source": [
    "如果省略切片的 \"起始索引\", 即 (:结束索引:步长), 则默认为 \"起始索引为 `0`\"; 如果省略切片的 \"结束索引\", 即 (开始索引::步长), 则默认为 \"结束索引为 `-1`\", 即最后一个索引; 如果省略切片的 \"步长\", 即 (开始索引:结束索引), 则默认为 \"步长为 `1`\"\n",
    "\n",
    "如果切片步长为负数 (例如 `-1`), 则结果数组为元素住的逆序, 例如 `[::-1]` 表示切片结果为从数组的最后一个元素开始到第一个元素的逆序, `[-2::-2]` 表示切片结果为从数组倒数第二个元素开始到第一个元素的逆序, 间隔两个元素, 而 `[-2:0:-1]` 表示切片结果为从数组倒数第二个元素开始到第二个元素的逆序, 间隔一个元素"
   ]
  },
  {
   "cell_type": "code",
   "execution_count": 140,
   "id": "6c84e9d6",
   "metadata": {},
   "outputs": [
    {
     "name": "stdout",
     "output_type": "stream",
     "text": [
      "一维数组切片:\n",
      "● a:\n",
      "[1 2 3 4 5 6 7 8 9], shape=(9,)\n",
      "● a[1]:\n",
      "2\n",
      "● a[1:3]:\n",
      "[2 3 4 5 6], shape=(5,)\n",
      "● a[1:3:2]:\n",
      "[2 4 6], shape=(3,)\n",
      "● a[1:]:\n",
      "[2 3 4 5 6 7 8 9], shape=(8,)\n",
      "● a[:6]:\n",
      "[1 2 3 4 5 6], shape=(6,)\n",
      "● a[::2]:\n",
      "[1 3 5 7 9], shape=(5,)\n",
      "● a[2:-1]:\n",
      "[3 4 5 6 7 8], shape=(6,)\n",
      "● a[::-1]:\n",
      "[9 8 7 6 5 4 3 2 1], shape=(9,)\n",
      "● a[-2::-1]:\n",
      "[8 7 6 5 4 3 2 1], shape=(8,)\n",
      "● a[-2:0:-1]:\n",
      "[8 7 6 5 4 3 2], shape=(7,)\n"
     ]
    }
   ],
   "source": [
    "a = np.arange(1, 10, step=1)\n",
    "\n",
    "aprint(\n",
    "    \"一维数组切片:\",\n",
    "    {\n",
    "        \"a\": a,\n",
    "        \"a[1]\": a[1],\n",
    "        \"a[1:3]\": a[1:6],\n",
    "        \"a[1:3:2]\": a[1:6:2],\n",
    "        \"a[1:]\": a[1:],\n",
    "        \"a[:6]\": a[:6],\n",
    "        \"a[::2]\": a[::2],\n",
    "        \"a[2:-1]\": a[2:-1],\n",
    "        \"a[::-1]\": a[::-1],\n",
    "        \"a[-2::-1]\": a[-2::-1],\n",
    "        \"a[-2:0:-1]\": a[-2:0:-1],\n",
    "    },\n",
    ")"
   ]
  },
  {
   "cell_type": "markdown",
   "id": "192d2eea",
   "metadata": {},
   "source": [
    "### 5.2. 多维数组切片"
   ]
  },
  {
   "cell_type": "markdown",
   "id": "fcf727d6",
   "metadata": {},
   "source": [
    "对于多维数组, 主要是通过 Numpy 提供的 `:` 切片语法进行, 可以用 `,` 分隔来表示对特定维度的部分进行切片, 例如对于 shape=`(2, 3, 4)` 的数组, 可以有如下切片:\n",
    "- 通过 `[1:2:1]` 表示对第一个维进行切片, 即将三维数组看作是一个长度为 `2` 的一维数组, 取其中第二个元素;\n",
    "- 通过 `[:, 1:2:1]` 来表示对第二个维进行切片, 即将三维数组看作是一个两行两列的二维数组, 第一维全部保留, 第二维取第二个元素;"
   ]
  },
  {
   "cell_type": "code",
   "execution_count": 141,
   "id": "0a816162",
   "metadata": {},
   "outputs": [
    {
     "name": "stdout",
     "output_type": "stream",
     "text": [
      "多维数组切片:\n",
      "● a:\n",
      "[[[ 1  2  3  4]\n",
      "  [ 5  6  7  8]\n",
      "  [ 9 10 11 12]]\n",
      "\n",
      " [[13 14 15 16]\n",
      "  [17 18 19 20]\n",
      "  [21 22 23 24]]], shape=(2, 3, 4)\n",
      "● a[1:2:1]:\n",
      "[[[13 14 15 16]\n",
      "  [17 18 19 20]\n",
      "  [21 22 23 24]]], shape=(1, 3, 4)\n",
      "● a[:, 1:2:1]:\n",
      "[[[ 5  6  7  8]]\n",
      "\n",
      " [[17 18 19 20]]], shape=(2, 1, 4)\n",
      "● a[:, :, 1:2:1]:\n",
      "[[[ 2]\n",
      "  [ 6]\n",
      "  [10]]\n",
      "\n",
      " [[14]\n",
      "  [18]\n",
      "  [22]]], shape=(2, 3, 1)\n",
      "● a[1:2:1, 1:2:1]:\n",
      "[[[17 18 19 20]]], shape=(1, 1, 4)\n",
      "● a[1:2:1, :, 1:2:1]:\n",
      "[[[14]\n",
      "  [18]\n",
      "  [22]]], shape=(1, 3, 1)\n",
      "● a[1:2:1, 1:2:1, 1:2:1]:\n",
      "[[[18]]], shape=(1, 1, 1)\n"
     ]
    }
   ],
   "source": [
    "a = arange_by_shape((2, 3, 4), 1)\n",
    "\n",
    "aprint(\n",
    "    \"多维数组切片:\",\n",
    "    {\n",
    "        \"a\": a,\n",
    "        \"a[1:2:1]\": a[1:2:1],  # 对第一维度进行切片\n",
    "        \"a[:, 1:2:1]\": a[:, 1:2:3],  # 对第二维度进行切片\n",
    "        \"a[:, :, 1:2:1]\": a[:, :, 1:2:1],  # 对第三维度进行切片\n",
    "        \"a[1:2:1, 1:2:1]\": a[1:2:1, 1:2:1],  # 对第一, 二维度进行切片\n",
    "        \"a[1:2:1, :, 1:2:1]\": a[1:2:1, :, 1:2:1],  # 对第一, 三维度进行切片\n",
    "        \"a[1:2:1, 1:2:1, 1:2:1]\": a[1:2:1, 1:2:1, 1:2:1],  # 对第一, 二, 三维度进行切片\n",
    "    },\n",
    ")"
   ]
  },
  {
   "cell_type": "markdown",
   "id": "16a6b582",
   "metadata": {},
   "source": [
    "### 5.3. 切片占位符"
   ]
  },
  {
   "cell_type": "markdown",
   "id": "42256af8",
   "metadata": {},
   "source": [
    "通过 `...` 符号可以在 Numpy 切片中作为占位符, 其作用表示 \"选择所有剩余维度\", 而无需使用多个 `:` 符号, 例如:\n",
    "\n",
    "- `a[:, :, 1]` 和 `a[..., 1]` 等价\n",
    "- `a[1, :, :]` 和 `a[1, ...]` 等价\n",
    "- `a[1, :, :, 1]` 和 `a[1, ..., 1]` 等价"
   ]
  },
  {
   "cell_type": "code",
   "execution_count": 142,
   "id": "fdf0a332",
   "metadata": {},
   "outputs": [
    {
     "name": "stdout",
     "output_type": "stream",
     "text": [
      "多维数组切片:\n",
      "● a:\n",
      "[[[ 1  2  3  4]\n",
      "  [ 5  6  7  8]\n",
      "  [ 9 10 11 12]]\n",
      "\n",
      " [[13 14 15 16]\n",
      "  [17 18 19 20]\n",
      "  [21 22 23 24]]], shape=(2, 3, 4)\n",
      "● a[1, ...]:\n",
      "[[13 14 15 16]\n",
      " [17 18 19 20]\n",
      " [21 22 23 24]], shape=(3, 4)\n",
      "● a[0:1:1, ...]:\n",
      "[[[ 1  2  3  4]\n",
      "  [ 5  6  7  8]\n",
      "  [ 9 10 11 12]]], shape=(1, 3, 4)\n",
      "● a[..., 2]:\n",
      "[[ 3  7 11]\n",
      " [15 19 23]], shape=(2, 3)\n",
      "● a[..., 2:3]:\n",
      "[[[ 3]\n",
      "  [ 7]\n",
      "  [11]]\n",
      "\n",
      " [[15]\n",
      "  [19]\n",
      "  [23]]], shape=(2, 3, 1)\n",
      "● a[1, ..., 2]:\n",
      "[15 19 23], shape=(3,)\n"
     ]
    }
   ],
   "source": [
    "a = arange_by_shape((2, 3, 4), 1)\n",
    "\n",
    "aprint(\n",
    "    \"多维数组切片:\",\n",
    "    {\n",
    "        \"a\": a,\n",
    "        \"a[1, ...]\": a[1, ...],  # 相当于 `a[1, :, :]`\n",
    "        \"a[0:1:1, ...]\": a[0:1:1, ...],  # 相当于 `a[0:1:1, :, :]`\n",
    "        \"a[..., 2]\": a[..., 2],  # 相当于 `a[:, :, 2]`\n",
    "        \"a[..., 2:3]\": a[..., 2:3],  # 相当于 `a[:, :, 2:3]`\n",
    "        \"a[1, ..., 2]\": a[1, ..., 2],  # 相当于 `a[1, :, 2]`\n",
    "    },\n",
    ")"
   ]
  }
 ],
 "metadata": {
  "kernelspec": {
   "display_name": ".venv",
   "language": "python",
   "name": "python3"
  },
  "language_info": {
   "codemirror_mode": {
    "name": "ipython",
    "version": 3
   },
   "file_extension": ".py",
   "mimetype": "text/x-python",
   "name": "python",
   "nbconvert_exporter": "python",
   "pygments_lexer": "ipython3",
   "version": "3.13.5"
  }
 },
 "nbformat": 4,
 "nbformat_minor": 5
}
