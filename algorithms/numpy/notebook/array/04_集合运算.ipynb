{
 "cells": [
  {
   "cell_type": "markdown",
   "id": "a5a21a90",
   "metadata": {},
   "source": [
    "# 数组集合运算"
   ]
  },
  {
   "cell_type": "code",
   "execution_count": 2,
   "id": "2a666f0d",
   "metadata": {},
   "outputs": [],
   "source": [
    "import numpy as np\n",
    "\n",
    "from display import aprint\n",
    "from array_ import arange_by_shape"
   ]
  },
  {
   "cell_type": "markdown",
   "id": "64f2f274",
   "metadata": {},
   "source": [
    "## 1. 数组的轴"
   ]
  },
  {
   "cell_type": "markdown",
   "id": "45ed66a2",
   "metadata": {},
   "source": []
  },
  {
   "cell_type": "markdown",
   "id": "ac0bd9b9",
   "metadata": {},
   "source": [
    "## 1. 舍入函数"
   ]
  },
  {
   "cell_type": "markdown",
   "id": "9fd1aa36",
   "metadata": {},
   "source": []
  },
  {
   "cell_type": "markdown",
   "id": "75d0ddd4",
   "metadata": {},
   "source": [
    "## 1. 笛卡尔积"
   ]
  },
  {
   "cell_type": "markdown",
   "id": "ddecde67",
   "metadata": {},
   "source": [
    "可以对两个数组计算笛卡尔积, 形成两个数组元素的交叉组合"
   ]
  },
  {
   "cell_type": "code",
   "execution_count": 4,
   "id": "ae16e4db",
   "metadata": {},
   "outputs": [
    {
     "name": "stdout",
     "output_type": "stream",
     "text": [
      "\n",
      "● a:\n",
      "[0 1 2], shape=(3,)\n",
      "● b:\n",
      "[100 200 300 400], shape=(4,)\n",
      "● product(a, b):\n",
      "[[  0 100]\n",
      " [  0 200]\n",
      " [  0 300]\n",
      " [  0 400]\n",
      " [  1 100]\n",
      " [  1 200]\n",
      " [  1 300]\n",
      " [  1 400]\n",
      " [  2 100]\n",
      " [  2 200]\n",
      " [  2 300]\n",
      " [  2 400]], shape=(12, 2)\n"
     ]
    }
   ],
   "source": [
    "a = np.arange(3, dtype=np.int32)\n",
    "b = np.arange(100, 500, step=100, dtype=np.int32)\n",
    "\n",
    "aprint(\n",
    "    \"\",\n",
    "    {\n",
    "        \"a\": a,\n",
    "        \"b\": b,\n",
    "        \"product(a, b)\": np.array(np.meshgrid(a, b)).T.reshape(-1, 2),\n",
    "    },\n",
    ")"
   ]
  },
  {
   "cell_type": "code",
   "execution_count": 5,
   "id": "4be51604",
   "metadata": {},
   "outputs": [
    {
     "name": "stdout",
     "output_type": "stream",
     "text": [
      "\n",
      "● a:\n",
      "[0 1 2], shape=(3,)\n",
      "● b:\n",
      "[100 200 300 400], shape=(4,)\n",
      "● product(a, b):\n",
      "[[  0 100]\n",
      " [  0 200]\n",
      " [  0 300]\n",
      " [  0 400]\n",
      " [  1 100]\n",
      " [  1 200]\n",
      " [  1 300]\n",
      " [  1 400]\n",
      " [  2 100]\n",
      " [  2 200]\n",
      " [  2 300]\n",
      " [  2 400]], shape=(12, 2)\n"
     ]
    }
   ],
   "source": [
    "import itertools as it\n",
    "\n",
    "a = np.arange(3, dtype=np.int32)\n",
    "b = np.arange(100, 500, step=100, dtype=np.int32)\n",
    "\n",
    "aprint(\n",
    "    \"\",\n",
    "    {\n",
    "        \"a\": a,\n",
    "        \"b\": b,\n",
    "        \"product(a, b)\": np.array([*it.product(a, b)]),\n",
    "    },\n",
    ")"
   ]
  },
  {
   "cell_type": "code",
   "execution_count": 6,
   "id": "3672a932",
   "metadata": {},
   "outputs": [
    {
     "name": "stdout",
     "output_type": "stream",
     "text": [
      "\n",
      "● a:\n",
      "[0 1 2], shape=(3,)\n",
      "● b:\n",
      "[100 200 300 400], shape=(4,)\n",
      "● product(a, b):\n",
      "[[  0 100]\n",
      " [  0 200]\n",
      " [  0 300]\n",
      " [  0 400]\n",
      " [  1 100]\n",
      " [  1 200]\n",
      " [  1 300]\n",
      " [  1 400]\n",
      " [  2 100]\n",
      " [  2 200]\n",
      " [  2 300]\n",
      " [  2 400]], shape=(12, 2)\n"
     ]
    }
   ],
   "source": [
    "import itertools as it\n",
    "\n",
    "a = np.arange(3, dtype=np.int32)\n",
    "b = np.arange(100, 500, step=100, dtype=np.int32)\n",
    "\n",
    "aprint(\n",
    "    \"\",\n",
    "    {\n",
    "        \"a\": a,\n",
    "        \"b\": b,\n",
    "        \"product(a, b)\": np.array([*it.product(a, b)]),\n",
    "    },\n",
    ")"
   ]
  }
 ],
 "metadata": {
  "kernelspec": {
   "display_name": ".venv",
   "language": "python",
   "name": "python3"
  },
  "language_info": {
   "codemirror_mode": {
    "name": "ipython",
    "version": 3
   },
   "file_extension": ".py",
   "mimetype": "text/x-python",
   "name": "python",
   "nbconvert_exporter": "python",
   "pygments_lexer": "ipython3",
   "version": "3.13.6"
  }
 },
 "nbformat": 4,
 "nbformat_minor": 5
}
