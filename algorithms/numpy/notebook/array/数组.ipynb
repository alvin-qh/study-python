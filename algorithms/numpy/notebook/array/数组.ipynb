{
 "cells": [
  {
   "cell_type": "markdown",
   "id": "445358cc",
   "metadata": {},
   "source": [
    "# 数组"
   ]
  },
  {
   "cell_type": "markdown",
   "id": "9736a757",
   "metadata": {},
   "source": [
    "首先, 导入 Numpy 模块"
   ]
  },
  {
   "cell_type": "code",
   "execution_count": 15,
   "id": "56960715",
   "metadata": {},
   "outputs": [],
   "source": [
    "import numpy as np"
   ]
  },
  {
   "cell_type": "markdown",
   "id": "9eb77aaf",
   "metadata": {},
   "source": [
    "## 1. 创建数组"
   ]
  },
  {
   "cell_type": "markdown",
   "id": "b5ae0256",
   "metadata": {},
   "source": [
    "### 1.1. 通过 Python 数组创建"
   ]
  },
  {
   "cell_type": "code",
   "execution_count": 16,
   "id": "d220c863",
   "metadata": {},
   "outputs": [
    {
     "name": "stdout",
     "output_type": "stream",
     "text": [
      "一维数组内容:\n",
      "[1 2 3 4]\n",
      "\n",
      "二维数组内容:\n",
      "[[1 2 3 4]\n",
      " [5 6 7 8]]\n",
      "\n",
      "三维数组内容:\n",
      "[[[ 1  2  3  4]\n",
      "  [ 5  6  7  8]\n",
      "  [ 9 10 11 12]]\n",
      "\n",
      " [[13 14 15 16]\n",
      "  [17 18 19 20]\n",
      "  [21 22 23 24]]]\n"
     ]
    }
   ],
   "source": [
    "# 通过一维 Python 数组创建 NumPy 数组\n",
    "data = np.array([1, 2, 3, 4])\n",
    "print(f\"一维数组内容:\\n{data}\")\n",
    "\n",
    "# 通过二维 Python 数组创建 NumPy 数组\n",
    "data = np.array([[1, 2, 3, 4], [5, 6, 7, 8]])\n",
    "print(f\"\\n二维数组内容:\\n{data}\")\n",
    "\n",
    "# 通过三维 Python 列表创建 NumPy 数组\n",
    "data = np.array(\n",
    "    [\n",
    "        [[1, 2, 3, 4], [5, 6, 7, 8], [9, 10, 11, 12]],\n",
    "        [[13, 14, 15, 16], [17, 18, 19, 20], [21, 22, 23, 24]],\n",
    "    ]\n",
    ")\n",
    "print(f\"\\n三维数组内容:\\n{data}\")"
   ]
  },
  {
   "cell_type": "markdown",
   "id": "c36ab53a",
   "metadata": {},
   "source": [
    "### 1.2. 创建元素值为 `0` 的数组"
   ]
  },
  {
   "cell_type": "code",
   "execution_count": 17,
   "id": "b4ba189d",
   "metadata": {},
   "outputs": [
    {
     "name": "stdout",
     "output_type": "stream",
     "text": [
      "一维数组内容:\n",
      "[0. 0. 0. 0.]\n",
      "\n",
      "二维数组内容:\n",
      "[[0. 0. 0. 0.]\n",
      " [0. 0. 0. 0.]\n",
      " [0. 0. 0. 0.]]\n",
      "\n",
      "三维数组内容:\n",
      "[[[0. 0. 0. 0.]\n",
      "  [0. 0. 0. 0.]\n",
      "  [0. 0. 0. 0.]]\n",
      "\n",
      " [[0. 0. 0. 0.]\n",
      "  [0. 0. 0. 0.]\n",
      "  [0. 0. 0. 0.]]]\n"
     ]
    }
   ],
   "source": [
    "# 创建元素值为 0 的一维数组\n",
    "data = np.zeros(shape=(4))\n",
    "print(f\"一维数组内容:\\n{data}\")\n",
    "\n",
    "# 创建元素值为 0 的二维数组\n",
    "data = np.zeros(shape=(3, 4))\n",
    "print(f\"\\n二维数组内容:\\n{data}\")\n",
    "\n",
    "# 创建元素值为 0 的三维数组\n",
    "data = np.zeros(shape=(2, 3, 4))\n",
    "print(f\"\\n三维数组内容:\\n{data}\")"
   ]
  },
  {
   "cell_type": "code",
   "execution_count": 18,
   "id": "e9c29c56",
   "metadata": {},
   "outputs": [
    {
     "name": "stdout",
     "output_type": "stream",
     "text": [
      "一维数组内容:\n",
      "[1. 1. 1. 1.]\n",
      "\n",
      "二维数组内容:\n",
      "[[1. 1. 1. 1.]\n",
      " [1. 1. 1. 1.]\n",
      " [1. 1. 1. 1.]]\n",
      "\n",
      "三维数组内容:\n",
      "[[[1. 1. 1. 1.]\n",
      "  [1. 1. 1. 1.]\n",
      "  [1. 1. 1. 1.]]\n",
      "\n",
      " [[1. 1. 1. 1.]\n",
      "  [1. 1. 1. 1.]\n",
      "  [1. 1. 1. 1.]]]\n"
     ]
    }
   ],
   "source": [
    "# 创建元素值为 1 的一维数组\n",
    "data = np.ones(shape=(4))\n",
    "print(f\"一维数组内容:\\n{data}\")\n",
    "\n",
    "# 创建元素值为 1 的二维数组\n",
    "data = np.ones(shape=(3, 4))\n",
    "print(f\"\\n二维数组内容:\\n{data}\")\n",
    "\n",
    "# 创建元素值为 1 的三维数组\n",
    "data = np.ones(shape=(2, 3, 4))\n",
    "print(f\"\\n三维数组内容:\\n{data}\")"
   ]
  },
  {
   "cell_type": "markdown",
   "id": "97b67a9b",
   "metadata": {},
   "source": [
    "### 1.3. 创建元素值为 \"空\" 的数组\n",
    "\n",
    "通过 `np.empty` 函数创建一个元素值为 \"空\" 的数组\n",
    "\n",
    "注意: 所谓元素值为 \"空\" 的数组，指的是直接分配内存, 且不会对元素所用内存进行初始化操作, 所以所分配内存中的内容是未知的 (或保留上次该区域内存使用的值)\n",
    "\n",
    "所以创建了元素值为 \"空\" 的数组后, 必须对数组元素值全部进行初始化\n",
    "\n",
    "对于已确定会对数组元素值进行全部初始化的场景, 通过 `np.empty` 函数创建数组可以提升程序效率"
   ]
  },
  {
   "cell_type": "code",
   "execution_count": 19,
   "id": "d4ee11ca",
   "metadata": {},
   "outputs": [
    {
     "name": "stdout",
     "output_type": "stream",
     "text": [
      "一维数组内容:\n",
      "[1. 1. 1. 1.]\n",
      "\n",
      "二维数组内容:\n",
      "[[1. 1. 1. 1.]\n",
      " [1. 1. 1. 1.]\n",
      " [1. 1. 1. 1.]]\n",
      "\n",
      "三维数组内容:\n",
      "[[[1. 1. 1. 1.]\n",
      "  [1. 1. 1. 1.]\n",
      "  [1. 1. 1. 1.]]\n",
      "\n",
      " [[1. 1. 1. 1.]\n",
      "  [1. 1. 1. 1.]\n",
      "  [1. 1. 1. 1.]]]\n"
     ]
    }
   ],
   "source": [
    "# 创建元素值未知的一维数组\n",
    "data = np.empty(shape=(4))\n",
    "print(f\"一维数组内容:\\n{data}\")\n",
    "\n",
    "# 创建元素值未知的二维数组\n",
    "data = np.empty(shape=(3, 4))\n",
    "print(f\"\\n二维数组内容:\\n{data}\")\n",
    "\n",
    "# 创建元素值未知的三维数组\n",
    "data = np.empty(shape=(2, 3, 4))\n",
    "print(f\"\\n三维数组内容:\\n{data}\")"
   ]
  },
  {
   "cell_type": "markdown",
   "id": "e655baff",
   "metadata": {},
   "source": [
    "### 1.4. 创建元素值为连续序列的数组"
   ]
  },
  {
   "cell_type": "code",
   "execution_count": 20,
   "id": "d1eab4a3",
   "metadata": {},
   "outputs": [
    {
     "name": "stdout",
     "output_type": "stream",
     "text": [
      "数组内容:\n",
      "[ 1.  2.  3.  4.  5.  6.  7.  8.  9. 10.]\n",
      "\n",
      "数组内容:\n",
      "[ 1.          1.47368421  1.94736842  2.42105263  2.89473684  3.36842105\n",
      "  3.84210526  4.31578947  4.78947368  5.26315789  5.73684211  6.21052632\n",
      "  6.68421053  7.15789474  7.63157895  8.10526316  8.57894737  9.05263158\n",
      "  9.52631579 10.        ]\n"
     ]
    }
   ],
   "source": [
    "data = np.linspace(1, 10, 10)\n",
    "print(f\"数组内容:\\n{data}\")\n",
    "\n",
    "data = np.linspace(1, 10, 20)\n",
    "print(f\"\\n数组内容:\\n{data}\")"
   ]
  },
  {
   "cell_type": "markdown",
   "id": "101e1270",
   "metadata": {},
   "source": [
    "### 1.5. 创建元素值为 `0`~`1` 随机数的数组"
   ]
  },
  {
   "cell_type": "code",
   "execution_count": 21,
   "id": "f1b876f2",
   "metadata": {},
   "outputs": [
    {
     "name": "stdout",
     "output_type": "stream",
     "text": [
      "数组内容:\n",
      "[0.44651041 0.9220085  0.66889919 0.18974711]\n",
      "\n",
      "数组内容:\n",
      "[[0.94153804 0.6699549  0.44415161 0.48147601]\n",
      " [0.18911489 0.21889774 0.21258752 0.46440778]\n",
      " [0.9369614  0.72729804 0.25496466 0.44773727]]\n",
      "\n",
      "数组内容:\n",
      "[[[0.93863224 0.81271091 0.84817964 0.74082869]\n",
      "  [0.40473736 0.34619832 0.16713956 0.08808747]\n",
      "  [0.09827499 0.23707418 0.36786532 0.44645806]]\n",
      "\n",
      " [[0.10931409 0.86887171 0.31546308 0.08410474]\n",
      "  [0.58143217 0.85823201 0.68074382 0.58662239]\n",
      "  [0.23096579 0.66442069 0.2093175  0.68710502]]]\n",
      "\n",
      "数组内容:\n",
      "[[[6.83007461 9.44330796 7.84188687 6.65843275]\n",
      "  [8.2947048  7.98462457 7.27231368 8.75524656]\n",
      "  [6.52557522 8.68558126 8.74615494 6.12902457]]\n",
      "\n",
      " [[9.71956811 5.35881941 8.93651295 8.35977376]\n",
      "  [6.76048381 5.55338069 7.86855589 5.55188247]\n",
      "  [7.34644778 7.60147822 5.39781183 6.0777355 ]]]\n"
     ]
    }
   ],
   "source": [
    "# 创建随机元素值的一维数组\n",
    "data = np.random.rand(4)\n",
    "print(f\"数组内容:\\n{data}\")\n",
    "\n",
    "# 创建随机元素值的二维数组\n",
    "data = np.random.rand(3, 4)\n",
    "print(f\"\\n数组内容:\\n{data}\")\n",
    "\n",
    "# 创建随机元素值的三维数组\n",
    "data = np.random.rand(2, 3, 4)\n",
    "print(f\"\\n数组内容:\\n{data}\")\n",
    "\n",
    "# `np.random.rand` 函数不能指定随机数范围, 只能生成 `0`~`1` 之间的随机数\n",
    "# 要指定随机数范围, 可通过下面的计算方法\n",
    "min_, max_ = 5, 10\n",
    "data = min_ + (max_ - min_) * (np.random.rand(2, 3, 4))\n",
    "print(f\"\\n数组内容:\\n{data}\")"
   ]
  },
  {
   "cell_type": "markdown",
   "id": "94aeabdb",
   "metadata": {},
   "source": [
    "### 1.6. 创建元素值随机整数的数组"
   ]
  },
  {
   "cell_type": "code",
   "execution_count": 22,
   "id": "3e2abf7d",
   "metadata": {},
   "outputs": [
    {
     "name": "stdout",
     "output_type": "stream",
     "text": [
      "数组内容:\n",
      "[4 4 8 8]\n",
      "\n",
      "数组内容:\n",
      "[[9 2 3 1]\n",
      " [8 3 8 9]\n",
      " [5 1 3 9]]\n",
      "\n",
      "数组内容:\n",
      "[[[2 6 4 7]\n",
      "  [5 8 1 6]\n",
      "  [4 9 9 6]]\n",
      "\n",
      " [[4 4 8 6]\n",
      "  [8 9 9 6]\n",
      "  [5 6 7 1]]]\n"
     ]
    }
   ],
   "source": [
    "# 创建元素值为 `1`~`10` 之间随机数的一维数组\n",
    "data = np.random.randint(1, 10, size=(4,))\n",
    "print(f\"数组内容:\\n{data}\")\n",
    "\n",
    "# 创建元素值为 `1`~`10` 之间随机数的二维数组\n",
    "data = np.random.randint(1, 10, size=(3, 4))\n",
    "print(f\"\\n数组内容:\\n{data}\")\n",
    "\n",
    "# 创建元素值为 `1`~`10` 之间随机数的三维数组\n",
    "data = np.random.randint(1, 10, size=(2, 3, 4))\n",
    "print(f\"\\n数组内容:\\n{data}\")"
   ]
  },
  {
   "cell_type": "markdown",
   "id": "fab62c92",
   "metadata": {},
   "source": [
    "## 2. 数组形状"
   ]
  },
  {
   "cell_type": "markdown",
   "id": "a1021c67",
   "metadata": {},
   "source": [
    "### 2.1. 获取数组形状"
   ]
  },
  {
   "cell_type": "code",
   "execution_count": 23,
   "id": "991edd45",
   "metadata": {},
   "outputs": [
    {
     "name": "stdout",
     "output_type": "stream",
     "text": [
      "一维数组内容:\n",
      "[1 2 3 4], 形状: (4,)\n",
      "\n",
      "二维数组内容:\n",
      "[[ 1  2  3  4]\n",
      " [ 5  6  7  8]\n",
      " [ 9 10 11 12]], 形状: (3, 4)\n",
      "\n",
      "三维数组内容:\n",
      "[[[ 1  2  3  4]\n",
      "  [ 5  6  7  8]\n",
      "  [ 9 10 11 12]]\n",
      "\n",
      " [[13 14 15 16]\n",
      "  [17 18 19 20]\n",
      "  [21 22 23 24]]], 形状: (2, 3, 4)\n"
     ]
    }
   ],
   "source": [
    "# 获取一维数组的形状, 结果为一个包含一个值的元组\n",
    "data = np.array([1, 2, 3, 4])\n",
    "print(f\"一维数组内容:\\n{data}, 形状: {data.shape}\")\n",
    "\n",
    "# 获取二维数组的形状, 结果为一个包含两个值的元组, 表示数组的两个维度\n",
    "data = np.array([[1, 2, 3, 4], [5, 6, 7, 8], [9, 10, 11, 12]])\n",
    "print(f\"\\n二维数组内容:\\n{data}, 形状: {data.shape}\")\n",
    "\n",
    "# 获取三维数组的形状, 结果为一个包含三个值的元组, 描述数组的三个维度\n",
    "data = np.array(\n",
    "    [\n",
    "        [[1, 2, 3, 4], [5, 6, 7, 8], [9, 10, 11, 12]],\n",
    "        [[13, 14, 15, 16], [17, 18, 19, 20], [21, 22, 23, 24]],\n",
    "    ]\n",
    ")\n",
    "print(f\"\\n三维数组内容:\\n{data}, 形状: {data.shape}\")"
   ]
  },
  {
   "cell_type": "markdown",
   "id": "4131d84f",
   "metadata": {},
   "source": [
    "### 2.2. 改变数组的形状"
   ]
  },
  {
   "cell_type": "code",
   "execution_count": 24,
   "id": "f59b45b9",
   "metadata": {},
   "outputs": [
    {
     "name": "stdout",
     "output_type": "stream",
     "text": [
      "数组内容:\n",
      "[ 1  2  3  4  5  6  7  8  9 10 11 12 13 14 15 16 17 18 19 20 21 22 23 24], 形状: (24,)\n",
      "\n",
      "数组内容:\n",
      "[[ 1  2  3  4  5  6  7  8  9 10 11 12]\n",
      " [13 14 15 16 17 18 19 20 21 22 23 24]], 形状: (2, 12)\n",
      "\n",
      "数组内容:\n",
      "[[[ 1  2  3  4]\n",
      "  [ 5  6  7  8]\n",
      "  [ 9 10 11 12]]\n",
      "\n",
      " [[13 14 15 16]\n",
      "  [17 18 19 20]\n",
      "  [21 22 23 24]]], 形状: (2, 3, 4)\n",
      "\n",
      "数组内容:\n",
      "[ 1  2  3  4  5  6  7  8  9 10 11 12 13 14 15 16 17 18 19 20 21 22 23 24], 形状: (24,)\n"
     ]
    }
   ],
   "source": [
    "# 定义一个 24 个元素的一维数组\n",
    "data = np.arange(1, 25)\n",
    "print(f\"数组内容:\\n{data}, 形状: {data.shape}\")\n",
    "\n",
    "# 改变数组的形状, 将一维数组改为二维数组\n",
    "# `-1` 表示自动计算维度, 只有最后一个维度可以为 `-1`\n",
    "data = data.reshape(2, -1)\n",
    "print(f\"\\n数组内容:\\n{data}, 形状: {data.shape}\")\n",
    "\n",
    "# 改变数组的形状, 将二维数组改为三维数组\n",
    "# `-1` 表示自动计算维度, 只有最后一个维度可以为 `-1`\n",
    "data = data.reshape(2, 3, -1)\n",
    "print(f\"\\n数组内容:\\n{data}, 形状: {data.shape}\")\n",
    "\n",
    "# 改变数组的形状, 将三维数组改为一维数组\n",
    "data = data.reshape(-1)\n",
    "print(f\"\\n数组内容:\\n{data}, 形状: {data.shape}\")\n",
    "\n",
    "# 如果目标形状无法达成 (及元素个数无法满足目标形状要求), 则操作失败\n",
    "# data = data.reshape(2, 5, -1)"
   ]
  },
  {
   "cell_type": "markdown",
   "id": "59eb4150",
   "metadata": {},
   "source": [
    "## 3. 数组转置"
   ]
  },
  {
   "cell_type": "markdown",
   "id": "cd06ca37",
   "metadata": {},
   "source": [
    "转置是线性代数的一个概念, 及将 $m \\times n$ 矩阵转置为 $n \\times m$ 矩阵, 矩阵中元素的位置关系不变, 例如:\n",
    "\n",
    "对于矩阵\n",
    "$\n",
    "A=\n",
    "\\begin{bmatrix}\n",
    "1 & 2 & 3 \\\\\n",
    "4 & 5 & 6 \\\\\n",
    "\\end{bmatrix}\n",
    "$, 其转置矩阵为\n",
    "$\n",
    "A^T=\n",
    "\\begin{bmatrix}\n",
    "1 & 4 \\\\\n",
    "2 & 5 \\\\\n",
    "3 & 6 \\\\\n",
    "\\end{bmatrix}\n",
    "$\n",
    "\n",
    "Numpy 支持多维数组 (多维矩阵), 故可对多维数组进行转置, 例如对于三维数组, 可将 $m \\times n \\times k$ 矩阵转置为 $k \\times n \\times m$"
   ]
  },
  {
   "cell_type": "code",
   "execution_count": 25,
   "id": "f1b0f81d",
   "metadata": {},
   "outputs": [
    {
     "name": "stdout",
     "output_type": "stream",
     "text": [
      "数组内容:\n",
      "[[[ 1  2  3  4]\n",
      "  [ 5  6  7  8]\n",
      "  [ 9 10 11 12]]\n",
      "\n",
      " [[13 14 15 16]\n",
      "  [17 18 19 20]\n",
      "  [21 22 23 24]]], 形状: (2, 3, 4)\n",
      "\n",
      "转置后数组内容:\n",
      "[[[ 1 13]\n",
      "  [ 5 17]\n",
      "  [ 9 21]]\n",
      "\n",
      " [[ 2 14]\n",
      "  [ 6 18]\n",
      "  [10 22]]\n",
      "\n",
      " [[ 3 15]\n",
      "  [ 7 19]\n",
      "  [11 23]]\n",
      "\n",
      " [[ 4 16]\n",
      "  [ 8 20]\n",
      "  [12 24]]], 形状: (4, 3, 2)\n"
     ]
    }
   ],
   "source": [
    "data = np.arange(1, 25).reshape(2, 3, 4)\n",
    "print(f\"数组内容:\\n{data}, 形状: {data.shape}\")\n",
    "\n",
    "data = data.T\n",
    "print(f\"\\n转置后数组内容:\\n{data}, 形状: {data.shape}\")"
   ]
  }
 ],
 "metadata": {
  "kernelspec": {
   "display_name": ".venv",
   "language": "python",
   "name": "python3"
  },
  "language_info": {
   "codemirror_mode": {
    "name": "ipython",
    "version": 3
   },
   "file_extension": ".py",
   "mimetype": "text/x-python",
   "name": "python",
   "nbconvert_exporter": "python",
   "pygments_lexer": "ipython3",
   "version": "3.13.5"
  }
 },
 "nbformat": 4,
 "nbformat_minor": 5
}
