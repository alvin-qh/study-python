{
 "cells": [
  {
   "cell_type": "markdown",
   "id": "c2ef4fe9",
   "metadata": {},
   "source": [
    "# 数组转置"
   ]
  },
  {
   "cell_type": "code",
   "execution_count": 1,
   "id": "32f2d5b6",
   "metadata": {},
   "outputs": [],
   "source": [
    "import numpy as np\n",
    "\n",
    "from display import aprint\n",
    "from array_ import arange_by_shape"
   ]
  },
  {
   "cell_type": "markdown",
   "id": "5407d8e7",
   "metadata": {},
   "source": [
    "转置是线性代数的一个概念, 及将 $m \\times n$ 矩阵转置为 $n \\times m$ 矩阵, 矩阵中元素的位置关系不变, 例如:\n",
    "\n",
    "对于矩阵\n",
    "$\n",
    "A=\n",
    "\\begin{bmatrix}\n",
    "1 & 2 & 3 \\\\\n",
    "4 & 5 & 6 \\\\\n",
    "\\end{bmatrix}\n",
    "$, 其转置矩阵为\n",
    "$\n",
    "A^T=\n",
    "\\begin{bmatrix}\n",
    "1 & 4 \\\\\n",
    "2 & 5 \\\\\n",
    "3 & 6 \\\\\n",
    "\\end{bmatrix}\n",
    "$\n",
    "\n",
    "Numpy 支持多维数组 (多维矩阵), 故可对多维数组进行转置, 例如对于三维数组, 可将 $m \\times n \\times k$ 矩阵转置为 $k \\times n \\times m$"
   ]
  },
  {
   "cell_type": "code",
   "execution_count": 2,
   "id": "36efbcf5",
   "metadata": {},
   "outputs": [
    {
     "name": "stdout",
     "output_type": "stream",
     "text": [
      "数组内容:\n",
      "[[[ 1  2  3  4]\n",
      "  [ 5  6  7  8]\n",
      "  [ 9 10 11 12]]\n",
      "\n",
      " [[13 14 15 16]\n",
      "  [17 18 19 20]\n",
      "  [21 22 23 24]]], shape=(2, 3, 4)\n",
      "\n",
      "转置后数组内容:\n",
      "[[[ 1 13]\n",
      "  [ 5 17]\n",
      "  [ 9 21]]\n",
      "\n",
      " [[ 2 14]\n",
      "  [ 6 18]\n",
      "  [10 22]]\n",
      "\n",
      " [[ 3 15]\n",
      "  [ 7 19]\n",
      "  [11 23]]\n",
      "\n",
      " [[ 4 16]\n",
      "  [ 8 20]\n",
      "  [12 24]]], shape=(4, 3, 2)\n"
     ]
    }
   ],
   "source": [
    "a = np.arange(1, 25).reshape(2, 3, 4)\n",
    "print(f\"数组内容:\\n{a}, shape={a.shape}\")\n",
    "\n",
    "a = a.T\n",
    "print(f\"\\n转置后数组内容:\\n{a}, shape={a.shape}\")"
   ]
  }
 ],
 "metadata": {
  "kernelspec": {
   "display_name": ".venv",
   "language": "python",
   "name": "python3"
  },
  "language_info": {
   "codemirror_mode": {
    "name": "ipython",
    "version": 3
   },
   "file_extension": ".py",
   "mimetype": "text/x-python",
   "name": "python",
   "nbconvert_exporter": "python",
   "pygments_lexer": "ipython3",
   "version": "3.14.0"
  }
 },
 "nbformat": 4,
 "nbformat_minor": 5
}
