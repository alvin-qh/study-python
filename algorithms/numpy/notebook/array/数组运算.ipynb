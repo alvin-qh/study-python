{
 "cells": [
  {
   "cell_type": "markdown",
   "id": "aa5e42e0",
   "metadata": {},
   "source": [
    "# 数组运算"
   ]
  },
  {
   "cell_type": "code",
   "execution_count": 1,
   "id": "1b0a1542",
   "metadata": {},
   "outputs": [],
   "source": [
    "import numpy as np"
   ]
  },
  {
   "cell_type": "markdown",
   "id": "e9e03210",
   "metadata": {
    "vscode": {
     "languageId": "plaintext"
    }
   },
   "source": [
    "## 1. 加法运算"
   ]
  },
  {
   "cell_type": "code",
   "execution_count": 2,
   "id": "6fc04ca2",
   "metadata": {},
   "outputs": [
    {
     "name": "stdout",
     "output_type": "stream",
     "text": [
      "一维数组相加:\n",
      "a:\n",
      "[1 2 3 4], shape=(4,)\n",
      "b:\n",
      "[5 6 7 8], shape=(4,)\n",
      "a + b:\n",
      "[ 6  8 10 12], shape=(4,)\n",
      "\n",
      "二维数组相加:\n",
      "a:\n",
      "[[1 2]\n",
      " [3 4]], shape=(2, 2)\n",
      "b:\n",
      "[[5 6]\n",
      " [7 8]], shape=(2, 2)\n",
      "a + b:\n",
      "[[ 6  8]\n",
      " [10 12]], shape=(2, 2)\n"
     ]
    }
   ],
   "source": [
    "a = np.array([1, 2, 3, 4])\n",
    "b = np.array([5, 6, 7, 8])\n",
    "ans = a + b\n",
    "print(f\"一维数组相加:\\na:\\n{a}, shape={a.shape}\\nb:\\n{b}, shape={b.shape}\\na + b:\\n{ans}, shape={ans.shape}\")\n",
    "\n",
    "a = np.array([[1, 2], [3, 4]])\n",
    "b = np.array([[5, 6], [7, 8]])\n",
    "ans = a + b\n",
    "print(f\"\\n二维数组相加:\\na:\\n{a}, shape={a.shape}\\nb:\\n{b}, shape={b.shape}\\na + b:\\n{ans}, shape={ans.shape}\")"
   ]
  },
  {
   "cell_type": "code",
   "execution_count": 3,
   "id": "b00a81e1",
   "metadata": {},
   "outputs": [
    {
     "name": "stdout",
     "output_type": "stream",
     "text": [
      "一维数组相加失败: operands could not be broadcast together with shapes (3,) (4,) \n",
      "二维数组相加失败: setting an array element with a sequence. The requested array has an inhomogeneous shape after 1 dimensions. The detected shape was (2,) + inhomogeneous part.\n"
     ]
    }
   ],
   "source": [
    "try:\n",
    "    a = np.array([1, 2, 3])\n",
    "    b = np.array([5, 6, 7, 8])\n",
    "    ans = a + b\n",
    "except ValueError as e:\n",
    "    print(f\"一维数组相加失败: {e}\")\n",
    "\n",
    "try:\n",
    "    a = np.array([[1, 2], [3, 4]])\n",
    "    b = np.array([[5, 6], [7, 8, 9]])\n",
    "    ans = a + b\n",
    "except ValueError as e:\n",
    "    print(f\"二维数组相加失败: {e}\")"
   ]
  },
  {
   "cell_type": "markdown",
   "id": "48054605",
   "metadata": {},
   "source": [
    "## 2. 乘法运算"
   ]
  },
  {
   "cell_type": "markdown",
   "id": "5503c7bc",
   "metadata": {},
   "source": [
    "## 3. 广播机制\n",
    "\n",
    "Numpy 提供了广播 (broadcast) 机制, 用于对不同形状的数组进行数学操作的功能, 对于 `x` 和 `y` 两个矩阵:\n",
    "\n",
    "$\n",
    "x =\n",
    "\\begin{bmatrix}\n",
    "-0.0 & -0.1 & -0.2 & -0.3 \\\\\n",
    "-0.4 & -0.5 & -0.6 & -0.7 \\\\\n",
    "-0.8 & -0.9 & -1.0 & -1.1 \\\\\n",
    "\\end{bmatrix}\n",
    "$\n",
    "\n",
    "$\n",
    "y =\n",
    "\\begin{bmatrix}\n",
    "1 & 2 & 3 & 4 \\\\\n",
    "\\end{bmatrix}\n",
    "$\n",
    "\n",
    "则\n",
    "\n",
    "$\n",
    "\\begin{bmatrix}\n",
    "-0.0 & -0.1 & -0.2 & -0.3 \\\\\n",
    "-0.4 & -0.5 & -0.6 & -0.7 \\\\\n",
    "-0.8 & -0.9 & -1.0 & -1.1 \\\\\n",
    "\\end{bmatrix}\n",
    "\\centerdot\n",
    "\\begin{bmatrix}\n",
    "1 & 2 & 3 & 4 \\\\\n",
    "\\end{bmatrix}\n",
    "\\rightarrow\n",
    "\\begin{bmatrix}\n",
    "-0.0 & -0.1 & -0.2 & -0.3 \\\\\n",
    "-0.4 & -0.5 & -0.6 & -0.7 \\\\\n",
    "-0.8 & -0.9 & -1.0 & -1.1 \\\\\n",
    "\\end{bmatrix}\n",
    "\\centerdot\n",
    "\\begin{bmatrix}\n",
    "1 & 2 & 3 & 4 \\\\\n",
    "1 & 2 & 3 & 4 \\\\\n",
    "1 & 2 & 3 & 4 \\\\\n",
    "\\end{bmatrix}\n",
    "$\n"
   ]
  },
  {
   "cell_type": "markdown",
   "id": "72dc3de3",
   "metadata": {},
   "source": [
    "广播规则:\n",
    "\n",
    "- 让所有输入数组都向其中形状最长的数组看齐, 形状中不足的部分都通过在前面加 `1` 补齐\n",
    "- 输出数组的形状是输入数组形状的各个维度上的最大值\n",
    "- 如果输入数组的某个维度和输出数组的对应维度的长度相同或者其长度为 `1` 时, 这个数组能够用来计算, 否则出错\n",
    "- 当输入数组的某个维度的长度为 `1` 时, 沿着此维度运算时都用此维度上的第一组值\n",
    "\n",
    "简单理解: 对两个数组, 分别比较他们的每一个维度 (若其中一个数组没有当前维度则忽略), 满足:\n",
    "\n",
    "- 数组拥有相同形状\n",
    "- 当前维度的值相等\n",
    "- 当前维度的值有一个是 `1`\n",
    "- 若条件不满足, 抛出 \"ValueError: frames are not aligned\" 异常"
   ]
  },
  {
   "cell_type": "code",
   "execution_count": 7,
   "id": "f295507b",
   "metadata": {},
   "outputs": [
    {
     "name": "stdout",
     "output_type": "stream",
     "text": [
      "数组相加:\n",
      "a:\n",
      "[[1 2 3 4]], shape=(1, 4)\n",
      "b:\n",
      "[[ 5  6  7  8]\n",
      " [ 9 10 11 12]], shape=(2, 4)\n",
      "a + b:\n",
      "[[ 6  8 10 12]\n",
      " [10 12 14 16]], shape=(2, 4)\n"
     ]
    },
    {
     "ename": "ValueError",
     "evalue": "operands could not be broadcast together with shapes (2,3,4) (3,3,4) ",
     "output_type": "error",
     "traceback": [
      "\u001b[31m---------------------------------------------------------------------------\u001b[39m",
      "\u001b[31mValueError\u001b[39m                                Traceback (most recent call last)",
      "\u001b[36mCell\u001b[39m\u001b[36m \u001b[39m\u001b[32mIn[7]\u001b[39m\u001b[32m, line 8\u001b[39m\n\u001b[32m      6\u001b[39m a = np.array(np.arange(\u001b[32m1\u001b[39m, \u001b[32m25\u001b[39m).reshape(\u001b[32m2\u001b[39m, \u001b[32m3\u001b[39m, \u001b[32m4\u001b[39m))\n\u001b[32m      7\u001b[39m b = np.array(np.arange(\u001b[32m25\u001b[39m, \u001b[32m25\u001b[39m + \u001b[32m36\u001b[39m).reshape(\u001b[32m3\u001b[39m, \u001b[32m3\u001b[39m, \u001b[32m4\u001b[39m))\n\u001b[32m----> \u001b[39m\u001b[32m8\u001b[39m ans = \u001b[43ma\u001b[49m\u001b[43m \u001b[49m\u001b[43m+\u001b[49m\u001b[43m \u001b[49m\u001b[43mb\u001b[49m\n\u001b[32m      9\u001b[39m \u001b[38;5;28mprint\u001b[39m(\u001b[33mf\u001b[39m\u001b[33m\"\u001b[39m\u001b[38;5;130;01m\\n\u001b[39;00m\u001b[33m数组相加:\u001b[39m\u001b[38;5;130;01m\\n\u001b[39;00m\u001b[33ma:\u001b[39m\u001b[38;5;130;01m\\n\u001b[39;00m\u001b[38;5;132;01m{\u001b[39;00ma\u001b[38;5;132;01m}\u001b[39;00m\u001b[33m, shape=\u001b[39m\u001b[38;5;132;01m{\u001b[39;00ma.shape\u001b[38;5;132;01m}\u001b[39;00m\u001b[38;5;130;01m\\n\u001b[39;00m\u001b[33mb:\u001b[39m\u001b[38;5;130;01m\\n\u001b[39;00m\u001b[38;5;132;01m{\u001b[39;00mb\u001b[38;5;132;01m}\u001b[39;00m\u001b[33m, shape=\u001b[39m\u001b[38;5;132;01m{\u001b[39;00mb.shape\u001b[38;5;132;01m}\u001b[39;00m\u001b[38;5;130;01m\\n\u001b[39;00m\u001b[33ma + b:\u001b[39m\u001b[38;5;130;01m\\n\u001b[39;00m\u001b[38;5;132;01m{\u001b[39;00mans\u001b[38;5;132;01m}\u001b[39;00m\u001b[33m, shape=\u001b[39m\u001b[38;5;132;01m{\u001b[39;00mans.shape\u001b[38;5;132;01m}\u001b[39;00m\u001b[33m\"\u001b[39m)\n",
      "\u001b[31mValueError\u001b[39m: operands could not be broadcast together with shapes (2,3,4) (3,3,4) "
     ]
    }
   ],
   "source": [
    "a = np.array([[1, 2, 3, 4]])\n",
    "b = np.array([[5, 6, 7, 8], [9, 10, 11, 12]])\n",
    "ans = a + b\n",
    "print(f\"数组相加:\\na:\\n{a}, shape={a.shape}\\nb:\\n{b}, shape={b.shape}\\na + b:\\n{ans}, shape={ans.shape}\")\n",
    "\n",
    "a = np.array(np.arange(1, 25).reshape(2, 3, 4))\n",
    "b = np.array(np.arange(25, 25 + 36).reshape(3, 3, 4))\n",
    "ans = a + b\n",
    "print(f\"\\n数组相加:\\na:\\n{a}, shape={a.shape}\\nb:\\n{b}, shape={b.shape}\\na + b:\\n{ans}, shape={ans.shape}\")"
   ]
  }
 ],
 "metadata": {
  "kernelspec": {
   "display_name": ".venv",
   "language": "python",
   "name": "python3"
  },
  "language_info": {
   "codemirror_mode": {
    "name": "ipython",
    "version": 3
   },
   "file_extension": ".py",
   "mimetype": "text/x-python",
   "name": "python",
   "nbconvert_exporter": "python",
   "pygments_lexer": "ipython3",
   "version": "3.13.5"
  }
 },
 "nbformat": 4,
 "nbformat_minor": 5
}
