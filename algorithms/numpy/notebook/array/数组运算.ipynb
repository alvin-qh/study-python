{
 "cells": [
  {
   "cell_type": "markdown",
   "id": "aa5e42e0",
   "metadata": {},
   "source": [
    "# 数组运算"
   ]
  },
  {
   "cell_type": "code",
   "execution_count": 2,
   "id": "1b0a1542",
   "metadata": {},
   "outputs": [],
   "source": [
    "import numpy as np"
   ]
  },
  {
   "cell_type": "markdown",
   "id": "e9e03210",
   "metadata": {
    "vscode": {
     "languageId": "plaintext"
    }
   },
   "source": [
    "## 1. 加法运算"
   ]
  },
  {
   "cell_type": "code",
   "execution_count": 23,
   "id": "6fc04ca2",
   "metadata": {},
   "outputs": [
    {
     "name": "stdout",
     "output_type": "stream",
     "text": [
      "a = [1 2 3 4], shape=(4,)\n",
      "b = [5 6 7 8], shape=(4,)\n",
      "a + b = [ 6  8 10 12], shape=(4,)\n",
      "\n",
      "a = [[1 2]\n",
      " [3 4]], shape=(2, 2)\n",
      "b = [[5 6]\n",
      " [7 8]], shape=(2, 2)\n",
      "a + b = [[ 6  8]\n",
      " [10 12]], shape=(2, 2)\n"
     ]
    }
   ],
   "source": [
    "a = np.array([1, 2, 3, 4])\n",
    "b = np.array([5, 6, 7, 8])\n",
    "print(f\"a = {a}, shape={a.shape}\\nb = {b}, shape={a.shape}\\na + b = {a+b}, shape={a.shape}\")\n",
    "\n",
    "a = np.array([[1, 2], [3, 4]])\n",
    "b = np.array([[5, 6], [7, 8]])\n",
    "print(f\"\\na = {a}, shape={a.shape}\\nb = {b}, shape={a.shape}\\na + b = {a+b}, shape={a.shape}\")"
   ]
  },
  {
   "cell_type": "code",
   "execution_count": 24,
   "id": "b00a81e1",
   "metadata": {},
   "outputs": [],
   "source": [
    "a = np.array([1, 2, 3])\n",
    "b = np.array([5, 6, 7, 8])\n",
    "\n",
    "# print(f\"{a} + {b} = {a + b}\")"
   ]
  },
  {
   "cell_type": "markdown",
   "id": "48054605",
   "metadata": {},
   "source": [
    "## 2. 乘法运算"
   ]
  },
  {
   "cell_type": "markdown",
   "id": "5503c7bc",
   "metadata": {},
   "source": [
    "## 3. 广播机制"
   ]
  }
 ],
 "metadata": {
  "kernelspec": {
   "display_name": ".venv",
   "language": "python",
   "name": "python3"
  },
  "language_info": {
   "codemirror_mode": {
    "name": "ipython",
    "version": 3
   },
   "file_extension": ".py",
   "mimetype": "text/x-python",
   "name": "python",
   "nbconvert_exporter": "python",
   "pygments_lexer": "ipython3",
   "version": "3.13.5"
  }
 },
 "nbformat": 4,
 "nbformat_minor": 5
}
