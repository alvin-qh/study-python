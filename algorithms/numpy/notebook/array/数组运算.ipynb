{
 "cells": [
  {
   "cell_type": "markdown",
   "id": "aa5e42e0",
   "metadata": {},
   "source": [
    "# 数组运算"
   ]
  },
  {
   "cell_type": "markdown",
   "id": "bd97082a",
   "metadata": {},
   "source": [
    "Numpy 数组支持多种运算, 包括加减乘除等, 而且语法非常直观简便"
   ]
  },
  {
   "cell_type": "code",
   "execution_count": 1,
   "id": "1b0a1542",
   "metadata": {},
   "outputs": [],
   "source": [
    "import numpy as np"
   ]
  },
  {
   "cell_type": "code",
   "execution_count": 2,
   "id": "a2d13440",
   "metadata": {},
   "outputs": [
    {
     "name": "stdout",
     "output_type": "stream",
     "text": [
      "[[11 22 33 44]\n",
      " [22 33 44 55]\n",
      " [33 44 55 66]]\n"
     ]
    }
   ],
   "source": [
    "a = np.array([[1, 2, 3, 4], [2, 3, 4, 5], [3, 4, 5, 6]])\n",
    "b = np.array([[10, 20, 30, 40], [20, 30, 40, 50], [30, 40, 50, 60]])\n",
    "print(a + b)"
   ]
  },
  {
   "cell_type": "markdown",
   "id": "e9e03210",
   "metadata": {
    "vscode": {
     "languageId": "plaintext"
    }
   },
   "source": [
    "## 1. 加法运算"
   ]
  },
  {
   "cell_type": "markdown",
   "id": "91af4028",
   "metadata": {},
   "source": [
    "两个形状相同的数组可以进行加法运算, 例如:\n",
    "\n",
    "$\n",
    "\\begin{bmatrix}\n",
    "1 & 2 & 3 & 4 \\\\\n",
    "2 & 3 & 4 & 5 \\\\\n",
    "3 & 4 & 5 & 6 \\\\\n",
    "\\end{bmatrix}+\n",
    "\\begin{bmatrix}\n",
    "10 & 20 & 30 & 40 \\\\\n",
    "20 & 30 & 40 & 50 \\\\\n",
    "30 & 40 & 50 & 60 \\\\\n",
    "\\end{bmatrix}=\n",
    "\\begin{bmatrix}\n",
    "11 & 22 & 33 & 44 \\\\\n",
    "22 & 33 & 44 & 55 \\\\\n",
    "33 & 44 & 55 & 66 \\\\\n",
    "\\end{bmatrix}\n",
    "$\n",
    "\n",
    "从上面矩阵加法结果可扩展, 两个形状相同的数组相加, 即将两个数组位置相同的元素相加, 并在结果数组相同位置存放结果元素"
   ]
  },
  {
   "cell_type": "code",
   "execution_count": 3,
   "id": "6fc04ca2",
   "metadata": {},
   "outputs": [
    {
     "name": "stdout",
     "output_type": "stream",
     "text": [
      "一维数组相加:\n",
      "a:\n",
      "[1 2 3 4], shape=(4,)\n",
      "b:\n",
      "[5 6 7 8], shape=(4,)\n",
      "a + b:\n",
      "[ 6  8 10 12], shape=(4,)\n",
      "\n",
      "二维数组相加:\n",
      "a:\n",
      "[[1 2]\n",
      " [3 4]], shape=(2, 2)\n",
      "b:\n",
      "[[5 6]\n",
      " [7 8]], shape=(2, 2)\n",
      "a + b:\n",
      "[[ 6  8]\n",
      " [10 12]], shape=(2, 2)\n",
      "\n",
      "三维数组相加:\n",
      "a:\n",
      "[[[ 1  2  3  4]\n",
      "  [ 5  6  7  8]\n",
      "  [ 9 10 11 12]]\n",
      "\n",
      " [[13 14 15 16]\n",
      "  [17 18 19 20]\n",
      "  [21 22 23 24]]], shape=(2, 3, 4)\n",
      "b:\n",
      "[[[10 11 12 13]\n",
      "  [14 15 16 17]\n",
      "  [18 19 20 21]]\n",
      "\n",
      " [[22 23 24 25]\n",
      "  [26 27 28 29]\n",
      "  [30 31 32 33]]], shape=(2, 3, 4)\n",
      "a + b:\n",
      "[[[11 13 15 17]\n",
      "  [19 21 23 25]\n",
      "  [27 29 31 33]]\n",
      "\n",
      " [[35 37 39 41]\n",
      "  [43 45 47 49]\n",
      "  [51 53 55 57]]], shape=(2, 3, 4)\n"
     ]
    }
   ],
   "source": [
    "# 将两个长度相同的一维数组相加\n",
    "a = np.array([1, 2, 3, 4])\n",
    "b = np.array([5, 6, 7, 8])\n",
    "ans = a + b\n",
    "print(\n",
    "    f\"一维数组相加:\\na:\\n{a}, shape={a.shape}\\nb:\\n{b}, shape={b.shape}\\na + b:\\n{ans}, shape={ans.shape}\"\n",
    ")\n",
    "\n",
    "# 将两个形状相同的二维数组相加\n",
    "a = np.array([[1, 2], [3, 4]])\n",
    "b = np.array([[5, 6], [7, 8]])\n",
    "ans = a + b\n",
    "print(\n",
    "    f\"\\n二维数组相加:\\na:\\n{a}, shape={a.shape}\\nb:\\n{b}, shape={b.shape}\\na + b:\\n{ans}, shape={ans.shape}\"\n",
    ")\n",
    "\n",
    "# 将两个形状相同的三维数组相加\n",
    "a = np.arange(1, 25).reshape(2, 3, 4)\n",
    "b = np.arange(10, 34).reshape(2, 3, 4)\n",
    "ans = a + b\n",
    "print(\n",
    "    f\"\\n三维数组相加:\\na:\\n{a}, shape={a.shape}\\nb:\\n{b}, shape={b.shape}\\na + b:\\n{ans}, shape={ans.shape}\"\n",
    ")"
   ]
  },
  {
   "cell_type": "markdown",
   "id": "a4f95a84",
   "metadata": {},
   "source": [
    "如果两个数组具备相同维度, 但形状不同 (例如两个一维数组, 但长度不同), 则这两个数组无法进行加法运算\n",
    "\n",
    "如果两个数组维度不同, 但每个维度具备相同数量的元素, 则两个数组可以借助 Numpy 的广播机制进行相加"
   ]
  },
  {
   "cell_type": "code",
   "execution_count": 4,
   "id": "b00a81e1",
   "metadata": {},
   "outputs": [
    {
     "name": "stdout",
     "output_type": "stream",
     "text": [
      "一维数组相加失败: operands could not be broadcast together with shapes (3,) (4,) \n",
      "二维数组相加失败: setting an array element with a sequence. The requested array has an inhomogeneous shape after 1 dimensions. The detected shape was (2,) + inhomogeneous part.\n"
     ]
    }
   ],
   "source": [
    "# 测试长度不同的两个一维数组相加, 会抛出 `ValueError` 异常\n",
    "try:\n",
    "    a = np.array([1, 2, 3])\n",
    "    b = np.array([5, 6, 7, 8])\n",
    "    ans = a + b\n",
    "except ValueError as e:\n",
    "    print(f\"一维数组相加失败: {e}\")\n",
    "\n",
    "# 测试两个列长度不同的二维数组相加, 会抛出 `ValueError` 异常\n",
    "try:\n",
    "    a = np.array([[1, 2], [3, 4]])\n",
    "    b = np.array([[5, 6], [7, 8, 9]])\n",
    "    ans = a + b\n",
    "except ValueError as e:\n",
    "    print(f\"二维数组相加失败: {e}\")"
   ]
  },
  {
   "cell_type": "markdown",
   "id": "48054605",
   "metadata": {},
   "source": [
    "## 2. 乘法运算"
   ]
  },
  {
   "cell_type": "markdown",
   "id": "5503c7bc",
   "metadata": {},
   "source": [
    "## 3. 广播机制\n",
    "\n",
    "Numpy 提供了广播 (broadcast) 机制, 用于对不同形状的数组进行数学操作的功能, 对于 `x` 和 `y` 两个矩阵:\n",
    "\n",
    "$\n",
    "x =\n",
    "\\begin{bmatrix}\n",
    "-0.0 & -0.1 & -0.2 & -0.3 \\\\\n",
    "-0.4 & -0.5 & -0.6 & -0.7 \\\\\n",
    "-0.8 & -0.9 & -1.0 & -1.1 \\\\\n",
    "\\end{bmatrix}\n",
    "$\n",
    "\n",
    "$\n",
    "y =\n",
    "\\begin{bmatrix}\n",
    "1 & 2 & 3 & 4 \\\\\n",
    "\\end{bmatrix}\n",
    "$\n",
    "\n",
    "则\n",
    "\n",
    "$\n",
    "\\begin{bmatrix}\n",
    "-0.0 & -0.1 & -0.2 & -0.3 \\\\\n",
    "-0.4 & -0.5 & -0.6 & -0.7 \\\\\n",
    "-0.8 & -0.9 & -1.0 & -1.1 \\\\\n",
    "\\end{bmatrix}\n",
    "\\centerdot\n",
    "\\begin{bmatrix}\n",
    "1 & 2 & 3 & 4 \\\\\n",
    "\\end{bmatrix}\n",
    "\\rightarrow\n",
    "\\begin{bmatrix}\n",
    "-0.0 & -0.1 & -0.2 & -0.3 \\\\\n",
    "-0.4 & -0.5 & -0.6 & -0.7 \\\\\n",
    "-0.8 & -0.9 & -1.0 & -1.1 \\\\\n",
    "\\end{bmatrix}\n",
    "\\centerdot\n",
    "\\begin{bmatrix}\n",
    "1 & 2 & 3 & 4 \\\\\n",
    "1 & 2 & 3 & 4 \\\\\n",
    "1 & 2 & 3 & 4 \\\\\n",
    "\\end{bmatrix}\n",
    "$\n",
    "\n",
    "可以看到, 两个矩阵如果维度不同 (即矩阵的列数量不同), 但现有列的元素数一致, 则运算时, 会将列较少的矩阵进行扩展, 使其和另一个矩阵的列数一致, 扩展的方法为: 将矩阵的最后一列进行复制, 复制两个矩阵列相差数量次\n",
    "\n",
    "推广到多维数组, 则数组广播的规则为:\n",
    "\n",
    "- 如果两个数组的维数 (dim) 不同, 则形状 (shape) 数量较少的数组会在形状前前面补 `1` (例如最大维度为 `3`, 则如果有数组的 shape 为 `(2, 3)`, 则自动扩展为 `(1, 2, 3)`)\n",
    "- 如果两个数组的形状在某个维度上不匹配, 且其中一个维度长度为 `1`, 则会沿该维度复制扩展以匹配另一个数组的形状\n",
    "- 如果在任何维度上都不匹配且没有维度等于 `1`，则会引发异常"
   ]
  },
  {
   "cell_type": "markdown",
   "id": "f882b97e",
   "metadata": {},
   "source": [
    "### 3.1. 通过广播扩展维度"
   ]
  },
  {
   "cell_type": "markdown",
   "id": "3a01e77f",
   "metadata": {},
   "source": [
    "对于两个数组 `a` 与 `b`:\n",
    "\n",
    "- 数组 `a` 的 shape 为 `(1, 4)`\n",
    "- 数组 `b` 的 shape 为 `(2, 4)`\n",
    "\n",
    "故 `a`, `b` 两个数组的维度相同, 且 `a` 数组的 shape 第一项为 `1`, 则通过广播机制, 将 `a` 数组沿 shape 为 `1` 的轴进行复制, 使其 shape 变为 `(2, 4)`\n",
    "\n",
    "广播后, `a` + `b` 结果如下:\n",
    "\n",
    "$\n",
    "\\begin{bmatrix}\n",
    "\\begin{bmatrix}\n",
    "1 & 2 & 3 & 4\n",
    "\\end{bmatrix} &\n",
    "\\begin{bmatrix}\n",
    "1 & 2 & 3 & 4\n",
    "\\end{bmatrix}\n",
    "\\end{bmatrix} +\n",
    "\\begin{bmatrix}\n",
    "\\begin{bmatrix}\n",
    "5 & 6 & 7 & 8\n",
    "\\end{bmatrix} &\n",
    "\\begin{bmatrix}\n",
    "9 & 10 & 11 & 12\n",
    "\\end{bmatrix}\n",
    "\\end{bmatrix}=\n",
    "\\begin{bmatrix}\n",
    "\\begin{bmatrix}\n",
    "6 & 8 & 10 & 12\n",
    "\\end{bmatrix} &\n",
    "\\begin{bmatrix}\n",
    "10 & 12 & 14 & 16\n",
    "\\end{bmatrix}\n",
    "\\end{bmatrix}\n",
    "$"
   ]
  },
  {
   "cell_type": "code",
   "execution_count": 5,
   "id": "f295507b",
   "metadata": {},
   "outputs": [
    {
     "name": "stdout",
     "output_type": "stream",
     "text": [
      "数组相加:\n",
      "a:\n",
      "[[1 2 3 4]], shape=(1, 4)\n",
      "b:\n",
      "[[ 5  6  7  8]\n",
      " [ 9 10 11 12]], shape=(2, 4)\n",
      "a + b:\n",
      "[[ 6  8 10 12]\n",
      " [10 12 14 16]], shape=(2, 4)\n"
     ]
    }
   ],
   "source": [
    "# 数组 `a` 的 shape 为 `(1, 4)` (二维数组), 数组 `b` 的 shape 为 `(2, 4)` (二维数组), 两个数组维度相同\n",
    "# 1. 将数组 `a` 沿 shape 为 `1` 的维度进行复制, 使其 shape 为 `(2, 4)`, 即 `a` 变为 `[[1, 2, 3, 4], [1, 2, 3, 4]]`\n",
    "# 3. 此时 `a`, `b` 数组的 shape 相同, 可以将 `a` 和 `b` 相加\n",
    "a = np.array([[1, 2, 3, 4]])\n",
    "b = np.array([[5, 6, 7, 8], [9, 10, 11, 12]])\n",
    "ans = a + b\n",
    "print(\n",
    "    f\"数组相加:\\na:\\n{a}, shape={a.shape}\\nb:\\n{b}, shape={b.shape}\\na + b:\\n{ans}, shape={ans.shape}\"\n",
    ")"
   ]
  },
  {
   "cell_type": "markdown",
   "id": "68a6f7ab",
   "metadata": {},
   "source": [
    "对于两个数组 `a` 与 `b`:\n",
    "\n",
    "- 数组 `a` 的 shape 为 `(4,)`\n",
    "- 数组 `b` 的 shape 为 `(2, 4)`\n",
    "\n",
    "故 `a`, `b` 两个数组的维度不同, 且 `a` 数组 shape 的后几位和 `b` 数组相同, 则通过广播机制, 在 `a` 数组的 shape 第一位补 `1`, 使其 shape 变为 `(1, 4)`, 在沿 shape 为 `1` 的维度进行复制, 是其 shape 变为 `(2, 4)`\n",
    "\n",
    "广播后, `a` + `b` 结果如下:\n",
    "\n",
    "$\n",
    "\\begin{bmatrix}\n",
    "\\begin{bmatrix}\n",
    "1 & 2 & 3 & 4\n",
    "\\end{bmatrix} &\n",
    "\\begin{bmatrix}\n",
    "1 & 2 & 3 & 4\n",
    "\\end{bmatrix}\n",
    "\\end{bmatrix} +\n",
    "\\begin{bmatrix}\n",
    "\\begin{bmatrix}\n",
    "5 & 6 & 7 & 8\n",
    "\\end{bmatrix} &\n",
    "\\begin{bmatrix}\n",
    "9 & 10 & 11 & 12\n",
    "\\end{bmatrix}\n",
    "\\end{bmatrix}=\n",
    "\\begin{bmatrix}\n",
    "\\begin{bmatrix}\n",
    "6 & 8 & 10 & 12\n",
    "\\end{bmatrix} &\n",
    "\\begin{bmatrix}\n",
    "10 & 12 & 14 & 16\n",
    "\\end{bmatrix}\n",
    "\\end{bmatrix}\n",
    "$"
   ]
  },
  {
   "cell_type": "code",
   "execution_count": 6,
   "id": "aab0463b",
   "metadata": {},
   "outputs": [
    {
     "name": "stdout",
     "output_type": "stream",
     "text": [
      "数组相加:\n",
      "a:\n",
      "[1 2 3 4], shape=(4,)\n",
      "b:\n",
      "[[ 5  6  7  8]\n",
      " [ 9 10 11 12]], shape=(2, 4)\n",
      "a + b:\n",
      "[[ 6  8 10 12]\n",
      " [10 12 14 16]], shape=(2, 4)\n"
     ]
    }
   ],
   "source": [
    "# 数组 `a` 的 shape 为 `(4,)` (一维数组), 数组 `b` 的 shape 为 `(2, 4)` (二维数组), 两个数组维度不同\n",
    "# 1. 在数组 `a` 的 shape 前面补 `1`, 使其 shape 变为 `(1, 4)`, 使其变为 `[[1, 2, 3, 4]]`\n",
    "# 2. 将数组 `a` 沿 shape 为 `1` 的维度进行复制, 使其 shape 为 `(2, 4)`, 即 `a` 变为 `[[1, 2, 3, 4], [1, 2, 3, 4]]`\n",
    "# 3. 此时 `a`, `b` 数组的 shape 相同, 可以将 `a` 和 `b` 相加\n",
    "a = np.array([1, 2, 3, 4])\n",
    "b = np.array([[5, 6, 7, 8], [9, 10, 11, 12]])\n",
    "ans = a + b\n",
    "print(\n",
    "    f\"数组相加:\\na:\\n{a}, shape={a.shape}\\nb:\\n{b}, shape={b.shape}\\na + b:\\n{ans}, shape={ans.shape}\"\n",
    ")"
   ]
  },
  {
   "cell_type": "markdown",
   "id": "6a0f911f",
   "metadata": {},
   "source": [
    "对于两个数组 `a` 与 `b`:\n",
    "\n",
    "- 数组 `a` 的 shape 为 `(2, 1)`\n",
    "- 数组 `b` 的 shape 为 `(2, 4)`\n",
    "\n",
    "故 `a`, `b` 两个数组的维度相同, 且两个数组的 shape 第一项相同, 则将 `a` 数组沿 shape 为 `1` 的维度进行复制, 是其 shape 变为 `(2, 4)`\n",
    "\n",
    "广播后, `a` + `b` 结果如下:\n",
    "\n",
    "$\n",
    "\\begin{bmatrix}\n",
    "\\begin{bmatrix}\n",
    "10 & 10 & 10 & 10\n",
    "\\end{bmatrix} &\n",
    "\\begin{bmatrix}\n",
    "11 & 11 & 11 & 11\n",
    "\\end{bmatrix}\n",
    "\\end{bmatrix} +\n",
    "\\begin{bmatrix}\n",
    "\\begin{bmatrix}\n",
    "5 & 6 & 7 & 8\n",
    "\\end{bmatrix} &\n",
    "\\begin{bmatrix}\n",
    "9 & 10 & 11 & 12\n",
    "\\end{bmatrix}\n",
    "\\end{bmatrix}=\n",
    "\\begin{bmatrix}\n",
    "\\begin{bmatrix}\n",
    "15 & 16 & 17 & 18\n",
    "\\end{bmatrix} &\n",
    "\\begin{bmatrix}\n",
    "20 & 21 & 22 & 23\n",
    "\\end{bmatrix}\n",
    "\\end{bmatrix}\n",
    "$"
   ]
  },
  {
   "cell_type": "code",
   "execution_count": 7,
   "id": "d4e6b8c8",
   "metadata": {},
   "outputs": [
    {
     "name": "stdout",
     "output_type": "stream",
     "text": [
      "数组相加:\n",
      "a:\n",
      "[[10]\n",
      " [11]], shape=(2, 1)\n",
      "b:\n",
      "[[ 5  6  7  8]\n",
      " [ 9 10 11 12]], shape=(2, 4)\n",
      "a + b:\n",
      "[[15 16 17 18]\n",
      " [20 21 22 23]], shape=(2, 4)\n"
     ]
    }
   ],
   "source": [
    "# 数组 `a` 的 shape 为 `(2, 1)` (二维数组), 数组 `b` 的 shape 为 `(2, 4)` (二维数组), 两个数组维度相同\n",
    "# 1. 将数组 `a` 沿 shape 为 `1` 的维度进行复制, 使其 shape 为 `(2, 4)`, 即 `a` 变为 `[[10, 10, 10, 10], [11, 11, 11, 11]]`\n",
    "# 2. 此时 `a`, `b` 数组的 shape 相同, 可以将 `a` 和 `b` 相加\n",
    "a = np.array([[10], [11]])\n",
    "b = np.array([[5, 6, 7, 8], [9, 10, 11, 12]])\n",
    "ans = a + b\n",
    "print(\n",
    "    f\"数组相加:\\na:\\n{a}, shape={a.shape}\\nb:\\n{b}, shape={b.shape}\\na + b:\\n{ans}, shape={ans.shape}\"\n",
    ")"
   ]
  },
  {
   "cell_type": "markdown",
   "id": "7ace20b3",
   "metadata": {},
   "source": [
    "对于两个数组 `a` 与 `b`:\n",
    "\n",
    "- 数组 `a` 的 shape 为 `(1, 1)`\n",
    "- 数组 `b` 的 shape 为 `(2, 4)`\n",
    "\n",
    "故 `a`, `b` 两个数组的维度相同, 且 `a` 数组的 shape 均为 `1`, 故将 `a` 数组沿两个 shape 为 `1` 的维度进行复制, 使其 shape 变为 `(2, 4)`\n",
    "\n",
    "广播后, `a` + `b` 结果如下:\n",
    "\n",
    "$\n",
    "\\begin{bmatrix}\n",
    "\\begin{bmatrix}\n",
    "10 & 10 & 10 & 10\n",
    "\\end{bmatrix} &\n",
    "\\begin{bmatrix}\n",
    "10 & 10 & 10 & 10\n",
    "\\end{bmatrix}\n",
    "\\end{bmatrix} +\n",
    "\\begin{bmatrix}\n",
    "\\begin{bmatrix}\n",
    "5 & 6 & 7 & 8\n",
    "\\end{bmatrix} &\n",
    "\\begin{bmatrix}\n",
    "9 & 10 & 11 & 12\n",
    "\\end{bmatrix}\n",
    "\\end{bmatrix}=\n",
    "\\begin{bmatrix}\n",
    "\\begin{bmatrix}\n",
    "15 & 16 & 17 & 18\n",
    "\\end{bmatrix} &\n",
    "\\begin{bmatrix}\n",
    "19 & 20 & 21 & 22\n",
    "\\end{bmatrix}\n",
    "\\end{bmatrix}\n",
    "$"
   ]
  },
  {
   "cell_type": "code",
   "execution_count": 8,
   "id": "e52ce06f",
   "metadata": {},
   "outputs": [
    {
     "name": "stdout",
     "output_type": "stream",
     "text": [
      "数组相加:\n",
      "a:\n",
      "[[10]], shape=(1, 1)\n",
      "b:\n",
      "[[ 5  6  7  8]\n",
      " [ 9 10 11 12]], shape=(2, 4)\n",
      "a + b:\n",
      "[[15 16 17 18]\n",
      " [19 20 21 22]], shape=(2, 4)\n"
     ]
    }
   ],
   "source": [
    "# 数组 `a` 的 shape 为 `(1, 1)` (二维数组), 数组 `b` 的 shape 为 `(2, 4)` (二维数组), 两个数组维度相同\n",
    "# 1. 将数组 `a` 沿 shape 为 `1` 的维度进行复制 (两个维度), 使其 shape 为 `(2, 4)`, 即 `a` 变为 `[[10, 10, 10, 10], [10, 10, 10, 10]]`\n",
    "# 2. 此时 `a`, `b` 数组的 shape 相同, 可以将 `a` 和 `b` 相加\n",
    "a = np.array([[10]])\n",
    "b = np.array([[5, 6, 7, 8], [9, 10, 11, 12]])\n",
    "ans = a + b\n",
    "print(\n",
    "    f\"数组相加:\\na:\\n{a}, shape={a.shape}\\nb:\\n{b}, shape={b.shape}\\na + b:\\n{ans}, shape={ans.shape}\"\n",
    ")"
   ]
  },
  {
   "cell_type": "code",
   "execution_count": 11,
   "id": "40df7596",
   "metadata": {},
   "outputs": [
    {
     "name": "stdout",
     "output_type": "stream",
     "text": [
      "数组相加:\n",
      "a:\n",
      "[10], shape=(1,)\n",
      "b:\n",
      "[[ 5  6  7  8]\n",
      " [ 9 10 11 12]], shape=(2, 4)\n",
      "a + b:\n",
      "[[15 16 17 18]\n",
      " [19 20 21 22]], shape=(2, 4)\n"
     ]
    }
   ],
   "source": [
    "# 数组 `a` 的 shape 为 `(2, 1)` (二维数组), 数组 `b` 的 shape 为 `(2, 4)` (二维数组), 两个数组维度相同\n",
    "# 1. 将数组 `a` 沿 shape 为 `1` 的维度进行复制, 使其 shape 为 `(2, 4)`, 即 `a` 变为 `[[10, 10, 10, 10], [11, 11, 11, 11]]`\n",
    "# 2. 此时 `a`, `b` 数组的 shape 相同, 可以将 `a` 和 `b` 相加\n",
    "a = np.array([10])\n",
    "b = np.array([[5, 6, 7, 8], [9, 10, 11, 12]])\n",
    "ans = a + b\n",
    "print(\n",
    "    f\"数组相加:\\na:\\n{a}, shape={a.shape}\\nb:\\n{b}, shape={b.shape}\\na + b:\\n{ans}, shape={ans.shape}\"\n",
    ")"
   ]
  }
 ],
 "metadata": {
  "kernelspec": {
   "display_name": ".venv",
   "language": "python",
   "name": "python3"
  },
  "language_info": {
   "codemirror_mode": {
    "name": "ipython",
    "version": 3
   },
   "file_extension": ".py",
   "mimetype": "text/x-python",
   "name": "python",
   "nbconvert_exporter": "python",
   "pygments_lexer": "ipython3",
   "version": "3.13.5"
  }
 },
 "nbformat": 4,
 "nbformat_minor": 5
}
