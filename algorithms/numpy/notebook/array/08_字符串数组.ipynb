{
 "cells": [
  {
   "cell_type": "markdown",
   "id": "fdbe1e3d",
   "metadata": {},
   "source": [
    "# 字符串数组"
   ]
  },
  {
   "cell_type": "markdown",
   "id": "77344b32",
   "metadata": {},
   "source": [
    "Numpy 可以在数组元素中存储字符串, 并通过 `np.char` 模块提供了一系列字符串操作函数"
   ]
  },
  {
   "cell_type": "code",
   "execution_count": 3,
   "id": "9cba6733",
   "metadata": {},
   "outputs": [],
   "source": [
    "import numpy as np\n",
    "\n",
    "from display import aprint"
   ]
  },
  {
   "cell_type": "markdown",
   "id": "28da3f0d",
   "metadata": {},
   "source": [
    "## 1. 字符串元素类型"
   ]
  },
  {
   "cell_type": "markdown",
   "id": "0b1d42ea",
   "metadata": {},
   "source": [
    "Numpy 数组支持 `dtype=np.str_` 类型的元素, 即字符串类型元素\n",
    "\n",
    "和数值型元素数组类似, 字符串数组同样也支持各个维度"
   ]
  },
  {
   "cell_type": "code",
   "execution_count": 4,
   "id": "b67aab7d",
   "metadata": {},
   "outputs": [
    {
     "name": "stdout",
     "output_type": "stream",
     "text": [
      "字符串数组:\n",
      "● s:\n",
      "['A' 'B' 'C' 'D' 'E' 'F'], shape=(6,)\n",
      "字符串数组:\n",
      "● s:\n",
      "[['A' 'B' 'C']\n",
      " ['D' 'E' 'F']], shape=(2, 3)\n",
      "字符串数组:\n",
      "● s:\n",
      "[[['A']\n",
      "  ['B']]\n",
      "\n",
      " [['C']\n",
      "  ['D']]\n",
      "\n",
      " [['E']\n",
      "  ['F']]], shape=(3, 2, 1)\n"
     ]
    }
   ],
   "source": [
    "s = np.array([\"A\", \"B\", \"C\", \"D\", \"E\", \"F\"], dtype=np.str_)\n",
    "aprint(\n",
    "    \"字符串数组:\",\n",
    "    {\n",
    "        \"s\": s,\n",
    "    },\n",
    ")\n",
    "\n",
    "s = s.reshape((2, -1))\n",
    "aprint(\n",
    "    \"字符串数组:\",\n",
    "    {\n",
    "        \"s\": s,\n",
    "    },\n",
    ")\n",
    "\n",
    "s = s.reshape((3, 2, -1))\n",
    "aprint(\n",
    "    \"字符串数组:\",\n",
    "    {\n",
    "        \"s\": s,\n",
    "    },\n",
    ")"
   ]
  }
 ],
 "metadata": {
  "kernelspec": {
   "display_name": ".venv",
   "language": "python",
   "name": "python3"
  },
  "language_info": {
   "codemirror_mode": {
    "name": "ipython",
    "version": 3
   },
   "file_extension": ".py",
   "mimetype": "text/x-python",
   "name": "python",
   "nbconvert_exporter": "python",
   "pygments_lexer": "ipython3",
   "version": "3.13.5"
  }
 },
 "nbformat": 4,
 "nbformat_minor": 5
}
