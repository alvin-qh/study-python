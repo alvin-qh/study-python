{
 "cells": [
  {
   "cell_type": "markdown",
   "id": "b11d13b4",
   "metadata": {},
   "source": [
    "# 数组迭代"
   ]
  },
  {
   "cell_type": "markdown",
   "id": "5896dc8f",
   "metadata": {},
   "source": [
    "可通过 Numpy 对数组元素进行迭代遍历"
   ]
  },
  {
   "cell_type": "code",
   "execution_count": 1,
   "id": "a472834c",
   "metadata": {},
   "outputs": [],
   "source": [
    "import numpy as np\n",
    "\n",
    "from display import aprint\n",
    "from array_ import arange_by_shape"
   ]
  },
  {
   "cell_type": "markdown",
   "id": "4774847c",
   "metadata": {},
   "source": [
    "## 1. 基本迭代"
   ]
  },
  {
   "cell_type": "markdown",
   "id": "89710cb2",
   "metadata": {},
   "source": [
    "Numpy 数组支持 Python 本身的 `for` 语法迭代方式"
   ]
  },
  {
   "cell_type": "markdown",
   "id": "3b04f6d5",
   "metadata": {},
   "source": [
    "对于一维数组, 则按照元素的排列顺序进行迭代"
   ]
  },
  {
   "cell_type": "code",
   "execution_count": 2,
   "id": "959a233c",
   "metadata": {},
   "outputs": [
    {
     "name": "stdout",
     "output_type": "stream",
     "text": [
      "原数组:\n",
      "[1 2 3 4 5 6 7 8 9]\n",
      "\n",
      "迭代结果:\n",
      "[0: 1], [1: 2], [2: 3], [3: 4], [4: 5], [5: 6], [6: 7], [7: 8], [8: 9], "
     ]
    }
   ],
   "source": [
    "a = np.arange(1, 10, dtype=np.int32)\n",
    "print(f\"原数组:\\n{a}\")\n",
    "\n",
    "print(\"\\n迭代结果:\")\n",
    "# 对一维数组进行迭代\n",
    "for i, n in enumerate(a):\n",
    "    print(f\"[{i}: {n}]\", end=\", \")"
   ]
  },
  {
   "cell_type": "markdown",
   "id": "2bfdb7d8",
   "metadata": {},
   "source": [
    "对于多维数组, 则沿着第一个轴进行迭代, 在第一个轴迭代的每一项基础上, 可以进一步对其进行迭代, 使其继续沿着第二个轴迭代, 以此类推, 直到迭代完成"
   ]
  },
  {
   "cell_type": "code",
   "execution_count": 3,
   "id": "8a1e9238",
   "metadata": {},
   "outputs": [
    {
     "name": "stdout",
     "output_type": "stream",
     "text": [
      "原数组:\n",
      "[[[ 1  2  3  4]\n",
      "  [ 5  6  7  8]\n",
      "  [ 9 10 11 12]]\n",
      "\n",
      " [[13 14 15 16]\n",
      "  [17 18 19 20]\n",
      "  [21 22 23 24]]]\n",
      "\n",
      "迭代结果:\n",
      "[(0, 0, 0):  1], [(0, 0, 1):  2], [(0, 0, 2):  3], [(0, 0, 3):  4], \n",
      "[(0, 1, 0):  5], [(0, 1, 1):  6], [(0, 1, 2):  7], [(0, 1, 3):  8], \n",
      "[(0, 2, 0):  9], [(0, 2, 1): 10], [(0, 2, 2): 11], [(0, 2, 3): 12], \n",
      "\n",
      "[(1, 0, 0): 13], [(1, 0, 1): 14], [(1, 0, 2): 15], [(1, 0, 3): 16], \n",
      "[(1, 1, 0): 17], [(1, 1, 1): 18], [(1, 1, 2): 19], [(1, 1, 3): 20], \n",
      "[(1, 2, 0): 21], [(1, 2, 1): 22], [(1, 2, 2): 23], [(1, 2, 3): 24], \n",
      "\n"
     ]
    }
   ],
   "source": [
    "a = arange_by_shape((2, 3, 4), 1)\n",
    "print(f\"原数组:\\n{a}\")\n",
    "\n",
    "print(\"\\n迭代结果:\")\n",
    "# 对一维数组进行迭代\n",
    "for i, row in enumerate(a):\n",
    "    for j, col in enumerate(row):\n",
    "        for k, n in enumerate(col):\n",
    "            print(f\"[{(i, j, k)}: {n:>2}]\", end=\", \")\n",
    "        print()\n",
    "    print()"
   ]
  },
  {
   "cell_type": "markdown",
   "id": "7061afe6",
   "metadata": {},
   "source": [
    "也可以按数组的 shape 进行迭代"
   ]
  },
  {
   "cell_type": "code",
   "execution_count": 4,
   "id": "82731948",
   "metadata": {},
   "outputs": [
    {
     "name": "stdout",
     "output_type": "stream",
     "text": [
      "原数组:\n",
      "[[[ 1  2  3  4]\n",
      "  [ 5  6  7  8]\n",
      "  [ 9 10 11 12]]\n",
      "\n",
      " [[13 14 15 16]\n",
      "  [17 18 19 20]\n",
      "  [21 22 23 24]]]\n",
      "迭代结果:\n",
      "[(0, 0, 0):  1], [(0, 0, 1):  2], [(0, 0, 2):  3], [(0, 0, 3):  4], \n",
      "[(0, 1, 0):  5], [(0, 1, 1):  6], [(0, 1, 2):  7], [(0, 1, 3):  8], \n",
      "[(0, 2, 0):  9], [(0, 2, 1): 10], [(0, 2, 2): 11], [(0, 2, 3): 12], \n",
      "\n",
      "[(1, 0, 0): 13], [(1, 0, 1): 14], [(1, 0, 2): 15], [(1, 0, 3): 16], \n",
      "[(1, 1, 0): 17], [(1, 1, 1): 18], [(1, 1, 2): 19], [(1, 1, 3): 20], \n",
      "[(1, 2, 0): 21], [(1, 2, 1): 22], [(1, 2, 2): 23], [(1, 2, 3): 24], \n",
      "\n"
     ]
    }
   ],
   "source": [
    "a = arange_by_shape((2, 3, 4), 1)\n",
    "print(f\"原数组:\\n{a}\")\n",
    "\n",
    "print(\"迭代结果:\")\n",
    "# 对一维数组进行迭代\n",
    "for i in range(a.shape[0]):\n",
    "    for j in range(a.shape[1]):\n",
    "        for k in range(a.shape[2]):\n",
    "            print(f\"[{(i, j, k)}: {a[i, j, k]:>2}]\", end=\", \")\n",
    "        print()\n",
    "    print()"
   ]
  },
  {
   "cell_type": "markdown",
   "id": "11a19ca0",
   "metadata": {},
   "source": [
    "上述方式会通过 Python 的嵌套循环迭代遍历元素, 但 Python 的嵌套循环执行效率较低, 一般情况下不推荐这样迭代"
   ]
  },
  {
   "cell_type": "markdown",
   "id": "fad5c652",
   "metadata": {},
   "source": [
    "## 2. 迭代函数"
   ]
  },
  {
   "cell_type": "markdown",
   "id": "b1d4c8c3",
   "metadata": {},
   "source": [
    "### 2.1. 降维迭代\n",
    "\n",
    "Numpy 数组可以通过 `.flatten()` 函数将多维数组降维为 `1` 维数组 (相当于 `reshape(-1)`)"
   ]
  },
  {
   "cell_type": "code",
   "execution_count": 5,
   "id": "7f2bd085",
   "metadata": {},
   "outputs": [
    {
     "name": "stdout",
     "output_type": "stream",
     "text": [
      "数组将为 1 维度:\n",
      "● a:\n",
      "[[[ 1  2  3  4]\n",
      "  [ 5  6  7  8]\n",
      "  [ 9 10 11 12]]\n",
      "\n",
      " [[13 14 15 16]\n",
      "  [17 18 19 20]\n",
      "  [21 22 23 24]]], shape=(2, 3, 4)\n",
      "● a.flatten():\n",
      "[ 1  2  3  4  5  6  7  8  9 10 11 12 13 14 15 16 17 18 19 20 21 22 23 24], shape=(24,)\n",
      "● a.reshape(-1):\n",
      "[ 1  2  3  4  5  6  7  8  9 10 11 12 13 14 15 16 17 18 19 20 21 22 23 24], shape=(24,)\n"
     ]
    }
   ],
   "source": [
    "a = arange_by_shape((2, 3, 4), 1)\n",
    "aprint(\n",
    "    \"数组将为 1 维度:\",\n",
    "    {\n",
    "        \"a\": a,\n",
    "        \"a.flatten()\": a.flatten(),\n",
    "        \"a.reshape(-1)\": a.reshape(-1),\n",
    "    },\n",
    ")"
   ]
  },
  {
   "cell_type": "markdown",
   "id": "8468bcd7",
   "metadata": {},
   "source": [
    "也可以通过 Numpy 数组的 `.flat` 属性, 获取一个迭代器对象, 可以忽略维度, 遍历数组的所有元素"
   ]
  },
  {
   "cell_type": "code",
   "execution_count": 6,
   "id": "bd9a510a",
   "metadata": {},
   "outputs": [
    {
     "name": "stdout",
     "output_type": "stream",
     "text": [
      "数组将为 1 维度:\n",
      "● a:\n",
      "[[[ 1  2  3  4]\n",
      "  [ 5  6  7  8]\n",
      "  [ 9 10 11 12]]\n",
      "\n",
      " [[13 14 15 16]\n",
      "  [17 18 19 20]\n",
      "  [21 22 23 24]]], shape=(2, 3, 4)\n",
      "● [a.flat]:\n",
      "[1, 2, 3, 4, 5, 6, 7, 8, 9, 10, 11, 12, 13, 14, 15, 16, 17, 18, 19, 20, 21, 22, 23, 24]\n"
     ]
    }
   ],
   "source": [
    "a = arange_by_shape((2, 3, 4), 1)\n",
    "\n",
    "aprint(\n",
    "    \"数组将为 1 维度:\",\n",
    "    {\n",
    "        \"a\": a,\n",
    "        \"[a.flat]\": [int(n) for n in a.flat],\n",
    "    },\n",
    ")"
   ]
  },
  {
   "cell_type": "markdown",
   "id": "59548356",
   "metadata": {},
   "source": [
    "### 2.2. `np.nditer` 遍历"
   ]
  },
  {
   "cell_type": "markdown",
   "id": "fe72cecb",
   "metadata": {},
   "source": [
    "通过 `np.nditer` 函数可以对数组进行多种形式的遍历"
   ]
  },
  {
   "cell_type": "markdown",
   "id": "52bc641d",
   "metadata": {},
   "source": [
    "通过 `np.nditer` 函数, 最基本的遍历方式为按照数组在内存中的顺序进行遍历\n",
    "\n",
    "数组的迭代顺序是根据数组的内存布局选择的, 而不是使用标准的 C 顺序或 Fortran 顺序. 这样做是为了提高访问效率, 并假设默认情况下只是希望访问每个元素而不关心特定顺序\n",
    "\n",
    "```python\n",
    "a = np.arange(6).reshape(2, 3)\n",
    "\n",
    "for x in np.nditer(a):\n",
    "    print(x, end=\" \")\n",
    "\n",
    "for x in np.nditer(a.T):\n",
    "    print(x, end=\" \")\n",
    "```\n",
    "\n",
    "上述代码, 两次迭代的结果一致, 即数组及其转置在内存中的布局一致"
   ]
  },
  {
   "cell_type": "markdown",
   "id": "ecaeb2e3",
   "metadata": {},
   "source": [
    "#### 2.2.1. 数组迭代"
   ]
  },
  {
   "cell_type": "markdown",
   "id": "d0f7a0bf",
   "metadata": {},
   "source": [
    "默认情况下, `np.nditer` 函数会通过 `order=\"K\"` 的默认参数来确定迭代顺序, 即按数组在内存中存储的顺序迭代"
   ]
  },
  {
   "cell_type": "code",
   "execution_count": 7,
   "id": "d7cb0e16",
   "metadata": {},
   "outputs": [
    {
     "name": "stdout",
     "output_type": "stream",
     "text": [
      "1, 2, 3, 4, 5, 6, 7, 8, 9, 10, 11, 12, 13, 14, 15, 16, 17, 18, 19, 20, 21, 22, 23, 24, "
     ]
    }
   ],
   "source": [
    "a = arange_by_shape((2, 3, 4), 1)\n",
    "\n",
    "for e in np.nditer(a):\n",
    "    print(e, end=\", \")"
   ]
  },
  {
   "cell_type": "markdown",
   "id": "1c8b8626",
   "metadata": {},
   "source": [
    "可以通过 `order=\"C\"` 参数将迭代顺序强行改为 C 语言顺序"
   ]
  },
  {
   "cell_type": "code",
   "execution_count": 8,
   "id": "d8f5dfde",
   "metadata": {},
   "outputs": [
    {
     "name": "stdout",
     "output_type": "stream",
     "text": [
      "原数组:\n",
      "[[[ 1  2  3  4]\n",
      "  [ 5  6  7  8]\n",
      "  [ 9 10 11 12]]\n",
      "\n",
      " [[13 14 15 16]\n",
      "  [17 18 19 20]\n",
      "  [21 22 23 24]]]\n",
      "\n",
      "迭代结果:\n",
      "1, 2, 3, 4, 5, 6, 7, 8, 9, 10, 11, 12, 13, 14, 15, 16, 17, 18, 19, 20, 21, 22, 23, 24, "
     ]
    }
   ],
   "source": [
    "a = arange_by_shape((2, 3, 4), 1)\n",
    "print(f\"原数组:\\n{a}\")\n",
    "\n",
    "print(f\"\\n迭代结果:\")\n",
    "for e in np.nditer(a, order=\"C\"):\n",
    "    print(e, end=\", \")"
   ]
  },
  {
   "cell_type": "markdown",
   "id": "6b37d56b",
   "metadata": {},
   "source": [
    "还可以通过 `order=\"F\"` 参数将迭代顺序强行改为 Fortran 语言顺序"
   ]
  },
  {
   "cell_type": "code",
   "execution_count": 9,
   "id": "1b91c64c",
   "metadata": {},
   "outputs": [
    {
     "name": "stdout",
     "output_type": "stream",
     "text": [
      "原数组:\n",
      "[[[ 1  2  3  4]\n",
      "  [ 5  6  7  8]\n",
      "  [ 9 10 11 12]]\n",
      "\n",
      " [[13 14 15 16]\n",
      "  [17 18 19 20]\n",
      "  [21 22 23 24]]]\n",
      "\n",
      "迭代结果:\n",
      "1, 13, 5, 17, 9, 21, 2, 14, 6, 18, 10, 22, 3, 15, 7, 19, 11, 23, 4, 16, 8, 20, 12, 24, "
     ]
    }
   ],
   "source": [
    "a = arange_by_shape((2, 3, 4), 1)\n",
    "print(f\"原数组:\\n{a}\")\n",
    "\n",
    "print(f\"\\n迭代结果:\")\n",
    "for e in np.nditer(a, order=\"F\"):\n",
    "    print(e, end=\", \")"
   ]
  },
  {
   "cell_type": "markdown",
   "id": "d5a3db0c",
   "metadata": {},
   "source": [
    "#### 2.2.2. 修改数组元素"
   ]
  },
  {
   "cell_type": "markdown",
   "id": "a6b434f7",
   "metadata": {},
   "source": [
    "可以通过 `np.nditer` 函数返回的迭代器, 在迭代过程中对数组元素进行修改, 需要如需步骤:\n",
    "\n",
    "1. 创建一个 `np.nditer` 迭代器对象, 并设置参数 `op_flags=['readwrite']` 表示迭代过程中对数组元素进行修改\n",
    "2. 在迭代过程中, 可通过迭代器获取元素值, 可通过数组的 `[...]` 语法记录当前迭代位置修改后的元素值\n",
    "3. 通过 `close()` 方法关闭迭代器, 使修改生效\n",
    "\n",
    "`np.nditer` 函数返回的迭代器支持 Python 的上下文管理器语法, 可通过 `with` 语句自动关闭迭代器"
   ]
  },
  {
   "cell_type": "code",
   "execution_count": 10,
   "id": "88f2be4f",
   "metadata": {},
   "outputs": [
    {
     "name": "stdout",
     "output_type": "stream",
     "text": [
      "原数组:\n",
      "[[[ 1  2  3  4]\n",
      "  [ 5  6  7  8]\n",
      "  [ 9 10 11 12]]\n",
      "\n",
      " [[13 14 15 16]\n",
      "  [17 18 19 20]\n",
      "  [21 22 23 24]]]\n",
      "\n",
      "通过迭代器修改后:\n",
      "[[[ 10  20  30  40]\n",
      "  [ 50  60  70  80]\n",
      "  [ 90 100 110 120]]\n",
      "\n",
      " [[130 140 150 160]\n",
      "  [170 180 190 200]\n",
      "  [210 220 230 240]]]\n"
     ]
    }
   ],
   "source": [
    "a = arange_by_shape((2, 3, 4), 1)\n",
    "print(f\"原数组:\\n{a}\")\n",
    "\n",
    "with np.nditer(a, op_flags=[[\"readwrite\"]]) as it:\n",
    "    for x in it:\n",
    "        x[...] = x * 10  # type: ignore\n",
    "\n",
    "print(f\"\\n通过迭代器修改后:\\n{a}\")"
   ]
  },
  {
   "cell_type": "markdown",
   "id": "bd100f40",
   "metadata": {},
   "source": [
    "#### 2.2.3. 索引追踪及多维索引"
   ]
  },
  {
   "cell_type": "markdown",
   "id": "7bfa527b",
   "metadata": {},
   "source": [
    "可以只追踪数组元素的单索引 (即忽略数组维度的索引), 需要根据所需迭代的顺序定义索引追踪的顺序, 即设置 `np.nditer` 函数的 `flag` 参数为 `\"c_index\"` 或者 `\"f_index\"`, 即可通过迭代器对象的 `index` 属性获取元素的索引, 其中:\n",
    "\n",
    "- `c_index`: 表示索引按照 C 语言顺序编排 (行主序)\n",
    "- `f_index`: 表示索引按照 Fortran 语言元素顺序编排 (列主序)"
   ]
  },
  {
   "cell_type": "code",
   "execution_count": 11,
   "id": "c1594b84",
   "metadata": {},
   "outputs": [
    {
     "name": "stdout",
     "output_type": "stream",
     "text": [
      "原数组:\n",
      "[[[ 1  2  3  4]\n",
      "  [ 5  6  7  8]\n",
      "  [ 9 10 11 12]]\n",
      "\n",
      " [[13 14 15 16]\n",
      "  [17 18 19 20]\n",
      "  [21 22 23 24]]]\n",
      "\n",
      "迭代结果:\n",
      "( 1,  0), ( 2,  1), ( 3,  2), ( 4,  3), ( 5,  4), ( 6,  5), ( 7,  6), ( 8,  7), ( 9,  8), (10,  9), (11, 10), (12, 11), \n",
      "(13, 12), (14, 13), (15, 14), (16, 15), (17, 16), (18, 17), (19, 18), (20, 19), (21, 20), (22, 21), (23, 22), (24, 23), \n"
     ]
    }
   ],
   "source": [
    "a = arange_by_shape((2, 3, 4), 1)\n",
    "print(f\"原数组:\\n{a}\")\n",
    "\n",
    "print(f\"\\n迭代结果:\")\n",
    "with np.nditer(a, flags=[\"c_index\"]) as it:\n",
    "    for e in it:\n",
    "        print(f\"({e:>2}, {it.index:>2})\", end=\", \")\n",
    "\n",
    "        if (it.index + 1) % 12 == 0:\n",
    "            print()"
   ]
  },
  {
   "cell_type": "markdown",
   "id": "9eacce6e",
   "metadata": {},
   "source": [
    "也可以追踪数组元素的各维度索引, 通过设置 `np.nditer` 函数的 `flag` 参数为 `\"multi_index\"`, 即可通过迭代器对象的 `multi_index` 属性获取元素在每个维度的索引"
   ]
  },
  {
   "cell_type": "code",
   "execution_count": 12,
   "id": "f3b34d7f",
   "metadata": {},
   "outputs": [
    {
     "name": "stdout",
     "output_type": "stream",
     "text": [
      "原数组:\n",
      "[[[ 1  2  3  4]\n",
      "  [ 5  6  7  8]\n",
      "  [ 9 10 11 12]]\n",
      "\n",
      " [[13 14 15 16]\n",
      "  [17 18 19 20]\n",
      "  [21 22 23 24]]]\n",
      "\n",
      "迭代结果:\n",
      "( 1, (0, 0, 0)), ( 2, (0, 0, 1)), ( 3, (0, 0, 2)), ( 4, (0, 0, 3)), \n",
      "( 5, (0, 1, 0)), ( 6, (0, 1, 1)), ( 7, (0, 1, 2)), ( 8, (0, 1, 3)), \n",
      "( 9, (0, 2, 0)), (10, (0, 2, 1)), (11, (0, 2, 2)), (12, (0, 2, 3)), \n",
      "\n",
      "(13, (1, 0, 0)), (14, (1, 0, 1)), (15, (1, 0, 2)), (16, (1, 0, 3)), \n",
      "(17, (1, 1, 0)), (18, (1, 1, 1)), (19, (1, 1, 2)), (20, (1, 1, 3)), \n",
      "(21, (1, 2, 0)), (22, (1, 2, 1)), (23, (1, 2, 2)), (24, (1, 2, 3)), "
     ]
    }
   ],
   "source": [
    "a = arange_by_shape((2, 3, 4), 1)\n",
    "print(f\"原数组:\\n{a}\")\n",
    "\n",
    "print(f\"\\n迭代结果:\")\n",
    "last_index = (0, 0, 0)\n",
    "with np.nditer(a, flags=[\"multi_index\"]) as it:\n",
    "    for e in it:\n",
    "        mi = it.multi_index\n",
    "        if last_index[0] != mi[0]:\n",
    "            print()\n",
    "\n",
    "        if last_index[1] != mi[1]:\n",
    "            print()\n",
    "\n",
    "        print(f\"({e:>2}, {it.multi_index})\", end=\", \")\n",
    "        last_index = mi"
   ]
  },
  {
   "cell_type": "markdown",
   "id": "a61e922a",
   "metadata": {},
   "source": [
    "#### 2.2.4. 迭代器对象"
   ]
  },
  {
   "cell_type": "markdown",
   "id": "cbdd0c43",
   "metadata": {},
   "source": [
    "数组的迭代可以不通过 `for` 循环, 而是用 `np.nditer` 函数返回的迭代器对象进行"
   ]
  },
  {
   "cell_type": "code",
   "execution_count": 13,
   "id": "721e4b02",
   "metadata": {},
   "outputs": [
    {
     "name": "stdout",
     "output_type": "stream",
     "text": [
      "原数组:\n",
      "[[[ 1  2  3  4]\n",
      "  [ 5  6  7  8]\n",
      "  [ 9 10 11 12]]\n",
      "\n",
      " [[13 14 15 16]\n",
      "  [17 18 19 20]\n",
      "  [21 22 23 24]]]\n",
      "\n",
      "迭代结果:\n",
      "( 1, (0, 0, 0)), ( 2, (0, 0, 1)), ( 3, (0, 0, 2)), ( 4, (0, 0, 3)), \n",
      "( 5, (0, 1, 0)), ( 6, (0, 1, 1)), ( 7, (0, 1, 2)), ( 8, (0, 1, 3)), \n",
      "( 9, (0, 2, 0)), (10, (0, 2, 1)), (11, (0, 2, 2)), (12, (0, 2, 3)), \n",
      "\n",
      "(13, (1, 0, 0)), (14, (1, 0, 1)), (15, (1, 0, 2)), (16, (1, 0, 3)), \n",
      "(17, (1, 1, 0)), (18, (1, 1, 1)), (19, (1, 1, 2)), (20, (1, 1, 3)), \n",
      "(21, (1, 2, 0)), (22, (1, 2, 1)), (23, (1, 2, 2)), (24, (1, 2, 3)), "
     ]
    }
   ],
   "source": [
    "a = arange_by_shape((2, 3, 4), 1)\n",
    "print(f\"原数组:\\n{a}\")\n",
    "\n",
    "print(f\"\\n迭代结果:\")\n",
    "last_index = (0, 0, 0)\n",
    "with np.nditer(a, flags=[\"multi_index\"]) as it:\n",
    "    while not it.finished:\n",
    "        mi = it.multi_index\n",
    "        if last_index[0] != mi[0]:\n",
    "            print()\n",
    "\n",
    "        if last_index[1] != mi[1]:\n",
    "            print()\n",
    "\n",
    "        print(f\"({it[0]:>2}, {it.multi_index})\", end=\", \")\n",
    "\n",
    "        it.iternext()\n",
    "        last_index = mi"
   ]
  },
  {
   "cell_type": "markdown",
   "id": "1b030a7a",
   "metadata": {},
   "source": [
    "也可以通过迭代器对象修改数组元素值"
   ]
  },
  {
   "cell_type": "code",
   "execution_count": 14,
   "id": "82a26753",
   "metadata": {},
   "outputs": [
    {
     "name": "stdout",
     "output_type": "stream",
     "text": [
      "原数组:\n",
      "[[[ 1  2  3  4]\n",
      "  [ 5  6  7  8]\n",
      "  [ 9 10 11 12]]\n",
      "\n",
      " [[13 14 15 16]\n",
      "  [17 18 19 20]\n",
      "  [21 22 23 24]]]\n",
      "\n",
      "通过迭代器修改后:\n",
      "[[[ 10  20  30  40]\n",
      "  [ 50  60  70  80]\n",
      "  [ 90 100 110 120]]\n",
      "\n",
      " [[130 140 150 160]\n",
      "  [170 180 190 200]\n",
      "  [210 220 230 240]]]\n"
     ]
    }
   ],
   "source": [
    "a = arange_by_shape((2, 3, 4), 1)\n",
    "print(f\"原数组:\\n{a}\")\n",
    "\n",
    "with np.nditer(a, op_flags=[[\"readwrite\"]]) as it:\n",
    "    while not it.finished:\n",
    "        it[0] = it[0] * 10\n",
    "        it.iternext()\n",
    "\n",
    "print(f\"\\n通过迭代器修改后:\\n{a}\")"
   ]
  },
  {
   "cell_type": "markdown",
   "id": "dcdc6fb7",
   "metadata": {},
   "source": [
    "#### 2.2.5. 外部循环"
   ]
  },
  {
   "cell_type": "markdown",
   "id": "2c4b76cf",
   "metadata": {},
   "source": [
    "一般情况下, `np.nditer` 函数返回的迭代器会迭代数组中的每个元素, 但这样会导致迭代次数过多, 导致效率较低\n",
    "\n",
    "通过传递 `flags` 参数为 `external_loop` 可以启用迭代器的外部循环, 将尝试以更大的数据块进行迭代, 每次迭代会得到多个数组元素, 迭代次数会大大减少, 从而提升代码执行效率"
   ]
  },
  {
   "cell_type": "markdown",
   "id": "0f730d6d",
   "metadata": {},
   "source": [
    "下面的例子中, 建立了一个包含大量元素的二维数组 (`100 x 100`), 并通过不同的遍历模式来对比其执行效率"
   ]
  },
  {
   "cell_type": "code",
   "execution_count": 15,
   "id": "823e8432",
   "metadata": {},
   "outputs": [
    {
     "name": "stdout",
     "output_type": "stream",
     "text": [
      "数组 shape=(100, 100, 100), nbytes=7812.5KB\n"
     ]
    }
   ],
   "source": [
    "large_array = arange_by_shape((100, 100, 100), 1)\n",
    "print(f\"数组 shape={large_array.shape}, nbytes={large_array.nbytes / 1024}KB\")"
   ]
  },
  {
   "cell_type": "markdown",
   "id": "2e5aaf74",
   "metadata": {},
   "source": [
    "默认情况下, `np.nditer` 函数返回的迭代器会逐个迭代数组中的每个元素, 此时循环次数最多, 执行效率最低"
   ]
  },
  {
   "cell_type": "code",
   "execution_count": 16,
   "id": "601f68eb",
   "metadata": {},
   "outputs": [
    {
     "name": "stdout",
     "output_type": "stream",
     "text": [
      "\n",
      "数组元素求和结果: 500000500000, 迭代次数: 1000000\n",
      "CPU times: user 652 ms, sys: 196 μs, total: 652 ms\n",
      "Wall time: 651 ms\n"
     ]
    }
   ],
   "source": [
    "%%time\n",
    "\n",
    "total, count = 0, 0\n",
    "\n",
    "# 逐元素迭代\n",
    "for e in np.nditer(large_array):\n",
    "    total += e\n",
    "    count += 1\n",
    "\n",
    "print(f\"\\n数组元素求和结果: {total}, 迭代次数: {count}\")"
   ]
  },
  {
   "cell_type": "markdown",
   "id": "d7871e6f",
   "metadata": {},
   "source": [
    "可以通过设置 `flags` 参数为 `”external_loop\"` 来设置循环要进行外部迭代, 默认情况下, 外部循环使用 C 语言元素顺序 (即行主序)， 将所有元素放在一个数组中一次性迭代\n",
    "\n",
    "故下例中, 迭代次数为 `1`, 也就是一次迭代返回了数组中的所有元素, 元素顺序以 C 顺序排列\n",
    "\n",
    "这种方式相当于没有为数组进行实际的迭代, 这也就是 \"外部循环\" 的含义"
   ]
  },
  {
   "cell_type": "code",
   "execution_count": 17,
   "id": "977afdfa",
   "metadata": {},
   "outputs": [
    {
     "name": "stdout",
     "output_type": "stream",
     "text": [
      "\n",
      "数组元素求和结果: 500000500000, 迭代次数: 1\n",
      "CPU times: user 1.15 ms, sys: 39 μs, total: 1.18 ms\n",
      "Wall time: 761 μs\n"
     ]
    }
   ],
   "source": [
    "%%time\n",
    "\n",
    "# 按块迭代\n",
    "total, count = 0, 0\n",
    "for e in np.nditer(large_array, flags=[\"external_loop\"], order=\"C\"):\n",
    "    total += e.sum()\n",
    "    count += 1\n",
    "\n",
    "print(f\"\\n数组元素求和结果: {total}, 迭代次数: {count}\")"
   ]
  },
  {
   "cell_type": "markdown",
   "id": "c11607b6",
   "metadata": {},
   "source": [
    "如果外部循环设置为 Fortran 语言顺序 (即列主序), 则会按数组的列进行迭代 (即按倒数第二维作为轴), 每次迭代获取一列, 故共迭代 `10000` 次 (即数组最后两维的乘积)"
   ]
  },
  {
   "cell_type": "code",
   "execution_count": 18,
   "id": "7ad517f9",
   "metadata": {},
   "outputs": [
    {
     "name": "stdout",
     "output_type": "stream",
     "text": [
      "\n",
      "数组元素求和结果: 500000500000, 迭代次数: 10000\n",
      "CPU times: user 11.1 ms, sys: 0 ns, total: 11.1 ms\n",
      "Wall time: 11 ms\n"
     ]
    }
   ],
   "source": [
    "%%time\n",
    "\n",
    "# 按块迭代\n",
    "total, count = 0, 0\n",
    "for e in np.nditer(large_array, flags=[\"external_loop\"], order=\"F\"):\n",
    "    total += e.sum()\n",
    "    count += 1\n",
    "\n",
    "print(f\"\\n数组元素求和结果: {total}, 迭代次数: {count}\")"
   ]
  },
  {
   "cell_type": "markdown",
   "id": "4f5e8eb6",
   "metadata": {},
   "source": [
    "注意: 外部循环无法迭代索引一起使用, 即一旦启用了外部循环, 则迭代过程中无法获取到数组元素的索引, 包括 `c_index`, `f_index` 以及 `multi_index`"
   ]
  },
  {
   "cell_type": "code",
   "execution_count": 19,
   "id": "9bcbb41e",
   "metadata": {},
   "outputs": [
    {
     "name": "stdout",
     "output_type": "stream",
     "text": [
      "\u001b[31m无法迭代数组: Iterator flag EXTERNAL_LOOP cannot be used if an index or multi-index is being tracked\u001b[39m\n"
     ]
    }
   ],
   "source": [
    "import colorama as co\n",
    "\n",
    "try:\n",
    "    np.nditer(large_array, flags=[\"external_loop\", \"multi_index\"])\n",
    "except Exception as err:\n",
    "    print(f\"{co.Fore.RED}无法迭代数组: {err}{co.Fore.RESET}\")"
   ]
  },
  {
   "cell_type": "code",
   "execution_count": 20,
   "id": "4b638e6d",
   "metadata": {},
   "outputs": [
    {
     "name": "stdout",
     "output_type": "stream",
     "text": [
      "\n",
      "● a:\n",
      "[[[ 1  2  3  4]\n",
      "  [ 5  6  7  8]\n",
      "  [ 9 10 11 12]]\n",
      "\n",
      " [[13 14 15 16]\n",
      "  [17 18 19 20]\n",
      "  [21 22 23 24]]], shape=(2, 3, 4)\n",
      "● r1:\n",
      "[[140 160 180 200]\n",
      " [220 240 260 280]\n",
      " [300 320 340 360]], shape=(3, 4)\n",
      "● r2:\n",
      "[[150 180 210 240]\n",
      " [510 540 570 600]], shape=(2, 4)\n",
      "● r3:\n",
      "[[100 260 420]\n",
      " [580 740 900]], shape=(2, 3)\n"
     ]
    }
   ],
   "source": [
    "def add_(data, vals: np.ndarray) -> None:\n",
    "    return np.sum(data * vals)\n",
    "\n",
    "\n",
    "a = arange_by_shape((2, 3, 4), 1)\n",
    "\n",
    "r1 = np.apply_along_axis(add_, 0, a, np.array(10))\n",
    "r2 = np.apply_along_axis(add_, 1, a, np.array(10))\n",
    "r3 = np.apply_along_axis(add_, 2, a, np.array(10))\n",
    "\n",
    "aprint(\n",
    "    \"\",\n",
    "    {\n",
    "        \"a\": a,\n",
    "        \"r1\": r1,\n",
    "        \"r2\": r2,\n",
    "        \"r3\": r3,\n",
    "    },\n",
    ")\n"
   ]
  }
 ],
 "metadata": {
  "kernelspec": {
   "display_name": ".venv",
   "language": "python",
   "name": "python3"
  },
  "language_info": {
   "codemirror_mode": {
    "name": "ipython",
    "version": 3
   },
   "file_extension": ".py",
   "mimetype": "text/x-python",
   "name": "python",
   "nbconvert_exporter": "python",
   "pygments_lexer": "ipython3",
   "version": "3.13.5"
  }
 },
 "nbformat": 4,
 "nbformat_minor": 5
}
