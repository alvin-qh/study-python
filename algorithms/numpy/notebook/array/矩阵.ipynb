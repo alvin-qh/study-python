{
 "cells": [
  {
   "cell_type": "markdown",
   "id": "2582da50",
   "metadata": {},
   "source": [
    "# 矩阵"
   ]
  },
  {
   "cell_type": "code",
   "execution_count": 1,
   "id": "faec6685",
   "metadata": {},
   "outputs": [],
   "source": [
    "import numpy as np\n",
    "\n",
    "from display import aprint"
   ]
  },
  {
   "cell_type": "markdown",
   "id": "3512806d",
   "metadata": {},
   "source": [
    "再 Numpy 中, 矩阵 (Matrix) 维度 (dim) 固定为 `2` 的数组 (二维数组)\n",
    "\n",
    "- 矩阵乘法: `@`\n",
    "- 矩阵转置: `.T`\n",
    "- 矩阵转置: `.transpose()`\n",
    "- 矩阵转置: `.conjugate_transpose()`\n",
    "- 矩阵转置: `.conjugate()`\n",
    "- 矩阵转置: `.conj()`\n",
    "- 矩阵转置: `.H`\n",
    "- 矩阵转置: `.T`\n",
    "- 矩阵转置: `.transpose()`"
   ]
  },
  {
   "cell_type": "markdown",
   "id": "37f5cb1a",
   "metadata": {},
   "source": [
    "可以将维度小于 `2` ($dim \\le 2$) 的数组赋值给矩阵, 得到的矩阵对象维度 (dim) 会扩展为 `2`"
   ]
  },
  {
   "cell_type": "code",
   "execution_count": 20,
   "id": "b37fb017",
   "metadata": {},
   "outputs": [
    {
     "name": "stdout",
     "output_type": "stream",
     "text": [
      "矩阵\n",
      "- m1:\n",
      "[[10]], shape=(1, 1)\n",
      "- m2:\n",
      "[[10]], shape=(1, 1)\n",
      "- m3:\n",
      "[[1 2 3 4]], shape=(1, 4)\n",
      "- m4:\n",
      "[[1 2 3 4]], shape=(1, 4)\n",
      "- m5:\n",
      "[[1 2 3 4]\n",
      " [5 6 7 8]], shape=(2, 4)\n",
      "\n",
      "创建矩阵失败: matrix must be 2-dimensional\n"
     ]
    }
   ],
   "source": [
    "# 通过 dim <= 2 的数组创建矩阵\n",
    "# 无论是通过单值, 1 维数组以及 2 维数组创建矩阵, 都会将其维度扩展为 2 维\n",
    "m1 = np.matrix(10)\n",
    "m2 = np.matrix([10])\n",
    "m3 = np.matrix([1, 2, 3, 4])\n",
    "m4 = np.matrix([[1, 2, 3, 4]])\n",
    "m5 = np.matrix([[1, 2, 3, 4], [5, 6, 7, 8]])\n",
    "aprint(\n",
    "    \"矩阵\",\n",
    "    {\n",
    "        \"m1\": m1,\n",
    "        \"m2\": m2,\n",
    "        \"m3\": m3,\n",
    "        \"m4\": m4,\n",
    "        \"m5\": m5,\n",
    "    },\n",
    ")\n",
    "\n",
    "# 如果通过维度为 2 以上的数组创建矩阵, 则会导致错误\n",
    "arr = [\n",
    "    [[1, 2], [3, 4], [5, 6]],\n",
    "    [[7, 8], [9, 10], [11, 12]],\n",
    "]\n",
    "try:\n",
    "    m6 = np.matrix(arr)\n",
    "except Exception as e:\n",
    "    print(f\"\\n创建矩阵失败: {e}\")"
   ]
  },
  {
   "cell_type": "code",
   "execution_count": 25,
   "id": "a167680a",
   "metadata": {},
   "outputs": [
    {
     "ename": "ValueError",
     "evalue": "operands could not be broadcast together with shapes (2,2) (2,3) ",
     "output_type": "error",
     "traceback": [
      "\u001b[31m---------------------------------------------------------------------------\u001b[39m",
      "\u001b[31mValueError\u001b[39m                                Traceback (most recent call last)",
      "\u001b[36mCell\u001b[39m\u001b[36m \u001b[39m\u001b[32mIn[25]\u001b[39m\u001b[32m, line 8\u001b[39m\n\u001b[32m      1\u001b[39m m1 = np.matrix([[\u001b[32m1\u001b[39m, \u001b[32m2\u001b[39m], [\u001b[32m3\u001b[39m, \u001b[32m4\u001b[39m]])\n\u001b[32m      2\u001b[39m m2 = np.matrix([[\u001b[32m10\u001b[39m, \u001b[32m20\u001b[39m, \u001b[32m30\u001b[39m], [\u001b[32m30\u001b[39m, \u001b[32m40\u001b[39m, \u001b[32m50\u001b[39m]])\n\u001b[32m      3\u001b[39m aprint(\n\u001b[32m      4\u001b[39m     \u001b[33m\"\u001b[39m\u001b[33m矩阵相加\u001b[39m\u001b[33m\"\u001b[39m,\n\u001b[32m      5\u001b[39m     {\n\u001b[32m      6\u001b[39m         \u001b[33m\"\u001b[39m\u001b[33mm1\u001b[39m\u001b[33m\"\u001b[39m: m1,\n\u001b[32m      7\u001b[39m         \u001b[33m\"\u001b[39m\u001b[33mm2\u001b[39m\u001b[33m\"\u001b[39m: m2,\n\u001b[32m----> \u001b[39m\u001b[32m8\u001b[39m         \u001b[33m\"\u001b[39m\u001b[33mm1 + m2\u001b[39m\u001b[33m\"\u001b[39m: \u001b[43mm1\u001b[49m\u001b[43m \u001b[49m\u001b[43m+\u001b[49m\u001b[43m \u001b[49m\u001b[43mm2\u001b[49m,\n\u001b[32m      9\u001b[39m     },\n\u001b[32m     10\u001b[39m )\n",
      "\u001b[31mValueError\u001b[39m: operands could not be broadcast together with shapes (2,2) (2,3) "
     ]
    }
   ],
   "source": [
    "m1 = np.matrix([[1, 2], [3, 4]])\n",
    "m2 = np.matrix([[10, 20, 30], [30, 40, 50]])\n",
    "aprint(\n",
    "    \"矩阵相加\",\n",
    "    {\n",
    "        \"m1\": m1,\n",
    "        \"m2\": m2,\n",
    "        \"m1 + m2\": m1 + m2,\n",
    "    },\n",
    ")"
   ]
  }
 ],
 "metadata": {
  "kernelspec": {
   "display_name": ".venv",
   "language": "python",
   "name": "python3"
  },
  "language_info": {
   "codemirror_mode": {
    "name": "ipython",
    "version": 3
   },
   "file_extension": ".py",
   "mimetype": "text/x-python",
   "name": "python",
   "nbconvert_exporter": "python",
   "pygments_lexer": "ipython3",
   "version": "3.13.5"
  }
 },
 "nbformat": 4,
 "nbformat_minor": 5
}
