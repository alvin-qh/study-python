{
 "cells": [
  {
   "cell_type": "markdown",
   "id": "2582da50",
   "metadata": {},
   "source": [
    "# 矩阵"
   ]
  },
  {
   "cell_type": "code",
   "execution_count": 1,
   "id": "faec6685",
   "metadata": {},
   "outputs": [],
   "source": [
    "import numpy as np\n",
    "import colorama as co\n",
    "\n",
    "from display import aprint"
   ]
  },
  {
   "cell_type": "markdown",
   "id": "3512806d",
   "metadata": {},
   "source": [
    "再 Numpy 中, 矩阵 (Matrix) 维度 (dim) 固定为 `2` 的数组 (二维数组)\n",
    "\n",
    "- 矩阵乘法: `@`\n",
    "- 矩阵转置: `.T`\n",
    "- 矩阵转置: `.transpose()`\n",
    "- 矩阵转置: `.conjugate_transpose()`\n",
    "- 矩阵转置: `.conjugate()`\n",
    "- 矩阵转置: `.conj()`\n",
    "- 矩阵转置: `.H`\n",
    "- 矩阵转置: `.T`\n",
    "- 矩阵转置: `.transpose()`"
   ]
  },
  {
   "cell_type": "markdown",
   "id": "d5acf76c",
   "metadata": {},
   "source": [
    "## 1. 创建矩阵"
   ]
  },
  {
   "cell_type": "markdown",
   "id": "37f5cb1a",
   "metadata": {},
   "source": [
    "可以将维度小于 `2` ($dim \\le 2$) 的数组赋值给矩阵, 得到的矩阵对象维度 (dim) 会自动扩展为 `2`, 即可通过任意维度小于等于 `2` 的数组创建二维矩阵"
   ]
  },
  {
   "cell_type": "code",
   "execution_count": 2,
   "id": "b37fb017",
   "metadata": {},
   "outputs": [
    {
     "name": "stdout",
     "output_type": "stream",
     "text": [
      "矩阵:\n",
      "● m1:\n",
      "[[10]], shape=(1, 1)\n",
      "● m2:\n",
      "[[10]], shape=(1, 1)\n",
      "● m3:\n",
      "[[1 2 3 4]], shape=(1, 4)\n",
      "● m4:\n",
      "[[1 2 3 4]], shape=(1, 4)\n",
      "● m5:\n",
      "[[1 2 3 4]\n",
      " [5 6 7 8]], shape=(2, 4)\n"
     ]
    }
   ],
   "source": [
    "# 通过单值创建矩阵, 得到的矩阵 shape 为 `(1, 1)`\n",
    "m1 = np.matrix(10)\n",
    "\n",
    "# 通过 shape 为 `(1,)` 的一维数组创建矩阵, 得到的矩阵 shape 为 `(1, 1)`\n",
    "m2 = np.matrix([10])\n",
    "\n",
    "# 通过 shape 为 `(4,)` 的一维数组创建矩阵, 得到的矩阵 shape 为 `(1, 4)`\n",
    "m3 = np.matrix([1, 2, 3, 4])\n",
    "\n",
    "# 通过 shape 为 `(1, 4)` 的二维数组创建矩阵, 得到的矩阵 shape 为 `(1, 4)`\n",
    "m4 = np.matrix([[1, 2, 3, 4]])\n",
    "\n",
    "# 通过 shape 为 `(2, 4)` 的二维数组创建矩阵, 得到的矩阵 shape 为 `(2, 4)`\n",
    "m5 = np.matrix([[1, 2, 3, 4], [5, 6, 7, 8]])\n",
    "\n",
    "aprint(\n",
    "    \"矩阵:\",\n",
    "    {\n",
    "        \"m1\": m1,\n",
    "        \"m2\": m2,\n",
    "        \"m3\": m3,\n",
    "        \"m4\": m4,\n",
    "        \"m5\": m5,\n",
    "    },\n",
    ")"
   ]
  },
  {
   "cell_type": "markdown",
   "id": "18f935e0",
   "metadata": {},
   "source": [
    "如果通过维度为 2 以上的数组创建矩阵, 则会导致错误"
   ]
  },
  {
   "cell_type": "code",
   "execution_count": 3,
   "id": "d32639da",
   "metadata": {},
   "outputs": [
    {
     "name": "stdout",
     "output_type": "stream",
     "text": [
      "\n",
      "\u001b[31m通过数组\n",
      "[[[ 1  2]\n",
      "  [ 3  4]\n",
      "  [ 5  6]]\n",
      "\n",
      " [[ 7  8]\n",
      "  [ 9 10]\n",
      "  [11 12]]], dim=3\n",
      "创建矩阵失败: matrix must be 2-dimensional\u001b[39m\n"
     ]
    }
   ],
   "source": [
    "arr = [\n",
    "    [[1, 2], [3, 4], [5, 6]],\n",
    "    [[7, 8], [9, 10], [11, 12]],\n",
    "]\n",
    "\n",
    "try:\n",
    "    # 通过三维数组创建矩阵, 会抛出异常\n",
    "    m6 = np.matrix(arr)\n",
    "except Exception as e:\n",
    "    arr = np.array(arr)\n",
    "    print(\n",
    "        f\"\\n{co.Fore.RED}通过数组\\n{arr}, dim={arr.ndim}\\n创建矩阵失败: {e}{co.Fore.RESET}\"\n",
    "    )"
   ]
  },
  {
   "cell_type": "markdown",
   "id": "467739fa",
   "metadata": {},
   "source": [
    "## 2. 矩阵运算"
   ]
  },
  {
   "cell_type": "markdown",
   "id": "a497a192",
   "metadata": {},
   "source": [
    "Numpy 的矩阵运算和二维数组运算规则一致"
   ]
  },
  {
   "cell_type": "markdown",
   "id": "38c455bf",
   "metadata": {},
   "source": [
    "### 2.1. 矩阵加法"
   ]
  },
  {
   "cell_type": "markdown",
   "id": "640cafbf",
   "metadata": {},
   "source": [
    "两个矩阵相加, 其运算规则就相当于两个二维数组相加\n",
    "\n",
    "本例中, 将两个 shape 为 `(2, 2)` 的矩阵进行相加"
   ]
  },
  {
   "cell_type": "code",
   "execution_count": 4,
   "id": "a167680a",
   "metadata": {},
   "outputs": [
    {
     "name": "stdout",
     "output_type": "stream",
     "text": [
      "两个矩阵相加\n",
      "● m1:\n",
      "[[1 2]\n",
      " [3 4]], shape=(2, 2)\n",
      "● m2:\n",
      "[[10 20]\n",
      " [30 40]], shape=(2, 2)\n",
      "● m1 + m2:\n",
      "[[11 22]\n",
      " [33 44]], shape=(2, 2)\n"
     ]
    }
   ],
   "source": [
    "m1 = np.matrix([[1, 2], [3, 4]])\n",
    "m2 = np.matrix([[10, 20], [30, 40]])\n",
    "aprint(\n",
    "    \"两个矩阵相加\",\n",
    "    {\n",
    "        \"m1\": m1,\n",
    "        \"m2\": m2,\n",
    "        \"m1 + m2\": m1 + m2,\n",
    "    },\n",
    ")"
   ]
  },
  {
   "cell_type": "markdown",
   "id": "3ca140b5",
   "metadata": {},
   "source": [
    "和二维数组加法类似, 两个矩阵如果 shape 不同, 且不满足广播规则, 则矩阵无法进行加法运算, 会抛出 `ValueError` 错误"
   ]
  },
  {
   "cell_type": "code",
   "execution_count": 5,
   "id": "8baa069c",
   "metadata": {},
   "outputs": [
    {
     "name": "stdout",
     "output_type": "stream",
     "text": [
      "\n",
      "\u001b[31m矩阵:\n",
      "[[1 2]\n",
      " [3 4]], shape=(2, 2)\n",
      "和矩阵:\n",
      "[[10 20 30]\n",
      " [40 50 60]], shape=(2, 3)\n",
      "无法相加: operands could not be broadcast together with shapes (2,2) (2,3) \u001b[39m\n"
     ]
    }
   ],
   "source": [
    "m1 = np.matrix([[1, 2], [3, 4]])\n",
    "m2 = np.matrix([[10, 20, 30], [40, 50, 60]])\n",
    "\n",
    "try:\n",
    "    m1 + m2  # type: ignore\n",
    "except ValueError as e:\n",
    "    print(\n",
    "        f\"\\n{co.Fore.RED}矩阵:\\n{m1}, shape={m1.shape}\\n和矩阵:\\n{m2}, shape={m2.shape}\\n无法相加: {e}{co.Fore.RESET}\"\n",
    "    )"
   ]
  },
  {
   "cell_type": "markdown",
   "id": "05e06e88",
   "metadata": {},
   "source": [
    "可以将矩阵和数组相加, 相加时会将数组转化为矩阵\n",
    "\n",
    "本例中, 将一个 shape 为 `(2, 2)` 的矩阵和一个 shape 为 `(2, 2)` 的数组进行相加"
   ]
  },
  {
   "cell_type": "code",
   "execution_count": 6,
   "id": "7615685f",
   "metadata": {},
   "outputs": [
    {
     "name": "stdout",
     "output_type": "stream",
     "text": [
      "矩阵和二维数组相加\n",
      "● m1:\n",
      "[[1 2]\n",
      " [3 4]], shape=(2, 2)\n",
      "● m2:\n",
      "[[10 20]\n",
      " [30 40]], shape=(2, 2)\n",
      "● m1 + m2:\n",
      "[[11 22]\n",
      " [33 44]], shape=(2, 2)\n"
     ]
    }
   ],
   "source": [
    "m1 = np.matrix([[1, 2], [3, 4]])\n",
    "m2 = np.array([[10, 20], [30, 40]])\n",
    "aprint(\n",
    "    \"矩阵和二维数组相加\",\n",
    "    {\n",
    "        \"m1\": m1,\n",
    "        \"m2\": m2,\n",
    "        \"m1 + m2\": m1 + m2,\n",
    "    },\n",
    ")"
   ]
  },
  {
   "cell_type": "markdown",
   "id": "6d1ecba8",
   "metadata": {},
   "source": [
    "如果相加的二维数组不足二维, 则在形成矩阵时会将其转换为二维\n",
    "\n",
    "本例中, 将一个 shape 为 `(2, 2)` 的矩阵和一个值为 `10` 的标量相加, 整个过程如下:\n",
    "\n",
    "1. 将标量转换为 shape 为 `(1, 1)` 的矩阵\n",
    "2. 通过广播机制, 将 shape 为 `(1, 1)` 的矩阵扩展为 shape 为 `(2, 2)` 的矩阵\n",
    "3. 将两个 shape 为 `(2, 2)` 的矩阵相加"
   ]
  },
  {
   "cell_type": "code",
   "execution_count": 7,
   "id": "108c9cfd",
   "metadata": {},
   "outputs": [
    {
     "name": "stdout",
     "output_type": "stream",
     "text": [
      "\n",
      "矩阵和二维数组相加\n",
      "● m1:\n",
      "[[1 2]\n",
      " [3 4]], shape=(2, 2)\n",
      "● m2:\n",
      "10, shape=()\n",
      "● m1 + m2:\n",
      "[[11 12]\n",
      " [13 14]], shape=(2, 2)\n"
     ]
    }
   ],
   "source": [
    "m1 = np.matrix([[1, 2], [3, 4]])\n",
    "m2 = np.array(10)\n",
    "aprint(\n",
    "    \"\\n矩阵和二维数组相加\",\n",
    "    {\n",
    "        \"m1\": m1,\n",
    "        \"m2\": m2,\n",
    "        \"m1 + m2\": m1 + m2,\n",
    "    },\n",
    ")"
   ]
  },
  {
   "cell_type": "markdown",
   "id": "6dc25cc6",
   "metadata": {},
   "source": [
    "如果相加的二维数组不足二维, 则在形成矩阵时会将其转换为二维\n",
    "\n",
    "本例中, 将一个 shape 为 `(2, 2)` 的矩阵和一个值为 shape 为 `(1,)` 的一维数组相加, 整个过程如下:\n",
    "\n",
    "1. 将 shape 为 `(1,)` 的一维数组扩展为 shape 为 `(1, 1)` 的矩阵\n",
    "2. 通过广播机制, 将 shape 为 `(1, 1)` 的矩阵扩展为 shape 为 `(2, 2)` 的矩阵\n",
    "3. 将两个 shape 为 `(2, 2)` 的矩阵相加"
   ]
  },
  {
   "cell_type": "code",
   "execution_count": 8,
   "id": "02471da9",
   "metadata": {},
   "outputs": [
    {
     "name": "stdout",
     "output_type": "stream",
     "text": [
      "\n",
      "矩阵和二维数组相加\n",
      "● m1:\n",
      "[[1 2]\n",
      " [3 4]], shape=(2, 2)\n",
      "● m2:\n",
      "[10], shape=(1,)\n",
      "● m1 + m2:\n",
      "[[11 12]\n",
      " [13 14]], shape=(2, 2)\n"
     ]
    }
   ],
   "source": [
    "m1 = np.matrix([[1, 2], [3, 4]])\n",
    "m2 = np.array([10])\n",
    "aprint(\n",
    "    \"\\n矩阵和二维数组相加\",\n",
    "    {\n",
    "        \"m1\": m1,\n",
    "        \"m2\": m2,\n",
    "        \"m1 + m2\": m1 + m2,\n",
    "    },\n",
    ")"
   ]
  },
  {
   "cell_type": "markdown",
   "id": "51bb8fe8",
   "metadata": {},
   "source": [
    "如果相加的二维数组不足二维, 则在形成矩阵时会将其转换为二维\n",
    "\n",
    "本例中, 将一个 shape 为 `(2, 2)` 的矩阵和一个 shape 为 `(2,)` 的数组相加, 整个过程如下:\n",
    "\n",
    "1. 将 shape 为 `(2,)` 的数组扩展为 shape 为 `(1, 2)` 的矩阵\n",
    "2. 通过广播机制, 将 shape 为 `(1, 2)` 的矩阵扩展为 shape 为 `(2, 2)` 的矩阵\n",
    "3. 将两个 shape 为 `(2, 2)` 的矩阵相加"
   ]
  },
  {
   "cell_type": "code",
   "execution_count": 9,
   "id": "a95ae659",
   "metadata": {},
   "outputs": [
    {
     "name": "stdout",
     "output_type": "stream",
     "text": [
      "\n",
      "矩阵和二维数组相加\n",
      "● m1:\n",
      "[[1 2]\n",
      " [3 4]], shape=(2, 2)\n",
      "● m2:\n",
      "[10 20], shape=(2,)\n",
      "● m1 + m2:\n",
      "[[11 22]\n",
      " [13 24]], shape=(2, 2)\n"
     ]
    }
   ],
   "source": [
    "m1 = np.matrix([[1, 2], [3, 4]])\n",
    "m2 = np.array([10, 20])\n",
    "aprint(\n",
    "    \"\\n矩阵和二维数组相加\",\n",
    "    {\n",
    "        \"m1\": m1,\n",
    "        \"m2\": m2,\n",
    "        \"m1 + m2\": m1 + m2,\n",
    "    },\n",
    ")"
   ]
  }
 ],
 "metadata": {
  "kernelspec": {
   "display_name": ".venv",
   "language": "python",
   "name": "python3"
  },
  "language_info": {
   "codemirror_mode": {
    "name": "ipython",
    "version": 3
   },
   "file_extension": ".py",
   "mimetype": "text/x-python",
   "name": "python",
   "nbconvert_exporter": "python",
   "pygments_lexer": "ipython3",
   "version": "3.13.7"
  }
 },
 "nbformat": 4,
 "nbformat_minor": 5
}
