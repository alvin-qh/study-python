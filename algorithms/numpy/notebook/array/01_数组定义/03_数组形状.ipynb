{
 "cells": [
  {
   "cell_type": "markdown",
   "id": "409705e0",
   "metadata": {},
   "source": [
    "# 数组形状"
   ]
  },
  {
   "cell_type": "code",
   "execution_count": 1,
   "id": "a0b6e2a2",
   "metadata": {},
   "outputs": [],
   "source": [
    "import numpy as np\n",
    "\n",
    "from display import aprint\n",
    "from array_ import arange_by_shape"
   ]
  },
  {
   "cell_type": "code",
   "execution_count": 2,
   "id": "15b9305f",
   "metadata": {},
   "outputs": [
    {
     "name": "stdout",
     "output_type": "stream",
     "text": [
      "数组内容:\n",
      "[ 1  2  3  4  5  6  7  8  9 10 11 12 13 14 15 16 17 18 19 20 21 22 23 24], shape=(24,)\n",
      "\n",
      "数组内容:\n",
      "[[ 1  2  3  4  5  6  7  8  9 10 11 12]\n",
      " [13 14 15 16 17 18 19 20 21 22 23 24]], shape=(2, 12)\n",
      "\n",
      "数组内容:\n",
      "[[[ 1  2  3  4]\n",
      "  [ 5  6  7  8]\n",
      "  [ 9 10 11 12]]\n",
      "\n",
      " [[13 14 15 16]\n",
      "  [17 18 19 20]\n",
      "  [21 22 23 24]]], shape=(2, 3, 4)\n",
      "\n",
      "数组内容:\n",
      "[ 1  2  3  4  5  6  7  8  9 10 11 12 13 14 15 16 17 18 19 20 21 22 23 24], shape=(24,)\n"
     ]
    }
   ],
   "source": [
    "# 定义一个 24 个元素的一维数组\n",
    "a = np.arange(1, 25)\n",
    "print(f\"数组内容:\\n{a}, shape={a.shape}\")\n",
    "\n",
    "# 改变数组的形状, 将一维数组改为二维数组\n",
    "# `-1` 表示自动计算维度, 只有最后一个维度可以为 `-1`\n",
    "a = a.reshape(2, -1)\n",
    "print(f\"\\n数组内容:\\n{a}, shape={a.shape}\")\n",
    "\n",
    "# 改变数组的形状, 将二维数组改为三维数组\n",
    "# `-1` 表示自动计算维度, 只有最后一个维度可以为 `-1`\n",
    "a = a.reshape(2, 3, -1)\n",
    "print(f\"\\n数组内容:\\n{a}, shape={a.shape}\")\n",
    "\n",
    "# 改变数组的形状, 将三维数组改为一维数组\n",
    "a = a.reshape(-1)\n",
    "print(f\"\\n数组内容:\\n{a}, shape={a.shape}\")\n",
    "\n",
    "# 如果目标形状无法达成 (及元素个数无法满足目标形状要求), 则操作失败\n",
    "# data = data.reshape(2, 5, -1)"
   ]
  }
 ],
 "metadata": {
  "kernelspec": {
   "display_name": ".venv",
   "language": "python",
   "name": "python3"
  },
  "language_info": {
   "codemirror_mode": {
    "name": "ipython",
    "version": 3
   },
   "file_extension": ".py",
   "mimetype": "text/x-python",
   "name": "python",
   "nbconvert_exporter": "python",
   "pygments_lexer": "ipython3",
   "version": "3.13.7"
  }
 },
 "nbformat": 4,
 "nbformat_minor": 5
}
