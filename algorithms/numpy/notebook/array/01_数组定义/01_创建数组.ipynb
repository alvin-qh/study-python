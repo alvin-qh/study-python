{
 "cells": [
  {
   "cell_type": "markdown",
   "id": "445358cc",
   "metadata": {},
   "source": [
    "# 创建数组"
   ]
  },
  {
   "cell_type": "markdown",
   "id": "9736a757",
   "metadata": {},
   "source": [
    "Numpy 通过 `NdArray` 类型支持大规模数组操作, 为各类线性数据计算提供了高性能的实现\n",
    "\n",
    "Numpy 的数组实现分为了几个层次:\n",
    "\n",
    "- 存储: 指的是数组元素在内存中具体的存储方式 (内存布局), Numpy 是以连续内存空间来存储数组元素的, 具体内存布局又分为 C 模式 (行主序) 或 Fortran 模式 (列主序), 不同的内存布局模式会影响数组元素的迭代访问和计算性能\n",
    "- 索引: 指的是数组元素如何通过索引访问, 数组索引保证了无论数组以何种内存布局进行存储, 都可以以数学概念上的顺序对数组元素进行访问和计算\n",
    "- 视图: 当数组产生后, 会同时产生一个视图对象对该数组进行引用, 即通过视图对数组进行访问, 这样可以减少数组元素的复制开销, 除非明确指定需要对数组进行复制"
   ]
  },
  {
   "cell_type": "code",
   "execution_count": 217,
   "id": "56960715",
   "metadata": {},
   "outputs": [],
   "source": [
    "import numpy as np"
   ]
  },
  {
   "cell_type": "markdown",
   "id": "b5ae0256",
   "metadata": {},
   "source": [
    "## 1. 通过集合创建"
   ]
  },
  {
   "cell_type": "markdown",
   "id": "80411b8d",
   "metadata": {},
   "source": [
    "### 1.1. 通过一维列表对象创建数组"
   ]
  },
  {
   "cell_type": "code",
   "execution_count": 218,
   "id": "d220c863",
   "metadata": {},
   "outputs": [
    {
     "name": "stdout",
     "output_type": "stream",
     "text": [
      "一维数组内容:\n",
      "[1 2 3 4]\n"
     ]
    }
   ],
   "source": [
    "a = np.array([1, 2, 3, 4])\n",
    "print(f\"一维数组内容:\\n{a}\")"
   ]
  },
  {
   "cell_type": "markdown",
   "id": "9c19cbf1",
   "metadata": {},
   "source": [
    "### 1.2. 通过二维列表对象创建数组"
   ]
  },
  {
   "cell_type": "code",
   "execution_count": 219,
   "id": "3ed857d7",
   "metadata": {},
   "outputs": [
    {
     "name": "stdout",
     "output_type": "stream",
     "text": [
      "\n",
      "二维数组内容:\n",
      "[[1 2 3 4]\n",
      " [5 6 7 8]]\n"
     ]
    }
   ],
   "source": [
    "a = np.array([[1, 2, 3, 4], [5, 6, 7, 8]])\n",
    "print(f\"\\n二维数组内容:\\n{a}\")"
   ]
  },
  {
   "cell_type": "markdown",
   "id": "8937aee0",
   "metadata": {},
   "source": [
    "### 1.3. 通过三维列表对象创建数组"
   ]
  },
  {
   "cell_type": "code",
   "execution_count": 220,
   "id": "d34e312f",
   "metadata": {},
   "outputs": [
    {
     "name": "stdout",
     "output_type": "stream",
     "text": [
      "\n",
      "三维数组内容:\n",
      "[[[ 1  2  3  4]\n",
      "  [ 5  6  7  8]\n",
      "  [ 9 10 11 12]]\n",
      "\n",
      " [[13 14 15 16]\n",
      "  [17 18 19 20]\n",
      "  [21 22 23 24]]]\n"
     ]
    }
   ],
   "source": [
    "a = np.array(\n",
    "    [\n",
    "        [\n",
    "            [1, 2, 3, 4],\n",
    "            [5, 6, 7, 8],\n",
    "            [9, 10, 11, 12],\n",
    "        ],\n",
    "        [\n",
    "            [13, 14, 15, 16],\n",
    "            [17, 18, 19, 20],\n",
    "            [21, 22, 23, 24],\n",
    "        ],\n",
    "    ]\n",
    ")\n",
    "print(f\"\\n三维数组内容:\\n{a}\")"
   ]
  },
  {
   "cell_type": "markdown",
   "id": "c36ab53a",
   "metadata": {},
   "source": [
    "## 2. 创建元素值为 `0` 数组"
   ]
  },
  {
   "cell_type": "markdown",
   "id": "47cf05cd",
   "metadata": {},
   "source": [
    "通过 `np.zeros` 函数可以创建一个元素值都为 `0` 的数组, 可以通过 `shape` 参数指定数组的形状"
   ]
  },
  {
   "cell_type": "markdown",
   "id": "48d82909",
   "metadata": {},
   "source": [
    "### 2.1. 创建元素值为 `0` 的一维数组"
   ]
  },
  {
   "cell_type": "code",
   "execution_count": 221,
   "id": "b08c830b",
   "metadata": {},
   "outputs": [
    {
     "name": "stdout",
     "output_type": "stream",
     "text": [
      "一维数组内容:\n",
      "[0. 0. 0. 0.]\n"
     ]
    }
   ],
   "source": [
    "a = np.zeros(shape=(4))\n",
    "print(f\"一维数组内容:\\n{a}\")"
   ]
  },
  {
   "cell_type": "markdown",
   "id": "54b7f529",
   "metadata": {},
   "source": [
    "### 2.2. 建元素值为 `0` 的二维数组"
   ]
  },
  {
   "cell_type": "code",
   "execution_count": 222,
   "id": "69addc8e",
   "metadata": {},
   "outputs": [
    {
     "name": "stdout",
     "output_type": "stream",
     "text": [
      "\n",
      "二维数组内容:\n",
      "[[0. 0. 0. 0.]\n",
      " [0. 0. 0. 0.]\n",
      " [0. 0. 0. 0.]]\n"
     ]
    }
   ],
   "source": [
    "a = np.zeros(shape=(3, 4))\n",
    "print(f\"\\n二维数组内容:\\n{a}\")"
   ]
  },
  {
   "cell_type": "markdown",
   "id": "d2117db2",
   "metadata": {},
   "source": [
    "### 2.3. 创建元素值为 `0` 的三维数组"
   ]
  },
  {
   "cell_type": "code",
   "execution_count": 223,
   "id": "b4ba189d",
   "metadata": {},
   "outputs": [
    {
     "name": "stdout",
     "output_type": "stream",
     "text": [
      "\n",
      "三维数组内容:\n",
      "[[[0. 0. 0. 0.]\n",
      "  [0. 0. 0. 0.]\n",
      "  [0. 0. 0. 0.]]\n",
      "\n",
      " [[0. 0. 0. 0.]\n",
      "  [0. 0. 0. 0.]\n",
      "  [0. 0. 0. 0.]]]\n"
     ]
    }
   ],
   "source": [
    "a = np.zeros(shape=(2, 3, 4))\n",
    "print(f\"\\n三维数组内容:\\n{a}\")"
   ]
  },
  {
   "cell_type": "markdown",
   "id": "a34a2977",
   "metadata": {},
   "source": [
    "## 3. 创建元素值为 `1` 的数组"
   ]
  },
  {
   "cell_type": "markdown",
   "id": "6260c0f4",
   "metadata": {},
   "source": [
    "通过 `np.ones` 函数可以创建一个元素值都为 `1` 的数组, 可以通过 `shape` 参数指定数组的形状"
   ]
  },
  {
   "cell_type": "markdown",
   "id": "1e7fb31f",
   "metadata": {},
   "source": [
    "### 3.1. 创建元素值为 `1` 的一维数组"
   ]
  },
  {
   "cell_type": "code",
   "execution_count": 224,
   "id": "62ce3f6c",
   "metadata": {},
   "outputs": [
    {
     "name": "stdout",
     "output_type": "stream",
     "text": [
      "一维数组内容:\n",
      "[1. 1. 1. 1.]\n"
     ]
    }
   ],
   "source": [
    "a = np.ones(shape=(4))\n",
    "print(f\"一维数组内容:\\n{a}\")"
   ]
  },
  {
   "cell_type": "markdown",
   "id": "eab597ef",
   "metadata": {},
   "source": [
    "### 3.2. 创建元素值为 `1` 的二维数组"
   ]
  },
  {
   "cell_type": "code",
   "execution_count": 225,
   "id": "45229d93",
   "metadata": {},
   "outputs": [
    {
     "name": "stdout",
     "output_type": "stream",
     "text": [
      "\n",
      "二维数组内容:\n",
      "[[1. 1. 1. 1.]\n",
      " [1. 1. 1. 1.]\n",
      " [1. 1. 1. 1.]]\n"
     ]
    }
   ],
   "source": [
    "a = np.ones(shape=(3, 4))\n",
    "print(f\"\\n二维数组内容:\\n{a}\")"
   ]
  },
  {
   "cell_type": "markdown",
   "id": "ca525640",
   "metadata": {},
   "source": [
    "### 3.3. 创建元素值为 `1` 的三维数组"
   ]
  },
  {
   "cell_type": "code",
   "execution_count": 226,
   "id": "e9c29c56",
   "metadata": {},
   "outputs": [
    {
     "name": "stdout",
     "output_type": "stream",
     "text": [
      "\n",
      "三维数组内容:\n",
      "[[[1. 1. 1. 1.]\n",
      "  [1. 1. 1. 1.]\n",
      "  [1. 1. 1. 1.]]\n",
      "\n",
      " [[1. 1. 1. 1.]\n",
      "  [1. 1. 1. 1.]\n",
      "  [1. 1. 1. 1.]]]\n"
     ]
    }
   ],
   "source": [
    "a = np.ones(shape=(2, 3, 4))\n",
    "print(f\"\\n三维数组内容:\\n{a}\")"
   ]
  },
  {
   "cell_type": "markdown",
   "id": "97b67a9b",
   "metadata": {},
   "source": [
    "## 4. 创建元素值为 \"空\" 的数组\n",
    "\n",
    "通过 `np.empty` 函数创建一个元素值为 \"空\" 的数组, 通过 `shape` 参数可以指定数组的形状\n",
    "\n",
    "注意:\n",
    "\n",
    "- 所谓元素值为 \"空\" 的数组，指的是直接分配内存, 且不会对元素所用内存进行初始化操作, 所以所分配内存中的内容是未知的 (或保留上次该区域内存使用的值)\n",
    "- 创建了元素值为 \"空\" 的数组后, 必须对数组元素值全部进行初始化\n",
    "- 对于已确定会对数组元素值进行全部初始化的场景, 通过 `np.empty` 函数创建数组可以提升程序效率"
   ]
  },
  {
   "cell_type": "markdown",
   "id": "de3a23ed",
   "metadata": {},
   "source": [
    "### 4.1. 创建元素值为 \"空\" 的一维数组"
   ]
  },
  {
   "cell_type": "code",
   "execution_count": 227,
   "id": "ed338287",
   "metadata": {},
   "outputs": [
    {
     "name": "stdout",
     "output_type": "stream",
     "text": [
      "一维数组内容:\n",
      "[1. 1. 1. 1.]\n"
     ]
    }
   ],
   "source": [
    "a = np.empty(shape=(4))\n",
    "print(f\"一维数组内容:\\n{a}\")"
   ]
  },
  {
   "cell_type": "markdown",
   "id": "0c66bdb4",
   "metadata": {},
   "source": [
    "### 4.2. 创建元素值为 \"空\" 的二维数组"
   ]
  },
  {
   "cell_type": "code",
   "execution_count": 228,
   "id": "f7dba9b9",
   "metadata": {},
   "outputs": [
    {
     "name": "stdout",
     "output_type": "stream",
     "text": [
      "\n",
      "二维数组内容:\n",
      "[[1. 1. 1. 1.]\n",
      " [1. 1. 1. 1.]\n",
      " [1. 1. 1. 1.]]\n"
     ]
    }
   ],
   "source": [
    "a = np.empty(shape=(3, 4))\n",
    "print(f\"\\n二维数组内容:\\n{a}\")"
   ]
  },
  {
   "cell_type": "markdown",
   "id": "4dca6c0f",
   "metadata": {},
   "source": [
    "### 4.3. 创建元素值为 \"空\" 的三维数组"
   ]
  },
  {
   "cell_type": "code",
   "execution_count": 229,
   "id": "d4ee11ca",
   "metadata": {},
   "outputs": [
    {
     "name": "stdout",
     "output_type": "stream",
     "text": [
      "\n",
      "三维数组内容:\n",
      "[[[1. 1. 1. 1.]\n",
      "  [1. 1. 1. 1.]\n",
      "  [1. 1. 1. 1.]]\n",
      "\n",
      " [[1. 1. 1. 1.]\n",
      "  [1. 1. 1. 1.]\n",
      "  [1. 1. 1. 1.]]]\n"
     ]
    }
   ],
   "source": [
    "a = np.empty(shape=(2, 3, 4))\n",
    "print(f\"\\n三维数组内容:\\n{a}\")"
   ]
  },
  {
   "cell_type": "markdown",
   "id": "e655baff",
   "metadata": {},
   "source": [
    "## 5. 创建等差数组"
   ]
  },
  {
   "cell_type": "markdown",
   "id": "ddc37d20",
   "metadata": {},
   "source": [
    "通过 `np.linspace` 函数可以创建一个元素值为**等差数列**的一维数组, 通过:\n",
    "\n",
    "- `start` 参数指定等差数列的起始值;\n",
    "- `end` 参数指定等差数列的结束值;\n",
    "- `num` 参数指定等差数列的元素个数;\n",
    "- `dtype` 参数指定数组元素的数据类型;\n",
    "- `retstep` 参数指定是否返回步长\n",
    "\n",
    "`np.linspace` 函数返回一个 `num` 个元素的数组, 数组的最小值为 `start` 参数指定的值, 数组最大的值为 `end` 参数指定的值, 每相邻两个元素值的差值相同"
   ]
  },
  {
   "cell_type": "markdown",
   "id": "a4cb2847",
   "metadata": {},
   "source": [
    "### 5.1. 差值为整数"
   ]
  },
  {
   "cell_type": "markdown",
   "id": "001e2126",
   "metadata": {},
   "source": [
    "如果设定的等差数列的最小值和最大值 (`start` 和 `stop` 参数) 可以被指定个数的元素 (`num` 参数值) 均分, 则等差数列的值将为整数值"
   ]
  },
  {
   "cell_type": "code",
   "execution_count": 230,
   "id": "d1eab4a3",
   "metadata": {},
   "outputs": [
    {
     "name": "stdout",
     "output_type": "stream",
     "text": [
      "数组内容:\n",
      "[ 1.  2.  3.  4.  5.  6.  7.  8.  9. 10.]\n",
      "数组差值:\n",
      "[1. 1. 1. 1. 1. 1. 1. 1. 1.]\n"
     ]
    }
   ],
   "source": [
    "a = np.linspace(1, 10, 10)\n",
    "print(f\"数组内容:\\n{a}\")\n",
    "print(f\"数组差值:\\n{np.diff(a)}\")"
   ]
  },
  {
   "cell_type": "markdown",
   "id": "4af42581",
   "metadata": {},
   "source": [
    "### 5.2. 差值为小数"
   ]
  },
  {
   "cell_type": "markdown",
   "id": "e7994284",
   "metadata": {},
   "source": [
    "如果设定的等差数列的最小值和最大值 (`start` 和 `stop` 参数) 无法被指定个数的元素 (`num` 参数值) 均分, 则等差数列的值将为小数值, 且有精度损失问题"
   ]
  },
  {
   "cell_type": "code",
   "execution_count": 231,
   "id": "6d0ff5a5",
   "metadata": {},
   "outputs": [
    {
     "name": "stdout",
     "output_type": "stream",
     "text": [
      "\n",
      "数组内容:\n",
      "[ 1.          1.47368421  1.94736842  2.42105263  2.89473684  3.36842105\n",
      "  3.84210526  4.31578947  4.78947368  5.26315789  5.73684211  6.21052632\n",
      "  6.68421053  7.15789474  7.63157895  8.10526316  8.57894737  9.05263158\n",
      "  9.52631579 10.        ]\n",
      "数组差值:\n",
      "[0.4737 0.4737 0.4737 0.4737 0.4737 0.4737 0.4737 0.4737 0.4737 0.4737\n",
      " 0.4737 0.4737 0.4737 0.4737 0.4737 0.4737 0.4737 0.4737 0.4737]\n"
     ]
    }
   ],
   "source": [
    "a = np.linspace(1, 10, 20)\n",
    "print(f\"\\n数组内容:\\n{a}\")\n",
    "print(f\"数组差值:\\n{np.round(np.diff(a), 4)}\")"
   ]
  },
  {
   "cell_type": "markdown",
   "id": "101e1270",
   "metadata": {},
   "source": [
    "## 6. 创建元素值为 `0`~`1` 随机数的数组"
   ]
  },
  {
   "cell_type": "markdown",
   "id": "c1d03c5a",
   "metadata": {},
   "source": [
    "通过 `np.random.rand` 函数可以创建元素为随机数的数组, 且数组元素的随机数范围在 `0`~`1` 之间, 该函数可传递多个参数值, 分别表示数组的维度"
   ]
  },
  {
   "cell_type": "markdown",
   "id": "167b4c3b",
   "metadata": {},
   "source": [
    "### 6.1. 创建随机元素值的一维数组"
   ]
  },
  {
   "cell_type": "code",
   "execution_count": 232,
   "id": "7d1573ad",
   "metadata": {},
   "outputs": [
    {
     "name": "stdout",
     "output_type": "stream",
     "text": [
      "创建 1 维数组:\n",
      "[0.56938208 0.99580193 0.11296485 0.93283413]\n"
     ]
    }
   ],
   "source": [
    "a = np.random.rand(4)\n",
    "print(f\"创建 1 维数组:\\n{a}\")"
   ]
  },
  {
   "cell_type": "markdown",
   "id": "00467a8c",
   "metadata": {},
   "source": [
    "### 6.2. 创建随机元素值的二维数组"
   ]
  },
  {
   "cell_type": "code",
   "execution_count": 233,
   "id": "d1fe69b2",
   "metadata": {},
   "outputs": [
    {
     "name": "stdout",
     "output_type": "stream",
     "text": [
      "\n",
      "创建 2 维数组:\n",
      "[[0.90372113 0.14729805 0.15013348 0.52061969]\n",
      " [0.46166682 0.46021477 0.39766325 0.24017544]\n",
      " [0.76157294 0.57247837 0.69640596 0.09788887]]\n"
     ]
    }
   ],
   "source": [
    "a = np.random.rand(3, 4)\n",
    "print(f\"\\n创建 2 维数组:\\n{a}\")"
   ]
  },
  {
   "cell_type": "markdown",
   "id": "71e1ea92",
   "metadata": {},
   "source": [
    "### 6.3. 创建随机元素值的三维数组"
   ]
  },
  {
   "cell_type": "code",
   "execution_count": 234,
   "id": "2e0e88ef",
   "metadata": {},
   "outputs": [
    {
     "name": "stdout",
     "output_type": "stream",
     "text": [
      "\n",
      "创建 3 维数组:\n",
      "[[[0.50770844 0.5375749  0.18672827 0.57572979]\n",
      "  [0.28600677 0.78928911 0.35335178 0.88565704]\n",
      "  [0.61832538 0.1914995  0.39485069 0.35655611]]\n",
      "\n",
      " [[0.42619636 0.75636908 0.14584617 0.01889916]\n",
      "  [0.52526896 0.76573538 0.46567385 0.71682639]\n",
      "  [0.33082588 0.98596636 0.94407613 0.51661612]]]\n"
     ]
    }
   ],
   "source": [
    "a = np.random.rand(2, 3, 4)\n",
    "print(f\"\\n创建 3 维数组:\\n{a}\")"
   ]
  },
  {
   "cell_type": "markdown",
   "id": "563d652d",
   "metadata": {},
   "source": [
    "### 6.4. 创建指定范围随机值元素的数组"
   ]
  },
  {
   "cell_type": "markdown",
   "id": "97f81a1c",
   "metadata": {},
   "source": [
    "无法直接通过 `np.random.rand` 函数创建元素为指定范围内随机数的数组, 但可以通过如下公式创建元素值在 $min$ 和 $max$ 范围内随机数的数组:\n",
    "\n",
    "$min + (max - min) \\times R_{0, 1}$"
   ]
  },
  {
   "cell_type": "code",
   "execution_count": 235,
   "id": "f1b876f2",
   "metadata": {},
   "outputs": [
    {
     "name": "stdout",
     "output_type": "stream",
     "text": [
      "\n",
      "数组内容:\n",
      "[[[7.60650322 7.24418995 6.73166695 7.90612833]\n",
      "  [9.90440298 6.8206884  8.32867736 5.02151687]\n",
      "  [9.23931452 9.49907078 7.92441686 7.83670552]]\n",
      "\n",
      " [[5.84454341 5.89598085 5.61431877 9.66991166]\n",
      "  [8.66708874 9.55265391 7.1269025  5.91779178]\n",
      "  [6.50853643 7.72037535 6.30576247 6.84508545]]]\n"
     ]
    }
   ],
   "source": [
    "min_, max_ = 5, 10\n",
    "a = min_ + (max_ - min_) * (np.random.rand(2, 3, 4))\n",
    "\n",
    "print(f\"\\n数组内容:\\n{a}\")"
   ]
  },
  {
   "cell_type": "markdown",
   "id": "94aeabdb",
   "metadata": {},
   "source": [
    "## 7. 创建元素值随机整数的数组"
   ]
  },
  {
   "cell_type": "markdown",
   "id": "be306b60",
   "metadata": {},
   "source": [
    "通过 `np.random.randint` 函数可以创建元素值为随机整数值的数组, 且可以通过 `low` 和 `high` 参数指定随机数的范围, 通过 `size` 参数指定数组的形状"
   ]
  },
  {
   "cell_type": "markdown",
   "id": "c6c9978f",
   "metadata": {},
   "source": [
    "### 7.1. 创建随机元素值的一维数组"
   ]
  },
  {
   "cell_type": "code",
   "execution_count": 236,
   "id": "3e2abf7d",
   "metadata": {},
   "outputs": [
    {
     "name": "stdout",
     "output_type": "stream",
     "text": [
      "数组内容:\n",
      "[5 1 1 3]\n"
     ]
    }
   ],
   "source": [
    "# 创建元素值为 `1`~`10` 之间随机数的一维数组\n",
    "a = np.random.randint(1, 10, size=(4,))\n",
    "print(f\"数组内容:\\n{a}\")"
   ]
  },
  {
   "cell_type": "markdown",
   "id": "7b2cd280",
   "metadata": {},
   "source": [
    "### 7.2. 创建随机元素值的二维数组"
   ]
  },
  {
   "cell_type": "code",
   "execution_count": 237,
   "id": "71ade2bd",
   "metadata": {},
   "outputs": [
    {
     "name": "stdout",
     "output_type": "stream",
     "text": [
      "\n",
      "数组内容:\n",
      "[[7 7 9 3]\n",
      " [1 3 3 7]\n",
      " [9 3 3 2]]\n"
     ]
    }
   ],
   "source": [
    "# 创建元素值为 `1`~`10` 之间随机数的二维数组\n",
    "a = np.random.randint(1, 10, size=(3, 4))\n",
    "print(f\"\\n数组内容:\\n{a}\")"
   ]
  },
  {
   "cell_type": "markdown",
   "id": "b2b93b83",
   "metadata": {},
   "source": [
    "### 7.3. 创建随机元素值的三维数组"
   ]
  },
  {
   "cell_type": "code",
   "execution_count": 238,
   "id": "4bbdc7c4",
   "metadata": {},
   "outputs": [
    {
     "name": "stdout",
     "output_type": "stream",
     "text": [
      "\n",
      "数组内容:\n",
      "[[[1 1 6 4]\n",
      "  [8 5 4 6]\n",
      "  [7 1 7 9]]\n",
      "\n",
      " [[3 4 4 6]\n",
      "  [4 9 2 3]\n",
      "  [7 3 5 8]]]\n"
     ]
    }
   ],
   "source": [
    "# 创建元素值为 `1`~`10` 之间随机数的三维数组\n",
    "a = np.random.randint(1, 10, size=(2, 3, 4))\n",
    "print(f\"\\n数组内容:\\n{a}\")"
   ]
  },
  {
   "cell_type": "markdown",
   "id": "0f8ee303",
   "metadata": {},
   "source": [
    "## 8. 数组存储方式"
   ]
  },
  {
   "cell_type": "markdown",
   "id": "b6f7c664",
   "metadata": {},
   "source": [
    "Numpy 数组支持两种内存布局模式, 包括 \"C\" 风格的按行元素存储 (行主序) 和 \"Fortran\" 风格按列元素存储 (列主序)\n",
    "\n",
    "通过创建数组时指定 `order` 参数, 可以改变数组的存储顺序, 参数值包括:\n",
    "\n",
    "- `\"A\"`: 默认, 创建时根据数组的形状自动选择\n",
    "- `\"C\"`: \"C\" 风格按行存储 (行主序)\n",
    "- `\"F\"`: \"Fortran\" 风格按列存储 (列主序)\n",
    "- `\"K\"`: 保持原数组的存储顺序"
   ]
  },
  {
   "cell_type": "markdown",
   "id": "53a38dbc",
   "metadata": {},
   "source": [
    "### 8.1. 创建 C 风格存储的数组 (行主序)"
   ]
  },
  {
   "cell_type": "code",
   "execution_count": 239,
   "id": "477f816b",
   "metadata": {},
   "outputs": [
    {
     "name": "stdout",
     "output_type": "stream",
     "text": [
      "数组内容:\n",
      "[[1 2 3]\n",
      " [4 5 6]\n",
      " [7 8 9]], \n",
      "元素存储顺序:\n",
      "[1, 2, 3, 4, 5, 6, 7, 8, 9]\n"
     ]
    }
   ],
   "source": [
    "a = np.array(\n",
    "    [\n",
    "        [1, 2, 3],\n",
    "        [4, 5, 6],\n",
    "        [7, 8, 9],\n",
    "    ],\n",
    "    order=\"C\",\n",
    ")\n",
    "print(f\"数组内容:\\n{a}, \\n元素存储顺序:\\n{[int(n) for n in np.nditer(a)]}\")  # type: ignore"
   ]
  },
  {
   "cell_type": "markdown",
   "id": "0fbd3f1c",
   "metadata": {},
   "source": [
    "### 8.2. 创建 Fortran 风格存储的数组 (列主序)"
   ]
  },
  {
   "cell_type": "code",
   "execution_count": 240,
   "id": "e016bd68",
   "metadata": {},
   "outputs": [
    {
     "name": "stdout",
     "output_type": "stream",
     "text": [
      "数组内容:\n",
      "[[1 2 3]\n",
      " [4 5 6]\n",
      " [7 8 9]], \n",
      "元素存储顺序:\n",
      "[1, 4, 7, 2, 5, 8, 3, 6, 9]\n"
     ]
    }
   ],
   "source": [
    "a = np.array(\n",
    "    [\n",
    "        [1, 2, 3],\n",
    "        [4, 5, 6],\n",
    "        [7, 8, 9],\n",
    "    ],\n",
    "    order=\"F\",\n",
    ")\n",
    "print(f\"数组内容:\\n{a}, \\n元素存储顺序:\\n{[int(n) for n in np.nditer(a)]}\")  # type: ignore"
   ]
  }
 ],
 "metadata": {
  "kernelspec": {
   "display_name": ".venv",
   "language": "python",
   "name": "python3"
  },
  "language_info": {
   "codemirror_mode": {
    "name": "ipython",
    "version": 3
   },
   "file_extension": ".py",
   "mimetype": "text/x-python",
   "name": "python",
   "nbconvert_exporter": "python",
   "pygments_lexer": "ipython3",
   "version": "3.13.7"
  }
 },
 "nbformat": 4,
 "nbformat_minor": 5
}
