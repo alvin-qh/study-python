{
 "cells": [
  {
   "cell_type": "markdown",
   "id": "f4408abf",
   "metadata": {},
   "source": [
    "# 数组属性"
   ]
  },
  {
   "cell_type": "code",
   "execution_count": 40,
   "id": "51b31034",
   "metadata": {},
   "outputs": [],
   "source": [
    "import numpy as np"
   ]
  },
  {
   "cell_type": "markdown",
   "id": "6e0104f5",
   "metadata": {},
   "source": [
    "## 1. 基本属性"
   ]
  },
  {
   "cell_type": "markdown",
   "id": "baa0e628",
   "metadata": {},
   "source": [
    "### 1.1. 数组维度 (`ndim`)"
   ]
  },
  {
   "cell_type": "markdown",
   "id": "70c74dfd",
   "metadata": {},
   "source": [
    "`ndim` 属性表示数组的维度, 值为一个整数"
   ]
  },
  {
   "cell_type": "markdown",
   "id": "623fc0cf",
   "metadata": {},
   "source": [
    "#### 1.1.1. 一维数组的 `ndim` 属性"
   ]
  },
  {
   "cell_type": "markdown",
   "id": "c9d789e3",
   "metadata": {},
   "source": [
    "一维数组的 `ndim` 属性值为 `1`"
   ]
  },
  {
   "cell_type": "code",
   "execution_count": 41,
   "id": "df4b1f63",
   "metadata": {},
   "outputs": [
    {
     "name": "stdout",
     "output_type": "stream",
     "text": [
      "一维数组:\n",
      "[1 2 3 4], dim=1\n"
     ]
    }
   ],
   "source": [
    "a = np.array([1, 2, 3, 4])\n",
    "print(f\"一维数组:\\n{a}, dim={a.ndim}\")"
   ]
  },
  {
   "cell_type": "markdown",
   "id": "26504153",
   "metadata": {},
   "source": [
    "#### 1.1.2. 二维数组的 `ndim` 属性"
   ]
  },
  {
   "cell_type": "markdown",
   "id": "830cf6b5",
   "metadata": {},
   "source": [
    "二维数组的 `ndim` 属性值为 `2`"
   ]
  },
  {
   "cell_type": "code",
   "execution_count": 42,
   "id": "1fea28f2",
   "metadata": {},
   "outputs": [
    {
     "name": "stdout",
     "output_type": "stream",
     "text": [
      "\n",
      "二维数组:\n",
      "[[1 2]\n",
      " [3 4]], dim=2\n"
     ]
    }
   ],
   "source": [
    "a = np.array([[1, 2], [3, 4]])\n",
    "print(f\"\\n二维数组:\\n{a}, dim={a.ndim}\")"
   ]
  },
  {
   "cell_type": "markdown",
   "id": "0117e21c",
   "metadata": {},
   "source": [
    "#### 1.1.3. 三维数组的 `ndim` 属性"
   ]
  },
  {
   "cell_type": "markdown",
   "id": "fd400a4c",
   "metadata": {},
   "source": [
    "三维数组的 `ndim` 属性值为 `3`"
   ]
  },
  {
   "cell_type": "code",
   "execution_count": 43,
   "id": "b1370c7f",
   "metadata": {},
   "outputs": [
    {
     "name": "stdout",
     "output_type": "stream",
     "text": [
      "\n",
      "三维数组:\n",
      "[[[1 2]\n",
      "  [3 4]]\n",
      "\n",
      " [[5 6]\n",
      "  [7 8]]], dim=3\n"
     ]
    }
   ],
   "source": [
    "a = np.array([[[1, 2], [3, 4]], [[5, 6], [7, 8]]])\n",
    "print(f\"\\n三维数组:\\n{a}, dim={a.ndim}\")"
   ]
  },
  {
   "cell_type": "markdown",
   "id": "159a8c45",
   "metadata": {},
   "source": [
    "### 1.2. 数组形状 (`shape`)"
   ]
  },
  {
   "cell_type": "markdown",
   "id": "a9378a1d",
   "metadata": {},
   "source": [
    "`shape` 属性表示数组的形状, 值为一个元组, 表示数组在每个维度的长度, 例如 `shape` 属性值为 `(2, 3)` 的数组, 表示一个有 `2` 行 `3` 列的二维数组"
   ]
  },
  {
   "cell_type": "markdown",
   "id": "89dfe06d",
   "metadata": {},
   "source": [
    "#### 1.2.1. 一维数组的 `shape` 属性"
   ]
  },
  {
   "cell_type": "markdown",
   "id": "c140de90",
   "metadata": {},
   "source": [
    "一维数组的形状是一个长度为 `1` 的元组"
   ]
  },
  {
   "cell_type": "code",
   "execution_count": 44,
   "id": "684d7933",
   "metadata": {},
   "outputs": [
    {
     "name": "stdout",
     "output_type": "stream",
     "text": [
      "一维数组:\n",
      "[1 2 3 4], shape=(4,)\n"
     ]
    }
   ],
   "source": [
    "a = np.array([1, 2, 3, 4])\n",
    "print(f\"一维数组:\\n{a}, shape={a.shape}\")"
   ]
  },
  {
   "cell_type": "markdown",
   "id": "93dd69fa",
   "metadata": {},
   "source": [
    "#### 1.2.2. 二维数组的 `shape` 属性"
   ]
  },
  {
   "cell_type": "markdown",
   "id": "3628f62f",
   "metadata": {},
   "source": [
    "二维数组的形状是一个长度为 `2` 的元组"
   ]
  },
  {
   "cell_type": "code",
   "execution_count": 45,
   "id": "2263a5d7",
   "metadata": {},
   "outputs": [
    {
     "name": "stdout",
     "output_type": "stream",
     "text": [
      "\n",
      "二维数组:\n",
      "[[ 1  2  3  4]\n",
      " [ 5  6  7  8]\n",
      " [ 9 10 11 12]], shape=(3, 4)\n"
     ]
    }
   ],
   "source": [
    "a = np.array([[1, 2, 3, 4], [5, 6, 7, 8], [9, 10, 11, 12]])\n",
    "print(f\"\\n二维数组:\\n{a}, shape={a.shape}\")"
   ]
  },
  {
   "cell_type": "markdown",
   "id": "5d405951",
   "metadata": {},
   "source": [
    "#### 1.2.3. 三维数组的 `shape` 属性"
   ]
  },
  {
   "cell_type": "markdown",
   "id": "0cf265dd",
   "metadata": {},
   "source": [
    "三维数组的形状是一个长度为 `3` 的元组"
   ]
  },
  {
   "cell_type": "code",
   "execution_count": 46,
   "id": "b52b238b",
   "metadata": {},
   "outputs": [
    {
     "name": "stdout",
     "output_type": "stream",
     "text": [
      "\n",
      "三维数组:\n",
      "[[[ 1  2  3  4]\n",
      "  [ 5  6  7  8]\n",
      "  [ 9 10 11 12]]\n",
      "\n",
      " [[13 14 15 16]\n",
      "  [17 18 19 20]\n",
      "  [21 22 23 24]]], shape=(2, 3, 4)\n"
     ]
    }
   ],
   "source": [
    "# 获取三维数组的形状, 结果为一个包含三个值的元组, 描述数组的三个维度\n",
    "a = np.array(\n",
    "    [\n",
    "        [[1, 2, 3, 4], [5, 6, 7, 8], [9, 10, 11, 12]],\n",
    "        [[13, 14, 15, 16], [17, 18, 19, 20], [21, 22, 23, 24]],\n",
    "    ]\n",
    ")\n",
    "print(f\"\\n三维数组:\\n{a}, shape={a.shape}\")"
   ]
  },
  {
   "cell_type": "markdown",
   "id": "9512277b",
   "metadata": {},
   "source": [
    "### 1.3. 数组长度 (`size`)"
   ]
  },
  {
   "cell_type": "markdown",
   "id": "5d18382b",
   "metadata": {},
   "source": [
    "`size` 属性表示数组的元素总个数, 和数组的形状无关"
   ]
  },
  {
   "cell_type": "markdown",
   "id": "6f9d6267",
   "metadata": {},
   "source": [
    "#### 1.3.1. 一维数组的 `size` 属性"
   ]
  },
  {
   "cell_type": "code",
   "execution_count": 47,
   "id": "4ce405bd",
   "metadata": {},
   "outputs": [
    {
     "name": "stdout",
     "output_type": "stream",
     "text": [
      "一维数组:\n",
      "[ 1  2  3  4  5  6  7  8  9 10 11 12 13 14 15 16 17 18 19 20 21 22 23 24], size=24\n"
     ]
    }
   ],
   "source": [
    "a = np.arange(1, 25)\n",
    "print(f\"一维数组:\\n{a}, size={a.size}\")"
   ]
  },
  {
   "cell_type": "markdown",
   "id": "f0e36670",
   "metadata": {},
   "source": [
    "#### 1.3.2. 二维数组的 `size` 属性"
   ]
  },
  {
   "cell_type": "code",
   "execution_count": 48,
   "id": "3ae59b9d",
   "metadata": {},
   "outputs": [
    {
     "name": "stdout",
     "output_type": "stream",
     "text": [
      "\n",
      "二维数组:\n",
      "[[ 1  2  3  4  5  6  7  8  9 10 11 12]\n",
      " [13 14 15 16 17 18 19 20 21 22 23 24]], size=24\n"
     ]
    }
   ],
   "source": [
    "a = np.arange(1, 25).reshape(2, -1)\n",
    "print(f\"\\n二维数组:\\n{a}, size={a.size}\")"
   ]
  },
  {
   "cell_type": "markdown",
   "id": "2c68c9e0",
   "metadata": {},
   "source": [
    "#### 1.3.3. 三维数组的 `size` 属性"
   ]
  },
  {
   "cell_type": "code",
   "execution_count": 49,
   "id": "d8a4e516",
   "metadata": {},
   "outputs": [
    {
     "name": "stdout",
     "output_type": "stream",
     "text": [
      "\n",
      "三维数组:\n",
      "[[[ 1  2  3  4]\n",
      "  [ 5  6  7  8]\n",
      "  [ 9 10 11 12]]\n",
      "\n",
      " [[13 14 15 16]\n",
      "  [17 18 19 20]\n",
      "  [21 22 23 24]]], size=24\n"
     ]
    }
   ],
   "source": [
    "a = np.arange(1, 25).reshape(2, 3, 4)\n",
    "print(f\"\\n三维数组:\\n{a}, size={a.size}\")"
   ]
  },
  {
   "cell_type": "markdown",
   "id": "0afa595a",
   "metadata": {},
   "source": [
    "### 1.4. 数组元素类型 (`dtype`)"
   ]
  },
  {
   "cell_type": "markdown",
   "id": "b2c8c383",
   "metadata": {},
   "source": [
    "#### 1.4.1. 内置数组类型"
   ]
  },
  {
   "cell_type": "code",
   "execution_count": null,
   "id": "02208427",
   "metadata": {},
   "outputs": [
    {
     "name": "stdout",
     "output_type": "stream",
     "text": [
      "数组:\n",
      "[[[ 1  2  3  4]\n",
      "  [ 5  6  7  8]\n",
      "  [ 9 10 11 12]]], dtype=int64\n",
      "\n",
      "数组:\n",
      "[[[0.01000214 0.02000427 0.03000641 0.04000854]\n",
      "  [0.05001068 0.06001282 0.07001495 0.08001709]\n",
      "  [0.09001923 0.10002136 0.1100235  0.12002563]]], dtype=float64\n",
      "\n",
      "数组:\n",
      "[[[False False False False]\n",
      "  [False False False False]\n",
      "  [False  True  True  True]]], dtype=bool\n"
     ]
    }
   ],
   "source": [
    "a = np.array([[[1, 2, 3, 4], [5, 6, 7, 8], [9, 10, 11, 12]]])\n",
    "print(f\"数组:\\n{a}, dtype={a.dtype}\")\n",
    "\n",
    "a = a * np.array([0.01])\n",
    "print(f\"\\n数组:\\n{a}, dtype={a.dtype}\")\n",
    "\n",
    "a = np.array([n >= 0.1 for n in a.flat]).reshape(a.shape)\n",
    "print(f\"\\n数组:\\n{a}, dtype={a.dtype}\")"
   ]
  },
  {
   "cell_type": "code",
   "execution_count": 55,
   "id": "f624678c",
   "metadata": {},
   "outputs": [
    {
     "name": "stdout",
     "output_type": "stream",
     "text": [
      "数组:\n",
      "[b'A' b'B' b'C' b'D'], dtype=|S1\n"
     ]
    }
   ],
   "source": [
    "a = np.array(['A', 'B', 'C', 'D'], dtype=np.bytes_)\n",
    "print(f\"数组:\\n{a}, dtype={a.dtype}\")"
   ]
  },
  {
   "cell_type": "markdown",
   "id": "5cb609d6",
   "metadata": {},
   "source": [
    "## 5. 数组的内存占用"
   ]
  },
  {
   "cell_type": "markdown",
   "id": "5c99a57c",
   "metadata": {},
   "source": [
    "通过数组的 `.itemsize` 属性可以获取数组中每个元素的字节大小, 通过 `.nbytes` 属性可以获取整个数组的字节大小"
   ]
  },
  {
   "cell_type": "code",
   "execution_count": 52,
   "id": "3427782d",
   "metadata": {},
   "outputs": [
    {
     "name": "stdout",
     "output_type": "stream",
     "text": [
      "数组: size=10, dtype=int8, itemsize=1, nbytes=10\n",
      "数组: size=10, dtype=int16, itemsize=2, nbytes=20\n",
      "数组: size=10, dtype=int32, itemsize=4, nbytes=40\n",
      "数组: size=10, dtype=int64, itemsize=8, nbytes=80\n",
      "数组: size=10, dtype=float32, itemsize=4, nbytes=40\n",
      "数组: size=10, dtype=float64, itemsize=8, nbytes=80\n",
      "数组: size=10, dtype=float128, itemsize=16, nbytes=160\n"
     ]
    }
   ],
   "source": [
    "a = np.arange(10, dtype=np.int8)\n",
    "print(f\"数组: size={a.size}, dtype={a.dtype}, itemsize={a.itemsize}, nbytes={a.nbytes}\")\n",
    "\n",
    "a = np.arange(10, dtype=np.int16)\n",
    "print(f\"数组: size={a.size}, dtype={a.dtype}, itemsize={a.itemsize}, nbytes={a.nbytes}\")\n",
    "\n",
    "a = np.arange(10, dtype=np.int32)\n",
    "print(f\"数组: size={a.size}, dtype={a.dtype}, itemsize={a.itemsize}, nbytes={a.nbytes}\")\n",
    "\n",
    "a = np.arange(10, dtype=np.int64)\n",
    "print(f\"数组: size={a.size}, dtype={a.dtype}, itemsize={a.itemsize}, nbytes={a.nbytes}\")\n",
    "\n",
    "a = np.arange(10, dtype=np.float32)\n",
    "print(f\"数组: size={a.size}, dtype={a.dtype}, itemsize={a.itemsize}, nbytes={a.nbytes}\")\n",
    "\n",
    "a = np.arange(10, dtype=np.float64)\n",
    "print(f\"数组: size={a.size}, dtype={a.dtype}, itemsize={a.itemsize}, nbytes={a.nbytes}\")\n",
    "\n",
    "a = np.arange(10, dtype=np.float128)\n",
    "print(f\"数组: size={a.size}, dtype={a.dtype}, itemsize={a.itemsize}, nbytes={a.nbytes}\")"
   ]
  }
 ],
 "metadata": {
  "kernelspec": {
   "display_name": ".venv",
   "language": "python",
   "name": "python3"
  },
  "language_info": {
   "codemirror_mode": {
    "name": "ipython",
    "version": 3
   },
   "file_extension": ".py",
   "mimetype": "text/x-python",
   "name": "python",
   "nbconvert_exporter": "python",
   "pygments_lexer": "ipython3",
   "version": "3.14.0"
  }
 },
 "nbformat": 4,
 "nbformat_minor": 5
}
