{
 "cells": [
  {
   "cell_type": "markdown",
   "id": "8de4ece5",
   "metadata": {},
   "source": [
    "# 数组元素类型"
   ]
  },
  {
   "cell_type": "code",
   "execution_count": 10,
   "id": "02e50e72",
   "metadata": {},
   "outputs": [],
   "source": [
    "import numpy as np"
   ]
  },
  {
   "cell_type": "markdown",
   "id": "e8cd1152",
   "metadata": {},
   "source": [
    "## 1. dtype 类型"
   ]
  },
  {
   "cell_type": "markdown",
   "id": "56e4cdce",
   "metadata": {},
   "source": [
    "Numpy 通过数组的 `dtype` 属性来控制"
   ]
  },
  {
   "cell_type": "code",
   "execution_count": null,
   "id": "a1824c12",
   "metadata": {},
   "outputs": [],
   "source": [
    "dt = np.dtype(np.int32)"
   ]
  },
  {
   "cell_type": "markdown",
   "id": "837ab037",
   "metadata": {},
   "source": [
    "## 1. 内置类型"
   ]
  },
  {
   "cell_type": "markdown",
   "id": "c52759ff",
   "metadata": {},
   "source": [
    "Numpy 库中内置了一系列表示数组元素类型的标识，如:\n",
    "- `np.int8`\n",
    "- `np.int16`\n",
    "- `np.int32`\n",
    "- `np.int64`\n",
    "- `np.uint8`\n",
    "- `np.uint16`\n",
    "- `np.uint32`\n",
    "- `np.uint64`\n",
    "- `np.float16`\n",
    "- `np.float32`\n",
    "- `np.float64`\n",
    "- `np.complex64`\n",
    "- `np.complex128`\n",
    "等\n",
    "\n",
    "不同类型表示数组元素的字节长度, 也即定义了数组元素的数值范围, 数值精度"
   ]
  },
  {
   "cell_type": "markdown",
   "id": "0b141d8f",
   "metadata": {},
   "source": [
    "### 1.1. 创建数组时指定类型"
   ]
  },
  {
   "cell_type": "markdown",
   "id": "47ec32b9",
   "metadata": {},
   "source": [
    "可以在创建数组时, 通过 `dtype` c创建指定数组元素的类型, 默认会自动通过创建数组时所给的元素值进行类型推导\n",
    "\n",
    "如果的 `dtype` 参数指定的数组元素类型于创建数组所给的数组元素类型不一致, 则 Numpy 会自动将元素值进行类型转换 (例如将 `int` 转换为 `float`)"
   ]
  },
  {
   "cell_type": "code",
   "execution_count": 11,
   "id": "9bb1bc0b",
   "metadata": {},
   "outputs": [
    {
     "name": "stdout",
     "output_type": "stream",
     "text": [
      "> 数组:\n",
      "[1 2 3 4], dtype=int32\n",
      "> 数组:\n",
      "[0.1 0.2 0.3 0.4], dtype=float64\n"
     ]
    }
   ],
   "source": [
    "a = np.array([1, 2, 3, 4], dtype=np.int32)\n",
    "print(f\"> 数组:\\n{a}, dtype={a.dtype}\")\n",
    "\n",
    "a = np.array(a / 10.0, dtype=np.float64)\n",
    "print(f\"> 数组:\\n{a}, dtype={a.dtype}\")"
   ]
  },
  {
   "cell_type": "markdown",
   "id": "b5e4062a",
   "metadata": {},
   "source": [
    "### 1.2. 改变数组的元素类型"
   ]
  },
  {
   "cell_type": "markdown",
   "id": "cb002a88",
   "metadata": {},
   "source": [
    "通过数组对象的 `astype` 方法, 可以将数组的元素类型转换成指定的其它类型\n",
    "\n",
    "注意, 这里的类型转换并不是简单的修改数组元素的内存占用, 而是根据 Numpy 的规则进行, 例如 `int32` 值 `10` 转换为 `str_` 类型值为 `'10'`"
   ]
  },
  {
   "cell_type": "code",
   "execution_count": null,
   "id": "552f419e",
   "metadata": {},
   "outputs": [
    {
     "name": "stdout",
     "output_type": "stream",
     "text": [
      "> 数组:\n",
      "[1 2 3 4], dtype=uint32\n",
      "> 数组:\n",
      "[1. 2. 3. 4.], dtype=float32\n",
      "> 数组:\n",
      "['1.0' '2.0' '3.0' '4.0'], dtype=<U32\n",
      "> 数组:\n",
      "['1.0' '2.0' '3.0' '4.0'], dtype=StringDType()\n"
     ]
    }
   ],
   "source": [
    "a = np.array([1, 2, 3, 4], dtype=np.uint32)\n",
    "print(f\"> 数组:\\n{a}, dtype={a.dtype}\")\n",
    "\n",
    "a = a.astype(np.float32)\n",
    "print(f\"> 数组:\\n{a}, dtype={a.dtype}\")\n",
    "\n",
    "a = a.astype(np.str_)\n",
    "print(f\"> 数组:\\n{a}, dtype={a.dtype}\")\n",
    "\n",
    "a = a.astype(np.dtypes.StringDType)\n",
    "print(f\"> 数组:\\n{a}, dtype={a.dtype}\")"
   ]
  },
  {
   "cell_type": "markdown",
   "id": "ac63af65",
   "metadata": {},
   "source": [
    "### 1.3. 类型名称"
   ]
  },
  {
   "cell_type": "markdown",
   "id": "db165be6",
   "metadata": {},
   "source": [
    "除通过 Numpy 内置的类型标识外, 还可以通过字符串名称来指定数组的 `dtype` 属性, 且可指定"
   ]
  },
  {
   "cell_type": "markdown",
   "id": "ef3aa66b",
   "metadata": {},
   "source": [
    "#### 1.3.1. 整数类型名称"
   ]
  },
  {
   "cell_type": "code",
   "execution_count": null,
   "id": "f2d80b77",
   "metadata": {},
   "outputs": [
    {
     "name": "stdout",
     "output_type": "stream",
     "text": [
      "> 数组: [1 2 3 4], dtype = int16\n",
      "> 数组: [1 2 3 4], dtype = int16\n",
      "> 数组: [1 2 3 4], dtype = >i2\n",
      "\n",
      "> 数组: [1 2 3 4], dtype = int32\n",
      "> 数组: [1 2 3 4], dtype = int32\n",
      "> 数组: [1 2 3 4], dtype = >i4\n",
      "\n",
      "> 数组: [1 2 3 4], dtype = int64\n",
      "> 数组: [1 2 3 4], dtype = int64\n",
      "> 数组: [1 2 3 4], dtype = >i8\n",
      "\n"
     ]
    }
   ],
   "source": [
    "s = np.array([1, 2, 3, 4])\n",
    "\n",
    "for dt in [2, 4, 8]:\n",
    "    a = s.astype(f\"i{dt}\")\n",
    "    print(f\"> 数组: {a}, dtype = {a.dtype}\")\n",
    "\n",
    "    a = s.astype(f\"<i{dt}\")\n",
    "    print(f\"> 数组: {a}, dtype = {a.dtype}\")\n",
    "\n",
    "    a = s.astype(f\">i{dt}\")\n",
    "    print(f\"> 数组: {a}, dtype = {a.dtype}\")\n",
    "\n",
    "    print()"
   ]
  },
  {
   "cell_type": "markdown",
   "id": "d953365f",
   "metadata": {},
   "source": [
    "#### 1.3.2. 浮点数类型名称"
   ]
  },
  {
   "cell_type": "code",
   "execution_count": 64,
   "id": "57215815",
   "metadata": {},
   "outputs": [
    {
     "name": "stdout",
     "output_type": "stream",
     "text": [
      "> 数组: [0.1 0.2 0.3 0.4], dtype = float16\n",
      "> 数组: [0.1 0.2 0.3 0.4], dtype = float16\n",
      "> 数组: [0.1 0.2 0.3 0.4], dtype = >f2\n",
      "\n",
      "> 数组: [0.1 0.2 0.3 0.4], dtype = float32\n",
      "> 数组: [0.1 0.2 0.3 0.4], dtype = float32\n",
      "> 数组: [0.1 0.2 0.3 0.4], dtype = >f4\n",
      "\n",
      "> 数组: [0.1 0.2 0.3 0.4], dtype = float64\n",
      "> 数组: [0.1 0.2 0.3 0.4], dtype = float64\n",
      "> 数组: [0.1 0.2 0.3 0.4], dtype = >f8\n",
      "\n",
      "> 数组: [0.1 0.2 0.3 0.4], dtype = float128\n",
      "> 数组: [0.1 0.2 0.3 0.4], dtype = float128\n",
      "> 数组: [0.1 0.2 0.3 0.4], dtype = >f16\n",
      "\n"
     ]
    }
   ],
   "source": [
    "s = np.array([1, 2, 3, 4]) / 10.0\n",
    "\n",
    "for dt in [2, 4, 8, 16]:\n",
    "    a = s.astype(f\"f{dt}\")\n",
    "    print(f\"> 数组: {a}, dtype = {a.dtype}\")\n",
    "\n",
    "    a = s.astype(f\"<f{dt}\")\n",
    "    print(f\"> 数组: {a}, dtype = {a.dtype}\")\n",
    "\n",
    "    a = s.astype(f\">f{dt}\")\n",
    "    print(f\"> 数组: {a}, dtype = {a.dtype}\")\n",
    "\n",
    "    print()"
   ]
  }
 ],
 "metadata": {
  "kernelspec": {
   "display_name": ".venv",
   "language": "python",
   "name": "python3"
  },
  "language_info": {
   "codemirror_mode": {
    "name": "ipython",
    "version": 3
   },
   "file_extension": ".py",
   "mimetype": "text/x-python",
   "name": "python",
   "nbconvert_exporter": "python",
   "pygments_lexer": "ipython3",
   "version": "3.13.7"
  }
 },
 "nbformat": 4,
 "nbformat_minor": 5
}
