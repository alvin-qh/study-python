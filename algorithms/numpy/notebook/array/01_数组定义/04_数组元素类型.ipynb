{
 "cells": [
  {
   "cell_type": "markdown",
   "id": "8de4ece5",
   "metadata": {},
   "source": [
    "# 数组元素类型"
   ]
  },
  {
   "cell_type": "code",
   "execution_count": 2,
   "id": "02e50e72",
   "metadata": {},
   "outputs": [],
   "source": [
    "import numpy as np"
   ]
  },
  {
   "cell_type": "markdown",
   "id": "e8cd1152",
   "metadata": {},
   "source": [
    "## 1. dtype 类型"
   ]
  },
  {
   "cell_type": "markdown",
   "id": "56e4cdce",
   "metadata": {},
   "source": [
    "Numpy 通过数组的 `dtype` 属性来表示数组元素的类型\n",
    "\n",
    "`dtype` 类型不仅表示数组元素的数据类型, 还表示了存储这些类型所需内存空间的大小和字节序"
   ]
  },
  {
   "cell_type": "markdown",
   "id": "1e40a548",
   "metadata": {},
   "source": [
    "### 1.1. 类型说明"
   ]
  },
  {
   "cell_type": "markdown",
   "id": "6cc3e391",
   "metadata": {},
   "source": [
    "#### 1.1.1. 内置 `dtype` 类型"
   ]
  },
  {
   "cell_type": "markdown",
   "id": "5ad732b4",
   "metadata": {},
   "source": [
    "Numpy 通过一组常量标识内置了各种数据类型的 `dtype` 值, 内置的 `dtype` 类型字节序为自动匹配本机 CPU, 内置的 `dtype` 常量标识包括:\n",
    "\n",
    "| 类别    | 标识名称                                                                                           |\n",
    "|--------|---------------------------------------------------------------------------------------------------|\n",
    "| 整数类型 | `np.int8`, `np.int16`, `np.int32`, `np.int64`, `np.uint8`, `np.uint16`, `np.uint32`, `np.uint64` |\n",
    "| 浮点类型 | `np.float16`, `np.float32`, `np.float64`                                                         |\n",
    "| 复数类型 | `np.complex64`, `np.complex128`                                                                  |\n",
    "| 布尔类型 | `np.bool_`                                                                                       |\n",
    "| 串类型   | `np.str_`, `np.bytes_`                                                                           |\n",
    "| 其它类型 |  `np.object_` , `np.void`                                                                         |"
   ]
  },
  {
   "cell_type": "markdown",
   "id": "172e4b6a",
   "metadata": {},
   "source": [
    "#### 1.1.2. `dtype` 类型属性"
   ]
  },
  {
   "cell_type": "markdown",
   "id": "d7fef970",
   "metadata": {},
   "source": [
    "一个 `dtype` 类型对象包括以下属性:"
   ]
  },
  {
   "cell_type": "markdown",
   "id": "9cdc828a",
   "metadata": {},
   "source": [
    "##### 1.1.2.1. `.name` 属性"
   ]
  },
  {
   "cell_type": "markdown",
   "id": "7371aff5",
   "metadata": {},
   "source": [
    "`dtype` 对象的 `.name` 属性用于表示该类型的名称, 例如: `np.int64` 的 `.name` 属性是 `'int64'`"
   ]
  },
  {
   "cell_type": "code",
   "execution_count": 3,
   "id": "2ad8d0f1",
   "metadata": {},
   "outputs": [
    {
     "name": "stdout",
     "output_type": "stream",
     "text": [
      "dtype: 'int32', name: 'int32'\n"
     ]
    }
   ],
   "source": [
    "dt = np.dtype(np.int32)\n",
    "\n",
    "print(f\"dtype: '{dt}', name: '{dt.name}'\")"
   ]
  },
  {
   "cell_type": "markdown",
   "id": "927cbe4c",
   "metadata": {},
   "source": [
    "##### 1.1.2.2. `.itemsize` 属性"
   ]
  },
  {
   "cell_type": "markdown",
   "id": "0f6afd77",
   "metadata": {},
   "source": [
    "`dtype` 对象的 `.itemsize` 属性用于表示该类型数据占内存字节数, 例如 `np.int32` 的 `.itemsize` 属性为 `4`, 表示该类型数据占据 `4` 个字节内存"
   ]
  },
  {
   "cell_type": "code",
   "execution_count": 4,
   "id": "f3725391",
   "metadata": {},
   "outputs": [
    {
     "name": "stdout",
     "output_type": "stream",
     "text": [
      "dtype: 'int32', itemsize: 4\n"
     ]
    }
   ],
   "source": [
    "dt = np.dtype(np.int32)\n",
    "\n",
    "print(f\"dtype: '{dt}', itemsize: {dt.itemsize}\")"
   ]
  },
  {
   "cell_type": "markdown",
   "id": "23c5e09e",
   "metadata": {},
   "source": [
    "##### 1.1.2.3. `.byteorder` 属性"
   ]
  },
  {
   "cell_type": "markdown",
   "id": "0c767796",
   "metadata": {},
   "source": [
    "`dtype` 对象的 `.byteorder` 属性表示该类型数据的字节序, 用一个字符表示, 包括:\n",
    "\n",
    "- `'<'`: Little-Endian (小端字节序)\n",
    "- `'>'`: Big-Endian (大端字节序)\n",
    "- `'='`: Native (本机字节序)\n",
    "- `'|'`: one byte (单字节数据, 无字节序)"
   ]
  },
  {
   "cell_type": "code",
   "execution_count": 5,
   "id": "a6678852",
   "metadata": {},
   "outputs": [
    {
     "name": "stdout",
     "output_type": "stream",
     "text": [
      "dtype: 'int32', byteorder: '='\n"
     ]
    }
   ],
   "source": [
    "dt = np.dtype(np.int32)\n",
    "\n",
    "print(f\"dtype: '{dt}', byteorder: '{dt.byteorder}'\")"
   ]
  },
  {
   "cell_type": "markdown",
   "id": "f5cb6ed5",
   "metadata": {},
   "source": [
    "##### 1.1.2.4. `.kind` 属性"
   ]
  },
  {
   "cell_type": "markdown",
   "id": "ff09aef0",
   "metadata": {},
   "source": [
    "`dtype` 对象的 `.kind`: 该类型数据的类型标识, 用一个字符表示, 包括:\n",
    "\n",
    "- `i` 表示整肃\n",
    "- `u` 表示无符号整肃\n",
    "- `f` 表示浮点数\n",
    "- `c` 表示复数\n",
    "- `b` 表示布尔值\n",
    "- `U` 表示 Unicode 字符串\n",
    "- `S` 表示字节串\n",
    "- `O` 表示对象"
   ]
  },
  {
   "cell_type": "code",
   "execution_count": 6,
   "id": "06aef493",
   "metadata": {},
   "outputs": [
    {
     "name": "stdout",
     "output_type": "stream",
     "text": [
      "dtype: 'int32', kind: 'i'\n"
     ]
    }
   ],
   "source": [
    "dt = np.dtype(np.int32)\n",
    "\n",
    "print(f\"dtype: '{dt}', kind: '{dt.kind}'\")"
   ]
  },
  {
   "cell_type": "markdown",
   "id": "6c1312d2",
   "metadata": {},
   "source": [
    "##### 1.1.2.5. `.alignment` 属性"
   ]
  },
  {
   "cell_type": "markdown",
   "id": "a5989927",
   "metadata": {},
   "source": [
    "`dtype` 对象的 `.alignment` 属性表示该类型数据存储在内存中的字节对齐大小, 可取值为 `1`, `2`, `4`, `8` 或 `16`"
   ]
  },
  {
   "cell_type": "code",
   "execution_count": 7,
   "id": "da083846",
   "metadata": {},
   "outputs": [
    {
     "name": "stdout",
     "output_type": "stream",
     "text": [
      "dtype: 'int32', alignment: 4\n"
     ]
    }
   ],
   "source": [
    "dt = np.dtype(np.int32)\n",
    "\n",
    "print(f\"dtype: '{dt}', alignment: {dt.alignment}\")"
   ]
  },
  {
   "cell_type": "markdown",
   "id": "5b57017f",
   "metadata": {},
   "source": [
    "##### 1.1.2.6. `.char` 属性"
   ]
  },
  {
   "cell_type": "markdown",
   "id": "f1e7cd04",
   "metadata": {},
   "source": [
    "`dtype` 对象的 `.char` 属性表示该类型的名称标识, 用一个字符标识, 包括:\n",
    "\n",
    "- `b` 表示 8 位有符号整数\n",
    "- `h` 表示 16 位有符号整数\n",
    "- `i` 表示 32 位有符号整数\n",
    "- `l` 表示 64 位有符号整数\n",
    "- `B` 表示 8 位无符号整数\n",
    "- `H` 表示 16 位无符号整数\n",
    "- `I` 表示 32 位无符号整数\n",
    "- `L` 表示 64 位无符号整数\n",
    "- `e` 表示 16 位浮点数\n",
    "- `f` 表示 32 位浮点数\n",
    "- `d` 表示 64 位浮点数\n",
    "- `g` 表示 128 位浮点数\n",
    "- `F` 表示 64 位复数\n",
    "- `?` 表示 1 字节布尔值\n",
    "- `U` 表示 4 字节 Unicode 字符串fu\n",
    "- `S` 表示 1 字节字节串\n",
    "- `O` 表示对象"
   ]
  },
  {
   "cell_type": "code",
   "execution_count": 8,
   "id": "1df16277",
   "metadata": {},
   "outputs": [
    {
     "name": "stdout",
     "output_type": "stream",
     "text": [
      "dtype: 'int32', char: 'i'\n"
     ]
    }
   ],
   "source": [
    "dt = np.dtype(np.int32)\n",
    "\n",
    "print(f\"dtype: '{dt}', char: '{dt.char}'\")"
   ]
  },
  {
   "cell_type": "markdown",
   "id": "ab61a84c",
   "metadata": {},
   "source": [
    "##### 1.1.2.7. `.descr` 属性"
   ]
  },
  {
   "cell_type": "markdown",
   "id": "02861c23",
   "metadata": {},
   "source": [
    "`dtype` 对象的 `.descr` 表示该类型数据的描述符, 通过 '字节序' + '类型标识' + '字节数' 组成, 包括:\n",
    "\n",
    "- `|i1`: 表示 1 字节有符号整数\n",
    "- `<i2`: 表示 2 字节有符号整数, 小端字节序\n",
    "- `>i2`: 表示 2 字节有符号整数, 大端字节序\n",
    "- `=i2`: 表示 2 字节有符号整数, 本机字节序\n",
    "- `<i4`: 表示 4 字节有符号整数, 小端字节序\n",
    "- `>i4`: 表示 4 字节有符号整数, 大端字节序\n",
    "- `=i4`: 表示 4 字节有符号整数, 本机字节序\n",
    "- `<i8`: 表示 8 字节有符号整数, 小端字节序\n",
    "- `>i8`: 表示 8 字节有符号整数, 大端字节序\n",
    "- `=i8`: 表示 8 字节有符号整数, 本机字节序\n",
    "- ... ...\n",
    "- `<U3`: 表示 3 个 Unicode 字符, 小端字节序, 共 12 字节, 96 位\n",
    "- `>U4`: 表示 4 个 Unicode 字符, 大端字节序, 共 16 字节, 128 位\n",
    "- `=U2`: 表示 2 个 Unicode 字符, 本机字节序, 共 8 字节, 64 位\n",
    "- `|S4`: 4 个字节的二进制字节串, 32 位\n",
    "- `|S8`: 8 个字节的二进制字节串, 64 位"
   ]
  },
  {
   "cell_type": "code",
   "execution_count": 9,
   "id": "c59cb757",
   "metadata": {},
   "outputs": [
    {
     "name": "stdout",
     "output_type": "stream",
     "text": [
      "dtype: 'int32', describe: [('', '<i4')]\n"
     ]
    }
   ],
   "source": [
    "dt = np.dtype(np.int32)\n",
    "\n",
    "print(f\"dtype: '{dt}', describe: {dt.descr}\")"
   ]
  },
  {
   "cell_type": "markdown",
   "id": "4b5b3664",
   "metadata": {},
   "source": [
    "#### 1.1.3. 不同类型的 `dtype` 属性"
   ]
  },
  {
   "cell_type": "code",
   "execution_count": 10,
   "id": "e504f52d",
   "metadata": {},
   "outputs": [],
   "source": [
    "from typing import Sequence, Any\n",
    "\n",
    "from tabulate import tabulate\n",
    "\n",
    "HEADERS = [\n",
    "    'dtype',\n",
    "    '.name',\n",
    "    '.itemsize',\n",
    "    '.kind',\n",
    "    '.alignment',\n",
    "    '.char',\n",
    "    '.byteorder',\n",
    "    '.descr',\n",
    "]\n",
    "\n",
    "\n",
    "def show_dtype(*dts: type[Any] | str) -> None:\n",
    "    def make_row(dt: np.dtype) -> list[Any]:\n",
    "        return [\n",
    "            f'{dt}',\n",
    "            f'{dt.name}',\n",
    "            f'{dt.itemsize}',\n",
    "            f'{dt.kind}',\n",
    "            f'{dt.alignment}',\n",
    "            f'{dt.char}',\n",
    "            f'{dt.byteorder}',\n",
    "            f'{dt.descr}',\n",
    "        ]\n",
    "\n",
    "    output = [make_row(np.dtype(dt)) for dt in dts]\n",
    "    print(tabulate(output, headers=HEADERS))"
   ]
  },
  {
   "cell_type": "markdown",
   "id": "4553ede2",
   "metadata": {},
   "source": [
    "##### 1.1.3.1. 整数类型"
   ]
  },
  {
   "cell_type": "code",
   "execution_count": 11,
   "id": "6a612cc1",
   "metadata": {},
   "outputs": [
    {
     "name": "stdout",
     "output_type": "stream",
     "text": [
      "dtype    .name      .itemsize  .kind      .alignment  .char    .byteorder    .descr\n",
      "-------  -------  -----------  -------  ------------  -------  ------------  -------------\n",
      "int8     int8               1  i                   1  b        |             [('', '|i1')]\n",
      "int16    int16              2  i                   2  h        =             [('', '<i2')]\n",
      "int32    int32              4  i                   4  i        =             [('', '<i4')]\n",
      "int64    int64              8  i                   8  l        =             [('', '<i8')]\n",
      "uint8    uint8              1  u                   1  B        |             [('', '|u1')]\n",
      "uint16   uint16             2  u                   2  H        =             [('', '<u2')]\n",
      "uint32   uint32             4  u                   4  I        =             [('', '<u4')]\n",
      "uint64   uint64             8  u                   8  L        =             [('', '<u8')]\n"
     ]
    }
   ],
   "source": [
    "show_dtype(\n",
    "    np.int8,\n",
    "    np.int16,\n",
    "    np.int32,  # 包括别名 `np.intc`\n",
    "    np.int64,  # 包括别名 `np.intp`\n",
    "    np.uint8,\n",
    "    np.uint16,\n",
    "    np.uint32,  # 包括别名 `np.uintc`\n",
    "    np.uint64,  # 包括别名 `np.uintp`\n",
    "    )"
   ]
  },
  {
   "cell_type": "markdown",
   "id": "6a7d6839",
   "metadata": {},
   "source": [
    "##### 1.1.3.2. 浮点类型"
   ]
  },
  {
   "cell_type": "code",
   "execution_count": 12,
   "id": "add4320f",
   "metadata": {},
   "outputs": [
    {
     "name": "stdout",
     "output_type": "stream",
     "text": [
      "dtype     .name       .itemsize  .kind      .alignment  .char    .byteorder    .descr\n",
      "--------  --------  -----------  -------  ------------  -------  ------------  --------------\n",
      "float16   float16             2  f                   2  e        =             [('', '<f2')]\n",
      "float32   float32             4  f                   4  f        =             [('', '<f4')]\n",
      "float64   float64             8  f                   8  d        =             [('', '<f8')]\n",
      "float128  float128           16  f                  16  g        =             [('', '<f16')]\n"
     ]
    }
   ],
   "source": [
    "show_dtype(\n",
    "    np.float16,\n",
    "    np.float32,\n",
    "    np.float64,\n",
    "    np.float128,\n",
    ")"
   ]
  },
  {
   "cell_type": "markdown",
   "id": "eed751c4",
   "metadata": {},
   "source": [
    "##### 1.1.3.3. 复数类型"
   ]
  },
  {
   "cell_type": "code",
   "execution_count": 13,
   "id": "05ef862f",
   "metadata": {},
   "outputs": [
    {
     "name": "stdout",
     "output_type": "stream",
     "text": [
      "dtype       .name         .itemsize  .kind      .alignment  .char    .byteorder    .descr\n",
      "----------  ----------  -----------  -------  ------------  -------  ------------  --------------\n",
      "complex64   complex64             8  c                   4  F        =             [('', '<c8')]\n",
      "complex128  complex128           16  c                   8  D        =             [('', '<c16')]\n"
     ]
    }
   ],
   "source": [
    "show_dtype(\n",
    "    np.complex64,\n",
    "    np.complex128,\n",
    ")"
   ]
  },
  {
   "cell_type": "markdown",
   "id": "6572513d",
   "metadata": {},
   "source": [
    "##### 1.1.3.4. 布尔类型"
   ]
  },
  {
   "cell_type": "code",
   "execution_count": 14,
   "id": "a1824c12",
   "metadata": {},
   "outputs": [
    {
     "name": "stdout",
     "output_type": "stream",
     "text": [
      "dtype    .name      .itemsize  .kind      .alignment  .char    .byteorder    .descr\n",
      "-------  -------  -----------  -------  ------------  -------  ------------  -------------\n",
      "bool     bool               1  b                   1  ?        |             [('', '|b1')]\n"
     ]
    }
   ],
   "source": [
    "show_dtype(np.bool_)"
   ]
  },
  {
   "cell_type": "markdown",
   "id": "532c37b1",
   "metadata": {},
   "source": [
    "##### 1.1.3.5. 字节串, 字符串类型"
   ]
  },
  {
   "cell_type": "code",
   "execution_count": 15,
   "id": "bfeae5cc",
   "metadata": {},
   "outputs": [
    {
     "name": "stdout",
     "output_type": "stream",
     "text": [
      "dtype    .name      .itemsize  .kind      .alignment  .char    .byteorder    .descr\n",
      "-------  -------  -----------  -------  ------------  -------  ------------  -------------\n",
      "|S0      bytes              0  S                   1  S        |             [('', '|S0')]\n",
      "<U0      str                0  U                   4  U        =             [('', '<U0')]\n"
     ]
    }
   ],
   "source": [
    "show_dtype(\n",
    "    np.bytes_,\n",
    "    np.str_,\n",
    ")"
   ]
  },
  {
   "cell_type": "markdown",
   "id": "ef6afa5c",
   "metadata": {},
   "source": [
    "##### 1.1.3.6. 其它类型"
   ]
  },
  {
   "cell_type": "code",
   "execution_count": 16,
   "id": "a07d36ad",
   "metadata": {},
   "outputs": [
    {
     "name": "stdout",
     "output_type": "stream",
     "text": [
      "dtype    .name      .itemsize  .kind      .alignment  .char    .byteorder    .descr\n",
      "-------  -------  -----------  -------  ------------  -------  ------------  -------------\n",
      "|V0      void               0  V                   1  V        |             [('', '|V0')]\n",
      "object   object             8  O                   8  O        |             [('', '|O')]\n"
     ]
    }
   ],
   "source": [
    "show_dtype(\n",
    "    np.void,\n",
    "    np.object_,\n",
    ")"
   ]
  },
  {
   "cell_type": "markdown",
   "id": "9ee8030d",
   "metadata": {},
   "source": [
    "### 1.2. 创建 `dtype` 对象"
   ]
  },
  {
   "cell_type": "markdown",
   "id": "8b3962d3",
   "metadata": {},
   "source": [
    "通过 `np.dtype` 函数，可以通过字符串的描述字符串创建 `dtype` 类型对象"
   ]
  },
  {
   "cell_type": "markdown",
   "id": "4837b06e",
   "metadata": {},
   "source": [
    "#### 1.2.1. 创建整数数值类型"
   ]
  },
  {
   "cell_type": "code",
   "execution_count": 17,
   "id": "96ddca72",
   "metadata": {},
   "outputs": [
    {
     "name": "stdout",
     "output_type": "stream",
     "text": [
      "dtype    .name      .itemsize  .kind      .alignment  .char    .byteorder    .descr\n",
      "-------  -------  -----------  -------  ------------  -------  ------------  -------------\n",
      "int8     int8               1  i                   1  b        |             [('', '|i1')]\n",
      "int16    int16              2  i                   2  h        =             [('', '<i2')]\n",
      ">i2      int16              2  i                   2  h        >             [('', '>i2')]\n",
      "int32    int32              4  i                   4  i        =             [('', '<i4')]\n",
      ">i4      int32              4  i                   4  i        >             [('', '>i4')]\n",
      "int64    int64              8  i                   8  l        =             [('', '<i8')]\n",
      ">i8      int64              8  i                   8  l        >             [('', '>i8')]\n",
      "uint8    uint8              1  u                   1  B        |             [('', '|u1')]\n",
      "uint16   uint16             2  u                   2  H        =             [('', '<u2')]\n",
      ">u2      uint16             2  u                   2  H        >             [('', '>u2')]\n",
      "uint32   uint32             4  u                   4  I        =             [('', '<u4')]\n",
      ">u4      uint32             4  u                   4  I        >             [('', '>u4')]\n",
      "uint64   uint64             8  u                   8  L        =             [('', '<u8')]\n",
      ">u8      uint64             8  u                   8  L        >             [('', '>u8')]\n"
     ]
    }
   ],
   "source": [
    "show_dtype(\n",
    "    \"|i1\",\n",
    "    \"<i2\",\n",
    "    \">i2\",\n",
    "    \"<i4\",\n",
    "    \">i4\",\n",
    "    \"<i8\",\n",
    "    \">i8\",\n",
    "    \"|u1\",\n",
    "    \"<u2\",\n",
    "    \">u2\",\n",
    "    \"<u4\",\n",
    "    \">u4\",\n",
    "    \"<u8\",\n",
    "    \">u8\",\n",
    ")"
   ]
  },
  {
   "cell_type": "markdown",
   "id": "122696b9",
   "metadata": {},
   "source": [
    "#### 1.2.2. 创建浮点数值类型"
   ]
  },
  {
   "cell_type": "code",
   "execution_count": 18,
   "id": "fd1d8b18",
   "metadata": {},
   "outputs": [
    {
     "name": "stdout",
     "output_type": "stream",
     "text": [
      "dtype    .name      .itemsize  .kind      .alignment  .char    .byteorder    .descr\n",
      "-------  -------  -----------  -------  ------------  -------  ------------  -------------\n",
      "float16  float16            2  f                   2  e        =             [('', '<f2')]\n",
      ">f2      float16            2  f                   2  e        >             [('', '>f2')]\n",
      "float32  float32            4  f                   4  f        =             [('', '<f4')]\n",
      ">f4      float32            4  f                   4  f        >             [('', '>f4')]\n",
      "float64  float64            8  f                   8  d        =             [('', '<f8')]\n",
      ">f8      float64            8  f                   8  d        >             [('', '>f8')]\n"
     ]
    }
   ],
   "source": [
    "show_dtype(\n",
    "    \"<f2\",\n",
    "    \">f2\",\n",
    "    \"<f4\",\n",
    "    \">f4\",\n",
    "    \"<f8\",\n",
    "    \">f8\",\n",
    ")"
   ]
  },
  {
   "cell_type": "markdown",
   "id": "2065b97e",
   "metadata": {},
   "source": [
    "#### 1.2.3. 创建复数数值类型"
   ]
  },
  {
   "cell_type": "code",
   "execution_count": 19,
   "id": "d39517df",
   "metadata": {},
   "outputs": [
    {
     "name": "stdout",
     "output_type": "stream",
     "text": [
      "dtype       .name         .itemsize  .kind      .alignment  .char    .byteorder    .descr\n",
      "----------  ----------  -----------  -------  ------------  -------  ------------  --------------\n",
      "complex64   complex64             8  c                   4  F        =             [('', '<c8')]\n",
      ">c8         complex64             8  c                   4  F        >             [('', '>c8')]\n",
      "complex128  complex128           16  c                   8  D        =             [('', '<c16')]\n",
      ">c16        complex128           16  c                   8  D        >             [('', '>c16')]\n"
     ]
    }
   ],
   "source": [
    "show_dtype(\n",
    "    \"<c8\",\n",
    "    \">c8\",\n",
    "    \"<c16\",\n",
    "    \">c16\",\n",
    ")"
   ]
  },
  {
   "cell_type": "markdown",
   "id": "042d4fb2",
   "metadata": {},
   "source": [
    "#### 1.2.4. 创建布尔类型"
   ]
  },
  {
   "cell_type": "code",
   "execution_count": 20,
   "id": "041e6c50",
   "metadata": {},
   "outputs": [
    {
     "name": "stdout",
     "output_type": "stream",
     "text": [
      "dtype    .name      .itemsize  .kind      .alignment  .char    .byteorder    .descr\n",
      "-------  -------  -----------  -------  ------------  -------  ------------  -------------\n",
      "bool     bool               1  b                   1  ?        |             [('', '|b1')]\n"
     ]
    }
   ],
   "source": [
    "show_dtype(\"|b1\")"
   ]
  },
  {
   "cell_type": "markdown",
   "id": "80005b59",
   "metadata": {},
   "source": [
    "#### 1.2.5. 创建串类型"
   ]
  },
  {
   "cell_type": "code",
   "execution_count": 21,
   "id": "6990553f",
   "metadata": {},
   "outputs": [
    {
     "name": "stdout",
     "output_type": "stream",
     "text": [
      "dtype    .name      .itemsize  .kind      .alignment  .char    .byteorder    .descr\n",
      "-------  -------  -----------  -------  ------------  -------  ------------  -------------\n",
      "<U0      str                0  U                   4  U        =             [('', '<U0')]\n",
      "<U3      str96             12  U                   4  U        =             [('', '<U3')]\n",
      ">U3      str96             12  U                   4  U        >             [('', '>U3')]\n",
      "|S0      bytes              0  S                   1  S        |             [('', '|S0')]\n",
      "|S4      bytes32            4  S                   1  S        |             [('', '|S4')]\n"
     ]
    }
   ],
   "source": [
    "show_dtype(\n",
    "    \"=U\",\n",
    "    \"<U3\",\n",
    "    \">U3\",\n",
    "    \"|S\",\n",
    "    \"|S4\",\n",
    ")"
   ]
  },
  {
   "cell_type": "markdown",
   "id": "43671d93",
   "metadata": {},
   "source": [
    "#### 1.2.6. 创建其它类型"
   ]
  },
  {
   "cell_type": "code",
   "execution_count": 22,
   "id": "8ad10e7a",
   "metadata": {},
   "outputs": [
    {
     "name": "stdout",
     "output_type": "stream",
     "text": [
      "dtype    .name      .itemsize  .kind      .alignment  .char    .byteorder    .descr\n",
      "-------  -------  -----------  -------  ------------  -------  ------------  -------------\n",
      "|V0      void               0  V                   1  V        |             [('', '|V0')]\n",
      "|V4      void32             4  V                   1  V        |             [('', '|V4')]\n",
      "object   object             8  O                   8  O        |             [('', '|O')]\n"
     ]
    }
   ],
   "source": [
    "show_dtype(\n",
    "    \"|V\",\n",
    "    \"|V4\",\n",
    "    \"|O\",\n",
    ")"
   ]
  },
  {
   "cell_type": "markdown",
   "id": "e08da513",
   "metadata": {},
   "source": [
    "## 2. `dtype` 类型数据"
   ]
  },
  {
   "cell_type": "code",
   "execution_count": 23,
   "id": "ba93b992",
   "metadata": {},
   "outputs": [],
   "source": [
    "from typing import Sequence\n",
    "\n",
    "from tabulate import tabulate\n",
    "\n",
    "HEADERS = [\n",
    "    \"array\",\n",
    "    \".name\",\n",
    "    \".itemsize\",\n",
    "    \".kind\",\n",
    "    \".alignment\",\n",
    "    \".char\",\n",
    "    \".byteorder\",\n",
    "    \".descr\",\n",
    "]\n",
    "\n",
    "\n",
    "def show_array_with_type(*arrs: np.ndarray, splitter='') -> None:\n",
    "    def make_row(arr: np.ndarray) -> list[str]:\n",
    "        dt = arr.dtype\n",
    "        return [\n",
    "            f\"{arr}\",\n",
    "            f\"{dt.name}\",\n",
    "            f\"{dt.itemsize}\",\n",
    "            f\"{dt.kind}\",\n",
    "            f\"{dt.alignment}\",\n",
    "            f\"{dt.char}\",\n",
    "            f\"{dt.byteorder}\",\n",
    "            f\"{dt.descr}\",\n",
    "        ]\n",
    "\n",
    "    output = [make_row(arr) for arr in arrs]\n",
    "    print(f\"{splitter}{tabulate(output, headers=HEADERS)}\")"
   ]
  },
  {
   "cell_type": "markdown",
   "id": "3aba3529",
   "metadata": {},
   "source": [
    "### 2.1. 数值类型数据"
   ]
  },
  {
   "cell_type": "markdown",
   "id": "13c6f0fc",
   "metadata": {},
   "source": [
    "在创建 Numpy 数组时, 整数元素数组默认为 `int64` 类型, 浮点数元素数组默认为 `float64` 类型, 可以通过 `dtype` 参数指定明确的元素类型\n",
    "\n",
    "可以通过数组对象的 `.astype` 方法将数组的元素类型转换为指定的类型, 返回指定元素类型的新数组"
   ]
  },
  {
   "cell_type": "code",
   "execution_count": 24,
   "id": "fe3d866b",
   "metadata": {},
   "outputs": [
    {
     "name": "stdout",
     "output_type": "stream",
     "text": [
      "array    .name      .itemsize  .kind      .alignment  .char    .byteorder    .descr\n",
      "-------  -------  -----------  -------  ------------  -------  ------------  -------------\n",
      "[1 2 3]  int64              8  i                   8  l        =             [('', '<i8')]\n",
      "[1 2 3]  int32              4  i                   4  i        =             [('', '<i4')]\n",
      "[1 2 3]  uint64             8  u                   8  L        >             [('', '>u8')]\n"
     ]
    }
   ],
   "source": [
    "# 创建元素为整数类型的数组, `dtype` 默认为 `np.int64`, 即 `=i8`\n",
    "a = np.array([1, 2, 3])\n",
    "\n",
    "# 将数组的 `dtype` 转换为 `np.int32` 类型\n",
    "b = a.astype(np.int32)\n",
    "\n",
    "# 将数组的 `dtype` 转换为 `>u8` 类型, 即 `np.uint64` 大端类型\n",
    "c = a.astype(\">u8\")\n",
    "\n",
    "show_array_with_type(a, b, c)"
   ]
  },
  {
   "cell_type": "markdown",
   "id": "d2cfffa5",
   "metadata": {},
   "source": [
    "### 2.2. 其它类型数据"
   ]
  },
  {
   "cell_type": "markdown",
   "id": "6143242a",
   "metadata": {},
   "source": [
    "#### 2.2.1. 布尔类型"
   ]
  },
  {
   "cell_type": "markdown",
   "id": "25051217",
   "metadata": {},
   "source": [
    "在创建 Numpy 数组时, 布尔类型元素数组默认为 `bool_` 类型\n",
    "\n",
    "如果将数值类型数组强制转换为布尔类型数组, 则数组中的非 `0` 元素会被转换为 `True`, `0` 元素会被转换为 `False`\n",
    "\n",
    "如果将字符串类型数组强制转换为布尔类型数组, 则数组中的非空元素会被转换为 `True`, 空元素会被转换为 `False`"
   ]
  },
  {
   "cell_type": "code",
   "execution_count": 25,
   "id": "40a51127",
   "metadata": {},
   "outputs": [
    {
     "name": "stdout",
     "output_type": "stream",
     "text": [
      "array                      .name      .itemsize  .kind      .alignment  .char    .byteorder    .descr\n",
      "-------------------------  -------  -----------  -------  ------------  -------  ------------  -------------\n",
      "[False  True False False]  bool               1  b                   1  ?        |             [('', '|b1')]\n",
      "[False  True False  True]  bool               1  b                   1  ?        |             [('', '|b1')]\n"
     ]
    }
   ],
   "source": [
    "show_array_with_type(\n",
    "    # 创建元素类型为布尔类型的数组, `dtype` 默认为 `np.bool_`\n",
    "    np.array([False, True, False, False]),\n",
    "    # 当用其它类型元素创建 `dtype` 为 `np.bool_` 的数组时, 会将其它类型的值转换为布尔值\n",
    "    np.array([0, 1, 0, 2], dtype=np.bool_),\n",
    ")"
   ]
  },
  {
   "cell_type": "markdown",
   "id": "96719268",
   "metadata": {},
   "source": [
    "#### 2.2.2. 字节串类型"
   ]
  },
  {
   "cell_type": "markdown",
   "id": "48e2bf11",
   "metadata": {},
   "source": [
    "通过 `dtype` 类型为 `|Sn` (`n` 为任意整数) 创建的数组, 每个元素可以存储固定长度的字节串, 无需区分大小端\n",
    "\n",
    "对于数组元素类型本身为 Python 字节串的情况, 默认 `dtype` 类型为 `|Sn` 类型 (`n` 为字符串长度)"
   ]
  },
  {
   "cell_type": "code",
   "execution_count": 26,
   "id": "4f152d66",
   "metadata": {},
   "outputs": [
    {
     "name": "stdout",
     "output_type": "stream",
     "text": [
      "array                                 .name      .itemsize  .kind      .alignment  .char    .byteorder    .descr\n",
      "------------------------------------  -------  -----------  -------  ------------  -------  ------------  -------------\n",
      "[b'AAA' b'BBB' b'CCC']                bytes24            3  S                   1  S        |             [('', '|S3')]\n",
      "[b'AAA' b'BBB' b'CCC' b'DD']          bytes24            3  S                   1  S        |             [('', '|S3')]\n",
      "[b'AAA' b'BBB' b'CCC' b'DD' b'EEEE']  bytes32            4  S                   1  S        |             [('', '|S4')]\n"
     ]
    }
   ],
   "source": [
    "# 创建一个长度为 3 的字节串数组, 每个字节串长度为 3 字节, 共占用 9 个字节 (3 * 3 字节)\n",
    "a = np.array([b\"AAA\", b\"BBB\", b\"CCC\"])\n",
    "\n",
    "# 创建一个长度为 4 的字节串数组, 每个字节串长度为 3 个字节, 共占用 12 个字节 (4 * 3 字节)\n",
    "# 由于是定长字节串数组, 所以即便追加一个 2 字节的字节串, 也会被补齐到长度为 3 字节\n",
    "b = np.append(a, b\"DD\")\n",
    "\n",
    "# 创建一个长度为 5 的字节串数组, 每个字节串长度为 4 字节, 共占用 20 个字节 (5 * 4 字节)\n",
    "# 由于是定长字节串数组, 所以加入一个长度为 4 的字节串会导致数组中其它字节串的长度被扩展到 4 字节\n",
    "c = np.append(b, b\"EEEE\")\n",
    "\n",
    "show_array_with_type(a, b, c)"
   ]
  },
  {
   "cell_type": "markdown",
   "id": "f84e93a6",
   "metadata": {},
   "source": [
    "注意, 在整个数组中, 所有字节串长度必须相同, 占用相同的内存空间, 在上面的例子中, 在数组中添加了长度更长的字符串后, 会导致数组的每个元素字节长度成为最长字节串长度\n",
    "\n",
    "如果在创建数组的同时就限定了元素的字节长度 (例如设置 `dtype` 为 `S5`, 即字符串最大长度为 5 个字节), 那么数组创建时, 如果元素的字节长度超出, 则字节串会被截断"
   ]
  },
  {
   "cell_type": "code",
   "execution_count": 27,
   "id": "5cfabab4",
   "metadata": {},
   "outputs": [
    {
     "name": "stdout",
     "output_type": "stream",
     "text": [
      "array                                 .name       .itemsize  .kind      .alignment  .char    .byteorder    .descr\n",
      "------------------------------------  --------  -----------  -------  ------------  -------  ------------  --------------\n",
      "[b'inter' b'short']                   bytes40             5  S                   1  S        |             [('', '|S5')]\n",
      "[b'inter' b'short' b'international']  bytes104           13  S                   1  S        |             [('', '|S13')]\n"
     ]
    }
   ],
   "source": [
    "# 通过 `dtype` 类型为 `S5` 创建一个长度为 2 的字节串数组, 则每个字节串长度为 5 字节, 共占用 10 字节 (2 * 5 字节)\n",
    "# 对于数组中长度超过 5 字节的字节串, 会被截断, 例如 b'international' 会被截断为 b'inter'\n",
    "a = np.array([b\"international\", b\"short\"], dtype=\"|S5\")\n",
    "b = np.append(a, b\"international\")\n",
    "\n",
    "show_array_with_type(a, b)"
   ]
  },
  {
   "cell_type": "markdown",
   "id": "8e777561",
   "metadata": {},
   "source": [
    "#### 2.2.3. \"空\" 元素类型"
   ]
  },
  {
   "cell_type": "markdown",
   "id": "1ad271c2",
   "metadata": {},
   "source": [
    "##### 2.2.3.1. 创建 \"空\" 元素类型数组"
   ]
  },
  {
   "cell_type": "markdown",
   "id": "cc5b21fa",
   "metadata": {},
   "source": [
    "数组的 `void` 元素类型 (\"空\" 元素类型) 指的并不是数组中存储为 \"空\" 的元素，而是数组的元素类型未知\n",
    "\n",
    "`void` 元素类型本质上仍然是字节串, 只是并不是"
   ]
  },
  {
   "cell_type": "code",
   "execution_count": 28,
   "id": "9de6a545",
   "metadata": {},
   "outputs": [
    {
     "name": "stdout",
     "output_type": "stream",
     "text": [
      "array                      .name      .itemsize  .kind      .alignment  .char    .byteorder    .descr\n",
      "-------------------------  -------  -----------  -------  ------------  -------  ------------  -------------\n",
      "[b'\\x41' b'\\x42' b'\\x43']  void8              1  V                   1  V        |             [('', '|V1')]\n"
     ]
    }
   ],
   "source": [
    "a = np.array([b\"A\", b\"B\", b\"C\"], dtype=np.void)\n",
    "show_array_with_type(a)"
   ]
  },
  {
   "cell_type": "markdown",
   "id": "e4e0da08",
   "metadata": {},
   "source": [
    "##### 2.2.3.2. \"空\" 元素类型数组和字节串元素类型数组相互转换"
   ]
  },
  {
   "cell_type": "code",
   "execution_count": null,
   "id": "699a0561",
   "metadata": {},
   "outputs": [],
   "source": [
    "a = np.array([b\"A\", b\"B\", b\"C\"], dtype=np.void)\n",
    "a1 = a.astype(np.bytes_)\n",
    "show_array_with_type(a)"
   ]
  },
  {
   "cell_type": "markdown",
   "id": "a49ecb24",
   "metadata": {},
   "source": [
    "#### 2.2.4. 字符串类型"
   ]
  },
  {
   "cell_type": "markdown",
   "id": "107d10dd",
   "metadata": {},
   "source": [
    "##### 2.2.4.1. 固定长度字符串数组"
   ]
  },
  {
   "cell_type": "markdown",
   "id": "6ee2d243",
   "metadata": {},
   "source": [
    "通过 `dtype` 类型为 `Un` (`n` 为任意整数) 创建的数组, 每个元素可以存储固定长度的 Unicode 字符串, 例如如下 `dtype` 类型:\n",
    "\n",
    "- `<U2`: 长度为 2 的字符串, 小端字节序\n",
    "- `<U3`: 长度为 3 的字符串, 小端字节序\n",
    "- `>U8`: 长度为 8 的字符串, 大端字节序\n",
    "- `=U16`: 长度为 16 的字符串, 本机字节序\n",
    "\n",
    "对于数组元素类型本身为 Python 字符串的情况, 默认 `dtype` 类型为 `=Un` 类型 (`n` 为字符串长度)\n",
    "\n",
    "如果"
   ]
  },
  {
   "cell_type": "code",
   "execution_count": 29,
   "id": "03724d27",
   "metadata": {},
   "outputs": [
    {
     "name": "stdout",
     "output_type": "stream",
     "text": [
      "array                            .name      .itemsize  .kind      .alignment  .char    .byteorder    .descr\n",
      "-------------------------------  -------  -----------  -------  ------------  -------  ------------  -------------\n",
      "['AAA' 'BBB' 'CCC']              str96             12  U                   4  U        =             [('', '<U3')]\n",
      "['AAA' 'BBB' 'CCC' 'DD']         str96             12  U                   4  U        =             [('', '<U3')]\n",
      "['AAA' 'BBB' 'CCC' 'DD' 'EEEE']  str128            16  U                   4  U        =             [('', '<U4')]\n"
     ]
    }
   ],
   "source": [
    "# 创建一个长度为 3 的字符串数组, 每个字符串长度为 3 个 Unicode 字符, 共占用 36 个字节 (3 * 3 * 4 字节)\n",
    "a = np.array([\"AAA\", \"BBB\", \"CCC\"])\n",
    "\n",
    "# 创建一个长度为 4 的字符串数组, 每个字符串长度为 3 个 Unicode 字符, 共占用 48 个字节 (4 * 3 * 4 字节)\n",
    "# 由于是定长字符串数组, 所以即便追加一个长度为 2 的字符串, 也会被补齐到长度为 3 个 Unicode 字符\n",
    "b = np.append(a, \"DD\")\n",
    "\n",
    "# 创建一个长度为 5 的字符串数组, 每个字符串长度为 4 个 Unicode 字符, 共占用 80 个字节 (5 * 4 * 4 字节)\n",
    "# 由于是定长字符串数组, 所以加入一个长度为 4 的字符串会导致数组中其它字符串的长度被扩展到 4 个 Unicode 字符\n",
    "c = np.append(b, \"EEEE\")\n",
    "\n",
    "show_array_with_type(a, b, c)"
   ]
  },
  {
   "cell_type": "markdown",
   "id": "a07b0f3d",
   "metadata": {},
   "source": [
    "注意, 在整个数组中, 所有字符串长度必须相同, 占用相同的内存空间, 在上面的例子中, 在数组中添加了长度更长的字符串后, 会导致数组的每个元素字符串长度成为最长字符串长度\n",
    "\n",
    "如果在创建数组的同时就限定了元素的字符串长度 (例如设置 `dtype` 为 `U5`, 即字符串最大长度为 5 个字符), 那么数组创建时, 如果字符串长度超出, 则字符串会被截断"
   ]
  },
  {
   "cell_type": "code",
   "execution_count": 30,
   "id": "af2e7c5f",
   "metadata": {},
   "outputs": [
    {
     "name": "stdout",
     "output_type": "stream",
     "text": [
      "array                              .name      .itemsize  .kind      .alignment  .char    .byteorder    .descr\n",
      "---------------------------------  -------  -----------  -------  ------------  -------  ------------  --------------\n",
      "['inter' 'short']                  str160            20  U                   4  U        =             [('', '<U5')]\n",
      "['inter' 'short' 'international']  str416            52  U                   4  U        =             [('', '<U13')]\n"
     ]
    }
   ],
   "source": [
    "# 通过 `dtype` 类型为 `U5` 创建一个长度为 2 的字符串数组, 则每个字符串长度为 5 个 Unicode 字符, 共占用 40 个字节 (2 * 5 * 4 字节)\n",
    "# 对于数组中长度超过 5 个字符的字符串, 会被截断, 例如 \"international\" 会被截断为 \"inter\"\n",
    "a = np.array([\"international\", \"short\"], dtype=\"=U5\")\n",
    "b = np.append(a, \"international\")\n",
    "\n",
    "show_array_with_type(a, b)"
   ]
  },
  {
   "cell_type": "markdown",
   "id": "bd8d5ee8",
   "metadata": {},
   "source": [
    "固定长度字符串数组由于每个数组元素长度固定, 所以其性能表现最好, 但如果数组中的字符串长度参差不齐, 则会占用很多无效内存空间"
   ]
  },
  {
   "cell_type": "markdown",
   "id": "f68d2f2c",
   "metadata": {},
   "source": [
    "##### 2.2.4.2. 可变长度字符串数组"
   ]
  },
  {
   "cell_type": "markdown",
   "id": "4dc5599d",
   "metadata": {},
   "source": [
    "可变长字符串, 其 `dtype` 类型为 `np.dtypes.StringDtype`\n",
    "\n",
    "所谓可变长字符串, 就是指字符串的长度是不固定的, 为了能让 Numpy 数组可以存储这类字符串, 需要将字符串单独进行存储, 并只在 Numpy 数组中存储字符串的引用, 这样一来既可以确保 Numpy 数组本身的固定元素长度的要求, 另一方面间接的存储了可变长度的字符串"
   ]
  },
  {
   "cell_type": "code",
   "execution_count": 31,
   "id": "bb2a0a5a",
   "metadata": {},
   "outputs": [
    {
     "name": "stdout",
     "output_type": "stream",
     "text": [
      "array                          .name             .itemsize  .kind      .alignment  .char    .byteorder    .descr\n",
      "-----------------------------  --------------  -----------  -------  ------------  -------  ------------  -----------------------\n",
      "['A' 'BB' 'CCC' 'DDDD']        StringDType128           16  T                   8  T        |             [('', 'StringDType()')]\n",
      "['AAAA' 'BBBB' 'CCCC' 'DDDD']  StringDType128           16  T                   8  T        |             [('', 'StringDType()')]\n"
     ]
    }
   ],
   "source": [
    "# 创建一个包含 4 个可变字符串的数组, 数组每个元素存储一个字符串引用为 16 字节, 共占用 64 个字节 (4 * 16 字节)\n",
    "a = np.array([\"A\", \"BB\", \"CCC\", \"DDDD\"], dtype=np.dtypes.StringDType())\n",
    "\n",
    "# 通过下例可以确认, 可变字符串引用占用的数组元素长度和字符串本身长度无关, 而是固定为 16 字节\n",
    "b = np.array([\"AAAA\", \"BBBB\", \"CCCC\", \"DDDD\"], dtype=np.dtypes.StringDType())\n",
    "\n",
    "show_array_with_type(a, b)"
   ]
  },
  {
   "cell_type": "markdown",
   "id": "b4d4a566",
   "metadata": {},
   "source": [
    "##### 2.2.4.3. 数组元素转换为字符串类型"
   ]
  },
  {
   "cell_type": "markdown",
   "id": "005d9c97",
   "metadata": {},
   "source": [
    "1. 数值类型元素转换为字符串类型\n",
    "\n",
    "   将一个数值类型元素的数组转换为字符串类型元素数组, 数组中的数值将按照其字面量值转换为对应的字符串, 例如: `123` 转换为 `\"123\"`\n",
    "\n",
    "   可以通过 `np.astype` 函数来完成类型转换, 转换结果可以是定长字符串元素数组, 也可以是可变长字符串元素数组"
   ]
  },
  {
   "cell_type": "code",
   "execution_count": 32,
   "id": "6aaf2554",
   "metadata": {},
   "outputs": [
    {
     "name": "stdout",
     "output_type": "stream",
     "text": [
      "array              .name             .itemsize  .kind      .alignment  .char    .byteorder    .descr\n",
      "-----------------  --------------  -----------  -------  ------------  -------  ------------  -----------------------\n",
      "[1 2 3 4]          int64                     8  i                   8  l        =             [('', '<i8')]\n",
      "['1' '2' '3' '4']  str672                   84  U                   4  U        =             [('', '<U21')]\n",
      "['1' '2' '3' '4']  StringDType128           16  T                   8  T        |             [('', 'StringDType()')]\n",
      "\n",
      "array                      .name             .itemsize  .kind      .alignment  .char    .byteorder    .descr\n",
      "-------------------------  --------------  -----------  -------  ------------  -------  ------------  -----------------------\n",
      "[1.1 2.2 3.3 4.4]          float64                   8  f                   8  d        =             [('', '<f8')]\n",
      "['1.1' '2.2' '3.3' '4.4']  str1024                 128  U                   4  U        =             [('', '<U32')]\n",
      "['1.1' '2.2' '3.3' '4.4']  StringDType128           16  T                   8  T        |             [('', 'StringDType()')]\n",
      "\n",
      "array                                  .name             .itemsize  .kind      .alignment  .char    .byteorder    .descr\n",
      "-------------------------------------  --------------  -----------  -------  ------------  -------  ------------  -----------------------\n",
      "[1.+1.j 2.+2.j 3.+3.j 4.+4.j]          complex128               16  c                   8  D        =             [('', '<c16')]\n",
      "['(1+1j)' '(2+2j)' '(3+3j)' '(4+4j)']  str2048                 256  U                   4  U        =             [('', '<U64')]\n",
      "['(1+1j)' '(2+2j)' '(3+3j)' '(4+4j)']  StringDType128           16  T                   8  T        |             [('', 'StringDType()')]\n"
     ]
    }
   ],
   "source": [
    "a = np.array([1, 2, 3, 4])\n",
    "\n",
    "# 将整型元素类型的数组转为定长字符串类型数组\n",
    "a1 = a.astype(np.str_)\n",
    "\n",
    "# 将整型元素类型的数组转为不定长字符串类型数组\n",
    "a2 = a.astype(np.dtypes.StringDType())\n",
    "\n",
    "show_array_with_type(a, a1, a2)\n",
    "\n",
    "a = np.array([1.1, 2.2, 3.3, 4.4])\n",
    "\n",
    "# 将浮点型元素类型的数组转为定长字符串类型数组\n",
    "a1 = a.astype(\"=U\")\n",
    "\n",
    "# 将浮点型元素类型的数组转为不定长字符串类型数组\n",
    "a2 = a.astype(np.dtypes.StringDType())\n",
    "\n",
    "show_array_with_type(a, a1, a2, splitter=\"\\n\")\n",
    "\n",
    "a = np.array([1 + 1j, 2 + 2j, 3 + 3j, 4 + 4j], dtype=\"=c16\")\n",
    "\n",
    "# 将复数型元素类型的数组转为定长字符串类型数组\n",
    "a1 = a.astype(\"=U\")\n",
    "\n",
    "# 将复数型元素类型的数组转为不定长字符串类型数组\n",
    "a2 = a.astype(np.dtypes.StringDType())\n",
    "\n",
    "show_array_with_type(a, a1, a2, splitter=\"\\n\")"
   ]
  },
  {
   "cell_type": "markdown",
   "id": "e3e88b0e",
   "metadata": {},
   "source": [
    "2. 布尔类型元素转换为字符串类型\n",
    "\n",
    "   同样, 也可以将布尔类型元素数组转换为字符串类型数组"
   ]
  },
  {
   "cell_type": "code",
   "execution_count": 33,
   "id": "2e372f1d",
   "metadata": {},
   "outputs": [
    {
     "name": "stdout",
     "output_type": "stream",
     "text": [
      "array                           .name             .itemsize  .kind      .alignment  .char    .byteorder    .descr\n",
      "------------------------------  --------------  -----------  -------  ------------  -------  ------------  -----------------------\n",
      "[ True False  True  True]       bool                      1  b                   1  ?        |             [('', '|b1')]\n",
      "['True' 'False' 'True' 'True']  str160                   20  U                   4  U        =             [('', '<U5')]\n",
      "['True' 'False' 'True' 'True']  StringDType128           16  T                   8  T        |             [('', 'StringDType()')]\n"
     ]
    }
   ],
   "source": [
    "a = np.array([True, False, True, True])\n",
    "\n",
    "# 将布尔型元素类型的数组转为不定长字符串类型数组\n",
    "a1 = a.astype(np.str_)\n",
    "\n",
    "# 将布尔型元素类型的数组转为定长字符串类型数组\n",
    "a2 = a.astype(np.dtypes.StringDType())\n",
    "\n",
    "show_array_with_type(a, a1, a2)"
   ]
  },
  {
   "cell_type": "markdown",
   "id": "dfa3a99c",
   "metadata": {},
   "source": [
    "3. 字节串类型元素转字符串类类型"
   ]
  },
  {
   "cell_type": "code",
   "execution_count": 34,
   "id": "c1e341b9",
   "metadata": {},
   "outputs": [
    {
     "name": "stdout",
     "output_type": "stream",
     "text": [
      "array                   .name             .itemsize  .kind      .alignment  .char    .byteorder    .descr\n",
      "----------------------  --------------  -----------  -------  ------------  -------  ------------  -----------------------\n",
      "[b'AAA' b'BBB' b'CCC']  bytes24                   3  S                   1  S        |             [('', '|S3')]\n",
      "['AAA' 'BBB' 'CCC']     str96                    12  U                   4  U        =             [('', '<U3')]\n",
      "['AAA' 'BBB' 'CCC']     StringDType128           16  T                   8  T        |             [('', 'StringDType()')]\n"
     ]
    }
   ],
   "source": [
    "a = np.array([b\"AAA\", b\"BBB\", b\"CCC\"])\n",
    "\n",
    "# 将字节串元素类型的数组转为不定长字符串类型数组\n",
    "a1 = a.astype(\"U\")\n",
    "\n",
    "# 将字节串元素类型的数组转为定长字符串类型数组\n",
    "a2 = a.astype(np.dtypes.StringDType())\n",
    "\n",
    "show_array_with_type(a, a1, a2)"
   ]
  },
  {
   "cell_type": "markdown",
   "id": "4c74da0c",
   "metadata": {},
   "source": [
    "##### 2.2.4.4. 数组占位符"
   ]
  }
 ],
 "metadata": {
  "kernelspec": {
   "display_name": ".venv",
   "language": "python",
   "name": "python3"
  },
  "language_info": {
   "codemirror_mode": {
    "name": "ipython",
    "version": 3
   },
   "file_extension": ".py",
   "mimetype": "text/x-python",
   "name": "python",
   "nbconvert_exporter": "python",
   "pygments_lexer": "ipython3",
   "version": "3.14.0"
  }
 },
 "nbformat": 4,
 "nbformat_minor": 5
}
