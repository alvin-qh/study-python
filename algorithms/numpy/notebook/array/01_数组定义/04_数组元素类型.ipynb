{
 "cells": [
  {
   "cell_type": "markdown",
   "id": "8de4ece5",
   "metadata": {},
   "source": [
    "# 数组元素类型"
   ]
  },
  {
   "cell_type": "code",
   "execution_count": 10,
   "id": "02e50e72",
   "metadata": {},
   "outputs": [],
   "source": [
    "import numpy as np"
   ]
  },
  {
   "cell_type": "markdown",
   "id": "837ab037",
   "metadata": {},
   "source": [
    "## 1. 内置类型"
   ]
  },
  {
   "cell_type": "markdown",
   "id": "c52759ff",
   "metadata": {},
   "source": [
    "Numpy 库中内置了一系列表示数组元素类型的标识，如:\n",
    "- `np.int8`\n",
    "- `np.int16`\n",
    "- `np.int32`\n",
    "- `np.int64`\n",
    "- `np.uint8`\n",
    "- `np.uint16`\n",
    "- `np.uint32`\n",
    "- `np.uint64`\n",
    "- `np.float16`\n",
    "- `np.float32`\n",
    "- `np.float64`\n",
    "- `np.complex64`\n",
    "- `np.complex128`\n",
    "等\n",
    "\n",
    "不同类型表示数组元素的字节长度, 也即定义了数组元素的数值范围, 数值精度"
   ]
  },
  {
   "cell_type": "markdown",
   "id": "0b141d8f",
   "metadata": {},
   "source": [
    "### 1.1. 创建数组时指定类型"
   ]
  },
  {
   "cell_type": "markdown",
   "id": "47ec32b9",
   "metadata": {},
   "source": [
    "可以在创建数组时, 通过 `dtype` c创建指定数组元素的类型, 默认会自动通过创建数组时所给的元素值进行类型推导\n",
    "\n",
    "如果的 `dtype` 参数指定的数组元素类型于创建数组所给的数组元素类型不一致, 则 Numpy 会自动将元素值进行类型转换 (例如将 `int` 转换为 `float`)"
   ]
  },
  {
   "cell_type": "code",
   "execution_count": 11,
   "id": "9bb1bc0b",
   "metadata": {},
   "outputs": [
    {
     "name": "stdout",
     "output_type": "stream",
     "text": [
      "> 数组:\n",
      "[1 2 3 4], dtype=int32\n",
      "> 数组:\n",
      "[0.1 0.2 0.3 0.4], dtype=float64\n"
     ]
    }
   ],
   "source": [
    "a = np.array([1, 2, 3, 4], dtype=np.int32)\n",
    "print(f\"> 数组:\\n{a}, dtype={a.dtype}\")\n",
    "\n",
    "a = np.array(a / 10.0, dtype=np.float64)\n",
    "print(f\"> 数组:\\n{a}, dtype={a.dtype}\")"
   ]
  },
  {
   "cell_type": "markdown",
   "id": "b5e4062a",
   "metadata": {},
   "source": [
    "### 1.2. 改变数组的元素类型"
   ]
  },
  {
   "cell_type": "code",
   "execution_count": null,
   "id": "552f419e",
   "metadata": {},
   "outputs": [
    {
     "name": "stdout",
     "output_type": "stream",
     "text": [
      "> 数组:\n",
      "[1 2 3 4], dtype=uint32\n",
      "> 数组:\n",
      "[1. 2. 3. 4.], dtype=float32\n",
      "> 数组:\n",
      "['1.0' '2.0' '3.0' '4.0'], dtype=<U32\n",
      "> 数组:\n",
      "['1.0' '2.0' '3.0' '4.0'], dtype=StringDType()\n"
     ]
    }
   ],
   "source": [
    "a = np.array([1, 2, 3, 4], dtype=np.uint32)\n",
    "print(f\"> 数组:\\n{a}, dtype={a.dtype}\")\n",
    "\n",
    "a = a.astype(np.float32)\n",
    "print(f\"> 数组:\\n{a}, dtype={a.dtype}\")\n",
    "\n",
    "a = a.astype(np.str_)\n",
    "print(f\"> 数组:\\n{a}, dtype={a.dtype}\")\n",
    "\n",
    "a = a.astype(np.dtypes.StringDType)\n",
    "print(f\"> 数组:\\n{a}, dtype={a.dtype}\")"
   ]
  }
 ],
 "metadata": {
  "kernelspec": {
   "display_name": ".venv",
   "language": "python",
   "name": "python3"
  },
  "language_info": {
   "codemirror_mode": {
    "name": "ipython",
    "version": 3
   },
   "file_extension": ".py",
   "mimetype": "text/x-python",
   "name": "python",
   "nbconvert_exporter": "python",
   "pygments_lexer": "ipython3",
   "version": "3.13.7"
  }
 },
 "nbformat": 4,
 "nbformat_minor": 5
}
