{
 "cells": [
  {
   "cell_type": "markdown",
   "id": "8de4ece5",
   "metadata": {},
   "source": [
    "# 数组元素类型"
   ]
  },
  {
   "cell_type": "code",
   "execution_count": 1,
   "id": "02e50e72",
   "metadata": {},
   "outputs": [],
   "source": [
    "import numpy as np"
   ]
  },
  {
   "cell_type": "markdown",
   "id": "e8cd1152",
   "metadata": {},
   "source": [
    "## 1. dtype 类型"
   ]
  },
  {
   "cell_type": "markdown",
   "id": "56e4cdce",
   "metadata": {},
   "source": [
    "Numpy 通过数组的 `dtype` 属性来表示数组元素的类型\n",
    "\n",
    "`dtype` 类型不仅表示数组元素的数据类型, 还表示了存储这些类型所需内存空间的大小和字节序"
   ]
  },
  {
   "cell_type": "markdown",
   "id": "1e40a548",
   "metadata": {},
   "source": [
    "### 1.1. 类型说明"
   ]
  },
  {
   "cell_type": "markdown",
   "id": "6cc3e391",
   "metadata": {},
   "source": [
    "#### 1.1.1. 内置 `dtype` 类型"
   ]
  },
  {
   "cell_type": "markdown",
   "id": "5ad732b4",
   "metadata": {},
   "source": [
    "Numpy 通过一组常量标识内置了各种数据类型的 `dtype` 值, 内置的 `dtype` 类型字节序为自动匹配本机 CPU, 内置的 `dtype` 常量标识包括:\n",
    "\n",
    "- `np.int8`\n",
    "- `np.int16`\n",
    "- `np.int32`\n",
    "- `np.int64`\n",
    "- `np.uint8`\n",
    "- `np.uint16`\n",
    "- `np.uint32`\n",
    "- `np.uint64`\n",
    "- `np.float16`\n",
    "- `np.float32`\n",
    "- `np.float64`\n",
    "- `np.complex64`\n",
    "- `np.complex128`\n",
    "- `np.bool_`\n",
    "- `np.str_`\n",
    "- `np.bytes_`\n",
    "- `np.object_`"
   ]
  },
  {
   "cell_type": "markdown",
   "id": "172e4b6a",
   "metadata": {},
   "source": [
    "#### 1.1.2. `dtype` 类型属性"
   ]
  },
  {
   "cell_type": "markdown",
   "id": "d7fef970",
   "metadata": {},
   "source": [
    "一个 `dtype` 类型对象包括以下属性:"
   ]
  },
  {
   "cell_type": "markdown",
   "id": "9cdc828a",
   "metadata": {},
   "source": [
    "##### 1.1.2.1. `.name` 属性"
   ]
  },
  {
   "cell_type": "markdown",
   "id": "7371aff5",
   "metadata": {},
   "source": [
    "`dtype` 对象的 `.name` 属性用于表示该类型的名称, 例如: `np.int64` 的 `.name` 属性是 `'int64'`"
   ]
  },
  {
   "cell_type": "markdown",
   "id": "927cbe4c",
   "metadata": {},
   "source": [
    "##### 1.1.2.2. `.itemsize` 属性"
   ]
  },
  {
   "cell_type": "markdown",
   "id": "0f6afd77",
   "metadata": {},
   "source": [
    "`dtype` 对象的 `.itemsize` 属性用于表示该类型数据占内存字节数, 例如 `np.int32` 的 `.itemsize` 属性为 `4`, 表示该类型数据占据 `4` 个字节内存"
   ]
  },
  {
   "cell_type": "markdown",
   "id": "23c5e09e",
   "metadata": {},
   "source": [
    "##### 1.1.2.3. `.byteorder` 属性"
   ]
  },
  {
   "cell_type": "markdown",
   "id": "0c767796",
   "metadata": {},
   "source": [
    "`dtype` 对象的 `.byteorder` 属性表示该类型数据的字节序, 用一个字符表示, 包括:\n",
    "\n",
    "- `'<'`: Little-Endian (小端字节序)\n",
    "- `'>'`: Big-Endian (大端字节序)\n",
    "- `'='`: Native (本机字节序)\n",
    "- `'|'`: one byte (单字节数据, 无字节序)"
   ]
  },
  {
   "cell_type": "markdown",
   "id": "f5cb6ed5",
   "metadata": {},
   "source": [
    "##### 1.1.2.4. `.kind` 属性"
   ]
  },
  {
   "cell_type": "markdown",
   "id": "ff09aef0",
   "metadata": {},
   "source": [
    "`dtype` 对象的 `.kind`: 该类型数据的类型标识, 用一个字符表示, 包括:\n",
    "\n",
    "- `i` 表示整肃\n",
    "- `u` 表示无符号整肃\n",
    "- `f` 表示浮点数\n",
    "- `c` 表示复数\n",
    "- `b` 表示布尔值\n",
    "- `U` 表示 Unicode 字符串\n",
    "- `S` 表示字节串\n",
    "- `O` 表示对象"
   ]
  },
  {
   "cell_type": "markdown",
   "id": "6c1312d2",
   "metadata": {},
   "source": [
    "##### 1.1.2.5. `.alignment` 属性"
   ]
  },
  {
   "cell_type": "markdown",
   "id": "a5989927",
   "metadata": {},
   "source": [
    "`dtype` 对象的 `.alignment` 属性表示该类型数据存储在内存中的字节对齐大小, 可取值为 `1`, `2`, `4`, `8` 或 `16`"
   ]
  },
  {
   "cell_type": "markdown",
   "id": "5b57017f",
   "metadata": {},
   "source": [
    "##### 1.1.2.6. `.char` 属性"
   ]
  },
  {
   "cell_type": "markdown",
   "id": "f1e7cd04",
   "metadata": {},
   "source": [
    "`dtype` 对象的 `.char` 属性表示该类型的名称标识, 用一个字符标识, 包括:\n",
    "\n",
    "- `b` 表示 8 位有符号整数\n",
    "- `h` 表示 16 位有符号整数\n",
    "- `i` 表示 32 位有符号整数\n",
    "- `l` 表示 64 位有符号整数\n",
    "- `B` 表示 8 位无符号整数\n",
    "- `H` 表示 16 位无符号整数\n",
    "- `I` 表示 32 位无符号整数\n",
    "- `L` 表示 64 位无符号整数\n",
    "- `e` 表示 16 位浮点数\n",
    "- `f` 表示 32 位浮点数\n",
    "- `d` 表示 64 位浮点数\n",
    "- `g` 表示 128 位浮点数\n",
    "- `F` 表示 64 位复数\n",
    "- `?` 表示 1 字节布尔值\n",
    "- `U` 表示 4 字节 Unicode 字符串fu\n",
    "- `S` 表示 1 字节字节串\n",
    "- `O` 表示对象"
   ]
  },
  {
   "cell_type": "markdown",
   "id": "ab61a84c",
   "metadata": {},
   "source": [
    "##### 1.1.2.7. `.descr` 属性"
   ]
  },
  {
   "cell_type": "markdown",
   "id": "02861c23",
   "metadata": {},
   "source": [
    "`dtype` 对象的 `.descr` 表示该类型数据的描述符, 通过 '字节序' + '类型标识' + '字节数' 组成, 包括:\n",
    "\n",
    "- `|i1`: 表示 1 字节有符号整数\n",
    "- `<i2`: 表示 2 字节有符号整数, 小端字节序\n",
    "- `>i2`: 表示 2 字节有符号整数, 大端字节序\n",
    "- `=i2`: 表示 2 字节有符号整数, 本机字节序\n",
    "- `<i4`: 表示 4 字节有符号整数, 小端字节序\n",
    "- `>i4`: 表示 4 字节有符号整数, 大端字节序\n",
    "- `=i4`: 表示 4 字节有符号整数, 本机字节序\n",
    "- `<i8`: 表示 8 字节有符号整数, 小端字节序\n",
    "- `>i8`: 表示 8 字节有符号整数, 大端字节序\n",
    "- `=i8`: 表示 8 字节有符号整数, 本机字节序\n",
    "- ... ...\n",
    "- `<U3`: 表示 3 个 Unicode 字符, 小端字节序, 共 12 字节, 96 位\n",
    "- `>U4`: 表示 4 个 Unicode 字符, 大端字节序, 共 16 字节, 128 位\n",
    "- `=U2`: 表示 2 个 Unicode 字符, 本机字节序, 共 8 字节, 64 位\n",
    "- `|S4`: 4 个字节的二进制字节串, 32 位\n",
    "- `|S8`: 8 个字节的二进制字节串, 64 位"
   ]
  },
  {
   "cell_type": "markdown",
   "id": "4b5b3664",
   "metadata": {},
   "source": [
    "#### 1.1.3. `dtype` 属性查看"
   ]
  },
  {
   "cell_type": "code",
   "execution_count": 16,
   "id": "a1824c12",
   "metadata": {},
   "outputs": [
    {
     "name": "stdout",
     "output_type": "stream",
     "text": [
      "dtype is 'int8', size is '1B', kind is 'i', alignment '1', char is 'b', byteorder is '|', describe is '[('', '|i1')]'\n",
      "dtype is 'int16', size is '2B', kind is 'i', alignment '2', char is 'h', byteorder is '=', describe is '[('', '<i2')]'\n",
      "dtype is 'int32', size is '4B', kind is 'i', alignment '4', char is 'i', byteorder is '=', describe is '[('', '<i4')]'\n",
      "dtype is 'int64', size is '8B', kind is 'i', alignment '8', char is 'l', byteorder is '=', describe is '[('', '<i8')]'\n",
      "dtype is 'uint8', size is '1B', kind is 'u', alignment '1', char is 'B', byteorder is '|', describe is '[('', '|u1')]'\n",
      "dtype is 'uint16', size is '2B', kind is 'u', alignment '2', char is 'H', byteorder is '=', describe is '[('', '<u2')]'\n",
      "dtype is 'uint32', size is '4B', kind is 'u', alignment '4', char is 'I', byteorder is '=', describe is '[('', '<u4')]'\n",
      "dtype is 'uint64', size is '8B', kind is 'u', alignment '8', char is 'L', byteorder is '=', describe is '[('', '<u8')]'\n",
      "dtype is 'float16', size is '2B', kind is 'f', alignment '2', char is 'e', byteorder is '=', describe is '[('', '<f2')]'\n",
      "dtype is 'float32', size is '4B', kind is 'f', alignment '4', char is 'f', byteorder is '=', describe is '[('', '<f4')]'\n",
      "dtype is 'float64', size is '8B', kind is 'f', alignment '8', char is 'd', byteorder is '=', describe is '[('', '<f8')]'\n",
      "dtype is 'float128', size is '16B', kind is 'f', alignment '16', char is 'g', byteorder is '=', describe is '[('', '<f16')]'\n",
      "dtype is 'complex64', size is '8B', kind is 'c', alignment '4', char is 'F', byteorder is '=', describe is '[('', '<c8')]'\n",
      "dtype is 'complex128', size is '16B', kind is 'c', alignment '8', char is 'D', byteorder is '=', describe is '[('', '<c16')]'\n",
      "dtype is 'bool', size is '1B', kind is 'b', alignment '1', char is '?', byteorder is '|', describe is '[('', '|b1')]'\n",
      "dtype is 'str', size is '0B', kind is 'U', alignment '4', char is 'U', byteorder is '=', describe is '[('', '<U0')]'\n",
      "dtype is 'bytes', size is '0B', kind is 'S', alignment '1', char is 'S', byteorder is '|', describe is '[('', '|S0')]'\n",
      "dtype is 'object', size is '8B', kind is 'O', alignment '8', char is 'O', byteorder is '|', describe is '[('', '|O')]'\n"
     ]
    }
   ],
   "source": [
    "dts = [\n",
    "    np.int8,\n",
    "    np.int16,\n",
    "    np.int32,\n",
    "    np.int64,\n",
    "    np.uint8,\n",
    "    np.uint16,\n",
    "    np.uint32,\n",
    "    np.uint64,\n",
    "    np.float16,\n",
    "    np.float32,\n",
    "    np.float64,\n",
    "    np.float128,\n",
    "    np.complex64,\n",
    "    np.complex128,\n",
    "    np.bool_,\n",
    "    np.str_,\n",
    "    np.bytes_,\n",
    "    np.object_,\n",
    "]\n",
    "\n",
    "for dt in dts:\n",
    "    dt = np.dtype(dt)\n",
    "    print(\n",
    "        f\"dtype is '{dt.name}', \"\n",
    "        f\"size is '{dt.itemsize}B', \"\n",
    "        f\"kind is '{dt.kind}', \"\n",
    "        f\"alignment '{dt.alignment}', \"\n",
    "        f\"char is '{dt.char}', \"\n",
    "        f\"byteorder is '{dt.byteorder}', \"\n",
    "        f\"describe is '{dt.descr}'\"\n",
    "    )"
   ]
  },
  {
   "cell_type": "markdown",
   "id": "9ee8030d",
   "metadata": {},
   "source": [
    "### 1.2. 创建 `dtype` 对象"
   ]
  },
  {
   "cell_type": "markdown",
   "id": "8b3962d3",
   "metadata": {},
   "source": [
    "通过 `np.dtype` 函数，可以通过字符串的描述字符串创建 `dtype` 类型对象"
   ]
  },
  {
   "cell_type": "code",
   "execution_count": 15,
   "id": "8ad10e7a",
   "metadata": {},
   "outputs": [
    {
     "name": "stdout",
     "output_type": "stream",
     "text": [
      "dtype is 'int8', size is '1B', kind is 'i', alignment '1', char is 'b', byteorder is '|', describe is '[('', '|i1')]'\n",
      "-----\n",
      "dtype is 'int16', size is '2B', kind is 'i', alignment '2', char is 'h', byteorder is '=', describe is '[('', '<i2')]'\n",
      "dtype is 'int16', size is '2B', kind is 'i', alignment '2', char is 'h', byteorder is '>', describe is '[('', '>i2')]'\n",
      "-----\n",
      "dtype is 'int32', size is '4B', kind is 'i', alignment '4', char is 'i', byteorder is '=', describe is '[('', '<i4')]'\n",
      "dtype is 'int32', size is '4B', kind is 'i', alignment '4', char is 'i', byteorder is '>', describe is '[('', '>i4')]'\n",
      "-----\n",
      "dtype is 'int64', size is '8B', kind is 'i', alignment '8', char is 'l', byteorder is '=', describe is '[('', '<i8')]'\n",
      "dtype is 'int64', size is '8B', kind is 'i', alignment '8', char is 'l', byteorder is '>', describe is '[('', '>i8')]'\n",
      "-----\n",
      "dtype is 'uint8', size is '1B', kind is 'u', alignment '1', char is 'B', byteorder is '|', describe is '[('', '|u1')]'\n",
      "-----\n",
      "dtype is 'uint16', size is '2B', kind is 'u', alignment '2', char is 'H', byteorder is '=', describe is '[('', '<u2')]'\n",
      "dtype is 'uint16', size is '2B', kind is 'u', alignment '2', char is 'H', byteorder is '>', describe is '[('', '>u2')]'\n",
      "-----\n",
      "dtype is 'uint32', size is '4B', kind is 'u', alignment '4', char is 'I', byteorder is '=', describe is '[('', '<u4')]'\n",
      "dtype is 'uint32', size is '4B', kind is 'u', alignment '4', char is 'I', byteorder is '>', describe is '[('', '>u4')]'\n",
      "-----\n",
      "dtype is 'uint64', size is '8B', kind is 'u', alignment '8', char is 'L', byteorder is '=', describe is '[('', '<u8')]'\n",
      "dtype is 'uint64', size is '8B', kind is 'u', alignment '8', char is 'L', byteorder is '>', describe is '[('', '>u8')]'\n",
      "-----\n",
      "dtype is 'float16', size is '2B', kind is 'f', alignment '2', char is 'e', byteorder is '=', describe is '[('', '<f2')]'\n",
      "dtype is 'float16', size is '2B', kind is 'f', alignment '2', char is 'e', byteorder is '>', describe is '[('', '>f2')]'\n",
      "-----\n",
      "dtype is 'float32', size is '4B', kind is 'f', alignment '4', char is 'f', byteorder is '=', describe is '[('', '<f4')]'\n",
      "dtype is 'float32', size is '4B', kind is 'f', alignment '4', char is 'f', byteorder is '>', describe is '[('', '>f4')]'\n",
      "-----\n",
      "dtype is 'float64', size is '8B', kind is 'f', alignment '8', char is 'd', byteorder is '=', describe is '[('', '<f8')]'\n",
      "dtype is 'float64', size is '8B', kind is 'f', alignment '8', char is 'd', byteorder is '>', describe is '[('', '>f8')]'\n",
      "-----\n",
      "dtype is 'complex64', size is '8B', kind is 'c', alignment '4', char is 'F', byteorder is '=', describe is '[('', '<c8')]'\n",
      "dtype is 'complex64', size is '8B', kind is 'c', alignment '4', char is 'F', byteorder is '>', describe is '[('', '>c8')]'\n",
      "-----\n",
      "dtype is 'complex128', size is '16B', kind is 'c', alignment '8', char is 'D', byteorder is '=', describe is '[('', '<c16')]'\n",
      "dtype is 'complex128', size is '16B', kind is 'c', alignment '8', char is 'D', byteorder is '>', describe is '[('', '>c16')]'\n",
      "-----\n",
      "dtype is 'bool', size is '1B', kind is 'b', alignment '1', char is '?', byteorder is '|', describe is '[('', '|b1')]'\n",
      "-----\n",
      "dtype is 'str96', size is '12B', kind is 'U', alignment '4', char is 'U', byteorder is '=', describe is '[('', '<U3')]'\n",
      "dtype is 'str96', size is '12B', kind is 'U', alignment '4', char is 'U', byteorder is '>', describe is '[('', '>U3')]'\n",
      "-----\n",
      "dtype is 'bytes32', size is '4B', kind is 'S', alignment '1', char is 'S', byteorder is '|', describe is '[('', '|S4')]'\n",
      "-----\n",
      "dtype is 'object', size is '8B', kind is 'O', alignment '8', char is 'O', byteorder is '|', describe is '[('', '|O')]'\n",
      "-----\n"
     ]
    }
   ],
   "source": [
    "desc = [\n",
    "    (\"|i1\",),\n",
    "    (\"<i2\", \">i2\"),\n",
    "    (\"<i4\", \">i4\"),\n",
    "    (\"<i8\", \">i8\"),\n",
    "    (\"|u1\",),\n",
    "    (\"<u2\", \">u2\"),\n",
    "    (\"<u4\", \">u4\"),\n",
    "    (\"<u8\", \">u8\"),\n",
    "    (\"<f2\", \">f2\"),\n",
    "    (\"<f4\", \">f4\"),\n",
    "    (\"<f8\", \">f8\"),\n",
    "    (\"<c8\", \">c8\"),\n",
    "    (\"<c16\", \">c16\"),\n",
    "    (\"|b1\",),\n",
    "    (\"<U3\", \">U3\"),\n",
    "    (\"|S4\",),\n",
    "    (\"|O\",),\n",
    "]\n",
    "\n",
    "for ds in desc:\n",
    "    for d in ds:\n",
    "        dt = np.dtype(d)\n",
    "        print(\n",
    "            f\"dtype is '{dt.name}', \"\n",
    "            f\"size is '{dt.itemsize}B', \"\n",
    "            f\"kind is '{dt.kind}', \"\n",
    "            f\"alignment '{dt.alignment}', \"\n",
    "            f\"char is '{dt.char}', \"\n",
    "            f\"byteorder is '{dt.byteorder}', \"\n",
    "            f\"describe is '{dt.descr}'\"\n",
    "        )\n",
    "    print(\"-----\")"
   ]
  },
  {
   "cell_type": "markdown",
   "id": "e08da513",
   "metadata": {},
   "source": [
    "## 2. `dtype` 类型数据"
   ]
  },
  {
   "cell_type": "markdown",
   "id": "3aba3529",
   "metadata": {},
   "source": [
    "### 2.1. 数值类型数据"
   ]
  },
  {
   "cell_type": "markdown",
   "id": "13c6f0fc",
   "metadata": {},
   "source": [
    "在创建 Numpy 数组时, 整数元素数组默认为 `int64` 类型, 浮点数元素数组默认为 `float64` 类型, 可以通过 `dtype` 参数指定明确的元素类型\n",
    "\n",
    "可以通过数组对象的 `.astype` 方法将数组的元素类型转换为指定的类型, 返回指定元素类型的新数组"
   ]
  },
  {
   "cell_type": "code",
   "execution_count": 4,
   "id": "fe3d866b",
   "metadata": {},
   "outputs": [
    {
     "name": "stdout",
     "output_type": "stream",
     "text": [
      "a = [1 2 3], describe: '<i8', size: '24'\n",
      "a = [1. 2. 3.], describe: '<f8', size: '24'\n",
      "a = [1 2 3], describe: '>u8', size: '24'\n"
     ]
    }
   ],
   "source": [
    "a = np.array([1, 2, 3])\n",
    "print(f\"a = {a}, describe: '{a.dtype.descr[0][1]}', size: '{a.nbytes}'\")\n",
    "\n",
    "a = a.astype(np.float64)\n",
    "print(f\"a = {a}, describe: '{a.dtype.descr[0][1]}', size: '{a.nbytes}'\")\n",
    "\n",
    "a = a.astype('>u8')\n",
    "print(f\"a = {a}, describe: '{a.dtype.descr[0][1]}', size: '{a.nbytes}'\")"
   ]
  },
  {
   "cell_type": "markdown",
   "id": "d2cfffa5",
   "metadata": {},
   "source": [
    "### 2.2. 其它类型数据"
   ]
  },
  {
   "cell_type": "markdown",
   "id": "6143242a",
   "metadata": {},
   "source": [
    "#### 2.2.1. 布尔类型"
   ]
  },
  {
   "cell_type": "markdown",
   "id": "25051217",
   "metadata": {},
   "source": [
    "在创建 Numpy 数组时, 布尔类型元素数组默认为 `bool_` 类型\n",
    "\n",
    "如果将数值类型数组强制转换为布尔类型数组, 则数组中的非 `0` 元素会被转换为 `True`, `0` 元素会被转换为 `False`\n",
    "\n",
    "如果将字符串类型数组强制转换为布尔类型数组, 则数组中的非空元素会被转换为 `True`, 空元素会被转换为 `False`"
   ]
  },
  {
   "cell_type": "code",
   "execution_count": 5,
   "id": "40a51127",
   "metadata": {},
   "outputs": [
    {
     "name": "stdout",
     "output_type": "stream",
     "text": [
      "a = [False  True False False], describe: '|b1', size: '4'\n",
      "a = [False  True False  True], describe: '|b1', size: '4'\n"
     ]
    }
   ],
   "source": [
    "a = np.array([False, True, False, False])\n",
    "print(f\"a = {a}, describe: '{a.dtype.descr[0][1]}', size: '{a.nbytes}'\")\n",
    "\n",
    "a = np.array([0, 1, 0, 2], dtype=np.bool_)\n",
    "print(f\"a = {a}, describe: '{a.dtype.descr[0][1]}', size: '{a.nbytes}'\")"
   ]
  },
  {
   "cell_type": "markdown",
   "id": "fbdb728c",
   "metadata": {},
   "source": [
    "#### 2.2.2. 字符串类型"
   ]
  },
  {
   "cell_type": "markdown",
   "id": "cbf50bfc",
   "metadata": {},
   "source": [
    "##### 2.2.2.1. 固定长度字符串数组"
   ]
  },
  {
   "cell_type": "markdown",
   "id": "74ebc646",
   "metadata": {},
   "source": [
    "通过 `dtype` 类型为 `Un` (`n` 为任意整数) 创建的数组, 每个元素可以存储固定长度的 Unicode 字符串, 例如如下 `dtype` 类型:\n",
    "\n",
    "- `<U2`: 长度为 2 的字符串, 小端字节序\n",
    "- `<U3`: 长度为 3 的字符串, 小端字节序\n",
    "- `>U8`: 长度为 8 的字符串, 大端字节序\n",
    "- `|U16`: 长度为 16 的字符串, 本机字节序"
   ]
  },
  {
   "cell_type": "code",
   "execution_count": null,
   "id": "35ade1cb",
   "metadata": {},
   "outputs": [
    {
     "name": "stdout",
     "output_type": "stream",
     "text": [
      "a = ['AAA' 'BBB' 'CCC'], describe: '<U3', size: '36'\n",
      "a = ['AAA' 'BBB' 'CCC' 'DD'], describe: '<U3', size: '48'\n",
      "a = ['AAA' 'BBB' 'CCC' 'DD' 'EEEE'], describe: '<U4', size: '80'\n"
     ]
    }
   ],
   "source": [
    "# 创建一个长度为 3 的字符串数组, 每个字符串长度为 3 个 Unicode 字符, 共占用 36 个字节 (3 * 3 * 4 字节)\n",
    "a = np.array(['AAA', 'BBB', 'CCC'])\n",
    "print(f\"a = {a}, describe: '{a.dtype.descr[0][1]}', size: '{a.nbytes}'\")\n",
    "\n",
    "# 创建一个长度为 4 的字符串数组, 每个字符串长度为 3 个 Unicode 字符, 共占用 48 个字节 (4 * 3 * 4 字节)\n",
    "a = np.append(a, 'DD')\n",
    "print(f\"a = {a}, describe: '{a.dtype.descr[0][1]}', size: '{a.nbytes}'\")\n",
    "\n",
    "# 创建一个长度为 5 的字符串数组, 每个字符串长度为 4 个 Unicode 字符, 共占用 80 个字节 (5 * 4 * 4 字节)\n",
    "a = np.append(a, 'EEEE')\n",
    "print(f\"a = {a}, describe: '{a.dtype.descr[0][1]}', size: '{a.nbytes}'\")"
   ]
  },
  {
   "cell_type": "markdown",
   "id": "612abaaf",
   "metadata": {},
   "source": [
    "注意, 在整个数组中, 所有字符串长度必须相同, 占用相同的内存空间, 在上面的例子中, 在数组中添加了长度更长的字符串后, 会导致数组的每个元素字符串长度成为最长字符串长度\n",
    "\n",
    "如果在创建数组的同时就限定了长度 (例如设置 `dtype` 为 `U4`, 即字符串最大长度为 4 个字符), 那么数组创建时, 如果字符串长度超出, 则字符串会被截断"
   ]
  },
  {
   "cell_type": "code",
   "execution_count": 41,
   "id": "0773c86a",
   "metadata": {},
   "outputs": [
    {
     "name": "stdout",
     "output_type": "stream",
     "text": [
      "a = ['inter' 'short'], describe: '<U5', size: '40'\n",
      "a = ['inter' 'short' 'international'], describe: '<U13', size: '156'\n"
     ]
    }
   ],
   "source": [
    "# 通过 `dtype` 类型为 `U5` 创建一个长度为 2 的字符串数组, 则每个字符串长度为 5 个 Unicode 字符, 共占用 40 个字节 (2 * 5 * 4 字节)\n",
    "# 对于数组中长度超过 5 个字符的字符串, 会被截断, 例如 \"international\" 会被截断为 \"inter\"\n",
    "a = np.array([\"international\", \"short\"], dtype=\"=U5\")\n",
    "print(f\"a = {a}, describe: '{a.dtype.descr[0][1]}', size: '{a.nbytes}'\")\n",
    "\n",
    "a = np.append(a, \"international\")\n",
    "print(f\"a = {a}, describe: '{a.dtype.descr[0][1]}', size: '{a.nbytes}'\")"
   ]
  },
  {
   "cell_type": "markdown",
   "id": "ac257872",
   "metadata": {},
   "source": [
    "固定长度字符串数组由于每个数组元素长度固定, 所以其性能表现最好, 但如果数组中的字符串长度参差不齐, 则会占用很多无效内存空间"
   ]
  },
  {
   "cell_type": "markdown",
   "id": "cd77d6dc",
   "metadata": {},
   "source": [
    "##### 2.2.2.2. 可变长度字符串数组"
   ]
  },
  {
   "cell_type": "code",
   "execution_count": 34,
   "id": "46395432",
   "metadata": {},
   "outputs": [
    {
     "name": "stdout",
     "output_type": "stream",
     "text": [
      "a = ['A' 'BB' 'CCC'\n",
      " 'xafasdfsfdddddddddddddddddddddddddddddddddddddddddddddddddddddddddddddddddddddddddddddddddddddddddddddddddddddddddddddddddddd'], describe: 'StringDType()', size: '64'\n",
      "a = ['A' 'BB' 'CCC'\n",
      " 'xafasdfsfdddddddddddddddddddddddddddddddddddddddddddddddddddddddddddddddddddddddddddddddddddddddddddddddddddddddddddddddddddd'\n",
      " 'DDDD'], describe: 'StringDType()', size: '80'\n",
      "a = ['A' 'BB' 'CCC'\n",
      " 'xafasdfsfdddddddddddddddddddddddddddddddddddddddddddddddddddddddddddddddddddddddddddddddddddddddddddddddddddddddddddddddddddd'\n",
      " 'DDDD' 'EEEEE'], describe: 'StringDType()', size: '96'\n"
     ]
    }
   ],
   "source": [
    "# 创建一个长度为 3 的字符串数组, 每个字符串长度为 3 个 Unicode 字符, 共占用 36 个字节 (3 * 3 * 4 字节)\n",
    "a = np.array([\"A\", \"BB\", \"CCC\", \"xafasdfsfdddddddddddddddddddddddddddddddddddddddddddddddddddddddddddddddddddddddddddddddddddddddddddddddddddddddddddddddddddd\"], dtype=np.dtypes.StringDType())\n",
    "print(f\"a = {a}, describe: '{a.dtype.descr[0][1]}', size: '{a.nbytes}'\")\n",
    "\n",
    "# 创建一个长度为 4 的字符串数组, 每个字符串长度为 3 个 Unicode 字符, 共占用 48 个字节 (4 * 3 * 4 字节)\n",
    "a = np.append(a, \"DDDD\")\n",
    "print(f\"a = {a}, describe: '{a.dtype.descr[0][1]}', size: '{a.nbytes}'\")\n",
    "\n",
    "# 创建一个长度为 5 的字符串数组, 每个字符串长度为 4 个 Unicode 字符, 共占用 80 个字节 (5 * 4 * 4 字节)\n",
    "a = np.append(a, \"EEEEE\")\n",
    "print(f\"a = {a}, describe: '{a.dtype.descr[0][1]}', size: '{a.nbytes}'\")"
   ]
  }
 ],
 "metadata": {
  "kernelspec": {
   "display_name": ".venv",
   "language": "python",
   "name": "python3"
  },
  "language_info": {
   "codemirror_mode": {
    "name": "ipython",
    "version": 3
   },
   "file_extension": ".py",
   "mimetype": "text/x-python",
   "name": "python",
   "nbconvert_exporter": "python",
   "pygments_lexer": "ipython3",
   "version": "3.14.0"
  }
 },
 "nbformat": 4,
 "nbformat_minor": 5
}
