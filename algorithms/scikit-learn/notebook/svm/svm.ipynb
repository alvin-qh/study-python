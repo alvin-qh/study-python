{
 "cells": [
  {
   "cell_type": "code",
   "execution_count": null,
   "id": "32855bcf",
   "metadata": {},
   "outputs": [
    {
     "data": {
      "text/html": [
       "<div><style>\n",
       ".dataframe > thead > tr,\n",
       ".dataframe > tbody > tr {\n",
       "  text-align: right;\n",
       "  white-space: pre-wrap;\n",
       "}\n",
       "</style>\n",
       "<small>shape: (150, 4)</small><table border=\"1\" class=\"dataframe\"><thead><tr><th>sepal length (cm)</th><th>sepal width (cm)</th><th>petal length (cm)</th><th>petal width (cm)</th></tr><tr><td>f64</td><td>f64</td><td>f64</td><td>f64</td></tr></thead><tbody><tr><td>5.1</td><td>3.5</td><td>1.4</td><td>0.2</td></tr><tr><td>4.9</td><td>3.0</td><td>1.4</td><td>0.2</td></tr><tr><td>4.7</td><td>3.2</td><td>1.3</td><td>0.2</td></tr><tr><td>4.6</td><td>3.1</td><td>1.5</td><td>0.2</td></tr><tr><td>5.0</td><td>3.6</td><td>1.4</td><td>0.2</td></tr><tr><td>&hellip;</td><td>&hellip;</td><td>&hellip;</td><td>&hellip;</td></tr><tr><td>6.7</td><td>3.0</td><td>5.2</td><td>2.3</td></tr><tr><td>6.3</td><td>2.5</td><td>5.0</td><td>1.9</td></tr><tr><td>6.5</td><td>3.0</td><td>5.2</td><td>2.0</td></tr><tr><td>6.2</td><td>3.4</td><td>5.4</td><td>2.3</td></tr><tr><td>5.9</td><td>3.0</td><td>5.1</td><td>1.8</td></tr></tbody></table></div>"
      ],
      "text/plain": [
       "shape: (150, 4)\n",
       "┌───────────────────┬──────────────────┬───────────────────┬──────────────────┐\n",
       "│ sepal length (cm) ┆ sepal width (cm) ┆ petal length (cm) ┆ petal width (cm) │\n",
       "│ ---               ┆ ---              ┆ ---               ┆ ---              │\n",
       "│ f64               ┆ f64              ┆ f64               ┆ f64              │\n",
       "╞═══════════════════╪══════════════════╪═══════════════════╪══════════════════╡\n",
       "│ 5.1               ┆ 3.5              ┆ 1.4               ┆ 0.2              │\n",
       "│ 4.9               ┆ 3.0              ┆ 1.4               ┆ 0.2              │\n",
       "│ 4.7               ┆ 3.2              ┆ 1.3               ┆ 0.2              │\n",
       "│ 4.6               ┆ 3.1              ┆ 1.5               ┆ 0.2              │\n",
       "│ 5.0               ┆ 3.6              ┆ 1.4               ┆ 0.2              │\n",
       "│ …                 ┆ …                ┆ …                 ┆ …                │\n",
       "│ 6.7               ┆ 3.0              ┆ 5.2               ┆ 2.3              │\n",
       "│ 6.3               ┆ 2.5              ┆ 5.0               ┆ 1.9              │\n",
       "│ 6.5               ┆ 3.0              ┆ 5.2               ┆ 2.0              │\n",
       "│ 6.2               ┆ 3.4              ┆ 5.4               ┆ 2.3              │\n",
       "│ 5.9               ┆ 3.0              ┆ 5.1               ┆ 1.8              │\n",
       "└───────────────────┴──────────────────┴───────────────────┴──────────────────┘"
      ]
     },
     "execution_count": 30,
     "metadata": {},
     "output_type": "execute_result"
    }
   ],
   "source": [
    "from sklearn import datasets\n",
    "\n",
    "import polars as pl\n",
    "\n",
    "# 加载鸢尾花数据集\n",
    "iris = datasets.load_iris()\n",
    "\n",
    "# 读取数据集数据\n",
    "df = pl.DataFrame(iris.data)  # type: ignore\n",
    "\n",
    "# 设置数据集列名, 即特征名称, 包括:\n",
    "# - sepal length (cm): 萼片长度\n",
    "# - sepal width (cm): 萼片宽度\n",
    "# - petal length (cm): 花瓣长度\n",
    "# - petal width (cm): 花瓣宽度\n",
    "df.columns = iris.feature_names  # type: ignore\n",
    "\n",
    "df"
   ]
  },
  {
   "cell_type": "code",
   "execution_count": null,
   "id": "7674bd04",
   "metadata": {},
   "outputs": [
    {
     "name": "stdout",
     "output_type": "stream",
     "text": [
      "分类项: [0 1 2]\n"
     ]
    }
   ],
   "source": [
    "import numpy as np\n",
    "\n",
    "x = iris.data  # type: ignore\n",
    "y = iris.target  # type: ignore\n",
    "\n",
    "# \n",
    "print(f\"分类项: {np.unique(iris.target)}\")  # type: ignore"
   ]
  }
 ],
 "metadata": {
  "kernelspec": {
   "display_name": ".venv",
   "language": "python",
   "name": "python3"
  },
  "language_info": {
   "codemirror_mode": {
    "name": "ipython",
    "version": 3
   },
   "file_extension": ".py",
   "mimetype": "text/x-python",
   "name": "python",
   "nbconvert_exporter": "python",
   "pygments_lexer": "ipython3",
   "version": "3.13.5"
  }
 },
 "nbformat": 4,
 "nbformat_minor": 5
}
